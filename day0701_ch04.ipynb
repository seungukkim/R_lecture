{
  "nbformat": 4,
  "nbformat_minor": 0,
  "metadata": {
    "colab": {
      "name": "day0701_ch04.ipynb",
      "provenance": [],
      "authorship_tag": "ABX9TyOi7+4EEuGFu9XL642SAZj3",
      "include_colab_link": true
    },
    "kernelspec": {
      "name": "python3",
      "display_name": "Python 3"
    },
    "language_info": {
      "name": "python"
    }
  },
  "cells": [
    {
      "cell_type": "markdown",
      "metadata": {
        "id": "view-in-github",
        "colab_type": "text"
      },
      "source": [
        "<a href=\"https://colab.research.google.com/github/seungukkim/R_lecture/blob/main/day0701_ch04.ipynb\" target=\"_parent\"><img src=\"https://colab.research.google.com/assets/colab-badge.svg\" alt=\"Open In Colab\"/></a>"
      ]
    },
    {
      "cell_type": "markdown",
      "source": [
        "## 로지스틱 회귀\n",
        "- 선형 회귀에서 출발\n",
        "- 이진 분류 문제 해결\n",
        "- 클래스 확률 예측\n",
        "- 딥러닝에서도 사용됨"
      ],
      "metadata": {
        "id": "g6kwbC4dgFiH"
      }
    },
    {
      "cell_type": "markdown",
      "source": [
        "##교재 177\n",
        "- X가 사각형일 확률 30%\n",
        "- X가 삼각형일 확률 50%\n",
        "- X가 원일 확률 20%"
      ],
      "metadata": {
        "id": "Ij5RxV1Qggmg"
      }
    },
    {
      "cell_type": "markdown",
      "source": [
        "## 데이터 불러오기\n",
        "- Species (종속변수 = Y)\n",
        "- 독립변수 Weight, Length, Diagonal, Height, Width"
      ],
      "metadata": {
        "id": "gtPqGV8igyEi"
      }
    },
    {
      "cell_type": "code",
      "execution_count": 95,
      "metadata": {
        "colab": {
          "base_uri": "https://localhost:8080/",
          "height": 676
        },
        "id": "sgw7bCojgCMp",
        "outputId": "c0846f89-d830-4948-b770-aa958dc0cb8f"
      },
      "outputs": [
        {
          "output_type": "execute_result",
          "data": {
            "text/plain": [
              "   Species  Weight  Length  Diagonal   Height   Width\n",
              "0    Bream   242.0    25.4      30.0  11.5200  4.0200\n",
              "1    Bream   290.0    26.3      31.2  12.4800  4.3056\n",
              "2    Bream   340.0    26.5      31.1  12.3778  4.6961\n",
              "3    Bream   363.0    29.0      33.5  12.7300  4.4555\n",
              "4    Bream   430.0    29.0      34.0  12.4440  5.1340\n",
              "5    Bream   450.0    29.7      34.7  13.6024  4.9274\n",
              "6    Bream   500.0    29.7      34.5  14.1795  5.2785\n",
              "7    Bream   390.0    30.0      35.0  12.6700  4.6900\n",
              "8    Bream   450.0    30.0      35.1  14.0049  4.8438\n",
              "9    Bream   500.0    30.7      36.2  14.2266  4.9594\n",
              "10   Bream   475.0    31.0      36.2  14.2628  5.1042\n",
              "11   Bream   500.0    31.0      36.2  14.3714  4.8146\n",
              "12   Bream   500.0    31.5      36.4  13.7592  4.3680\n",
              "13   Bream   340.0    32.0      37.3  13.9129  5.0728\n",
              "14   Bream   600.0    32.0      37.2  14.9544  5.1708\n",
              "15   Bream   600.0    32.0      37.2  15.4380  5.5800\n",
              "16   Bream   700.0    33.0      38.3  14.8604  5.2854\n",
              "17   Bream   700.0    33.0      38.5  14.9380  5.1975\n",
              "18   Bream   610.0    33.5      38.6  15.6330  5.1338\n",
              "19   Bream   650.0    33.5      38.7  14.4738  5.7276"
            ],
            "text/html": [
              "\n",
              "  <div id=\"df-4211bf1c-31ee-43d8-8fe4-5c5fdf589c3e\">\n",
              "    <div class=\"colab-df-container\">\n",
              "      <div>\n",
              "<style scoped>\n",
              "    .dataframe tbody tr th:only-of-type {\n",
              "        vertical-align: middle;\n",
              "    }\n",
              "\n",
              "    .dataframe tbody tr th {\n",
              "        vertical-align: top;\n",
              "    }\n",
              "\n",
              "    .dataframe thead th {\n",
              "        text-align: right;\n",
              "    }\n",
              "</style>\n",
              "<table border=\"1\" class=\"dataframe\">\n",
              "  <thead>\n",
              "    <tr style=\"text-align: right;\">\n",
              "      <th></th>\n",
              "      <th>Species</th>\n",
              "      <th>Weight</th>\n",
              "      <th>Length</th>\n",
              "      <th>Diagonal</th>\n",
              "      <th>Height</th>\n",
              "      <th>Width</th>\n",
              "    </tr>\n",
              "  </thead>\n",
              "  <tbody>\n",
              "    <tr>\n",
              "      <th>0</th>\n",
              "      <td>Bream</td>\n",
              "      <td>242.0</td>\n",
              "      <td>25.4</td>\n",
              "      <td>30.0</td>\n",
              "      <td>11.5200</td>\n",
              "      <td>4.0200</td>\n",
              "    </tr>\n",
              "    <tr>\n",
              "      <th>1</th>\n",
              "      <td>Bream</td>\n",
              "      <td>290.0</td>\n",
              "      <td>26.3</td>\n",
              "      <td>31.2</td>\n",
              "      <td>12.4800</td>\n",
              "      <td>4.3056</td>\n",
              "    </tr>\n",
              "    <tr>\n",
              "      <th>2</th>\n",
              "      <td>Bream</td>\n",
              "      <td>340.0</td>\n",
              "      <td>26.5</td>\n",
              "      <td>31.1</td>\n",
              "      <td>12.3778</td>\n",
              "      <td>4.6961</td>\n",
              "    </tr>\n",
              "    <tr>\n",
              "      <th>3</th>\n",
              "      <td>Bream</td>\n",
              "      <td>363.0</td>\n",
              "      <td>29.0</td>\n",
              "      <td>33.5</td>\n",
              "      <td>12.7300</td>\n",
              "      <td>4.4555</td>\n",
              "    </tr>\n",
              "    <tr>\n",
              "      <th>4</th>\n",
              "      <td>Bream</td>\n",
              "      <td>430.0</td>\n",
              "      <td>29.0</td>\n",
              "      <td>34.0</td>\n",
              "      <td>12.4440</td>\n",
              "      <td>5.1340</td>\n",
              "    </tr>\n",
              "    <tr>\n",
              "      <th>5</th>\n",
              "      <td>Bream</td>\n",
              "      <td>450.0</td>\n",
              "      <td>29.7</td>\n",
              "      <td>34.7</td>\n",
              "      <td>13.6024</td>\n",
              "      <td>4.9274</td>\n",
              "    </tr>\n",
              "    <tr>\n",
              "      <th>6</th>\n",
              "      <td>Bream</td>\n",
              "      <td>500.0</td>\n",
              "      <td>29.7</td>\n",
              "      <td>34.5</td>\n",
              "      <td>14.1795</td>\n",
              "      <td>5.2785</td>\n",
              "    </tr>\n",
              "    <tr>\n",
              "      <th>7</th>\n",
              "      <td>Bream</td>\n",
              "      <td>390.0</td>\n",
              "      <td>30.0</td>\n",
              "      <td>35.0</td>\n",
              "      <td>12.6700</td>\n",
              "      <td>4.6900</td>\n",
              "    </tr>\n",
              "    <tr>\n",
              "      <th>8</th>\n",
              "      <td>Bream</td>\n",
              "      <td>450.0</td>\n",
              "      <td>30.0</td>\n",
              "      <td>35.1</td>\n",
              "      <td>14.0049</td>\n",
              "      <td>4.8438</td>\n",
              "    </tr>\n",
              "    <tr>\n",
              "      <th>9</th>\n",
              "      <td>Bream</td>\n",
              "      <td>500.0</td>\n",
              "      <td>30.7</td>\n",
              "      <td>36.2</td>\n",
              "      <td>14.2266</td>\n",
              "      <td>4.9594</td>\n",
              "    </tr>\n",
              "    <tr>\n",
              "      <th>10</th>\n",
              "      <td>Bream</td>\n",
              "      <td>475.0</td>\n",
              "      <td>31.0</td>\n",
              "      <td>36.2</td>\n",
              "      <td>14.2628</td>\n",
              "      <td>5.1042</td>\n",
              "    </tr>\n",
              "    <tr>\n",
              "      <th>11</th>\n",
              "      <td>Bream</td>\n",
              "      <td>500.0</td>\n",
              "      <td>31.0</td>\n",
              "      <td>36.2</td>\n",
              "      <td>14.3714</td>\n",
              "      <td>4.8146</td>\n",
              "    </tr>\n",
              "    <tr>\n",
              "      <th>12</th>\n",
              "      <td>Bream</td>\n",
              "      <td>500.0</td>\n",
              "      <td>31.5</td>\n",
              "      <td>36.4</td>\n",
              "      <td>13.7592</td>\n",
              "      <td>4.3680</td>\n",
              "    </tr>\n",
              "    <tr>\n",
              "      <th>13</th>\n",
              "      <td>Bream</td>\n",
              "      <td>340.0</td>\n",
              "      <td>32.0</td>\n",
              "      <td>37.3</td>\n",
              "      <td>13.9129</td>\n",
              "      <td>5.0728</td>\n",
              "    </tr>\n",
              "    <tr>\n",
              "      <th>14</th>\n",
              "      <td>Bream</td>\n",
              "      <td>600.0</td>\n",
              "      <td>32.0</td>\n",
              "      <td>37.2</td>\n",
              "      <td>14.9544</td>\n",
              "      <td>5.1708</td>\n",
              "    </tr>\n",
              "    <tr>\n",
              "      <th>15</th>\n",
              "      <td>Bream</td>\n",
              "      <td>600.0</td>\n",
              "      <td>32.0</td>\n",
              "      <td>37.2</td>\n",
              "      <td>15.4380</td>\n",
              "      <td>5.5800</td>\n",
              "    </tr>\n",
              "    <tr>\n",
              "      <th>16</th>\n",
              "      <td>Bream</td>\n",
              "      <td>700.0</td>\n",
              "      <td>33.0</td>\n",
              "      <td>38.3</td>\n",
              "      <td>14.8604</td>\n",
              "      <td>5.2854</td>\n",
              "    </tr>\n",
              "    <tr>\n",
              "      <th>17</th>\n",
              "      <td>Bream</td>\n",
              "      <td>700.0</td>\n",
              "      <td>33.0</td>\n",
              "      <td>38.5</td>\n",
              "      <td>14.9380</td>\n",
              "      <td>5.1975</td>\n",
              "    </tr>\n",
              "    <tr>\n",
              "      <th>18</th>\n",
              "      <td>Bream</td>\n",
              "      <td>610.0</td>\n",
              "      <td>33.5</td>\n",
              "      <td>38.6</td>\n",
              "      <td>15.6330</td>\n",
              "      <td>5.1338</td>\n",
              "    </tr>\n",
              "    <tr>\n",
              "      <th>19</th>\n",
              "      <td>Bream</td>\n",
              "      <td>650.0</td>\n",
              "      <td>33.5</td>\n",
              "      <td>38.7</td>\n",
              "      <td>14.4738</td>\n",
              "      <td>5.7276</td>\n",
              "    </tr>\n",
              "  </tbody>\n",
              "</table>\n",
              "</div>\n",
              "      <button class=\"colab-df-convert\" onclick=\"convertToInteractive('df-4211bf1c-31ee-43d8-8fe4-5c5fdf589c3e')\"\n",
              "              title=\"Convert this dataframe to an interactive table.\"\n",
              "              style=\"display:none;\">\n",
              "        \n",
              "  <svg xmlns=\"http://www.w3.org/2000/svg\" height=\"24px\"viewBox=\"0 0 24 24\"\n",
              "       width=\"24px\">\n",
              "    <path d=\"M0 0h24v24H0V0z\" fill=\"none\"/>\n",
              "    <path d=\"M18.56 5.44l.94 2.06.94-2.06 2.06-.94-2.06-.94-.94-2.06-.94 2.06-2.06.94zm-11 1L8.5 8.5l.94-2.06 2.06-.94-2.06-.94L8.5 2.5l-.94 2.06-2.06.94zm10 10l.94 2.06.94-2.06 2.06-.94-2.06-.94-.94-2.06-.94 2.06-2.06.94z\"/><path d=\"M17.41 7.96l-1.37-1.37c-.4-.4-.92-.59-1.43-.59-.52 0-1.04.2-1.43.59L10.3 9.45l-7.72 7.72c-.78.78-.78 2.05 0 2.83L4 21.41c.39.39.9.59 1.41.59.51 0 1.02-.2 1.41-.59l7.78-7.78 2.81-2.81c.8-.78.8-2.07 0-2.86zM5.41 20L4 18.59l7.72-7.72 1.47 1.35L5.41 20z\"/>\n",
              "  </svg>\n",
              "      </button>\n",
              "      \n",
              "  <style>\n",
              "    .colab-df-container {\n",
              "      display:flex;\n",
              "      flex-wrap:wrap;\n",
              "      gap: 12px;\n",
              "    }\n",
              "\n",
              "    .colab-df-convert {\n",
              "      background-color: #E8F0FE;\n",
              "      border: none;\n",
              "      border-radius: 50%;\n",
              "      cursor: pointer;\n",
              "      display: none;\n",
              "      fill: #1967D2;\n",
              "      height: 32px;\n",
              "      padding: 0 0 0 0;\n",
              "      width: 32px;\n",
              "    }\n",
              "\n",
              "    .colab-df-convert:hover {\n",
              "      background-color: #E2EBFA;\n",
              "      box-shadow: 0px 1px 2px rgba(60, 64, 67, 0.3), 0px 1px 3px 1px rgba(60, 64, 67, 0.15);\n",
              "      fill: #174EA6;\n",
              "    }\n",
              "\n",
              "    [theme=dark] .colab-df-convert {\n",
              "      background-color: #3B4455;\n",
              "      fill: #D2E3FC;\n",
              "    }\n",
              "\n",
              "    [theme=dark] .colab-df-convert:hover {\n",
              "      background-color: #434B5C;\n",
              "      box-shadow: 0px 1px 3px 1px rgba(0, 0, 0, 0.15);\n",
              "      filter: drop-shadow(0px 1px 2px rgba(0, 0, 0, 0.3));\n",
              "      fill: #FFFFFF;\n",
              "    }\n",
              "  </style>\n",
              "\n",
              "      <script>\n",
              "        const buttonEl =\n",
              "          document.querySelector('#df-4211bf1c-31ee-43d8-8fe4-5c5fdf589c3e button.colab-df-convert');\n",
              "        buttonEl.style.display =\n",
              "          google.colab.kernel.accessAllowed ? 'block' : 'none';\n",
              "\n",
              "        async function convertToInteractive(key) {\n",
              "          const element = document.querySelector('#df-4211bf1c-31ee-43d8-8fe4-5c5fdf589c3e');\n",
              "          const dataTable =\n",
              "            await google.colab.kernel.invokeFunction('convertToInteractive',\n",
              "                                                     [key], {});\n",
              "          if (!dataTable) return;\n",
              "\n",
              "          const docLinkHtml = 'Like what you see? Visit the ' +\n",
              "            '<a target=\"_blank\" href=https://colab.research.google.com/notebooks/data_table.ipynb>data table notebook</a>'\n",
              "            + ' to learn more about interactive tables.';\n",
              "          element.innerHTML = '';\n",
              "          dataTable['output_type'] = 'display_data';\n",
              "          await google.colab.output.renderOutput(dataTable, element);\n",
              "          const docLink = document.createElement('div');\n",
              "          docLink.innerHTML = docLinkHtml;\n",
              "          element.appendChild(docLink);\n",
              "        }\n",
              "      </script>\n",
              "    </div>\n",
              "  </div>\n",
              "  "
            ]
          },
          "metadata": {},
          "execution_count": 95
        }
      ],
      "source": [
        "import pandas as pd\n",
        "\n",
        "fish = pd.read_csv('https://bit.ly/fish_csv_data') # 데이터를 불러와라\n",
        "fish.head() # 일단 5개만 출력을 하는데 이름 순서대로 정리가 되어 있다."
      ]
    },
    {
      "cell_type": "code",
      "source": [
        ""
      ],
      "metadata": {
        "id": "eKDD1YgfGlYH"
      },
      "execution_count": null,
      "outputs": []
    },
    {
      "cell_type": "markdown",
      "source": [
        "## 데이터 탐색"
      ],
      "metadata": {
        "id": "aOM8VehZhWj1"
      }
    },
    {
      "cell_type": "code",
      "source": [
        "# 종속변수\n",
        "print(pd.unique(fish['Species'])) # 물고기의 종류는?\n",
        "print(fish['Species'].value_counts()) # 각 물고기마다 몇 마리씩 있는가?"
      ],
      "metadata": {
        "colab": {
          "base_uri": "https://localhost:8080/"
        },
        "id": "cv8WVU0rhY1V",
        "outputId": "40822dd2-6412-4c98-b689-05ecd4261ec5"
      },
      "execution_count": 40,
      "outputs": [
        {
          "output_type": "stream",
          "name": "stdout",
          "text": [
            "['Bream' 'Roach' 'Whitefish' 'Parkki' 'Perch' 'Pike' 'Smelt']\n",
            "Perch        56\n",
            "Bream        35\n",
            "Roach        20\n",
            "Pike         17\n",
            "Smelt        14\n",
            "Parkki       11\n",
            "Whitefish     6\n",
            "Name: Species, dtype: int64\n"
          ]
        }
      ]
    },
    {
      "cell_type": "code",
      "source": [
        "#pandas 데이터 프레임에서 numpy 배열로 변환\n",
        "fish_input = fish[['Weight', 'Length','Diagonal','Height','Width']].to_numpy()\n",
        "fish_input.shape"
      ],
      "metadata": {
        "colab": {
          "base_uri": "https://localhost:8080/"
        },
        "id": "dJB1x-bqiVvl",
        "outputId": "c6d91158-5b2c-42e8-e035-65e995e3e6d1"
      },
      "execution_count": 41,
      "outputs": [
        {
          "output_type": "execute_result",
          "data": {
            "text/plain": [
              "(159, 5)"
            ]
          },
          "metadata": {},
          "execution_count": 41
        }
      ]
    },
    {
      "cell_type": "code",
      "source": [
        "print(fish_input[:5])"
      ],
      "metadata": {
        "colab": {
          "base_uri": "https://localhost:8080/"
        },
        "id": "G3NjuQrEivux",
        "outputId": "b7f3a704-ec87-4fe0-af0f-060de0fc157f"
      },
      "execution_count": 5,
      "outputs": [
        {
          "output_type": "stream",
          "name": "stdout",
          "text": [
            "[[242.      25.4     30.      11.52     4.02  ]\n",
            " [290.      26.3     31.2     12.48     4.3056]\n",
            " [340.      26.5     31.1     12.3778   4.6961]\n",
            " [363.      29.      33.5     12.73     4.4555]\n",
            " [430.      29.      34.      12.444    5.134 ]]\n"
          ]
        }
      ]
    },
    {
      "cell_type": "code",
      "source": [
        "fish_target=fish['Species'].to_numpy() #'Species'만 배열로 만들어라\n",
        "print(fish_target.shape) #Species 만 배열로 만들었을 때 몇 바이 몇이 되는가?\n",
        "print(fish_target[:5])# 상위 5개를 추출해봐라"
      ],
      "metadata": {
        "colab": {
          "base_uri": "https://localhost:8080/"
        },
        "id": "TyFsRBNBi7YG",
        "outputId": "114d60b1-22ff-46f9-93a2-b6c13ee5c981"
      },
      "execution_count": 42,
      "outputs": [
        {
          "output_type": "stream",
          "name": "stdout",
          "text": [
            "(159,)\n",
            "['Bream' 'Bream' 'Bream' 'Bream' 'Bream']\n"
          ]
        }
      ]
    },
    {
      "cell_type": "markdown",
      "source": [
        "## 데이터 분리\n",
        "- 훈련 데이터 테스트 데이터 분리\n"
      ],
      "metadata": {
        "id": "5EaJJkWDjLji"
      }
    },
    {
      "cell_type": "code",
      "source": [
        "from sklearn.model_selection import train_test_split\n",
        "train_input, test_input, train_target, test_target = train_test_split(\n",
        "    fish_input, fish_target, random_state =42\n",
        ") #fish_input, fish_target 을 넣어서 랜덤으로 train_input~ test_target 을 생성한다.\n",
        "\n",
        "# 층화샘플링"
      ],
      "metadata": {
        "id": "x65h3FlbjR9e"
      },
      "execution_count": 43,
      "outputs": []
    },
    {
      "cell_type": "markdown",
      "source": [
        "#표준화 전처리 \n",
        "- 여기에서도 훈련 세트의 통계 값으로 테스트 세트를 변환해야한다는 점을 기억해라\n",
        "- 데이터 가공\n",
        "  + 숫자 결측치가 존재, 평균값으로 대체\n",
        "  + 원본 데이터 평균 대치(x)\n",
        "  + 훈련 데이터와 테스트 데이터 분리"
      ],
      "metadata": {
        "id": "zmeTw75kj_Jv"
      }
    },
    {
      "cell_type": "code",
      "source": [
        "import numpy as np\n",
        "np.mean(train_input[:, 2])"
      ],
      "metadata": {
        "colab": {
          "base_uri": "https://localhost:8080/"
        },
        "id": "IRdcJeNL031Q",
        "outputId": "61e8d2f7-eae3-49c6-ad8e-eb624b012552"
      },
      "execution_count": 44,
      "outputs": [
        {
          "output_type": "execute_result",
          "data": {
            "text/plain": [
              "31.269747899159658"
            ]
          },
          "metadata": {},
          "execution_count": 44
        }
      ]
    },
    {
      "cell_type": "code",
      "source": [
        "from sklearn.preprocessing import StandardScaler \n",
        "ss = StandardScaler()\n",
        "ss.fit(train_input)\n",
        "# ss.fit(test_input) (X)\n",
        "\n",
        "train_scaled = ss.transform(train_input)\n",
        "test_scaled = ss.transform(test_input)"
      ],
      "metadata": {
        "id": "ymCbS9wNkATu"
      },
      "execution_count": 103,
      "outputs": []
    },
    {
      "cell_type": "markdown",
      "source": [
        "##모형 만들기\n",
        "- K 최근접 이웃 "
      ],
      "metadata": {
        "id": "WT0G8ephJRri"
      }
    },
    {
      "cell_type": "code",
      "source": [
        "from sklearn.neighbors import KNeighborsClassifier\n",
        "kn = KNeighborsClassifier(n_neighbors =3) # 5개가 아니라 근접 3개만\n",
        "kn.fit(train_scaled, train_target) #훈련 시켜라\n",
        "print(kn.score(train_scaled, train_target)) # 훈련 시키니 정확도가 어느정도니?\n",
        "print(kn.score(test_scaled, test_target)) # 훈련 시킨 것을 바탕으로 실제로 test를 돌려보니 정확도가 어느정도니?"
      ],
      "metadata": {
        "colab": {
          "base_uri": "https://localhost:8080/"
        },
        "id": "sLWHLiumJT6Y",
        "outputId": "8e87e871-8738-4ed1-b94d-4e36ea36e400"
      },
      "execution_count": 102,
      "outputs": [
        {
          "output_type": "stream",
          "name": "stdout",
          "text": [
            "0.8907563025210085\n",
            "0.85\n"
          ]
        }
      ]
    },
    {
      "cell_type": "markdown",
      "source": [
        "- 타깃값 확인 "
      ],
      "metadata": {
        "id": "KisW9UjzJ13k"
      }
    },
    {
      "cell_type": "code",
      "source": [
        "print(kn.classes_) # 물고기 종류에는 어떤 것들이 있니?"
      ],
      "metadata": {
        "colab": {
          "base_uri": "https://localhost:8080/"
        },
        "id": "2pNyOUafJ3Pv",
        "outputId": "f937e5ff-30ba-410c-850d-d8a379fba3f2"
      },
      "execution_count": 54,
      "outputs": [
        {
          "output_type": "stream",
          "name": "stdout",
          "text": [
            "['Bream' 'Parkki' 'Perch' 'Pike' 'Roach' 'Smelt' 'Whitefish']\n"
          ]
        }
      ]
    },
    {
      "cell_type": "code",
      "source": [
        "test_scaled[:5] # 각 열은 특징들에 대한 점수라고 생각 총 행은 5개"
      ],
      "metadata": {
        "colab": {
          "base_uri": "https://localhost:8080/"
        },
        "id": "E2psBdOuTTik",
        "outputId": "b8b3ae13-4160-4ea3-d104-bae7851fec03"
      },
      "execution_count": 61,
      "outputs": [
        {
          "output_type": "execute_result",
          "data": {
            "text/plain": [
              "array([[-0.88741352, -0.91804565, -1.03098914, -0.90464451, -0.80762518],\n",
              "       [-1.06924656, -1.50842035, -1.54345461, -1.58849582, -1.93803151],\n",
              "       [-0.54401367,  0.35641402,  0.30663259, -0.8135697 , -0.65388895],\n",
              "       [-0.34698097, -0.23396068, -0.22320459, -0.11905019, -0.12233464],\n",
              "       [-0.68475132, -0.51509149, -0.58801052, -0.8998784 , -0.50124996]])"
            ]
          },
          "metadata": {},
          "execution_count": 61
        }
      ]
    },
    {
      "cell_type": "code",
      "source": [
        "print(kn.predict(test_scaled[:5])) # 5개에 대한 예측값을 말해봐라"
      ],
      "metadata": {
        "colab": {
          "base_uri": "https://localhost:8080/"
        },
        "id": "UJW3fVM_KBLw",
        "outputId": "0c494507-7b3f-4fbe-a7da-21284cd84182"
      },
      "execution_count": 55,
      "outputs": [
        {
          "output_type": "stream",
          "name": "stdout",
          "text": [
            "['Perch' 'Smelt' 'Pike' 'Perch' 'Perch']\n"
          ]
        }
      ]
    },
    {
      "cell_type": "markdown",
      "source": [
        "- 5개 샘플에 대한 예측은 어떤 확률이냐?\n"
      ],
      "metadata": {
        "id": "dXDWLZyeKTDV"
      }
    },
    {
      "cell_type": "code",
      "source": [
        "import numpy as np\n",
        "proba = kn.predict_proba(test_scaled[:5])\n",
        "print(np.round(proba,decimals=4))"
      ],
      "metadata": {
        "colab": {
          "base_uri": "https://localhost:8080/"
        },
        "id": "MtrpjmIGKWmf",
        "outputId": "9f18b192-6699-4c28-9527-5a07efca2a28"
      },
      "execution_count": 104,
      "outputs": [
        {
          "output_type": "stream",
          "name": "stdout",
          "text": [
            "[[0.     0.     1.     0.     0.     0.     0.    ]\n",
            " [0.     0.     0.     0.     0.     1.     0.    ]\n",
            " [0.     0.     0.     1.     0.     0.     0.    ]\n",
            " [0.     0.     0.6667 0.     0.3333 0.     0.    ]\n",
            " [0.     0.     0.6667 0.     0.3333 0.     0.    ]]\n"
          ]
        }
      ]
    },
    {
      "cell_type": "markdown",
      "source": [
        "- 첫번째 클래스 Perch\n",
        "\n",
        "[0.     0.    1.  0.   0.   0.   0.   }\n",
        "- 네번 째 클래스 perch\n",
        "  + 66.7 확률로 perch로 예측 \n"
      ],
      "metadata": {
        "id": "cGYzOSeoK3Nl"
      }
    },
    {
      "cell_type": "code",
      "source": [
        ""
      ],
      "metadata": {
        "id": "DAW9Pm24Lj-Q"
      },
      "execution_count": null,
      "outputs": []
    },
    {
      "cell_type": "markdown",
      "source": [
        "##회귀식\n",
        "-양변에 로그를 취함\n",
        "\n",
        "- y=ax                                                                                                                                                                                                                                                                                                                                                                                                                                                                                                                                                                                                                                                                                                                                                                                                                                                                                                                                                                                                                                                                                                                                                                                                                                                                                                                                                                                                                                                                                                                                                                                                                                                                                                                                                                                                                                                                                                                                                                                                                                                                                                                                                                                                                                                                                                           "
      ],
      "metadata": {
        "id": "RRNTIpOWMWP6"
      }
    },
    {
      "cell_type": "markdown",
      "source": [
        "## 로지스틱 회귀로 이진 분류 수행 "
      ],
      "metadata": {
        "id": "SI11Liz2PthO"
      }
    },
    {
      "cell_type": "code",
      "source": [
        "char_arr = np.array(['A','B','C','D','E']) # a,b,c,d,e에서\n",
        "print(char_arr[[True, False, True, False, False]]) # 각 값에 참 거짓을 넣어주고, 참만 출력한다."
      ],
      "metadata": {
        "colab": {
          "base_uri": "https://localhost:8080/"
        },
        "id": "VDQFxgu2P6GY",
        "outputId": "1d60be5c-f727-456d-d699-f7861e36f9e3"
      },
      "execution_count": 58,
      "outputs": [
        {
          "output_type": "stream",
          "name": "stdout",
          "text": [
            "['A' 'C']\n"
          ]
        }
      ]
    },
    {
      "cell_type": "code",
      "source": [
        "bream_smelt_indexes = (train_target == 'Bream')|(train_target == 'Smelt') # 참 값만 고른다\n",
        "train_bream_smelt = train_scaled[bream_smelt_indexes] # train_bream_smelt 에 bream이거나 smelt 인 값만 넣고~\n",
        "target_bream_smelt = train_target[bream_smelt_indexes]# target 또한 같은 일을 반복한다.\n",
        "\n",
        "train_scaled.shape, train_bream_smelt.shape # 모양을 확인하자 , train은 119개 test 는 33개가 있다."
      ],
      "metadata": {
        "colab": {
          "base_uri": "https://localhost:8080/"
        },
        "id": "u5BXBGXFP1O9",
        "outputId": "8ad24cbe-df6c-4d4d-83d3-bd76120999f3"
      },
      "execution_count": 60,
      "outputs": [
        {
          "output_type": "execute_result",
          "data": {
            "text/plain": [
              "((119, 5), (33, 5))"
            ]
          },
          "metadata": {},
          "execution_count": 60
        }
      ]
    },
    {
      "cell_type": "markdown",
      "source": [
        "- 모델 만들기 "
      ],
      "metadata": {
        "id": "VVdZKoJLU6va"
      }
    },
    {
      "cell_type": "code",
      "source": [
        "from sklearn.linear_model import LogisticRegression \n",
        "lr= LogisticRegression()\n",
        "lr.fit(train_bream_smelt, target_bream_smelt)# 훈련시켜라\n"
      ],
      "metadata": {
        "colab": {
          "base_uri": "https://localhost:8080/"
        },
        "id": "5Y5cBzmqU8zJ",
        "outputId": "0118ea3e-2db2-40e5-8f78-01fa1232fa54"
      },
      "execution_count": 68,
      "outputs": [
        {
          "output_type": "execute_result",
          "data": {
            "text/plain": [
              "LogisticRegression()"
            ]
          },
          "metadata": {},
          "execution_count": 68
        }
      ]
    },
    {
      "cell_type": "code",
      "source": [
        "# 클래스를 예측\n",
        "print(lr.predict(train_bream_smelt[:5])) # 상위 5개의 예측값을 출력해봐라"
      ],
      "metadata": {
        "colab": {
          "base_uri": "https://localhost:8080/"
        },
        "id": "RnySQygdVJGI",
        "outputId": "7e975165-ebce-471e-caf4-47f299c60a6c"
      },
      "execution_count": 70,
      "outputs": [
        {
          "output_type": "stream",
          "name": "stdout",
          "text": [
            "['Bream' 'Smelt' 'Bream' 'Bream' 'Bream']\n"
          ]
        }
      ]
    },
    {
      "cell_type": "markdown",
      "source": [
        "-확률 값 구하기 "
      ],
      "metadata": {
        "id": "I4cdL7lrVohM"
      }
    },
    {
      "cell_type": "code",
      "source": [
        "print(lr.predict_proba(train_bream_smelt[:5])) # 그럼 각 확률을 출력해봐라 breamd의 확률, smelt 의 확률"
      ],
      "metadata": {
        "colab": {
          "base_uri": "https://localhost:8080/"
        },
        "id": "TDM9vwW0VqmS",
        "outputId": "2423cac4-ae31-4ddd-b5d2-8483909d1b0e"
      },
      "execution_count": 72,
      "outputs": [
        {
          "output_type": "stream",
          "name": "stdout",
          "text": [
            "[[0.99759855 0.00240145]\n",
            " [0.02735183 0.97264817]\n",
            " [0.99486072 0.00513928]\n",
            " [0.98584202 0.01415798]\n",
            " [0.99767269 0.00232731]]\n"
          ]
        }
      ]
    },
    {
      "cell_type": "markdown",
      "source": [
        "- 분류 기준 : threshold 임계값 설정\n",
        "도미 vs 빙어\n",
        "[0.51,0.49],\n",
        "[0.90,0.10]"
      ],
      "metadata": {
        "id": "8Kx7ujthWftE"
      }
    },
    {
      "cell_type": "code",
      "source": [
        "print(lr.classes_)"
      ],
      "metadata": {
        "colab": {
          "base_uri": "https://localhost:8080/"
        },
        "id": "cH6XyooCVxRp",
        "outputId": "6ab1f499-4efb-4caf-8208-2f64e489e524"
      },
      "execution_count": 74,
      "outputs": [
        {
          "output_type": "stream",
          "name": "stdout",
          "text": [
            "['Bream' 'Smelt']\n"
          ]
        }
      ]
    },
    {
      "cell_type": "markdown",
      "source": [
        "- 계수와 절편 "
      ],
      "metadata": {
        "id": "QzUrSmt1W-km"
      }
    },
    {
      "cell_type": "code",
      "source": [
        "print(lr.coef_, lr.intercept_) # 앞의 5개는 weight의 계수, length의 계수 등등이고 마지막은 교차점이다."
      ],
      "metadata": {
        "colab": {
          "base_uri": "https://localhost:8080/"
        },
        "id": "obiU1Wg7XAaS",
        "outputId": "ab69a509-261f-437d-88bf-4143a0a9e1ed"
      },
      "execution_count": 76,
      "outputs": [
        {
          "output_type": "stream",
          "name": "stdout",
          "text": [
            "[[-0.4037798  -0.57620209 -0.66280298 -1.01290277 -0.73168947]] [-2.16155132]\n"
          ]
        }
      ]
    },
    {
      "cell_type": "code",
      "source": [
        "decisions= lr.decision_function(train_bream_smelt[:5])\n",
        "print(decisions)"
      ],
      "metadata": {
        "colab": {
          "base_uri": "https://localhost:8080/"
        },
        "id": "VBJA0HrrXQby",
        "outputId": "835e5bb3-cf93-41a7-b541-d4bd8c043288"
      },
      "execution_count": 77,
      "outputs": [
        {
          "output_type": "stream",
          "name": "stdout",
          "text": [
            "[-6.02927744  3.57123907 -5.26568906 -4.24321775 -6.0607117 ]\n"
          ]
        }
      ]
    },
    {
      "cell_type": "code",
      "source": [
        "from scipy.special import expit # 시그모이드 함수를 적용한 이후의 모습이다. z5개를 돌렸기에 0~1사이의 값 5개가 나온 것이다.\n",
        "print(expit(decisions))"
      ],
      "metadata": {
        "colab": {
          "base_uri": "https://localhost:8080/"
        },
        "id": "8L_FSxbrYBaO",
        "outputId": "d94f1341-8e23-40a8-8644-67e35ee2b88f"
      },
      "execution_count": 78,
      "outputs": [
        {
          "output_type": "stream",
          "name": "stdout",
          "text": [
            "[0.00240145 0.97264817 0.00513928 0.01415798 0.00232731]\n"
          ]
        }
      ]
    },
    {
      "cell_type": "markdown",
      "source": [
        "## 다중 분류 수행하기"
      ],
      "metadata": {
        "id": "exJMToTacD61"
      }
    },
    {
      "cell_type": "code",
      "source": [
        "#하이퍼 파라밑 세팅 => 모형을 튜닝\n",
        "#모형 결과의 과대적합 또는 과소적합을 방지 하기 위한 것\n",
        "lr = LogisticRegression(C=20,max_iter =1000)\n",
        "lr.fit(train_scaled, train_target)\n",
        "print(lr.score(train_scaled, train_target))\n",
        "print(lr.score(test_scaled, test_target))"
      ],
      "metadata": {
        "colab": {
          "base_uri": "https://localhost:8080/"
        },
        "id": "IInOrO3WcDud",
        "outputId": "1e98fd56-d3f9-4cc4-f562-51a64f69d8b6"
      },
      "execution_count": 81,
      "outputs": [
        {
          "output_type": "stream",
          "name": "stdout",
          "text": [
            "0.9327731092436975\n",
            "0.925\n"
          ]
        }
      ]
    },
    {
      "cell_type": "markdown",
      "source": [
        "- 5개 샘플에 대한 예측 "
      ],
      "metadata": {
        "id": "CFPjHbo4c_Iw"
      }
    },
    {
      "cell_type": "code",
      "source": [
        "print(lr.predict(test_scaled[:5])) # 5개 샘플에대한 예측값"
      ],
      "metadata": {
        "colab": {
          "base_uri": "https://localhost:8080/"
        },
        "id": "OIKhfXKNdBZB",
        "outputId": "0a538211-109f-43cf-f6c5-2c3f9c767f81"
      },
      "execution_count": 82,
      "outputs": [
        {
          "output_type": "stream",
          "name": "stdout",
          "text": [
            "['Perch' 'Smelt' 'Pike' 'Roach' 'Perch']\n"
          ]
        }
      ]
    },
    {
      "cell_type": "code",
      "source": [
        "proba= lr.predict_proba(test_scaled[:5])\n",
        "print(np.round(proba,decimals = 3))"
      ],
      "metadata": {
        "colab": {
          "base_uri": "https://localhost:8080/"
        },
        "id": "g6JDUmZldIDJ",
        "outputId": "b83fcc79-2bc8-4d1b-ba4e-7e5a23a5eba6"
      },
      "execution_count": 83,
      "outputs": [
        {
          "output_type": "stream",
          "name": "stdout",
          "text": [
            "[[0.    0.014 0.841 0.    0.136 0.007 0.003]\n",
            " [0.    0.003 0.044 0.    0.007 0.946 0.   ]\n",
            " [0.    0.    0.034 0.935 0.015 0.016 0.   ]\n",
            " [0.011 0.034 0.306 0.007 0.567 0.    0.076]\n",
            " [0.    0.    0.904 0.002 0.089 0.002 0.001]]\n"
          ]
        }
      ]
    },
    {
      "cell_type": "markdown",
      "source": [
        "- 다중 분류일 경우 선형 방정식은 어떤 모습일까?\n",
        "- 분류 7개, 컬럼 값 5개"
      ],
      "metadata": {
        "id": "YT6U62_hdYHZ"
      }
    },
    {
      "cell_type": "code",
      "source": [
        "print(lr.coef_,lr.intercept_) #각각의 계수와 교차점\n",
        "# z = 이 형식을 의미하는 것이다.\n"
      ],
      "metadata": {
        "colab": {
          "base_uri": "https://localhost:8080/"
        },
        "id": "iepx48I1VnIa",
        "outputId": "e40c36fa-9caa-4c7e-99cf-48c314d9860d"
      },
      "execution_count": 84,
      "outputs": [
        {
          "output_type": "stream",
          "name": "stdout",
          "text": [
            "[[-1.49002087 -1.02912886  2.59345551  7.70357682 -1.2007011 ]\n",
            " [ 0.19618235 -2.01068181 -3.77976834  6.50491489 -1.99482722]\n",
            " [ 3.56279745  6.34357182 -8.48971143 -5.75757348  3.79307308]\n",
            " [-0.10458098  3.60319431  3.93067812 -3.61736674 -1.75069691]\n",
            " [-1.40061442 -6.07503434  5.25969314 -0.87220069  1.86043659]\n",
            " [-1.38526214  1.49214574  1.39226167 -5.67734118 -4.40097523]\n",
            " [ 0.62149861 -2.32406685 -0.90660867  1.71599038  3.6936908 ]] [-0.09205179 -0.26290885  3.25101327 -0.14742956  2.65498283 -6.78782948\n",
            "  1.38422358]\n"
          ]
        }
      ]
    },
    {
      "cell_type": "code",
      "source": [
        "decision = lr.decision_function(test_scaled[:5])\n",
        "print(np.round(decision,decimals=2))\n",
        "\n",
        "# 하나의 검사값에 대해 7개의 z값이 나오고, 총 5개(검사한 갯수)가 나온다"
      ],
      "metadata": {
        "colab": {
          "base_uri": "https://localhost:8080/"
        },
        "id": "EQyiT1eCgPj2",
        "outputId": "dd3e026f-6ad8-47a6-acad-83ecb9f14575"
      },
      "execution_count": 85,
      "outputs": [
        {
          "output_type": "stream",
          "name": "stdout",
          "text": [
            "[[ -6.5    1.03   5.16  -2.73   3.34   0.33  -0.63]\n",
            " [-10.86   1.93   4.77  -2.4    2.98   7.84  -4.26]\n",
            " [ -4.34  -6.23   3.17   6.49   2.36   2.42  -3.87]\n",
            " [ -0.68   0.45   2.65  -1.19   3.26  -5.75   1.26]\n",
            " [ -6.4   -1.99   5.82  -0.11   3.5   -0.11  -0.71]]\n"
          ]
        }
      ]
    },
    {
      "cell_type": "markdown",
      "source": [
        "- 2개 일 때는 시그모이드 함수를 사용해서 z 값을 0~1 사이의 값으로 변환하였지만 지금은 z값이 7개나 되므로 시그모이드가 아닌 소프트맥스 함수를 사용한다."
      ],
      "metadata": {
        "id": "huab2LzauIUH"
      }
    },
    {
      "cell_type": "code",
      "source": [
        "from scipy.special import softmax # 시그모이드가 아닌 softmax를 사용한다.\n",
        "proba = softmax(decision, axis=1)\n",
        "print(np.round(proba, decimals=3))"
      ],
      "metadata": {
        "colab": {
          "base_uri": "https://localhost:8080/"
        },
        "id": "oM5FwzjeuQPT",
        "outputId": "22b59046-94d7-4321-9be9-7828400cfd97"
      },
      "execution_count": 92,
      "outputs": [
        {
          "output_type": "stream",
          "name": "stdout",
          "text": [
            "[[0.    0.014 0.841 0.    0.136 0.007 0.003]\n",
            " [0.    0.003 0.044 0.    0.007 0.946 0.   ]\n",
            " [0.    0.    0.034 0.935 0.015 0.016 0.   ]\n",
            " [0.011 0.034 0.306 0.007 0.567 0.    0.076]\n",
            " [0.    0.    0.904 0.002 0.089 0.002 0.001]]\n"
          ]
        }
      ]
    },
    {
      "cell_type": "markdown",
      "source": [
        "## 평가지표\n",
        "- 회귀 평가지표\n",
        "- 결정계수\n",
        "  + 1-(타깃-예측)^2의 합 / (타깃-평균)^2합\n",
        "- MAE, MSE, RMSE\n",
        "  + (실제-예측) = 오차\n",
        "  + MAE(Mean Absolute Error): 오차의 절댓값의 평균\n",
        "  + MSE(Mean Squared Error): 오차 제곱의 평균\n",
        "  + RMSE(Root Mean Squared Error): MSE에 제곱근을 취한 값\n",
        "\n",
        "- 좋은 모델이란?\n",
        "  + 결정 계수: 1에 수렴하면 좋은 모델\n",
        "  + MAE, MSE, RMSE : 0에 수렴하면 좋은 모델\n",
        "  "
      ],
      "metadata": {
        "id": "s-AIgmUYiFUV"
      }
    },
    {
      "cell_type": "code",
      "source": [
        "import numpy as np\n",
        "from sklearn.metrics import mean_absolute_error, mean_squared_error, r2_score\n",
        "true = np.array([1, 2, 3, 2, 3, 5, 4, 6, 5, 6, 7, 8, 8]) # 실제값\n",
        "preds = np.array([1, 1, 2, 2, 3, 4, 4, 5, 5, 7, 7, 6, 8]) # 예측값\n",
        "#절대값 오차의 평균\n",
        "mae= mean_absolute_error(true,preds)\n",
        "print(mae)\n",
        "# 제곱 오차의 평균\n",
        "mse = mean_squared_error(true,preds)\n",
        "print(mse)\n",
        "# mse 제곱근\n",
        "rmse = np.sqrt(mse)\n",
        "print(rmse)\n",
        "# 결정계수\n",
        "r2= r2_score(true,preds)\n",
        "print(r2)"
      ],
      "metadata": {
        "colab": {
          "base_uri": "https://localhost:8080/"
        },
        "id": "Sd7btosGjfLY",
        "outputId": "31c6898d-3114-46b6-9776-78d233babd41"
      },
      "execution_count": 90,
      "outputs": [
        {
          "output_type": "stream",
          "name": "stdout",
          "text": [
            "0.5384615384615384\n",
            "0.6923076923076923\n",
            "0.8320502943378437\n",
            "0.8617021276595744\n"
          ]
        }
      ]
    },
    {
      "cell_type": "markdown",
      "source": [
        "## 분류 평가지표\n",
        "- 오차행렬\n",
        "- 실제 값\n",
        "  +[빙어, 도미, 도미, 빙어, 도미]\n",
        "  +[빙어, 빙어, 도미, 빙어, 빙어]\n",
        "- TP(빙어를 빙어로 예측): 2\n",
        "- TN(도미를 도미로 예측): 1\n",
        "- FN(실제 도미, 예측 빙어): 2\n",
        "- FP(실제 빙어, 예측 도미): 0\n",
        "- 모형의 정확도 3/5 = 60 %\n",
        "\n",
        "- TP, TN, FP, FN\n",
        "  + 정확도: 전체에서 맞춘 갯수\n",
        "  + 정밀도: 양성이라고 예측한 값 중 실제 양성인 값\n",
        "  + 재현율: 실제 양성 값 중 양성으로 예측한 값의 비율\n",
        "  + 로그손실\n",
        "  + ROC Curve(=AUC)\n"
      ],
      "metadata": {
        "id": "4c-mEns5llPP"
      }
    }
  ]
}