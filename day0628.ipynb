{
  "nbformat": 4,
  "nbformat_minor": 0,
  "metadata": {
    "colab": {
      "name": "day0628.ipynb",
      "provenance": [],
      "authorship_tag": "ABX9TyOr29K0Y8y26k9o1YMM39nE",
      "include_colab_link": true
    },
    "kernelspec": {
      "name": "python3",
      "display_name": "Python 3"
    },
    "language_info": {
      "name": "python"
    }
  },
  "cells": [
    {
      "cell_type": "markdown",
      "metadata": {
        "id": "view-in-github",
        "colab_type": "text"
      },
      "source": [
        "<a href=\"https://colab.research.google.com/github/seungukkim/R_lecture/blob/main/day0628.ipynb\" target=\"_parent\"><img src=\"https://colab.research.google.com/assets/colab-badge.svg\" alt=\"Open In Colab\"/></a>"
      ]
    },
    {
      "cell_type": "markdown",
      "source": [
        "## 반복문 복습\n",
        "- for loop and while loop"
      ],
      "metadata": {
        "id": "ZmxI5Jdxp20g"
      }
    },
    {
      "cell_type": "code",
      "source": [
        "a = \"Kaggle\"\n",
        "\n",
        "for i in a:\n",
        "  if i==\"a\":\n",
        "    break;\n",
        "  "
      ],
      "metadata": {
        "id": "K9gsVvfwp1l5"
      },
      "execution_count": 9,
      "outputs": []
    },
    {
      "cell_type": "markdown",
      "source": [
        "- 리스트"
      ],
      "metadata": {
        "id": "KvloAFKXr9US"
      }
    },
    {
      "cell_type": "code",
      "source": [
        "numbers = [1,2,3,4,5]\n",
        "sum=0\n",
        "\n",
        "for num in numbers:\n",
        "  sum+=num\n",
        "\n",
        "print(sum)"
      ],
      "metadata": {
        "colab": {
          "base_uri": "https://localhost:8080/",
          "height": 0
        },
        "id": "DSbO3sYAr7u5",
        "outputId": "7d3f3e77-21c4-4c4a-b86e-ae1706fd642f"
      },
      "execution_count": 11,
      "outputs": [
        {
          "output_type": "stream",
          "name": "stdout",
          "text": [
            "15\n"
          ]
        }
      ]
    },
    {
      "cell_type": "code",
      "source": [
        "fruits=['apple','kiwi', 'mango']\n",
        "newlist =[]\n",
        "\n",
        "for fruit in fruits:\n",
        "  if \"a\" in fruit:\n",
        "    newlist.append(fruit)\n",
        "\n",
        "print(newlist)"
      ],
      "metadata": {
        "colab": {
          "base_uri": "https://localhost:8080/",
          "height": 0
        },
        "id": "gx6kEL25tP-R",
        "outputId": "74abd01f-10e4-4eeb-f725-e6806cd9338d"
      },
      "execution_count": 12,
      "outputs": [
        {
          "output_type": "stream",
          "name": "stdout",
          "text": [
            "['apple', 'mango']\n"
          ]
        }
      ]
    },
    {
      "cell_type": "code",
      "source": [
        "a=[1,2,3]\n",
        "b=a\n",
        "b[1]=9\n",
        "print(a)\n",
        "print(b)"
      ],
      "metadata": {
        "colab": {
          "base_uri": "https://localhost:8080/",
          "height": 0
        },
        "id": "E7I58houwthr",
        "outputId": "01c9309d-7f53-4261-ccbe-5ec826e29270"
      },
      "execution_count": 13,
      "outputs": [
        {
          "output_type": "stream",
          "name": "stdout",
          "text": [
            "[1, 9, 3]\n",
            "[1, 9, 3]\n"
          ]
        }
      ]
    },
    {
      "cell_type": "markdown",
      "source": [
        "## 사용자 정의 함수\n",
        "- 내가 필요에 의해 직접 함수를 작성\n",
        "\n"
      ],
      "metadata": {
        "id": "gDDii_NIxWnx"
      }
    },
    {
      "cell_type": "code",
      "source": [
        "def 함수명(param1, param2):\n",
        "  #코드\n",
        "  return None"
      ],
      "metadata": {
        "id": "eexTWf9zxcNK"
      },
      "execution_count": 15,
      "outputs": []
    },
    {
      "cell_type": "code",
      "source": [
        "def add(a=0,b=1):\n",
        "  \"\"\"a,b를 더하는 함수\n",
        "  \n",
        "  Parameters:\n",
        "  a(int): int형 숫자 a입력\n",
        "  b(int): int형 숫자 b입력\n",
        "\n",
        "  return:\n",
        "    int:반환값\n",
        "\n",
        "  \"\"\"\n",
        "  c=a+b\n",
        "  return c\n",
        "\n",
        "print(add(5,4))\n",
        "print(add.__doc__)"
      ],
      "metadata": {
        "colab": {
          "base_uri": "https://localhost:8080/",
          "height": 0
        },
        "id": "UG6kcnVXxmEC",
        "outputId": "6f657abe-4e31-4b36-8e00-357ecfaa318c"
      },
      "execution_count": 28,
      "outputs": [
        {
          "output_type": "stream",
          "name": "stdout",
          "text": [
            "9\n",
            "a,b를 더하는 함수\n",
            "  \n",
            "  Parameters:\n",
            "  a(int): int형 숫자 a입력\n",
            "  b(int): int형 숫자 b입력\n",
            "\n",
            "  return:\n",
            "    int:반환값\n",
            "\n",
            "  \n"
          ]
        }
      ]
    },
    {
      "cell_type": "code",
      "source": [
        "def add(a,b):\n",
        "  c=a+b\n",
        "  return c\n",
        "\n",
        "def minus(a,b):\n",
        "  c=a-b\n",
        "  return c\n",
        "\n",
        "\n",
        "def multi(a,b):\n",
        "  c=a*b\n",
        "  return c\n",
        "\n",
        "\n",
        "def divide(a,b):\n",
        "  c=a/b\n",
        "  return c\n",
        "\n",
        "print(add(4,5))\n",
        "print(minus(4,5))\n",
        "print(multi(4,5))\n",
        "print(divide(4,5))\n"
      ],
      "metadata": {
        "colab": {
          "base_uri": "https://localhost:8080/",
          "height": 0
        },
        "id": "crYzTKlT1BfL",
        "outputId": "9ba6d804-86cc-42ea-9735-3170247a970e"
      },
      "execution_count": 21,
      "outputs": [
        {
          "output_type": "stream",
          "name": "stdout",
          "text": [
            "9\n",
            "-1\n",
            "20\n",
            "0.8\n"
          ]
        }
      ]
    },
    {
      "cell_type": "markdown",
      "source": [
        "## 여러개의 변수를 받을 때"
      ],
      "metadata": {
        "id": "A17B8HuHSrvm"
      }
    },
    {
      "cell_type": "code",
      "source": [
        "def add_many(*args):\n",
        "  result = 0\n",
        "  for i in args:\n",
        "    result = result +i\n",
        "    print(type(result))\n",
        "  return result\n",
        "  \n",
        "\n",
        "add_many(1,2,3,4,5,5,6,8,89)"
      ],
      "metadata": {
        "colab": {
          "base_uri": "https://localhost:8080/"
        },
        "id": "R4wuIRJx2Y6s",
        "outputId": "4d6634ef-5ad4-429b-8c35-62350795ee82"
      },
      "execution_count": 134,
      "outputs": [
        {
          "output_type": "stream",
          "name": "stdout",
          "text": [
            "<class 'int'>\n",
            "<class 'int'>\n",
            "<class 'int'>\n",
            "<class 'int'>\n",
            "<class 'int'>\n",
            "<class 'int'>\n",
            "<class 'int'>\n",
            "<class 'int'>\n",
            "<class 'int'>\n"
          ]
        },
        {
          "output_type": "execute_result",
          "data": {
            "text/plain": [
              "123"
            ]
          },
          "metadata": {},
          "execution_count": 134
        }
      ]
    },
    {
      "cell_type": "code",
      "source": [
        "a=1\n",
        "def vartest(a):\n",
        "  a+=1\n",
        "  return a\n",
        "\n",
        "a=vartest(a)\n",
        "print(a)"
      ],
      "metadata": {
        "colab": {
          "base_uri": "https://localhost:8080/",
          "height": 0
        },
        "id": "z8jvlJlt5rQU",
        "outputId": "7797905e-0432-4e93-98a3-90947f09edda"
      },
      "execution_count": 26,
      "outputs": [
        {
          "output_type": "stream",
          "name": "stdout",
          "text": [
            "2\n"
          ]
        }
      ]
    },
    {
      "cell_type": "code",
      "source": [
        "a=1\n",
        "def vartest():\n",
        "  global a\n",
        "  a = a+1\n",
        "\n",
        "vartest()\n",
        "print(a)"
      ],
      "metadata": {
        "colab": {
          "base_uri": "https://localhost:8080/",
          "height": 0
        },
        "id": "AEe-8iTY6J9V",
        "outputId": "ce1533fb-5a69-447c-de51-150a4278a22d"
      },
      "execution_count": 27,
      "outputs": [
        {
          "output_type": "stream",
          "name": "stdout",
          "text": [
            "2\n"
          ]
        }
      ]
    },
    {
      "cell_type": "markdown",
      "source": [
        "- 함수 문서화\n",
        "    + 키워드: Docstinrg"
      ],
      "metadata": {
        "id": "ag9mi5im50UY"
      }
    },
    {
      "cell_type": "code",
      "source": [
        "class Calculator:\n",
        "  def __init__self(self):\n",
        "    self.result =0\n",
        "\n",
        "  def add(self, num):\n",
        "    self.result += num\n",
        "    return self. result\n",
        "\n",
        "  "
      ],
      "metadata": {
        "id": "U1vmXTFn9C_7"
      },
      "execution_count": 32,
      "outputs": []
    },
    {
      "cell_type": "code",
      "source": [
        "import numpy as np\n",
        "\n",
        "A=[1,2,3]\n",
        "B=[4,5,6]\n",
        "\n",
        "np_A = np.array(A)\n",
        "np_B = np.array(B)\n",
        "\n",
        "np_A / np_B ** 2"
      ],
      "metadata": {
        "colab": {
          "base_uri": "https://localhost:8080/",
          "height": 0
        },
        "id": "9V85EL0_-eeF",
        "outputId": "55ae8043-11f4-406b-afa9-71f4de5c746d"
      },
      "execution_count": 38,
      "outputs": [
        {
          "output_type": "execute_result",
          "data": {
            "text/plain": [
              "array([0.0625    , 0.08      , 0.08333333])"
            ]
          },
          "metadata": {},
          "execution_count": 38
        }
      ]
    },
    {
      "cell_type": "markdown",
      "source": [
        "## NumPy\n",
        "- 내장모듈(=라이브러리 = 패키지)(X)\n",
        "- 별도 라이브러리 설치"
      ],
      "metadata": {
        "id": "o5WXImCWDu6e"
      }
    },
    {
      "cell_type": "code",
      "source": [
        "import numpy as np\n",
        "print(np.__version__)"
      ],
      "metadata": {
        "colab": {
          "base_uri": "https://localhost:8080/",
          "height": 0
        },
        "id": "F6bLugXmD4-l",
        "outputId": "623c32cd-1fc3-47b3-c808-1160e9c24545"
      },
      "execution_count": 40,
      "outputs": [
        {
          "output_type": "stream",
          "name": "stdout",
          "text": [
            "1.21.6\n"
          ]
        }
      ]
    },
    {
      "cell_type": "code",
      "source": [
        "temp=[1,2,3]\n",
        "temp_array = np.array(temp)\n",
        "\n",
        "print(type(temp))\n",
        "print(type(temp_array)) # 배열로 변환이 되었다는 것을 의미한다."
      ],
      "metadata": {
        "colab": {
          "base_uri": "https://localhost:8080/",
          "height": 0
        },
        "id": "eWnVyXhcESA-",
        "outputId": "0ac6c83f-71bd-46e6-bba3-662fb65e6b45"
      },
      "execution_count": 41,
      "outputs": [
        {
          "output_type": "stream",
          "name": "stdout",
          "text": [
            "<class 'list'>\n",
            "<class 'numpy.ndarray'>\n"
          ]
        }
      ]
    },
    {
      "cell_type": "code",
      "source": [
        "math_score=[90,80,100]\n",
        "eng_score=[80,90,100]\n",
        "\n",
        "print(math_score + eng_score)\n",
        "np_math = np.array(math_score)\n",
        "np_eng = np.array(eng_score)\n",
        "total = np_math + np_eng\n",
        "print(total)\n",
        "print(type(total))"
      ],
      "metadata": {
        "colab": {
          "base_uri": "https://localhost:8080/",
          "height": 0
        },
        "id": "jJWJRU9WEgPB",
        "outputId": "11adf01b-fdc4-4d0a-db1a-50bb931aaebc"
      },
      "execution_count": 48,
      "outputs": [
        {
          "output_type": "stream",
          "name": "stdout",
          "text": [
            "[90, 80, 100, 80, 90, 100]\n",
            "[170 170 200]\n",
            "<class 'numpy.ndarray'>\n"
          ]
        }
      ]
    },
    {
      "cell_type": "markdown",
      "source": [
        "## 집계 함수"
      ],
      "metadata": {
        "id": "oRmBSddzFeSY"
      }
    },
    {
      "cell_type": "code",
      "source": [
        "print(np.min(total))\n",
        "print(np.max(total))\n",
        "print(np.sum(total))"
      ],
      "metadata": {
        "colab": {
          "base_uri": "https://localhost:8080/",
          "height": 0
        },
        "id": "2iUgNoKuFfc1",
        "outputId": "b254126a-49e6-45d6-8430-1577b587c00f"
      },
      "execution_count": 52,
      "outputs": [
        {
          "output_type": "stream",
          "name": "stdout",
          "text": [
            "170\n",
            "200\n",
            "540\n"
          ]
        }
      ]
    },
    {
      "cell_type": "markdown",
      "source": [
        "## 차원\n",
        "- 배열의 차원 확인 필요\n"
      ],
      "metadata": {
        "id": "XWT1wwrUFztd"
      }
    },
    {
      "cell_type": "code",
      "source": [
        "# 1차원 배열\n",
        "temp_arr = np.array([1,2,3])\n",
        "print(temp_arr.shape) #값이 3개\n",
        "print(temp_arr.ndim) #1차원"
      ],
      "metadata": {
        "colab": {
          "base_uri": "https://localhost:8080/",
          "height": 0
        },
        "id": "m7DQG7x0F6oM",
        "outputId": "fb09ba4a-cff3-48c3-f893-e6a63d8309f6"
      },
      "execution_count": 55,
      "outputs": [
        {
          "output_type": "stream",
          "name": "stdout",
          "text": [
            "(3,)\n",
            "1\n"
          ]
        }
      ]
    },
    {
      "cell_type": "code",
      "source": [
        "# 2차원 배열\n",
        "temp_arr=np.array([[1,2,3],[4,5,6]])\n",
        "print(temp_arr.shape) #2*3배열\n",
        "print(temp_arr.ndim) #2차원\n",
        "print(temp_arr)"
      ],
      "metadata": {
        "colab": {
          "base_uri": "https://localhost:8080/",
          "height": 0
        },
        "id": "rCQAcP2nGVp9",
        "outputId": "bd76be69-e2da-4f7f-ccc7-87fb2a5abccf"
      },
      "execution_count": 58,
      "outputs": [
        {
          "output_type": "stream",
          "name": "stdout",
          "text": [
            "(2, 3)\n",
            "2\n",
            "[[1 2 3]\n",
            " [4 5 6]]\n"
          ]
        }
      ]
    },
    {
      "cell_type": "code",
      "source": [
        "# 3차원 배열 -> 이미지\n",
        "temp_arr = np.array([[[1, 2, 3], [4, 5, 6]], [[7, 8, 9], [10, 11, 12]]])\n",
        "print(temp_arr.shape)\n",
        "print(temp_arr.ndim)\n",
        "print(temp_arr)"
      ],
      "metadata": {
        "colab": {
          "base_uri": "https://localhost:8080/",
          "height": 0
        },
        "id": "5QkosIexHIGd",
        "outputId": "4c868c20-af0d-4580-9a3e-6f14d5cc617c"
      },
      "execution_count": 60,
      "outputs": [
        {
          "output_type": "stream",
          "name": "stdout",
          "text": [
            "(2, 2, 3)\n",
            "3\n",
            "[[[ 1  2  3]\n",
            "  [ 4  5  6]]\n",
            "\n",
            " [[ 7  8  9]\n",
            "  [10 11 12]]]\n"
          ]
        }
      ]
    },
    {
      "cell_type": "markdown",
      "source": [
        "## 배열 생성의 다양한 방법들\n",
        "- 모두 0으로 채운다"
      ],
      "metadata": {
        "id": "AubzOXd3sFJ0"
      }
    },
    {
      "cell_type": "code",
      "source": [
        "import numpy as np\n",
        "print(np.__version__)"
      ],
      "metadata": {
        "colab": {
          "base_uri": "https://localhost:8080/",
          "height": 0
        },
        "id": "QeiqpL5IsK9F",
        "outputId": "bdbfe18b-e99d-4972-f3bb-59414b9136d5"
      },
      "execution_count": 2,
      "outputs": [
        {
          "output_type": "stream",
          "name": "stdout",
          "text": [
            "1.21.6\n"
          ]
        }
      ]
    },
    {
      "cell_type": "code",
      "source": [
        "temp_arr= np.zeros((2,3))\n",
        "temp_arr"
      ],
      "metadata": {
        "colab": {
          "base_uri": "https://localhost:8080/",
          "height": 0
        },
        "id": "0g9r-2mgsXwd",
        "outputId": "cd0070bb-6151-4a28-e925-b2226efbe911"
      },
      "execution_count": 7,
      "outputs": [
        {
          "output_type": "execute_result",
          "data": {
            "text/plain": [
              "array([[0., 0., 0.],\n",
              "       [0., 0., 0.]])"
            ]
          },
          "metadata": {},
          "execution_count": 7
        }
      ]
    },
    {
      "cell_type": "markdown",
      "source": [
        "- 모두 1로 채운다"
      ],
      "metadata": {
        "id": "TgBvmUTGspy9"
      }
    },
    {
      "cell_type": "code",
      "source": [
        "temp_arr = np.ones((2,3))\n",
        "temp_arr"
      ],
      "metadata": {
        "colab": {
          "base_uri": "https://localhost:8080/",
          "height": 0
        },
        "id": "upy0dFdksn59",
        "outputId": "c44298e5-f8f4-4eb3-c564-e9e95a295cb2"
      },
      "execution_count": 8,
      "outputs": [
        {
          "output_type": "execute_result",
          "data": {
            "text/plain": [
              "array([[1., 1., 1.],\n",
              "       [1., 1., 1.]])"
            ]
          },
          "metadata": {},
          "execution_count": 8
        }
      ]
    },
    {
      "cell_type": "markdown",
      "source": [
        "- 임의의 상수값으로 채운다"
      ],
      "metadata": {
        "id": "Fxit2KXesyKB"
      }
    },
    {
      "cell_type": "code",
      "source": [
        "temp_arr = np.full((3,3),5)\n",
        "temp_arr"
      ],
      "metadata": {
        "colab": {
          "base_uri": "https://localhost:8080/",
          "height": 0
        },
        "id": "sHAqA-c0s1hn",
        "outputId": "a5707246-ed2a-4301-ba20-2608e606940d"
      },
      "execution_count": 10,
      "outputs": [
        {
          "output_type": "execute_result",
          "data": {
            "text/plain": [
              "array([[5, 5, 5],\n",
              "       [5, 5, 5],\n",
              "       [5, 5, 5]])"
            ]
          },
          "metadata": {},
          "execution_count": 10
        }
      ]
    },
    {
      "cell_type": "markdown",
      "source": [
        "- 최소, 최대 숫자의 범위를 정해두고, 각구간별로 값을 생성"
      ],
      "metadata": {
        "id": "m8w_s8vBtUoS"
      }
    },
    {
      "cell_type": "code",
      "source": [
        "temp_arr = np.linspace(5,10,10)\n",
        "temp_arr"
      ],
      "metadata": {
        "colab": {
          "base_uri": "https://localhost:8080/",
          "height": 0
        },
        "id": "S41sJ46vtYyk",
        "outputId": "06ab6b5a-ad2f-4dc6-8cac-21569dd4ed24"
      },
      "execution_count": 11,
      "outputs": [
        {
          "output_type": "execute_result",
          "data": {
            "text/plain": [
              "array([ 5.        ,  5.55555556,  6.11111111,  6.66666667,  7.22222222,\n",
              "        7.77777778,  8.33333333,  8.88888889,  9.44444444, 10.        ])"
            ]
          },
          "metadata": {},
          "execution_count": 11
        }
      ]
    },
    {
      "cell_type": "markdown",
      "source": [
        "- 반복문 시 , 자주 등장하는 배"
      ],
      "metadata": {
        "id": "PtTtjteJtvJA"
      }
    },
    {
      "cell_type": "code",
      "source": [
        "temp_arr = np.arange(1,11,1)\n",
        "temp_arr"
      ],
      "metadata": {
        "colab": {
          "base_uri": "https://localhost:8080/",
          "height": 0
        },
        "id": "inkGYmHmtxWV",
        "outputId": "89b98ad7-9cee-4629-a7a0-b2d1e7eaaba8"
      },
      "execution_count": 15,
      "outputs": [
        {
          "output_type": "execute_result",
          "data": {
            "text/plain": [
              "array([ 1,  2,  3,  4,  5,  6,  7,  8,  9, 10])"
            ]
          },
          "metadata": {},
          "execution_count": 15
        }
      ]
    },
    {
      "cell_type": "markdown",
      "source": [
        "## 난수 생성"
      ],
      "metadata": {
        "id": "KKMOH6LCu4kg"
      }
    },
    {
      "cell_type": "code",
      "source": [
        "from numpy import random\n",
        "x=random.rand()\n",
        "print(x)"
      ],
      "metadata": {
        "colab": {
          "base_uri": "https://localhost:8080/"
        },
        "id": "z7A_z58TuGQd",
        "outputId": "a1115731-f0c8-4ba3-8d2e-8aced99a82a1"
      },
      "execution_count": 19,
      "outputs": [
        {
          "output_type": "stream",
          "name": "stdout",
          "text": [
            "0.4197892844762233\n"
          ]
        }
      ]
    },
    {
      "cell_type": "code",
      "source": [
        "import numpy\n",
        "x= numpy.random.rand()\n",
        "print(x)"
      ],
      "metadata": {
        "colab": {
          "base_uri": "https://localhost:8080/"
        },
        "id": "3Rft6a7Cumjo",
        "outputId": "d314cd99-18bb-4a29-f33b-8799f6079b37"
      },
      "execution_count": 20,
      "outputs": [
        {
          "output_type": "stream",
          "name": "stdout",
          "text": [
            "0.8489952461394101\n"
          ]
        }
      ]
    },
    {
      "cell_type": "markdown",
      "source": [
        "## 랜덤 정수값 추"
      ],
      "metadata": {
        "id": "ZnNaX99ZvRVK"
      }
    },
    {
      "cell_type": "code",
      "source": [
        "from numpy import random\n",
        "x= random.randint(100, size=(90))\n",
        "print(x)"
      ],
      "metadata": {
        "colab": {
          "base_uri": "https://localhost:8080/"
        },
        "id": "Q2O58LcvvUVw",
        "outputId": "99869d87-3692-4ec4-f8b3-937b0848b471"
      },
      "execution_count": 25,
      "outputs": [
        {
          "output_type": "stream",
          "name": "stdout",
          "text": [
            "[65 20 95 55 13 39 19 56  8 26 44 23 59  6 32 97 87 18 42 55 28 98  2 69\n",
            " 68  8 58 20  8 76  4 68  6 97 42 83 34 92 10 16 59 79 57 16 41 75 65 51\n",
            " 99 54 88 17 94 50  1 83 37 64 78 72 50 93 64 84 36 40 98 99 11 66 39 54\n",
            " 43 65 38 31 98 36 35 71 78 11  1 99 57 87 47 50 25 53]\n"
          ]
        }
      ]
    },
    {
      "cell_type": "markdown",
      "source": [
        "## 랜덤 배열 ,실수"
      ],
      "metadata": {
        "id": "pNuXsrIgvvD0"
      }
    },
    {
      "cell_type": "code",
      "source": [
        "from numpy import random\n",
        "x = random.rand(2,5)\n",
        "print(x)\n",
        "type(x)"
      ],
      "metadata": {
        "colab": {
          "base_uri": "https://localhost:8080/"
        },
        "id": "SlNECAjgvw_e",
        "outputId": "4294e543-3f07-4aba-8ce1-11be94dbe983"
      },
      "execution_count": 29,
      "outputs": [
        {
          "output_type": "stream",
          "name": "stdout",
          "text": [
            "[[0.10636109 0.39654714 0.98230141 0.68008412 0.45948323]\n",
            " [0.02152314 0.53716145 0.87837662 0.02882575 0.8048422 ]]\n"
          ]
        },
        {
          "output_type": "execute_result",
          "data": {
            "text/plain": [
              "numpy.ndarray"
            ]
          },
          "metadata": {},
          "execution_count": 29
        }
      ]
    },
    {
      "cell_type": "markdown",
      "source": [
        "## numpy 사칙 연"
      ],
      "metadata": {
        "id": "s6nusEZEwREY"
      }
    },
    {
      "cell_type": "code",
      "source": [
        "import numpy as np\n",
        "array_01 = np.array([1,2,3])\n",
        "array_02 = np.array([10,20,30])\n"
      ],
      "metadata": {
        "id": "dsNzD2NwwSt-"
      },
      "execution_count": 31,
      "outputs": []
    },
    {
      "cell_type": "code",
      "source": [
        "newArr = np.add(array_01,array_02)\n",
        "print(newArr)\n",
        "newArr = np.subtract(array_01,array_02)\n",
        "print(newArr)\n",
        "newArr = np.multiply(array_01,array_02)\n",
        "print(newArr)\n",
        "newArr = np.divide(array_01,array_02)\n",
        "print(newArr)\n",
        "array_01 = np.array([1,2,3])\n",
        "array_02 = np.array([2,2,2])\n",
        "newArr = np.power(array_01,array_02)\n",
        "print(newArr)"
      ],
      "metadata": {
        "colab": {
          "base_uri": "https://localhost:8080/"
        },
        "id": "sO8TwHBPweFX",
        "outputId": "b72aa40d-c9f3-4391-8abd-931e5947a837"
      },
      "execution_count": 36,
      "outputs": [
        {
          "output_type": "stream",
          "name": "stdout",
          "text": [
            "[3 4 5]\n",
            "[-1  0  1]\n",
            "[2 4 6]\n",
            "[0.5 1.  1.5]\n",
            "[1 4 9]\n"
          ]
        }
      ]
    },
    {
      "cell_type": "markdown",
      "source": [
        "##소수점 정렬 \n",
        "- 소수점을 정렬하는 다양한 방법\n"
      ],
      "metadata": {
        "id": "hYhsNLKvx3vv"
      }
    },
    {
      "cell_type": "code",
      "source": [
        "import numpy as np\n",
        "temp_arr = np.trunc([-1,23,123])\n",
        "print(temp_arr)\n",
        "\n",
        "temp_arr = np.fix([-1.23,1.23])\n",
        "print(temp_arr)"
      ],
      "metadata": {
        "colab": {
          "base_uri": "https://localhost:8080/"
        },
        "id": "MlLdLz1zyAc2",
        "outputId": "0e4a03b5-1717-4c5f-b3eb-8832548f9aa8"
      },
      "execution_count": 39,
      "outputs": [
        {
          "output_type": "stream",
          "name": "stdout",
          "text": [
            "[ -1.  23. 123.]\n",
            "[-1.  1.]\n"
          ]
        }
      ]
    },
    {
      "cell_type": "code",
      "source": [
        "temp_arr = np.floor([-1.2124,1.24242])\n",
        "print(temp_arr)"
      ],
      "metadata": {
        "colab": {
          "base_uri": "https://localhost:8080/"
        },
        "id": "wT0_24ftyoAu",
        "outputId": "999b95b7-bf43-4175-be8a-7b2ded5ebdaa"
      },
      "execution_count": 41,
      "outputs": [
        {
          "output_type": "stream",
          "name": "stdout",
          "text": [
            "[-2.  1.]\n"
          ]
        }
      ]
    },
    {
      "cell_type": "code",
      "source": [
        "temp_arr = np.ceil([-1.23123,1.23123])\n",
        "print(temp_arr)"
      ],
      "metadata": {
        "colab": {
          "base_uri": "https://localhost:8080/"
        },
        "id": "amdFUpP-y4Dh",
        "outputId": "88ddaf5b-33e0-4819-8bfd-9f0db1acf41c"
      },
      "execution_count": 42,
      "outputs": [
        {
          "output_type": "stream",
          "name": "stdout",
          "text": [
            "[-1.  2.]\n"
          ]
        }
      ]
    },
    {
      "cell_type": "markdown",
      "source": [
        "## 조건식\n",
        "- pandas\n",
        "- numpy\n",
        "- 조건식\n",
        "  - 하나의 조건식\n",
        "  - 다중 조건\n"
      ],
      "metadata": {
        "id": "mbPRrKgv3ksw"
      }
    },
    {
      "cell_type": "code",
      "source": [
        "temp_arr = np.arange(10)\n",
        "temp_arr"
      ],
      "metadata": {
        "colab": {
          "base_uri": "https://localhost:8080/"
        },
        "id": "NgKTBm2M36x-",
        "outputId": "b8d6fa7d-3fc5-41a3-ad3b-9844484d599d"
      },
      "execution_count": 44,
      "outputs": [
        {
          "output_type": "execute_result",
          "data": {
            "text/plain": [
              "array([0, 1, 2, 3, 4, 5, 6, 7, 8, 9])"
            ]
          },
          "metadata": {},
          "execution_count": 44
        }
      ]
    },
    {
      "cell_type": "code",
      "source": [
        "# 5보다 작으면 원 값 유지\n",
        "# 5보다 크면 곱하기 10을 해주기\n",
        "\n",
        "# np.where(조건식, 참일 때, 거짓일 때)\n",
        "np.where (temp_arr<5, temp_arr, temp_arr * 10)"
      ],
      "metadata": {
        "colab": {
          "base_uri": "https://localhost:8080/"
        },
        "id": "SWxHU2sv4Bpn",
        "outputId": "1e35543f-4a59-4e4a-8095-fda214c5a004"
      },
      "execution_count": 47,
      "outputs": [
        {
          "output_type": "execute_result",
          "data": {
            "text/plain": [
              "array([ 0,  1,  2,  3,  4, 50, 60, 70, 80, 90])"
            ]
          },
          "metadata": {},
          "execution_count": 47
        }
      ]
    },
    {
      "cell_type": "code",
      "source": [
        "temp_arr = np.arange(10)\n",
        "cond_list = [temp_arr > 5, temp_arr < 2]\n",
        "choice_list = [temp_arr *2 , temp_arr +100]\n",
        "# np.select(조건식 리스트, 결과값 리스트, default)\n",
        "np.select(cond_list,choice_list,default=temp_arr)"
      ],
      "metadata": {
        "colab": {
          "base_uri": "https://localhost:8080/"
        },
        "id": "_bdcb5xh5BMo",
        "outputId": "702e628e-77ae-48f7-aa4f-b1632bc91232"
      },
      "execution_count": 48,
      "outputs": [
        {
          "output_type": "execute_result",
          "data": {
            "text/plain": [
              "array([100, 101,   2,   3,   4,   5,  12,  14,  16,  18])"
            ]
          },
          "metadata": {},
          "execution_count": 48
        }
      ]
    },
    {
      "cell_type": "markdown",
      "source": [
        "## Reshape\n",
        "- 배열의 차원 또는 크기를 바꾼다.\n",
        "- 곱셈"
      ],
      "metadata": {
        "id": "9-v86IZb6eEr"
      }
    },
    {
      "cell_type": "code",
      "source": [
        "import numpy as np\n",
        "temp_array = np.ones((3,4))\n",
        "print(temp_array.shape)\n",
        "print(temp_array)"
      ],
      "metadata": {
        "colab": {
          "base_uri": "https://localhost:8080/"
        },
        "id": "EWySyTqT6iS-",
        "outputId": "660ef208-9140-4b2a-9387-c96810f10cbc"
      },
      "execution_count": 50,
      "outputs": [
        {
          "output_type": "stream",
          "name": "stdout",
          "text": [
            "(3, 4)\n",
            "[[1. 1. 1. 1.]\n",
            " [1. 1. 1. 1.]\n",
            " [1. 1. 1. 1.]]\n"
          ]
        }
      ]
    },
    {
      "cell_type": "code",
      "source": [
        "after_reshape = temp_array.reshape(2,-1) #-1을 넣으면 알아서 계산해준다\n",
        "# -1넣으면 알아서 계산해준다\n",
        "print(after_reshape.shape)\n",
        "print(after_reshape)"
      ],
      "metadata": {
        "colab": {
          "base_uri": "https://localhost:8080/"
        },
        "id": "uFa9PdLM65le",
        "outputId": "f07699da-a78b-47f1-f752-b054188ec066"
      },
      "execution_count": 54,
      "outputs": [
        {
          "output_type": "stream",
          "name": "stdout",
          "text": [
            "(2, 6)\n",
            "[[1. 1. 1. 1. 1. 1.]\n",
            " [1. 1. 1. 1. 1. 1.]]\n"
          ]
        }
      ]
    },
    {
      "cell_type": "markdown",
      "source": [
        "def 함수이름(매개변수):\n",
        "  return 반환값1, 반환값2"
      ],
      "metadata": {
        "id": "kANYXF7AA98b"
      }
    },
    {
      "cell_type": "code",
      "source": [
        "def add_sub(a,b):\n",
        "  return a+b,a-b\n",
        "\n",
        "x,y=add_sub(20,15)\n",
        "print(x)\n",
        "print(y)"
      ],
      "metadata": {
        "colab": {
          "base_uri": "https://localhost:8080/"
        },
        "id": "lqrr_RYjBDUR",
        "outputId": "eb806b76-3b0f-4ec8-b58e-f4128ca0fb52"
      },
      "execution_count": 57,
      "outputs": [
        {
          "output_type": "stream",
          "name": "stdout",
          "text": [
            "35\n",
            "5\n"
          ]
        }
      ]
    },
    {
      "cell_type": "code",
      "source": [
        "def one_two():\n",
        "  return [1,2]\n",
        "\n",
        "x,y=one_two()\n",
        "print(x)\n",
        "print(y)\n",
        "print(type(x))\n",
        "print(type(y))"
      ],
      "metadata": {
        "colab": {
          "base_uri": "https://localhost:8080/"
        },
        "id": "dt-nE5A3BS-g",
        "outputId": "c2074d20-c6fc-4a4a-f742-502e19f1dda0"
      },
      "execution_count": 60,
      "outputs": [
        {
          "output_type": "stream",
          "name": "stdout",
          "text": [
            "1\n",
            "2\n",
            "<class 'int'>\n",
            "<class 'int'>\n"
          ]
        }
      ]
    },
    {
      "cell_type": "code",
      "source": [
        "x=10\n",
        "y=3\n",
        "def get_quotient_remainder(x,y):\n",
        "  return x//y,x%y\n",
        "\n",
        "quotient, remainder = get_quotient_remainder(x,y)\n",
        "print('몫 : {0}, 나머지: {1}'.format(quotient, remainder))"
      ],
      "metadata": {
        "colab": {
          "base_uri": "https://localhost:8080/"
        },
        "id": "iXAtuIT9CG25",
        "outputId": "a74e91c3-ce8b-4f14-e36d-8e1b6c725ae2"
      },
      "execution_count": 62,
      "outputs": [
        {
          "output_type": "stream",
          "name": "stdout",
          "text": [
            "몫 : 3, 나머지: 1\n"
          ]
        }
      ]
    },
    {
      "cell_type": "markdown",
      "source": [
        "## pandas 튜토리"
      ],
      "metadata": {
        "id": "M2XUZWj-IONC"
      }
    },
    {
      "cell_type": "code",
      "source": [
        "import pandas as pd\n",
        "print(pd.__version__)"
      ],
      "metadata": {
        "colab": {
          "base_uri": "https://localhost:8080/"
        },
        "id": "YVy7r6sEIQSQ",
        "outputId": "408af5a7-cba8-41c8-91c8-a0fc508fbac5"
      },
      "execution_count": 64,
      "outputs": [
        {
          "output_type": "stream",
          "name": "stdout",
          "text": [
            "1.3.5\n"
          ]
        }
      ]
    },
    {
      "cell_type": "code",
      "source": [
        "temp_dict = {\n",
        "    'col1': [1,2],\n",
        "    'col2': [3,4]\n",
        "}\n",
        "\n",
        "df= pd.DataFrame(temp_dict)\n",
        "print(df)\n",
        "print(type(df))"
      ],
      "metadata": {
        "colab": {
          "base_uri": "https://localhost:8080/"
        },
        "id": "rVhFNSg4IVCh",
        "outputId": "9aea1358-621b-4c3e-e0cb-c0647206c20b"
      },
      "execution_count": 67,
      "outputs": [
        {
          "output_type": "stream",
          "name": "stdout",
          "text": [
            "   col1  col2\n",
            "0     1     3\n",
            "1     2     4\n",
            "<class 'pandas.core.frame.DataFrame'>\n"
          ]
        }
      ]
    },
    {
      "cell_type": "code",
      "source": [
        "from google.colab import drive\n",
        "drive.mount('/content/drive')"
      ],
      "metadata": {
        "colab": {
          "base_uri": "https://localhost:8080/"
        },
        "id": "6CzZu6aBJY3K",
        "outputId": "ba5d0778-74d1-4a1f-9df8-59d4eb381bca"
      },
      "execution_count": 69,
      "outputs": [
        {
          "output_type": "stream",
          "name": "stdout",
          "text": [
            "Mounted at /content/drive\n"
          ]
        }
      ]
    },
    {
      "cell_type": "code",
      "source": [
        "DATA_PATH = '/content/drive/MyDrive/Colab Notebooks/human_ai/Basic/Chapter 3. pandas/data/'\n",
        "lemonade = pd.read_csv(DATA_PATH +'Lemonade2016.csv')\n",
        "# covid_df = pd.read_csv(DATA_PATH +)\n",
        "\n",
        "lemonade.info()"
      ],
      "metadata": {
        "colab": {
          "base_uri": "https://localhost:8080/"
        },
        "id": "MSwyxGQOK1bT",
        "outputId": "d54b7435-c2e1-4cd6-acd3-63f311a4bc38"
      },
      "execution_count": 75,
      "outputs": [
        {
          "output_type": "stream",
          "name": "stdout",
          "text": [
            "<class 'pandas.core.frame.DataFrame'>\n",
            "RangeIndex: 32 entries, 0 to 31\n",
            "Data columns (total 7 columns):\n",
            " #   Column       Non-Null Count  Dtype  \n",
            "---  ------       --------------  -----  \n",
            " 0   Date         31 non-null     object \n",
            " 1   Location     32 non-null     object \n",
            " 2   Lemon        32 non-null     int64  \n",
            " 3   Orange       32 non-null     int64  \n",
            " 4   Temperature  32 non-null     int64  \n",
            " 5   Leaflets     31 non-null     float64\n",
            " 6   Price        32 non-null     float64\n",
            "dtypes: float64(2), int64(3), object(2)\n",
            "memory usage: 1.9+ KB\n"
          ]
        }
      ]
    },
    {
      "cell_type": "code",
      "source": [
        "import pandas as pd\n",
        "import numpy as np\n",
        "import matplotlib.pyplot as plt\n"
      ],
      "metadata": {
        "id": "zd0TyFa6N1Lj"
      },
      "execution_count": 77,
      "outputs": []
    },
    {
      "cell_type": "code",
      "source": [
        "s = pd.Series([1,3,5, np.nan,6,8])\n",
        "s"
      ],
      "metadata": {
        "colab": {
          "base_uri": "https://localhost:8080/"
        },
        "id": "ZWf7FMulN7Wn",
        "outputId": "cadcc84f-444c-420f-885b-e69dd0266bdf"
      },
      "execution_count": 79,
      "outputs": [
        {
          "output_type": "execute_result",
          "data": {
            "text/plain": [
              "0    1.0\n",
              "1    3.0\n",
              "2    5.0\n",
              "3    NaN\n",
              "4    6.0\n",
              "5    8.0\n",
              "dtype: float64"
            ]
          },
          "metadata": {},
          "execution_count": 79
        }
      ]
    },
    {
      "cell_type": "code",
      "source": [
        "dates = pd.date_range('20220627', periods=6)\n",
        "dates"
      ],
      "metadata": {
        "colab": {
          "base_uri": "https://localhost:8080/"
        },
        "id": "dM51IbbkOcur",
        "outputId": "c861e4b1-ca57-4efd-9db9-9ff224f13e68"
      },
      "execution_count": 83,
      "outputs": [
        {
          "output_type": "execute_result",
          "data": {
            "text/plain": [
              "DatetimeIndex(['2022-06-27', '2022-06-28', '2022-06-29', '2022-06-30',\n",
              "               '2022-07-01', '2022-07-02'],\n",
              "              dtype='datetime64[ns]', freq='D')"
            ]
          },
          "metadata": {},
          "execution_count": 83
        }
      ]
    },
    {
      "cell_type": "code",
      "source": [
        "df = pd.DataFrame(np.random.randn(6,4), index =dates, columns = list('ABCD'))\n",
        "df"
      ],
      "metadata": {
        "colab": {
          "base_uri": "https://localhost:8080/",
          "height": 238
        },
        "id": "rRchm123OqkU",
        "outputId": "c51b9d24-098a-4286-d9a6-1493c3abe36d"
      },
      "execution_count": 86,
      "outputs": [
        {
          "output_type": "execute_result",
          "data": {
            "text/plain": [
              "                   A         B         C         D\n",
              "2022-06-27 -0.187705  0.396903 -1.553965 -0.920126\n",
              "2022-06-28 -0.540548  0.040966  0.018852  2.159429\n",
              "2022-06-29  0.124971 -0.000083  0.941922  0.743876\n",
              "2022-06-30  0.451639 -0.763349  0.825701  0.030078\n",
              "2022-07-01 -0.299505 -0.354058 -0.696545  0.062945\n",
              "2022-07-02 -0.607932 -0.133409  0.707404  1.150122"
            ],
            "text/html": [
              "\n",
              "  <div id=\"df-5b526fe9-b6e7-4251-b812-301488a5a15a\">\n",
              "    <div class=\"colab-df-container\">\n",
              "      <div>\n",
              "<style scoped>\n",
              "    .dataframe tbody tr th:only-of-type {\n",
              "        vertical-align: middle;\n",
              "    }\n",
              "\n",
              "    .dataframe tbody tr th {\n",
              "        vertical-align: top;\n",
              "    }\n",
              "\n",
              "    .dataframe thead th {\n",
              "        text-align: right;\n",
              "    }\n",
              "</style>\n",
              "<table border=\"1\" class=\"dataframe\">\n",
              "  <thead>\n",
              "    <tr style=\"text-align: right;\">\n",
              "      <th></th>\n",
              "      <th>A</th>\n",
              "      <th>B</th>\n",
              "      <th>C</th>\n",
              "      <th>D</th>\n",
              "    </tr>\n",
              "  </thead>\n",
              "  <tbody>\n",
              "    <tr>\n",
              "      <th>2022-06-27</th>\n",
              "      <td>-0.187705</td>\n",
              "      <td>0.396903</td>\n",
              "      <td>-1.553965</td>\n",
              "      <td>-0.920126</td>\n",
              "    </tr>\n",
              "    <tr>\n",
              "      <th>2022-06-28</th>\n",
              "      <td>-0.540548</td>\n",
              "      <td>0.040966</td>\n",
              "      <td>0.018852</td>\n",
              "      <td>2.159429</td>\n",
              "    </tr>\n",
              "    <tr>\n",
              "      <th>2022-06-29</th>\n",
              "      <td>0.124971</td>\n",
              "      <td>-0.000083</td>\n",
              "      <td>0.941922</td>\n",
              "      <td>0.743876</td>\n",
              "    </tr>\n",
              "    <tr>\n",
              "      <th>2022-06-30</th>\n",
              "      <td>0.451639</td>\n",
              "      <td>-0.763349</td>\n",
              "      <td>0.825701</td>\n",
              "      <td>0.030078</td>\n",
              "    </tr>\n",
              "    <tr>\n",
              "      <th>2022-07-01</th>\n",
              "      <td>-0.299505</td>\n",
              "      <td>-0.354058</td>\n",
              "      <td>-0.696545</td>\n",
              "      <td>0.062945</td>\n",
              "    </tr>\n",
              "    <tr>\n",
              "      <th>2022-07-02</th>\n",
              "      <td>-0.607932</td>\n",
              "      <td>-0.133409</td>\n",
              "      <td>0.707404</td>\n",
              "      <td>1.150122</td>\n",
              "    </tr>\n",
              "  </tbody>\n",
              "</table>\n",
              "</div>\n",
              "      <button class=\"colab-df-convert\" onclick=\"convertToInteractive('df-5b526fe9-b6e7-4251-b812-301488a5a15a')\"\n",
              "              title=\"Convert this dataframe to an interactive table.\"\n",
              "              style=\"display:none;\">\n",
              "        \n",
              "  <svg xmlns=\"http://www.w3.org/2000/svg\" height=\"24px\"viewBox=\"0 0 24 24\"\n",
              "       width=\"24px\">\n",
              "    <path d=\"M0 0h24v24H0V0z\" fill=\"none\"/>\n",
              "    <path d=\"M18.56 5.44l.94 2.06.94-2.06 2.06-.94-2.06-.94-.94-2.06-.94 2.06-2.06.94zm-11 1L8.5 8.5l.94-2.06 2.06-.94-2.06-.94L8.5 2.5l-.94 2.06-2.06.94zm10 10l.94 2.06.94-2.06 2.06-.94-2.06-.94-.94-2.06-.94 2.06-2.06.94z\"/><path d=\"M17.41 7.96l-1.37-1.37c-.4-.4-.92-.59-1.43-.59-.52 0-1.04.2-1.43.59L10.3 9.45l-7.72 7.72c-.78.78-.78 2.05 0 2.83L4 21.41c.39.39.9.59 1.41.59.51 0 1.02-.2 1.41-.59l7.78-7.78 2.81-2.81c.8-.78.8-2.07 0-2.86zM5.41 20L4 18.59l7.72-7.72 1.47 1.35L5.41 20z\"/>\n",
              "  </svg>\n",
              "      </button>\n",
              "      \n",
              "  <style>\n",
              "    .colab-df-container {\n",
              "      display:flex;\n",
              "      flex-wrap:wrap;\n",
              "      gap: 12px;\n",
              "    }\n",
              "\n",
              "    .colab-df-convert {\n",
              "      background-color: #E8F0FE;\n",
              "      border: none;\n",
              "      border-radius: 50%;\n",
              "      cursor: pointer;\n",
              "      display: none;\n",
              "      fill: #1967D2;\n",
              "      height: 32px;\n",
              "      padding: 0 0 0 0;\n",
              "      width: 32px;\n",
              "    }\n",
              "\n",
              "    .colab-df-convert:hover {\n",
              "      background-color: #E2EBFA;\n",
              "      box-shadow: 0px 1px 2px rgba(60, 64, 67, 0.3), 0px 1px 3px 1px rgba(60, 64, 67, 0.15);\n",
              "      fill: #174EA6;\n",
              "    }\n",
              "\n",
              "    [theme=dark] .colab-df-convert {\n",
              "      background-color: #3B4455;\n",
              "      fill: #D2E3FC;\n",
              "    }\n",
              "\n",
              "    [theme=dark] .colab-df-convert:hover {\n",
              "      background-color: #434B5C;\n",
              "      box-shadow: 0px 1px 3px 1px rgba(0, 0, 0, 0.15);\n",
              "      filter: drop-shadow(0px 1px 2px rgba(0, 0, 0, 0.3));\n",
              "      fill: #FFFFFF;\n",
              "    }\n",
              "  </style>\n",
              "\n",
              "      <script>\n",
              "        const buttonEl =\n",
              "          document.querySelector('#df-5b526fe9-b6e7-4251-b812-301488a5a15a button.colab-df-convert');\n",
              "        buttonEl.style.display =\n",
              "          google.colab.kernel.accessAllowed ? 'block' : 'none';\n",
              "\n",
              "        async function convertToInteractive(key) {\n",
              "          const element = document.querySelector('#df-5b526fe9-b6e7-4251-b812-301488a5a15a');\n",
              "          const dataTable =\n",
              "            await google.colab.kernel.invokeFunction('convertToInteractive',\n",
              "                                                     [key], {});\n",
              "          if (!dataTable) return;\n",
              "\n",
              "          const docLinkHtml = 'Like what you see? Visit the ' +\n",
              "            '<a target=\"_blank\" href=https://colab.research.google.com/notebooks/data_table.ipynb>data table notebook</a>'\n",
              "            + ' to learn more about interactive tables.';\n",
              "          element.innerHTML = '';\n",
              "          dataTable['output_type'] = 'display_data';\n",
              "          await google.colab.output.renderOutput(dataTable, element);\n",
              "          const docLink = document.createElement('div');\n",
              "          docLink.innerHTML = docLinkHtml;\n",
              "          element.appendChild(docLink);\n",
              "        }\n",
              "      </script>\n",
              "    </div>\n",
              "  </div>\n",
              "  "
            ]
          },
          "metadata": {},
          "execution_count": 86
        }
      ]
    },
    {
      "cell_type": "code",
      "source": [
        "df2 = pd.DataFrame({'A':1.,\n",
        "                    'B': pd.Timestamp('20220627'),\n",
        "                    'C': pd.Series(1,index = list(range(4)),dtype='float32'),\n",
        "                    'D': np.array([3] * 4, dtype = 'int32'),\n",
        "                    'E': pd.Categorical([\"test\",\"train\",\"test\",\"train\"]),\n",
        "                    'F': 'foo'})\n",
        "print(df2)\n",
        "print(df2.dtypes)"
      ],
      "metadata": {
        "colab": {
          "base_uri": "https://localhost:8080/"
        },
        "id": "RM35_aqaPRxT",
        "outputId": "b47349a6-9d69-4526-86e3-fca46175ff55"
      },
      "execution_count": 89,
      "outputs": [
        {
          "output_type": "stream",
          "name": "stdout",
          "text": [
            "     A          B    C  D      E    F\n",
            "0  1.0 2022-06-27  1.0  3   test  foo\n",
            "1  1.0 2022-06-27  1.0  3  train  foo\n",
            "2  1.0 2022-06-27  1.0  3   test  foo\n",
            "3  1.0 2022-06-27  1.0  3  train  foo\n",
            "A           float64\n",
            "B    datetime64[ns]\n",
            "C           float32\n",
            "D             int32\n",
            "E          category\n",
            "F            object\n",
            "dtype: object\n"
          ]
        }
      ]
    },
    {
      "cell_type": "code",
      "source": [
        "df.tail(3)"
      ],
      "metadata": {
        "colab": {
          "base_uri": "https://localhost:8080/",
          "height": 143
        },
        "id": "al3ZE9l2SAN7",
        "outputId": "07cb7cdb-5a14-4a46-bf42-17966371ed8c"
      },
      "execution_count": 91,
      "outputs": [
        {
          "output_type": "execute_result",
          "data": {
            "text/plain": [
              "                   A         B         C         D\n",
              "2022-06-30  0.451639 -0.763349  0.825701  0.030078\n",
              "2022-07-01 -0.299505 -0.354058 -0.696545  0.062945\n",
              "2022-07-02 -0.607932 -0.133409  0.707404  1.150122"
            ],
            "text/html": [
              "\n",
              "  <div id=\"df-591ec042-efb3-4358-95b3-45eef8a50055\">\n",
              "    <div class=\"colab-df-container\">\n",
              "      <div>\n",
              "<style scoped>\n",
              "    .dataframe tbody tr th:only-of-type {\n",
              "        vertical-align: middle;\n",
              "    }\n",
              "\n",
              "    .dataframe tbody tr th {\n",
              "        vertical-align: top;\n",
              "    }\n",
              "\n",
              "    .dataframe thead th {\n",
              "        text-align: right;\n",
              "    }\n",
              "</style>\n",
              "<table border=\"1\" class=\"dataframe\">\n",
              "  <thead>\n",
              "    <tr style=\"text-align: right;\">\n",
              "      <th></th>\n",
              "      <th>A</th>\n",
              "      <th>B</th>\n",
              "      <th>C</th>\n",
              "      <th>D</th>\n",
              "    </tr>\n",
              "  </thead>\n",
              "  <tbody>\n",
              "    <tr>\n",
              "      <th>2022-06-30</th>\n",
              "      <td>0.451639</td>\n",
              "      <td>-0.763349</td>\n",
              "      <td>0.825701</td>\n",
              "      <td>0.030078</td>\n",
              "    </tr>\n",
              "    <tr>\n",
              "      <th>2022-07-01</th>\n",
              "      <td>-0.299505</td>\n",
              "      <td>-0.354058</td>\n",
              "      <td>-0.696545</td>\n",
              "      <td>0.062945</td>\n",
              "    </tr>\n",
              "    <tr>\n",
              "      <th>2022-07-02</th>\n",
              "      <td>-0.607932</td>\n",
              "      <td>-0.133409</td>\n",
              "      <td>0.707404</td>\n",
              "      <td>1.150122</td>\n",
              "    </tr>\n",
              "  </tbody>\n",
              "</table>\n",
              "</div>\n",
              "      <button class=\"colab-df-convert\" onclick=\"convertToInteractive('df-591ec042-efb3-4358-95b3-45eef8a50055')\"\n",
              "              title=\"Convert this dataframe to an interactive table.\"\n",
              "              style=\"display:none;\">\n",
              "        \n",
              "  <svg xmlns=\"http://www.w3.org/2000/svg\" height=\"24px\"viewBox=\"0 0 24 24\"\n",
              "       width=\"24px\">\n",
              "    <path d=\"M0 0h24v24H0V0z\" fill=\"none\"/>\n",
              "    <path d=\"M18.56 5.44l.94 2.06.94-2.06 2.06-.94-2.06-.94-.94-2.06-.94 2.06-2.06.94zm-11 1L8.5 8.5l.94-2.06 2.06-.94-2.06-.94L8.5 2.5l-.94 2.06-2.06.94zm10 10l.94 2.06.94-2.06 2.06-.94-2.06-.94-.94-2.06-.94 2.06-2.06.94z\"/><path d=\"M17.41 7.96l-1.37-1.37c-.4-.4-.92-.59-1.43-.59-.52 0-1.04.2-1.43.59L10.3 9.45l-7.72 7.72c-.78.78-.78 2.05 0 2.83L4 21.41c.39.39.9.59 1.41.59.51 0 1.02-.2 1.41-.59l7.78-7.78 2.81-2.81c.8-.78.8-2.07 0-2.86zM5.41 20L4 18.59l7.72-7.72 1.47 1.35L5.41 20z\"/>\n",
              "  </svg>\n",
              "      </button>\n",
              "      \n",
              "  <style>\n",
              "    .colab-df-container {\n",
              "      display:flex;\n",
              "      flex-wrap:wrap;\n",
              "      gap: 12px;\n",
              "    }\n",
              "\n",
              "    .colab-df-convert {\n",
              "      background-color: #E8F0FE;\n",
              "      border: none;\n",
              "      border-radius: 50%;\n",
              "      cursor: pointer;\n",
              "      display: none;\n",
              "      fill: #1967D2;\n",
              "      height: 32px;\n",
              "      padding: 0 0 0 0;\n",
              "      width: 32px;\n",
              "    }\n",
              "\n",
              "    .colab-df-convert:hover {\n",
              "      background-color: #E2EBFA;\n",
              "      box-shadow: 0px 1px 2px rgba(60, 64, 67, 0.3), 0px 1px 3px 1px rgba(60, 64, 67, 0.15);\n",
              "      fill: #174EA6;\n",
              "    }\n",
              "\n",
              "    [theme=dark] .colab-df-convert {\n",
              "      background-color: #3B4455;\n",
              "      fill: #D2E3FC;\n",
              "    }\n",
              "\n",
              "    [theme=dark] .colab-df-convert:hover {\n",
              "      background-color: #434B5C;\n",
              "      box-shadow: 0px 1px 3px 1px rgba(0, 0, 0, 0.15);\n",
              "      filter: drop-shadow(0px 1px 2px rgba(0, 0, 0, 0.3));\n",
              "      fill: #FFFFFF;\n",
              "    }\n",
              "  </style>\n",
              "\n",
              "      <script>\n",
              "        const buttonEl =\n",
              "          document.querySelector('#df-591ec042-efb3-4358-95b3-45eef8a50055 button.colab-df-convert');\n",
              "        buttonEl.style.display =\n",
              "          google.colab.kernel.accessAllowed ? 'block' : 'none';\n",
              "\n",
              "        async function convertToInteractive(key) {\n",
              "          const element = document.querySelector('#df-591ec042-efb3-4358-95b3-45eef8a50055');\n",
              "          const dataTable =\n",
              "            await google.colab.kernel.invokeFunction('convertToInteractive',\n",
              "                                                     [key], {});\n",
              "          if (!dataTable) return;\n",
              "\n",
              "          const docLinkHtml = 'Like what you see? Visit the ' +\n",
              "            '<a target=\"_blank\" href=https://colab.research.google.com/notebooks/data_table.ipynb>data table notebook</a>'\n",
              "            + ' to learn more about interactive tables.';\n",
              "          element.innerHTML = '';\n",
              "          dataTable['output_type'] = 'display_data';\n",
              "          await google.colab.output.renderOutput(dataTable, element);\n",
              "          const docLink = document.createElement('div');\n",
              "          docLink.innerHTML = docLinkHtml;\n",
              "          element.appendChild(docLink);\n",
              "        }\n",
              "      </script>\n",
              "    </div>\n",
              "  </div>\n",
              "  "
            ]
          },
          "metadata": {},
          "execution_count": 91
        }
      ]
    },
    {
      "cell_type": "code",
      "source": [
        "df.tail()"
      ],
      "metadata": {
        "colab": {
          "base_uri": "https://localhost:8080/",
          "height": 206
        },
        "id": "cabtay91SCpa",
        "outputId": "e3688799-313b-4dff-837f-f89cc1d14539"
      },
      "execution_count": 93,
      "outputs": [
        {
          "output_type": "execute_result",
          "data": {
            "text/plain": [
              "                   A         B         C         D\n",
              "2022-06-28 -0.540548  0.040966  0.018852  2.159429\n",
              "2022-06-29  0.124971 -0.000083  0.941922  0.743876\n",
              "2022-06-30  0.451639 -0.763349  0.825701  0.030078\n",
              "2022-07-01 -0.299505 -0.354058 -0.696545  0.062945\n",
              "2022-07-02 -0.607932 -0.133409  0.707404  1.150122"
            ],
            "text/html": [
              "\n",
              "  <div id=\"df-cc8cacd2-9f16-4f17-a329-22f032213765\">\n",
              "    <div class=\"colab-df-container\">\n",
              "      <div>\n",
              "<style scoped>\n",
              "    .dataframe tbody tr th:only-of-type {\n",
              "        vertical-align: middle;\n",
              "    }\n",
              "\n",
              "    .dataframe tbody tr th {\n",
              "        vertical-align: top;\n",
              "    }\n",
              "\n",
              "    .dataframe thead th {\n",
              "        text-align: right;\n",
              "    }\n",
              "</style>\n",
              "<table border=\"1\" class=\"dataframe\">\n",
              "  <thead>\n",
              "    <tr style=\"text-align: right;\">\n",
              "      <th></th>\n",
              "      <th>A</th>\n",
              "      <th>B</th>\n",
              "      <th>C</th>\n",
              "      <th>D</th>\n",
              "    </tr>\n",
              "  </thead>\n",
              "  <tbody>\n",
              "    <tr>\n",
              "      <th>2022-06-28</th>\n",
              "      <td>-0.540548</td>\n",
              "      <td>0.040966</td>\n",
              "      <td>0.018852</td>\n",
              "      <td>2.159429</td>\n",
              "    </tr>\n",
              "    <tr>\n",
              "      <th>2022-06-29</th>\n",
              "      <td>0.124971</td>\n",
              "      <td>-0.000083</td>\n",
              "      <td>0.941922</td>\n",
              "      <td>0.743876</td>\n",
              "    </tr>\n",
              "    <tr>\n",
              "      <th>2022-06-30</th>\n",
              "      <td>0.451639</td>\n",
              "      <td>-0.763349</td>\n",
              "      <td>0.825701</td>\n",
              "      <td>0.030078</td>\n",
              "    </tr>\n",
              "    <tr>\n",
              "      <th>2022-07-01</th>\n",
              "      <td>-0.299505</td>\n",
              "      <td>-0.354058</td>\n",
              "      <td>-0.696545</td>\n",
              "      <td>0.062945</td>\n",
              "    </tr>\n",
              "    <tr>\n",
              "      <th>2022-07-02</th>\n",
              "      <td>-0.607932</td>\n",
              "      <td>-0.133409</td>\n",
              "      <td>0.707404</td>\n",
              "      <td>1.150122</td>\n",
              "    </tr>\n",
              "  </tbody>\n",
              "</table>\n",
              "</div>\n",
              "      <button class=\"colab-df-convert\" onclick=\"convertToInteractive('df-cc8cacd2-9f16-4f17-a329-22f032213765')\"\n",
              "              title=\"Convert this dataframe to an interactive table.\"\n",
              "              style=\"display:none;\">\n",
              "        \n",
              "  <svg xmlns=\"http://www.w3.org/2000/svg\" height=\"24px\"viewBox=\"0 0 24 24\"\n",
              "       width=\"24px\">\n",
              "    <path d=\"M0 0h24v24H0V0z\" fill=\"none\"/>\n",
              "    <path d=\"M18.56 5.44l.94 2.06.94-2.06 2.06-.94-2.06-.94-.94-2.06-.94 2.06-2.06.94zm-11 1L8.5 8.5l.94-2.06 2.06-.94-2.06-.94L8.5 2.5l-.94 2.06-2.06.94zm10 10l.94 2.06.94-2.06 2.06-.94-2.06-.94-.94-2.06-.94 2.06-2.06.94z\"/><path d=\"M17.41 7.96l-1.37-1.37c-.4-.4-.92-.59-1.43-.59-.52 0-1.04.2-1.43.59L10.3 9.45l-7.72 7.72c-.78.78-.78 2.05 0 2.83L4 21.41c.39.39.9.59 1.41.59.51 0 1.02-.2 1.41-.59l7.78-7.78 2.81-2.81c.8-.78.8-2.07 0-2.86zM5.41 20L4 18.59l7.72-7.72 1.47 1.35L5.41 20z\"/>\n",
              "  </svg>\n",
              "      </button>\n",
              "      \n",
              "  <style>\n",
              "    .colab-df-container {\n",
              "      display:flex;\n",
              "      flex-wrap:wrap;\n",
              "      gap: 12px;\n",
              "    }\n",
              "\n",
              "    .colab-df-convert {\n",
              "      background-color: #E8F0FE;\n",
              "      border: none;\n",
              "      border-radius: 50%;\n",
              "      cursor: pointer;\n",
              "      display: none;\n",
              "      fill: #1967D2;\n",
              "      height: 32px;\n",
              "      padding: 0 0 0 0;\n",
              "      width: 32px;\n",
              "    }\n",
              "\n",
              "    .colab-df-convert:hover {\n",
              "      background-color: #E2EBFA;\n",
              "      box-shadow: 0px 1px 2px rgba(60, 64, 67, 0.3), 0px 1px 3px 1px rgba(60, 64, 67, 0.15);\n",
              "      fill: #174EA6;\n",
              "    }\n",
              "\n",
              "    [theme=dark] .colab-df-convert {\n",
              "      background-color: #3B4455;\n",
              "      fill: #D2E3FC;\n",
              "    }\n",
              "\n",
              "    [theme=dark] .colab-df-convert:hover {\n",
              "      background-color: #434B5C;\n",
              "      box-shadow: 0px 1px 3px 1px rgba(0, 0, 0, 0.15);\n",
              "      filter: drop-shadow(0px 1px 2px rgba(0, 0, 0, 0.3));\n",
              "      fill: #FFFFFF;\n",
              "    }\n",
              "  </style>\n",
              "\n",
              "      <script>\n",
              "        const buttonEl =\n",
              "          document.querySelector('#df-cc8cacd2-9f16-4f17-a329-22f032213765 button.colab-df-convert');\n",
              "        buttonEl.style.display =\n",
              "          google.colab.kernel.accessAllowed ? 'block' : 'none';\n",
              "\n",
              "        async function convertToInteractive(key) {\n",
              "          const element = document.querySelector('#df-cc8cacd2-9f16-4f17-a329-22f032213765');\n",
              "          const dataTable =\n",
              "            await google.colab.kernel.invokeFunction('convertToInteractive',\n",
              "                                                     [key], {});\n",
              "          if (!dataTable) return;\n",
              "\n",
              "          const docLinkHtml = 'Like what you see? Visit the ' +\n",
              "            '<a target=\"_blank\" href=https://colab.research.google.com/notebooks/data_table.ipynb>data table notebook</a>'\n",
              "            + ' to learn more about interactive tables.';\n",
              "          element.innerHTML = '';\n",
              "          dataTable['output_type'] = 'display_data';\n",
              "          await google.colab.output.renderOutput(dataTable, element);\n",
              "          const docLink = document.createElement('div');\n",
              "          docLink.innerHTML = docLinkHtml;\n",
              "          element.appendChild(docLink);\n",
              "        }\n",
              "      </script>\n",
              "    </div>\n",
              "  </div>\n",
              "  "
            ]
          },
          "metadata": {},
          "execution_count": 93
        }
      ]
    },
    {
      "cell_type": "code",
      "source": [
        "df.head()"
      ],
      "metadata": {
        "colab": {
          "base_uri": "https://localhost:8080/",
          "height": 206
        },
        "id": "gQbMrlkXSEs6",
        "outputId": "697a6bf6-2082-4ed9-f104-1dbe2c661435"
      },
      "execution_count": 95,
      "outputs": [
        {
          "output_type": "execute_result",
          "data": {
            "text/plain": [
              "                   A         B         C         D\n",
              "2022-06-27 -0.187705  0.396903 -1.553965 -0.920126\n",
              "2022-06-28 -0.540548  0.040966  0.018852  2.159429\n",
              "2022-06-29  0.124971 -0.000083  0.941922  0.743876\n",
              "2022-06-30  0.451639 -0.763349  0.825701  0.030078\n",
              "2022-07-01 -0.299505 -0.354058 -0.696545  0.062945"
            ],
            "text/html": [
              "\n",
              "  <div id=\"df-c4a00f69-5d4d-4b2b-b265-6908d0c08237\">\n",
              "    <div class=\"colab-df-container\">\n",
              "      <div>\n",
              "<style scoped>\n",
              "    .dataframe tbody tr th:only-of-type {\n",
              "        vertical-align: middle;\n",
              "    }\n",
              "\n",
              "    .dataframe tbody tr th {\n",
              "        vertical-align: top;\n",
              "    }\n",
              "\n",
              "    .dataframe thead th {\n",
              "        text-align: right;\n",
              "    }\n",
              "</style>\n",
              "<table border=\"1\" class=\"dataframe\">\n",
              "  <thead>\n",
              "    <tr style=\"text-align: right;\">\n",
              "      <th></th>\n",
              "      <th>A</th>\n",
              "      <th>B</th>\n",
              "      <th>C</th>\n",
              "      <th>D</th>\n",
              "    </tr>\n",
              "  </thead>\n",
              "  <tbody>\n",
              "    <tr>\n",
              "      <th>2022-06-27</th>\n",
              "      <td>-0.187705</td>\n",
              "      <td>0.396903</td>\n",
              "      <td>-1.553965</td>\n",
              "      <td>-0.920126</td>\n",
              "    </tr>\n",
              "    <tr>\n",
              "      <th>2022-06-28</th>\n",
              "      <td>-0.540548</td>\n",
              "      <td>0.040966</td>\n",
              "      <td>0.018852</td>\n",
              "      <td>2.159429</td>\n",
              "    </tr>\n",
              "    <tr>\n",
              "      <th>2022-06-29</th>\n",
              "      <td>0.124971</td>\n",
              "      <td>-0.000083</td>\n",
              "      <td>0.941922</td>\n",
              "      <td>0.743876</td>\n",
              "    </tr>\n",
              "    <tr>\n",
              "      <th>2022-06-30</th>\n",
              "      <td>0.451639</td>\n",
              "      <td>-0.763349</td>\n",
              "      <td>0.825701</td>\n",
              "      <td>0.030078</td>\n",
              "    </tr>\n",
              "    <tr>\n",
              "      <th>2022-07-01</th>\n",
              "      <td>-0.299505</td>\n",
              "      <td>-0.354058</td>\n",
              "      <td>-0.696545</td>\n",
              "      <td>0.062945</td>\n",
              "    </tr>\n",
              "  </tbody>\n",
              "</table>\n",
              "</div>\n",
              "      <button class=\"colab-df-convert\" onclick=\"convertToInteractive('df-c4a00f69-5d4d-4b2b-b265-6908d0c08237')\"\n",
              "              title=\"Convert this dataframe to an interactive table.\"\n",
              "              style=\"display:none;\">\n",
              "        \n",
              "  <svg xmlns=\"http://www.w3.org/2000/svg\" height=\"24px\"viewBox=\"0 0 24 24\"\n",
              "       width=\"24px\">\n",
              "    <path d=\"M0 0h24v24H0V0z\" fill=\"none\"/>\n",
              "    <path d=\"M18.56 5.44l.94 2.06.94-2.06 2.06-.94-2.06-.94-.94-2.06-.94 2.06-2.06.94zm-11 1L8.5 8.5l.94-2.06 2.06-.94-2.06-.94L8.5 2.5l-.94 2.06-2.06.94zm10 10l.94 2.06.94-2.06 2.06-.94-2.06-.94-.94-2.06-.94 2.06-2.06.94z\"/><path d=\"M17.41 7.96l-1.37-1.37c-.4-.4-.92-.59-1.43-.59-.52 0-1.04.2-1.43.59L10.3 9.45l-7.72 7.72c-.78.78-.78 2.05 0 2.83L4 21.41c.39.39.9.59 1.41.59.51 0 1.02-.2 1.41-.59l7.78-7.78 2.81-2.81c.8-.78.8-2.07 0-2.86zM5.41 20L4 18.59l7.72-7.72 1.47 1.35L5.41 20z\"/>\n",
              "  </svg>\n",
              "      </button>\n",
              "      \n",
              "  <style>\n",
              "    .colab-df-container {\n",
              "      display:flex;\n",
              "      flex-wrap:wrap;\n",
              "      gap: 12px;\n",
              "    }\n",
              "\n",
              "    .colab-df-convert {\n",
              "      background-color: #E8F0FE;\n",
              "      border: none;\n",
              "      border-radius: 50%;\n",
              "      cursor: pointer;\n",
              "      display: none;\n",
              "      fill: #1967D2;\n",
              "      height: 32px;\n",
              "      padding: 0 0 0 0;\n",
              "      width: 32px;\n",
              "    }\n",
              "\n",
              "    .colab-df-convert:hover {\n",
              "      background-color: #E2EBFA;\n",
              "      box-shadow: 0px 1px 2px rgba(60, 64, 67, 0.3), 0px 1px 3px 1px rgba(60, 64, 67, 0.15);\n",
              "      fill: #174EA6;\n",
              "    }\n",
              "\n",
              "    [theme=dark] .colab-df-convert {\n",
              "      background-color: #3B4455;\n",
              "      fill: #D2E3FC;\n",
              "    }\n",
              "\n",
              "    [theme=dark] .colab-df-convert:hover {\n",
              "      background-color: #434B5C;\n",
              "      box-shadow: 0px 1px 3px 1px rgba(0, 0, 0, 0.15);\n",
              "      filter: drop-shadow(0px 1px 2px rgba(0, 0, 0, 0.3));\n",
              "      fill: #FFFFFF;\n",
              "    }\n",
              "  </style>\n",
              "\n",
              "      <script>\n",
              "        const buttonEl =\n",
              "          document.querySelector('#df-c4a00f69-5d4d-4b2b-b265-6908d0c08237 button.colab-df-convert');\n",
              "        buttonEl.style.display =\n",
              "          google.colab.kernel.accessAllowed ? 'block' : 'none';\n",
              "\n",
              "        async function convertToInteractive(key) {\n",
              "          const element = document.querySelector('#df-c4a00f69-5d4d-4b2b-b265-6908d0c08237');\n",
              "          const dataTable =\n",
              "            await google.colab.kernel.invokeFunction('convertToInteractive',\n",
              "                                                     [key], {});\n",
              "          if (!dataTable) return;\n",
              "\n",
              "          const docLinkHtml = 'Like what you see? Visit the ' +\n",
              "            '<a target=\"_blank\" href=https://colab.research.google.com/notebooks/data_table.ipynb>data table notebook</a>'\n",
              "            + ' to learn more about interactive tables.';\n",
              "          element.innerHTML = '';\n",
              "          dataTable['output_type'] = 'display_data';\n",
              "          await google.colab.output.renderOutput(dataTable, element);\n",
              "          const docLink = document.createElement('div');\n",
              "          docLink.innerHTML = docLinkHtml;\n",
              "          element.appendChild(docLink);\n",
              "        }\n",
              "      </script>\n",
              "    </div>\n",
              "  </div>\n",
              "  "
            ]
          },
          "metadata": {},
          "execution_count": 95
        }
      ]
    }
  ]
}