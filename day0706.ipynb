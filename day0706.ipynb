{
  "nbformat": 4,
  "nbformat_minor": 0,
  "metadata": {
    "colab": {
      "name": "day0706.ipynb",
      "provenance": [],
      "toc_visible": true,
      "authorship_tag": "ABX9TyO1n4VFMzCqXQbKd7nj48K4",
      "include_colab_link": true
    },
    "kernelspec": {
      "name": "python3",
      "display_name": "Python 3"
    },
    "language_info": {
      "name": "python"
    }
  },
  "cells": [
    {
      "cell_type": "markdown",
      "metadata": {
        "id": "view-in-github",
        "colab_type": "text"
      },
      "source": [
        "<a href=\"https://colab.research.google.com/github/seungukkim/R_lecture/blob/main/day0706.ipynb\" target=\"_parent\"><img src=\"https://colab.research.google.com/assets/colab-badge.svg\" alt=\"Open In Colab\"/></a>"
      ]
    },
    {
      "cell_type": "markdown",
      "source": [
        "## 데이터 분석 (머신러닝, 딥러닝) 프로세스\n",
        "- 데이터 불러오기\n",
        "  + CSV, 오라클, MySQL, PostgreSQL, 클라우드 DB 연동\n",
        "- 탐색적 자료 분석\n",
        "  + 데이터 전처리 및 가공\n",
        "- 잠정적인 컬럼의 개수를 지정해야 함.\n",
        "- 머신러닝 모델(= 통계 모델링,t.test, 분산분석, 교차분석)\n",
        "- 머신러닝 모델의 경우 배포(X)\n",
        "  + JSP 웹 개발 시 배우게 됨\n",
        "- 통계 모델링 경우, p-value 값 기준으로, 귀무가설 및 대립가설 검정\n",
        "- (공통) 결과 보고서를 작성해야함\n",
        "  + PPT 만들어야 함. "
      ],
      "metadata": {
        "id": "KKxzg9ug2xX5"
      }
    },
    {
      "cell_type": "markdown",
      "source": [
        "## 그래프 복습\n",
        "- 수치형 데이터 시각화\n",
        "- 번주형 데이터 시각화\n",
        "- 데이터 관계 시각화 \n",
        "- matplotlib 라이브러리 방법\n",
        "- seaborn 라이브러리 방법\n",
        "  + 복잡한 그래프 그려야지=> matplotlib\n",
        "  + 1줄 그래프 -> seaborn"
      ],
      "metadata": {
        "id": "bkMOriQY6TOC"
      }
    },
    {
      "cell_type": "markdown",
      "source": [
        "### 수치형 데이터 시각화 "
      ],
      "metadata": {
        "id": "NuuXaBGZ6aXV"
      }
    },
    {
      "cell_type": "code",
      "execution_count": 120,
      "metadata": {
        "colab": {
          "base_uri": "https://localhost:8080/",
          "height": 270
        },
        "id": "G60Zc2tm2mje",
        "outputId": "f3855337-359a-4c6c-a61c-9bdc489a7b67"
      },
      "outputs": [
        {
          "output_type": "execute_result",
          "data": {
            "text/plain": [
              "   survived  pclass     sex   age  sibsp  parch     fare embarked  class  \\\n",
              "0         0       3    male  22.0      1      0   7.2500        S  Third   \n",
              "1         1       1  female  38.0      1      0  71.2833        C  First   \n",
              "2         1       3  female  26.0      0      0   7.9250        S  Third   \n",
              "3         1       1  female  35.0      1      0  53.1000        S  First   \n",
              "4         0       3    male  35.0      0      0   8.0500        S  Third   \n",
              "\n",
              "     who  adult_male deck  embark_town alive  alone  \n",
              "0    man        True  NaN  Southampton    no  False  \n",
              "1  woman       False    C    Cherbourg   yes  False  \n",
              "2  woman       False  NaN  Southampton   yes   True  \n",
              "3  woman       False    C  Southampton   yes  False  \n",
              "4    man        True  NaN  Southampton    no   True  "
            ],
            "text/html": [
              "\n",
              "  <div id=\"df-6a537552-ed22-48df-895f-bbff39f7fece\">\n",
              "    <div class=\"colab-df-container\">\n",
              "      <div>\n",
              "<style scoped>\n",
              "    .dataframe tbody tr th:only-of-type {\n",
              "        vertical-align: middle;\n",
              "    }\n",
              "\n",
              "    .dataframe tbody tr th {\n",
              "        vertical-align: top;\n",
              "    }\n",
              "\n",
              "    .dataframe thead th {\n",
              "        text-align: right;\n",
              "    }\n",
              "</style>\n",
              "<table border=\"1\" class=\"dataframe\">\n",
              "  <thead>\n",
              "    <tr style=\"text-align: right;\">\n",
              "      <th></th>\n",
              "      <th>survived</th>\n",
              "      <th>pclass</th>\n",
              "      <th>sex</th>\n",
              "      <th>age</th>\n",
              "      <th>sibsp</th>\n",
              "      <th>parch</th>\n",
              "      <th>fare</th>\n",
              "      <th>embarked</th>\n",
              "      <th>class</th>\n",
              "      <th>who</th>\n",
              "      <th>adult_male</th>\n",
              "      <th>deck</th>\n",
              "      <th>embark_town</th>\n",
              "      <th>alive</th>\n",
              "      <th>alone</th>\n",
              "    </tr>\n",
              "  </thead>\n",
              "  <tbody>\n",
              "    <tr>\n",
              "      <th>0</th>\n",
              "      <td>0</td>\n",
              "      <td>3</td>\n",
              "      <td>male</td>\n",
              "      <td>22.0</td>\n",
              "      <td>1</td>\n",
              "      <td>0</td>\n",
              "      <td>7.2500</td>\n",
              "      <td>S</td>\n",
              "      <td>Third</td>\n",
              "      <td>man</td>\n",
              "      <td>True</td>\n",
              "      <td>NaN</td>\n",
              "      <td>Southampton</td>\n",
              "      <td>no</td>\n",
              "      <td>False</td>\n",
              "    </tr>\n",
              "    <tr>\n",
              "      <th>1</th>\n",
              "      <td>1</td>\n",
              "      <td>1</td>\n",
              "      <td>female</td>\n",
              "      <td>38.0</td>\n",
              "      <td>1</td>\n",
              "      <td>0</td>\n",
              "      <td>71.2833</td>\n",
              "      <td>C</td>\n",
              "      <td>First</td>\n",
              "      <td>woman</td>\n",
              "      <td>False</td>\n",
              "      <td>C</td>\n",
              "      <td>Cherbourg</td>\n",
              "      <td>yes</td>\n",
              "      <td>False</td>\n",
              "    </tr>\n",
              "    <tr>\n",
              "      <th>2</th>\n",
              "      <td>1</td>\n",
              "      <td>3</td>\n",
              "      <td>female</td>\n",
              "      <td>26.0</td>\n",
              "      <td>0</td>\n",
              "      <td>0</td>\n",
              "      <td>7.9250</td>\n",
              "      <td>S</td>\n",
              "      <td>Third</td>\n",
              "      <td>woman</td>\n",
              "      <td>False</td>\n",
              "      <td>NaN</td>\n",
              "      <td>Southampton</td>\n",
              "      <td>yes</td>\n",
              "      <td>True</td>\n",
              "    </tr>\n",
              "    <tr>\n",
              "      <th>3</th>\n",
              "      <td>1</td>\n",
              "      <td>1</td>\n",
              "      <td>female</td>\n",
              "      <td>35.0</td>\n",
              "      <td>1</td>\n",
              "      <td>0</td>\n",
              "      <td>53.1000</td>\n",
              "      <td>S</td>\n",
              "      <td>First</td>\n",
              "      <td>woman</td>\n",
              "      <td>False</td>\n",
              "      <td>C</td>\n",
              "      <td>Southampton</td>\n",
              "      <td>yes</td>\n",
              "      <td>False</td>\n",
              "    </tr>\n",
              "    <tr>\n",
              "      <th>4</th>\n",
              "      <td>0</td>\n",
              "      <td>3</td>\n",
              "      <td>male</td>\n",
              "      <td>35.0</td>\n",
              "      <td>0</td>\n",
              "      <td>0</td>\n",
              "      <td>8.0500</td>\n",
              "      <td>S</td>\n",
              "      <td>Third</td>\n",
              "      <td>man</td>\n",
              "      <td>True</td>\n",
              "      <td>NaN</td>\n",
              "      <td>Southampton</td>\n",
              "      <td>no</td>\n",
              "      <td>True</td>\n",
              "    </tr>\n",
              "  </tbody>\n",
              "</table>\n",
              "</div>\n",
              "      <button class=\"colab-df-convert\" onclick=\"convertToInteractive('df-6a537552-ed22-48df-895f-bbff39f7fece')\"\n",
              "              title=\"Convert this dataframe to an interactive table.\"\n",
              "              style=\"display:none;\">\n",
              "        \n",
              "  <svg xmlns=\"http://www.w3.org/2000/svg\" height=\"24px\"viewBox=\"0 0 24 24\"\n",
              "       width=\"24px\">\n",
              "    <path d=\"M0 0h24v24H0V0z\" fill=\"none\"/>\n",
              "    <path d=\"M18.56 5.44l.94 2.06.94-2.06 2.06-.94-2.06-.94-.94-2.06-.94 2.06-2.06.94zm-11 1L8.5 8.5l.94-2.06 2.06-.94-2.06-.94L8.5 2.5l-.94 2.06-2.06.94zm10 10l.94 2.06.94-2.06 2.06-.94-2.06-.94-.94-2.06-.94 2.06-2.06.94z\"/><path d=\"M17.41 7.96l-1.37-1.37c-.4-.4-.92-.59-1.43-.59-.52 0-1.04.2-1.43.59L10.3 9.45l-7.72 7.72c-.78.78-.78 2.05 0 2.83L4 21.41c.39.39.9.59 1.41.59.51 0 1.02-.2 1.41-.59l7.78-7.78 2.81-2.81c.8-.78.8-2.07 0-2.86zM5.41 20L4 18.59l7.72-7.72 1.47 1.35L5.41 20z\"/>\n",
              "  </svg>\n",
              "      </button>\n",
              "      \n",
              "  <style>\n",
              "    .colab-df-container {\n",
              "      display:flex;\n",
              "      flex-wrap:wrap;\n",
              "      gap: 12px;\n",
              "    }\n",
              "\n",
              "    .colab-df-convert {\n",
              "      background-color: #E8F0FE;\n",
              "      border: none;\n",
              "      border-radius: 50%;\n",
              "      cursor: pointer;\n",
              "      display: none;\n",
              "      fill: #1967D2;\n",
              "      height: 32px;\n",
              "      padding: 0 0 0 0;\n",
              "      width: 32px;\n",
              "    }\n",
              "\n",
              "    .colab-df-convert:hover {\n",
              "      background-color: #E2EBFA;\n",
              "      box-shadow: 0px 1px 2px rgba(60, 64, 67, 0.3), 0px 1px 3px 1px rgba(60, 64, 67, 0.15);\n",
              "      fill: #174EA6;\n",
              "    }\n",
              "\n",
              "    [theme=dark] .colab-df-convert {\n",
              "      background-color: #3B4455;\n",
              "      fill: #D2E3FC;\n",
              "    }\n",
              "\n",
              "    [theme=dark] .colab-df-convert:hover {\n",
              "      background-color: #434B5C;\n",
              "      box-shadow: 0px 1px 3px 1px rgba(0, 0, 0, 0.15);\n",
              "      filter: drop-shadow(0px 1px 2px rgba(0, 0, 0, 0.3));\n",
              "      fill: #FFFFFF;\n",
              "    }\n",
              "  </style>\n",
              "\n",
              "      <script>\n",
              "        const buttonEl =\n",
              "          document.querySelector('#df-6a537552-ed22-48df-895f-bbff39f7fece button.colab-df-convert');\n",
              "        buttonEl.style.display =\n",
              "          google.colab.kernel.accessAllowed ? 'block' : 'none';\n",
              "\n",
              "        async function convertToInteractive(key) {\n",
              "          const element = document.querySelector('#df-6a537552-ed22-48df-895f-bbff39f7fece');\n",
              "          const dataTable =\n",
              "            await google.colab.kernel.invokeFunction('convertToInteractive',\n",
              "                                                     [key], {});\n",
              "          if (!dataTable) return;\n",
              "\n",
              "          const docLinkHtml = 'Like what you see? Visit the ' +\n",
              "            '<a target=\"_blank\" href=https://colab.research.google.com/notebooks/data_table.ipynb>data table notebook</a>'\n",
              "            + ' to learn more about interactive tables.';\n",
              "          element.innerHTML = '';\n",
              "          dataTable['output_type'] = 'display_data';\n",
              "          await google.colab.output.renderOutput(dataTable, element);\n",
              "          const docLink = document.createElement('div');\n",
              "          docLink.innerHTML = docLinkHtml;\n",
              "          element.appendChild(docLink);\n",
              "        }\n",
              "      </script>\n",
              "    </div>\n",
              "  </div>\n",
              "  "
            ]
          },
          "metadata": {},
          "execution_count": 120
        }
      ],
      "source": [
        "import seaborn as sns\n",
        "titanic = sns.load_dataset('titanic')\n",
        "titanic.head()"
      ]
    },
    {
      "cell_type": "code",
      "source": [
        "# 히스토그램\n",
        "sns.histplot(data = titanic, x='age',bins=10,hue = 'alive')#bins= 간격"
      ],
      "metadata": {
        "colab": {
          "base_uri": "https://localhost:8080/",
          "height": 297
        },
        "id": "h7B5LlmH8Jrg",
        "outputId": "97c627b3-c2a4-4430-d7b8-3897c4764b18"
      },
      "execution_count": 121,
      "outputs": [
        {
          "output_type": "execute_result",
          "data": {
            "text/plain": [
              "<matplotlib.axes._subplots.AxesSubplot at 0x7fe55f3d7490>"
            ]
          },
          "metadata": {},
          "execution_count": 121
        },
        {
          "output_type": "display_data",
          "data": {
            "text/plain": [
              "<Figure size 432x288 with 1 Axes>"
            ],
            "image/png": "[encoded data removed]"
          },
          "metadata": {
            "needs_background": "light"
          }
        }
      ]
    },
    {
      "cell_type": "code",
      "source": [
        "# 커널밀도추정 함수 그래프\n",
        "# 연속형 데이터 1개만 쓸 때 사용\n",
        "sns.kdeplot(data = titanic, x ='age',hue = 'alive',multiple='stack')"
      ],
      "metadata": {
        "colab": {
          "base_uri": "https://localhost:8080/",
          "height": 297
        },
        "id": "GkSaWd_G8nq_",
        "outputId": "a2d0742a-37fd-4ec6-cfb8-8cba6071dc2a"
      },
      "execution_count": 122,
      "outputs": [
        {
          "output_type": "execute_result",
          "data": {
            "text/plain": [
              "<matplotlib.axes._subplots.AxesSubplot at 0x7fe55652eb90>"
            ]
          },
          "metadata": {},
          "execution_count": 122
        },
        {
          "output_type": "display_data",
          "data": {
            "text/plain": [
              "<Figure size 432x288 with 1 Axes>"
            ],
            "image/png": "[encoded data removed]"
          },
          "metadata": {
            "needs_background": "light"
          }
        }
      ]
    },
    {
      "cell_type": "markdown",
      "source": [
        "## 분포도\n",
        "- 수치형 데이터 한 개 컬럼의 분포를 나타내는 그래프\n",
        "- 정규분포인가?"
      ],
      "metadata": {
        "id": "UEv62mN288qf"
      }
    },
    {
      "cell_type": "code",
      "source": [
        "sns.displot(data = titanic, x='age')"
      ],
      "metadata": {
        "colab": {
          "base_uri": "https://localhost:8080/",
          "height": 387
        },
        "id": "EXXnVoRA9inX",
        "outputId": "26a610d8-9cc5-4821-e955-29943df020bc"
      },
      "execution_count": 74,
      "outputs": [
        {
          "output_type": "execute_result",
          "data": {
            "text/plain": [
              "<seaborn.axisgrid.FacetGrid at 0x7fe561559290>"
            ]
          },
          "metadata": {},
          "execution_count": 74
        },
        {
          "output_type": "display_data",
          "data": {
            "text/plain": [
              "<Figure size 360x360 with 1 Axes>"
            ],
            "image/png": "[encoded data removed]"
          },
          "metadata": {
            "needs_background": "light"
          }
        }
      ]
    },
    {
      "cell_type": "code",
      "source": [
        "sns.displot(titanic, x='age', kde='True')"
      ],
      "metadata": {
        "colab": {
          "base_uri": "https://localhost:8080/",
          "height": 387
        },
        "id": "CIiDSX79-iOK",
        "outputId": "24559813-6965-4a53-cc21-5b90a4ae8073"
      },
      "execution_count": 75,
      "outputs": [
        {
          "output_type": "execute_result",
          "data": {
            "text/plain": [
              "<seaborn.axisgrid.FacetGrid at 0x7fe561417bd0>"
            ]
          },
          "metadata": {},
          "execution_count": 75
        },
        {
          "output_type": "display_data",
          "data": {
            "text/plain": [
              "<Figure size 360x360 with 1 Axes>"
            ],
            "image/png": "[encoded data removed]"
          },
          "metadata": {
            "needs_background": "light"
          }
        }
      ]
    },
    {
      "cell_type": "markdown",
      "source": [
        "## 범주형 데이터 시각화\n",
        "- x축 범주형, y축 수치 데이터\n",
        "- x축 범주형, y축 범주형\n",
        "  + 히트맵"
      ],
      "metadata": {
        "id": "2kuv9K52B0c8"
      }
    },
    {
      "cell_type": "markdown",
      "source": [
        ""
      ],
      "metadata": {
        "id": "EKzuX3O6CFxL"
      }
    },
    {
      "cell_type": "code",
      "source": [
        "# 막대 그래프\n",
        "sns.barplot(x='class', y='fare', data=titanic)"
      ],
      "metadata": {
        "colab": {
          "base_uri": "https://localhost:8080/",
          "height": 297
        },
        "id": "PTuCpN7ZCHG3",
        "outputId": "38237ff7-da27-4f7f-ce62-1e444242c942"
      },
      "execution_count": 76,
      "outputs": [
        {
          "output_type": "execute_result",
          "data": {
            "text/plain": [
              "<matplotlib.axes._subplots.AxesSubplot at 0x7fe5613316d0>"
            ]
          },
          "metadata": {},
          "execution_count": 76
        },
        {
          "output_type": "display_data",
          "data": {
            "text/plain": [
              "<Figure size 432x288 with 1 Axes>"
            ],
            "image/png": "[encoded data removed]"
          },
          "metadata": {
            "needs_background": "light"
          }
        }
      ]
    },
    {
      "cell_type": "code",
      "source": [
        "# 포인트 플롯\n",
        "sns.pointplot(x='class', y='fare', data = titanic)"
      ],
      "metadata": {
        "colab": {
          "base_uri": "https://localhost:8080/",
          "height": 297
        },
        "id": "oo_iyT0cC5ae",
        "outputId": "daacdd9a-6c53-4106-81db-0e420c3a5e2d"
      },
      "execution_count": 123,
      "outputs": [
        {
          "output_type": "execute_result",
          "data": {
            "text/plain": [
              "<matplotlib.axes._subplots.AxesSubplot at 0x7fe5564ac750>"
            ]
          },
          "metadata": {},
          "execution_count": 123
        },
        {
          "output_type": "display_data",
          "data": {
            "text/plain": [
              "<Figure size 432x288 with 1 Axes>"
            ],
            "image/png": "[encoded data removed]"
          },
          "metadata": {
            "needs_background": "light"
          }
        }
      ]
    },
    {
      "cell_type": "markdown",
      "source": [
        "- boxplot\n",
        "- 제 1사분위: 전체 데이터 중 하위 25%\n",
        "- 사분위 범위 수 (IQR) : 제 3 사분위 - 제 1사분위\n",
        "- 최댓값: 제 3사분위 +(1.5 * IQR)"
      ],
      "metadata": {
        "id": "8kpU_FHjD5IR"
      }
    },
    {
      "cell_type": "code",
      "source": [
        "# boxplot\n",
        "sns.boxplot(x='class', y='age', data =titanic)"
      ],
      "metadata": {
        "colab": {
          "base_uri": "https://localhost:8080/",
          "height": 297
        },
        "id": "L9_xB1yaDnjn",
        "outputId": "d2661659-5cf0-46db-a31f-15b8d8591f66"
      },
      "execution_count": 78,
      "outputs": [
        {
          "output_type": "execute_result",
          "data": {
            "text/plain": [
              "<matplotlib.axes._subplots.AxesSubplot at 0x7fe561243e90>"
            ]
          },
          "metadata": {},
          "execution_count": 78
        },
        {
          "output_type": "display_data",
          "data": {
            "text/plain": [
              "<Figure size 432x288 with 1 Axes>"
            ],
            "image/png": "[encoded data removed]"
          },
          "metadata": {
            "needs_background": "light"
          }
        }
      ]
    },
    {
      "cell_type": "code",
      "source": [
        "# 바이올린 플롯\n",
        "sns.violinplot(x='class', y='age', hue='sex',data=titanic, split = True);"
      ],
      "metadata": {
        "colab": {
          "base_uri": "https://localhost:8080/",
          "height": 279
        },
        "id": "wfEOIvFEEXth",
        "outputId": "eb7a28c1-ccc0-43ad-f873-7666ac727d1c"
      },
      "execution_count": 79,
      "outputs": [
        {
          "output_type": "display_data",
          "data": {
            "text/plain": [
              "<Figure size 432x288 with 1 Axes>"
            ],
            "image/png": "[encoded data removed]"
          },
          "metadata": {
            "needs_background": "light"
          }
        }
      ]
    },
    {
      "cell_type": "markdown",
      "source": [
        "## 카운트 플롯\n",
        "- 범주형 데이터의 개수 확인 할 때 사용 "
      ],
      "metadata": {
        "id": "CmDPlm4jEurR"
      }
    },
    {
      "cell_type": "code",
      "source": [
        "sns.countplot(x='class',hue='alive', data = titanic)"
      ],
      "metadata": {
        "colab": {
          "base_uri": "https://localhost:8080/",
          "height": 297
        },
        "id": "XaxBULOdEy3_",
        "outputId": "36970838-6f0c-49a9-8b1d-87c0d403f385"
      },
      "execution_count": 86,
      "outputs": [
        {
          "output_type": "execute_result",
          "data": {
            "text/plain": [
              "<matplotlib.axes._subplots.AxesSubplot at 0x7fe561078790>"
            ]
          },
          "metadata": {},
          "execution_count": 86
        },
        {
          "output_type": "display_data",
          "data": {
            "text/plain": [
              "<Figure size 432x288 with 1 Axes>"
            ],
            "image/png": "[encoded data removed]"
          },
          "metadata": {
            "needs_background": "light"
          }
        }
      ]
    },
    {
      "cell_type": "markdown",
      "source": [
        "## 데이터 관계 시각화\n",
        "- 여러 데이터 사이의 관계도 파악 위한 그래프 "
      ],
      "metadata": {
        "id": "a4ivryWlFLag"
      }
    },
    {
      "cell_type": "code",
      "source": [
        "# 히트맵\n",
        "flights = sns.load_dataset('flights')\n",
        "flights.head()"
      ],
      "metadata": {
        "colab": {
          "base_uri": "https://localhost:8080/",
          "height": 0
        },
        "id": "ca1DG0QnFQIO",
        "outputId": "0563f16f-a6d4-4e08-87ff-c3567aeaca94"
      },
      "execution_count": 80,
      "outputs": [
        {
          "output_type": "execute_result",
          "data": {
            "text/plain": [
              "   year month  passengers\n",
              "0  1949   Jan         112\n",
              "1  1949   Feb         118\n",
              "2  1949   Mar         132\n",
              "3  1949   Apr         129\n",
              "4  1949   May         121"
            ],
            "text/html": [
              "\n",
              "  <div id=\"df-7799d7e2-5544-4e3e-a632-07ef23100543\">\n",
              "    <div class=\"colab-df-container\">\n",
              "      <div>\n",
              "<style scoped>\n",
              "    .dataframe tbody tr th:only-of-type {\n",
              "        vertical-align: middle;\n",
              "    }\n",
              "\n",
              "    .dataframe tbody tr th {\n",
              "        vertical-align: top;\n",
              "    }\n",
              "\n",
              "    .dataframe thead th {\n",
              "        text-align: right;\n",
              "    }\n",
              "</style>\n",
              "<table border=\"1\" class=\"dataframe\">\n",
              "  <thead>\n",
              "    <tr style=\"text-align: right;\">\n",
              "      <th></th>\n",
              "      <th>year</th>\n",
              "      <th>month</th>\n",
              "      <th>passengers</th>\n",
              "    </tr>\n",
              "  </thead>\n",
              "  <tbody>\n",
              "    <tr>\n",
              "      <th>0</th>\n",
              "      <td>1949</td>\n",
              "      <td>Jan</td>\n",
              "      <td>112</td>\n",
              "    </tr>\n",
              "    <tr>\n",
              "      <th>1</th>\n",
              "      <td>1949</td>\n",
              "      <td>Feb</td>\n",
              "      <td>118</td>\n",
              "    </tr>\n",
              "    <tr>\n",
              "      <th>2</th>\n",
              "      <td>1949</td>\n",
              "      <td>Mar</td>\n",
              "      <td>132</td>\n",
              "    </tr>\n",
              "    <tr>\n",
              "      <th>3</th>\n",
              "      <td>1949</td>\n",
              "      <td>Apr</td>\n",
              "      <td>129</td>\n",
              "    </tr>\n",
              "    <tr>\n",
              "      <th>4</th>\n",
              "      <td>1949</td>\n",
              "      <td>May</td>\n",
              "      <td>121</td>\n",
              "    </tr>\n",
              "  </tbody>\n",
              "</table>\n",
              "</div>\n",
              "      <button class=\"colab-df-convert\" onclick=\"convertToInteractive('df-7799d7e2-5544-4e3e-a632-07ef23100543')\"\n",
              "              title=\"Convert this dataframe to an interactive table.\"\n",
              "              style=\"display:none;\">\n",
              "        \n",
              "  <svg xmlns=\"http://www.w3.org/2000/svg\" height=\"24px\"viewBox=\"0 0 24 24\"\n",
              "       width=\"24px\">\n",
              "    <path d=\"M0 0h24v24H0V0z\" fill=\"none\"/>\n",
              "    <path d=\"M18.56 5.44l.94 2.06.94-2.06 2.06-.94-2.06-.94-.94-2.06-.94 2.06-2.06.94zm-11 1L8.5 8.5l.94-2.06 2.06-.94-2.06-.94L8.5 2.5l-.94 2.06-2.06.94zm10 10l.94 2.06.94-2.06 2.06-.94-2.06-.94-.94-2.06-.94 2.06-2.06.94z\"/><path d=\"M17.41 7.96l-1.37-1.37c-.4-.4-.92-.59-1.43-.59-.52 0-1.04.2-1.43.59L10.3 9.45l-7.72 7.72c-.78.78-.78 2.05 0 2.83L4 21.41c.39.39.9.59 1.41.59.51 0 1.02-.2 1.41-.59l7.78-7.78 2.81-2.81c.8-.78.8-2.07 0-2.86zM5.41 20L4 18.59l7.72-7.72 1.47 1.35L5.41 20z\"/>\n",
              "  </svg>\n",
              "      </button>\n",
              "      \n",
              "  <style>\n",
              "    .colab-df-container {\n",
              "      display:flex;\n",
              "      flex-wrap:wrap;\n",
              "      gap: 12px;\n",
              "    }\n",
              "\n",
              "    .colab-df-convert {\n",
              "      background-color: #E8F0FE;\n",
              "      border: none;\n",
              "      border-radius: 50%;\n",
              "      cursor: pointer;\n",
              "      display: none;\n",
              "      fill: #1967D2;\n",
              "      height: 32px;\n",
              "      padding: 0 0 0 0;\n",
              "      width: 32px;\n",
              "    }\n",
              "\n",
              "    .colab-df-convert:hover {\n",
              "      background-color: #E2EBFA;\n",
              "      box-shadow: 0px 1px 2px rgba(60, 64, 67, 0.3), 0px 1px 3px 1px rgba(60, 64, 67, 0.15);\n",
              "      fill: #174EA6;\n",
              "    }\n",
              "\n",
              "    [theme=dark] .colab-df-convert {\n",
              "      background-color: #3B4455;\n",
              "      fill: #D2E3FC;\n",
              "    }\n",
              "\n",
              "    [theme=dark] .colab-df-convert:hover {\n",
              "      background-color: #434B5C;\n",
              "      box-shadow: 0px 1px 3px 1px rgba(0, 0, 0, 0.15);\n",
              "      filter: drop-shadow(0px 1px 2px rgba(0, 0, 0, 0.3));\n",
              "      fill: #FFFFFF;\n",
              "    }\n",
              "  </style>\n",
              "\n",
              "      <script>\n",
              "        const buttonEl =\n",
              "          document.querySelector('#df-7799d7e2-5544-4e3e-a632-07ef23100543 button.colab-df-convert');\n",
              "        buttonEl.style.display =\n",
              "          google.colab.kernel.accessAllowed ? 'block' : 'none';\n",
              "\n",
              "        async function convertToInteractive(key) {\n",
              "          const element = document.querySelector('#df-7799d7e2-5544-4e3e-a632-07ef23100543');\n",
              "          const dataTable =\n",
              "            await google.colab.kernel.invokeFunction('convertToInteractive',\n",
              "                                                     [key], {});\n",
              "          if (!dataTable) return;\n",
              "\n",
              "          const docLinkHtml = 'Like what you see? Visit the ' +\n",
              "            '<a target=\"_blank\" href=https://colab.research.google.com/notebooks/data_table.ipynb>data table notebook</a>'\n",
              "            + ' to learn more about interactive tables.';\n",
              "          element.innerHTML = '';\n",
              "          dataTable['output_type'] = 'display_data';\n",
              "          await google.colab.output.renderOutput(dataTable, element);\n",
              "          const docLink = document.createElement('div');\n",
              "          docLink.innerHTML = docLinkHtml;\n",
              "          element.appendChild(docLink);\n",
              "        }\n",
              "      </script>\n",
              "    </div>\n",
              "  </div>\n",
              "  "
            ]
          },
          "metadata": {},
          "execution_count": 80
        }
      ]
    },
    {
      "cell_type": "code",
      "source": [
        "flights['year'].value_counts()"
      ],
      "metadata": {
        "colab": {
          "base_uri": "https://localhost:8080/"
        },
        "id": "5mMmEemeFhL3",
        "outputId": "746c665f-ff32-4afd-9bb8-e8a665742549"
      },
      "execution_count": 81,
      "outputs": [
        {
          "output_type": "execute_result",
          "data": {
            "text/plain": [
              "1949    12\n",
              "1950    12\n",
              "1951    12\n",
              "1952    12\n",
              "1953    12\n",
              "1954    12\n",
              "1955    12\n",
              "1956    12\n",
              "1957    12\n",
              "1958    12\n",
              "1959    12\n",
              "1960    12\n",
              "Name: year, dtype: int64"
            ]
          },
          "metadata": {},
          "execution_count": 81
        }
      ]
    },
    {
      "cell_type": "code",
      "source": [
        "flights.info()"
      ],
      "metadata": {
        "colab": {
          "base_uri": "https://localhost:8080/"
        },
        "id": "AjIUJXFRGSzJ",
        "outputId": "ef6c4bdd-6680-4115-a4bf-cc6206f5890b"
      },
      "execution_count": 82,
      "outputs": [
        {
          "output_type": "stream",
          "name": "stdout",
          "text": [
            "<class 'pandas.core.frame.DataFrame'>\n",
            "RangeIndex: 144 entries, 0 to 143\n",
            "Data columns (total 3 columns):\n",
            " #   Column      Non-Null Count  Dtype   \n",
            "---  ------      --------------  -----   \n",
            " 0   year        144 non-null    int64   \n",
            " 1   month       144 non-null    category\n",
            " 2   passengers  144 non-null    int64   \n",
            "dtypes: category(1), int64(2)\n",
            "memory usage: 2.9 KB\n"
          ]
        }
      ]
    },
    {
      "cell_type": "markdown",
      "source": [
        "pivot 사용방법: 세로, 가로그리고 결과값으로 바꿀 수 있다."
      ],
      "metadata": {
        "id": "q-Xb0MDZHjx3"
      }
    },
    {
      "cell_type": "code",
      "source": [
        "import pandas as pd\n",
        "from pandas import Series, DataFrame\n"
      ],
      "metadata": {
        "id": "CRPmGydEFxL2"
      },
      "execution_count": 83,
      "outputs": []
    },
    {
      "cell_type": "code",
      "source": [
        "flights_pivot=flights.pivot(index='month',columns='year',values='passengers')\n",
        "flights_pivot"
      ],
      "metadata": {
        "colab": {
          "base_uri": "https://localhost:8080/",
          "height": 0
        },
        "id": "-L9YW5tSGaul",
        "outputId": "b792ce8c-7473-4bd6-96a5-099738603168"
      },
      "execution_count": 84,
      "outputs": [
        {
          "output_type": "execute_result",
          "data": {
            "text/plain": [
              "year   1949  1950  1951  1952  1953  1954  1955  1956  1957  1958  1959  1960\n",
              "month                                                                        \n",
              "Jan     112   115   145   171   196   204   242   284   315   340   360   417\n",
              "Feb     118   126   150   180   196   188   233   277   301   318   342   391\n",
              "Mar     132   141   178   193   236   235   267   317   356   362   406   419\n",
              "Apr     129   135   163   181   235   227   269   313   348   348   396   461\n",
              "May     121   125   172   183   229   234   270   318   355   363   420   472\n",
              "Jun     135   149   178   218   243   264   315   374   422   435   472   535\n",
              "Jul     148   170   199   230   264   302   364   413   465   491   548   622\n",
              "Aug     148   170   199   242   272   293   347   405   467   505   559   606\n",
              "Sep     136   158   184   209   237   259   312   355   404   404   463   508\n",
              "Oct     119   133   162   191   211   229   274   306   347   359   407   461\n",
              "Nov     104   114   146   172   180   203   237   271   305   310   362   390\n",
              "Dec     118   140   166   194   201   229   278   306   336   337   405   432"
            ],
            "text/html": [
              "\n",
              "  <div id=\"df-637ba909-eb62-407f-8194-c6277fd1ef2e\">\n",
              "    <div class=\"colab-df-container\">\n",
              "      <div>\n",
              "<style scoped>\n",
              "    .dataframe tbody tr th:only-of-type {\n",
              "        vertical-align: middle;\n",
              "    }\n",
              "\n",
              "    .dataframe tbody tr th {\n",
              "        vertical-align: top;\n",
              "    }\n",
              "\n",
              "    .dataframe thead th {\n",
              "        text-align: right;\n",
              "    }\n",
              "</style>\n",
              "<table border=\"1\" class=\"dataframe\">\n",
              "  <thead>\n",
              "    <tr style=\"text-align: right;\">\n",
              "      <th>year</th>\n",
              "      <th>1949</th>\n",
              "      <th>1950</th>\n",
              "      <th>1951</th>\n",
              "      <th>1952</th>\n",
              "      <th>1953</th>\n",
              "      <th>1954</th>\n",
              "      <th>1955</th>\n",
              "      <th>1956</th>\n",
              "      <th>1957</th>\n",
              "      <th>1958</th>\n",
              "      <th>1959</th>\n",
              "      <th>1960</th>\n",
              "    </tr>\n",
              "    <tr>\n",
              "      <th>month</th>\n",
              "      <th></th>\n",
              "      <th></th>\n",
              "      <th></th>\n",
              "      <th></th>\n",
              "      <th></th>\n",
              "      <th></th>\n",
              "      <th></th>\n",
              "      <th></th>\n",
              "      <th></th>\n",
              "      <th></th>\n",
              "      <th></th>\n",
              "      <th></th>\n",
              "    </tr>\n",
              "  </thead>\n",
              "  <tbody>\n",
              "    <tr>\n",
              "      <th>Jan</th>\n",
              "      <td>112</td>\n",
              "      <td>115</td>\n",
              "      <td>145</td>\n",
              "      <td>171</td>\n",
              "      <td>196</td>\n",
              "      <td>204</td>\n",
              "      <td>242</td>\n",
              "      <td>284</td>\n",
              "      <td>315</td>\n",
              "      <td>340</td>\n",
              "      <td>360</td>\n",
              "      <td>417</td>\n",
              "    </tr>\n",
              "    <tr>\n",
              "      <th>Feb</th>\n",
              "      <td>118</td>\n",
              "      <td>126</td>\n",
              "      <td>150</td>\n",
              "      <td>180</td>\n",
              "      <td>196</td>\n",
              "      <td>188</td>\n",
              "      <td>233</td>\n",
              "      <td>277</td>\n",
              "      <td>301</td>\n",
              "      <td>318</td>\n",
              "      <td>342</td>\n",
              "      <td>391</td>\n",
              "    </tr>\n",
              "    <tr>\n",
              "      <th>Mar</th>\n",
              "      <td>132</td>\n",
              "      <td>141</td>\n",
              "      <td>178</td>\n",
              "      <td>193</td>\n",
              "      <td>236</td>\n",
              "      <td>235</td>\n",
              "      <td>267</td>\n",
              "      <td>317</td>\n",
              "      <td>356</td>\n",
              "      <td>362</td>\n",
              "      <td>406</td>\n",
              "      <td>419</td>\n",
              "    </tr>\n",
              "    <tr>\n",
              "      <th>Apr</th>\n",
              "      <td>129</td>\n",
              "      <td>135</td>\n",
              "      <td>163</td>\n",
              "      <td>181</td>\n",
              "      <td>235</td>\n",
              "      <td>227</td>\n",
              "      <td>269</td>\n",
              "      <td>313</td>\n",
              "      <td>348</td>\n",
              "      <td>348</td>\n",
              "      <td>396</td>\n",
              "      <td>461</td>\n",
              "    </tr>\n",
              "    <tr>\n",
              "      <th>May</th>\n",
              "      <td>121</td>\n",
              "      <td>125</td>\n",
              "      <td>172</td>\n",
              "      <td>183</td>\n",
              "      <td>229</td>\n",
              "      <td>234</td>\n",
              "      <td>270</td>\n",
              "      <td>318</td>\n",
              "      <td>355</td>\n",
              "      <td>363</td>\n",
              "      <td>420</td>\n",
              "      <td>472</td>\n",
              "    </tr>\n",
              "    <tr>\n",
              "      <th>Jun</th>\n",
              "      <td>135</td>\n",
              "      <td>149</td>\n",
              "      <td>178</td>\n",
              "      <td>218</td>\n",
              "      <td>243</td>\n",
              "      <td>264</td>\n",
              "      <td>315</td>\n",
              "      <td>374</td>\n",
              "      <td>422</td>\n",
              "      <td>435</td>\n",
              "      <td>472</td>\n",
              "      <td>535</td>\n",
              "    </tr>\n",
              "    <tr>\n",
              "      <th>Jul</th>\n",
              "      <td>148</td>\n",
              "      <td>170</td>\n",
              "      <td>199</td>\n",
              "      <td>230</td>\n",
              "      <td>264</td>\n",
              "      <td>302</td>\n",
              "      <td>364</td>\n",
              "      <td>413</td>\n",
              "      <td>465</td>\n",
              "      <td>491</td>\n",
              "      <td>548</td>\n",
              "      <td>622</td>\n",
              "    </tr>\n",
              "    <tr>\n",
              "      <th>Aug</th>\n",
              "      <td>148</td>\n",
              "      <td>170</td>\n",
              "      <td>199</td>\n",
              "      <td>242</td>\n",
              "      <td>272</td>\n",
              "      <td>293</td>\n",
              "      <td>347</td>\n",
              "      <td>405</td>\n",
              "      <td>467</td>\n",
              "      <td>505</td>\n",
              "      <td>559</td>\n",
              "      <td>606</td>\n",
              "    </tr>\n",
              "    <tr>\n",
              "      <th>Sep</th>\n",
              "      <td>136</td>\n",
              "      <td>158</td>\n",
              "      <td>184</td>\n",
              "      <td>209</td>\n",
              "      <td>237</td>\n",
              "      <td>259</td>\n",
              "      <td>312</td>\n",
              "      <td>355</td>\n",
              "      <td>404</td>\n",
              "      <td>404</td>\n",
              "      <td>463</td>\n",
              "      <td>508</td>\n",
              "    </tr>\n",
              "    <tr>\n",
              "      <th>Oct</th>\n",
              "      <td>119</td>\n",
              "      <td>133</td>\n",
              "      <td>162</td>\n",
              "      <td>191</td>\n",
              "      <td>211</td>\n",
              "      <td>229</td>\n",
              "      <td>274</td>\n",
              "      <td>306</td>\n",
              "      <td>347</td>\n",
              "      <td>359</td>\n",
              "      <td>407</td>\n",
              "      <td>461</td>\n",
              "    </tr>\n",
              "    <tr>\n",
              "      <th>Nov</th>\n",
              "      <td>104</td>\n",
              "      <td>114</td>\n",
              "      <td>146</td>\n",
              "      <td>172</td>\n",
              "      <td>180</td>\n",
              "      <td>203</td>\n",
              "      <td>237</td>\n",
              "      <td>271</td>\n",
              "      <td>305</td>\n",
              "      <td>310</td>\n",
              "      <td>362</td>\n",
              "      <td>390</td>\n",
              "    </tr>\n",
              "    <tr>\n",
              "      <th>Dec</th>\n",
              "      <td>118</td>\n",
              "      <td>140</td>\n",
              "      <td>166</td>\n",
              "      <td>194</td>\n",
              "      <td>201</td>\n",
              "      <td>229</td>\n",
              "      <td>278</td>\n",
              "      <td>306</td>\n",
              "      <td>336</td>\n",
              "      <td>337</td>\n",
              "      <td>405</td>\n",
              "      <td>432</td>\n",
              "    </tr>\n",
              "  </tbody>\n",
              "</table>\n",
              "</div>\n",
              "      <button class=\"colab-df-convert\" onclick=\"convertToInteractive('df-637ba909-eb62-407f-8194-c6277fd1ef2e')\"\n",
              "              title=\"Convert this dataframe to an interactive table.\"\n",
              "              style=\"display:none;\">\n",
              "        \n",
              "  <svg xmlns=\"http://www.w3.org/2000/svg\" height=\"24px\"viewBox=\"0 0 24 24\"\n",
              "       width=\"24px\">\n",
              "    <path d=\"M0 0h24v24H0V0z\" fill=\"none\"/>\n",
              "    <path d=\"M18.56 5.44l.94 2.06.94-2.06 2.06-.94-2.06-.94-.94-2.06-.94 2.06-2.06.94zm-11 1L8.5 8.5l.94-2.06 2.06-.94-2.06-.94L8.5 2.5l-.94 2.06-2.06.94zm10 10l.94 2.06.94-2.06 2.06-.94-2.06-.94-.94-2.06-.94 2.06-2.06.94z\"/><path d=\"M17.41 7.96l-1.37-1.37c-.4-.4-.92-.59-1.43-.59-.52 0-1.04.2-1.43.59L10.3 9.45l-7.72 7.72c-.78.78-.78 2.05 0 2.83L4 21.41c.39.39.9.59 1.41.59.51 0 1.02-.2 1.41-.59l7.78-7.78 2.81-2.81c.8-.78.8-2.07 0-2.86zM5.41 20L4 18.59l7.72-7.72 1.47 1.35L5.41 20z\"/>\n",
              "  </svg>\n",
              "      </button>\n",
              "      \n",
              "  <style>\n",
              "    .colab-df-container {\n",
              "      display:flex;\n",
              "      flex-wrap:wrap;\n",
              "      gap: 12px;\n",
              "    }\n",
              "\n",
              "    .colab-df-convert {\n",
              "      background-color: #E8F0FE;\n",
              "      border: none;\n",
              "      border-radius: 50%;\n",
              "      cursor: pointer;\n",
              "      display: none;\n",
              "      fill: #1967D2;\n",
              "      height: 32px;\n",
              "      padding: 0 0 0 0;\n",
              "      width: 32px;\n",
              "    }\n",
              "\n",
              "    .colab-df-convert:hover {\n",
              "      background-color: #E2EBFA;\n",
              "      box-shadow: 0px 1px 2px rgba(60, 64, 67, 0.3), 0px 1px 3px 1px rgba(60, 64, 67, 0.15);\n",
              "      fill: #174EA6;\n",
              "    }\n",
              "\n",
              "    [theme=dark] .colab-df-convert {\n",
              "      background-color: #3B4455;\n",
              "      fill: #D2E3FC;\n",
              "    }\n",
              "\n",
              "    [theme=dark] .colab-df-convert:hover {\n",
              "      background-color: #434B5C;\n",
              "      box-shadow: 0px 1px 3px 1px rgba(0, 0, 0, 0.15);\n",
              "      filter: drop-shadow(0px 1px 2px rgba(0, 0, 0, 0.3));\n",
              "      fill: #FFFFFF;\n",
              "    }\n",
              "  </style>\n",
              "\n",
              "      <script>\n",
              "        const buttonEl =\n",
              "          document.querySelector('#df-637ba909-eb62-407f-8194-c6277fd1ef2e button.colab-df-convert');\n",
              "        buttonEl.style.display =\n",
              "          google.colab.kernel.accessAllowed ? 'block' : 'none';\n",
              "\n",
              "        async function convertToInteractive(key) {\n",
              "          const element = document.querySelector('#df-637ba909-eb62-407f-8194-c6277fd1ef2e');\n",
              "          const dataTable =\n",
              "            await google.colab.kernel.invokeFunction('convertToInteractive',\n",
              "                                                     [key], {});\n",
              "          if (!dataTable) return;\n",
              "\n",
              "          const docLinkHtml = 'Like what you see? Visit the ' +\n",
              "            '<a target=\"_blank\" href=https://colab.research.google.com/notebooks/data_table.ipynb>data table notebook</a>'\n",
              "            + ' to learn more about interactive tables.';\n",
              "          element.innerHTML = '';\n",
              "          dataTable['output_type'] = 'display_data';\n",
              "          await google.colab.output.renderOutput(dataTable, element);\n",
              "          const docLink = document.createElement('div');\n",
              "          docLink.innerHTML = docLinkHtml;\n",
              "          element.appendChild(docLink);\n",
              "        }\n",
              "      </script>\n",
              "    </div>\n",
              "  </div>\n",
              "  "
            ]
          },
          "metadata": {},
          "execution_count": 84
        }
      ]
    },
    {
      "cell_type": "code",
      "source": [
        "sns.heatmap(data= flights_pivot)"
      ],
      "metadata": {
        "colab": {
          "base_uri": "https://localhost:8080/",
          "height": 0
        },
        "id": "t-pSB46HGvGX",
        "outputId": "ee9f8259-95ff-4955-cfcc-a7c8b1c694b0"
      },
      "execution_count": 85,
      "outputs": [
        {
          "output_type": "execute_result",
          "data": {
            "text/plain": [
              "<matplotlib.axes._subplots.AxesSubplot at 0x7fe56113b910>"
            ]
          },
          "metadata": {},
          "execution_count": 85
        },
        {
          "output_type": "display_data",
          "data": {
            "text/plain": [
              "<Figure size 432x288 with 2 Axes>"
            ],
            "image/png": "[encoded data removed]"
          },
          "metadata": {
            "needs_background": "light"
          }
        }
      ]
    },
    {
      "cell_type": "markdown",
      "source": [
        "# 라인플롯\n"
      ],
      "metadata": {
        "id": "ARp3QSXGIDTL"
      }
    },
    {
      "cell_type": "code",
      "source": [
        "sns.lineplot(x ='year', y='passengers', data=flights)\n",
        "# 신뢰구간이 있다"
      ],
      "metadata": {
        "colab": {
          "base_uri": "https://localhost:8080/",
          "height": 297
        },
        "id": "t3jn1qBwIE7_",
        "outputId": "b40aabf3-067a-4be9-aee2-20ae2c4184b2"
      },
      "execution_count": 49,
      "outputs": [
        {
          "output_type": "execute_result",
          "data": {
            "text/plain": [
              "<matplotlib.axes._subplots.AxesSubplot at 0x7fe561bba210>"
            ]
          },
          "metadata": {},
          "execution_count": 49
        },
        {
          "output_type": "display_data",
          "data": {
            "text/plain": [
              "<Figure size 432x288 with 1 Axes>"
            ],
            "image/png": "[encoded data removed]"
          },
          "metadata": {
            "needs_background": "light"
          }
        }
      ]
    },
    {
      "cell_type": "code",
      "source": [
        "# 산점도\n",
        "tips = sns.load_dataset('tips')\n",
        "tips.head()"
      ],
      "metadata": {
        "colab": {
          "base_uri": "https://localhost:8080/",
          "height": 206
        },
        "id": "q1h8u_DtIMiw",
        "outputId": "a1eaa13b-bef7-4d21-bee2-5a511b2aa612"
      },
      "execution_count": 87,
      "outputs": [
        {
          "output_type": "execute_result",
          "data": {
            "text/plain": [
              "   total_bill   tip     sex smoker  day    time  size\n",
              "0       16.99  1.01  Female     No  Sun  Dinner     2\n",
              "1       10.34  1.66    Male     No  Sun  Dinner     3\n",
              "2       21.01  3.50    Male     No  Sun  Dinner     3\n",
              "3       23.68  3.31    Male     No  Sun  Dinner     2\n",
              "4       24.59  3.61  Female     No  Sun  Dinner     4"
            ],
            "text/html": [
              "\n",
              "  <div id=\"df-343bc603-e75e-4b65-8197-6aee49fba9f7\">\n",
              "    <div class=\"colab-df-container\">\n",
              "      <div>\n",
              "<style scoped>\n",
              "    .dataframe tbody tr th:only-of-type {\n",
              "        vertical-align: middle;\n",
              "    }\n",
              "\n",
              "    .dataframe tbody tr th {\n",
              "        vertical-align: top;\n",
              "    }\n",
              "\n",
              "    .dataframe thead th {\n",
              "        text-align: right;\n",
              "    }\n",
              "</style>\n",
              "<table border=\"1\" class=\"dataframe\">\n",
              "  <thead>\n",
              "    <tr style=\"text-align: right;\">\n",
              "      <th></th>\n",
              "      <th>total_bill</th>\n",
              "      <th>tip</th>\n",
              "      <th>sex</th>\n",
              "      <th>smoker</th>\n",
              "      <th>day</th>\n",
              "      <th>time</th>\n",
              "      <th>size</th>\n",
              "    </tr>\n",
              "  </thead>\n",
              "  <tbody>\n",
              "    <tr>\n",
              "      <th>0</th>\n",
              "      <td>16.99</td>\n",
              "      <td>1.01</td>\n",
              "      <td>Female</td>\n",
              "      <td>No</td>\n",
              "      <td>Sun</td>\n",
              "      <td>Dinner</td>\n",
              "      <td>2</td>\n",
              "    </tr>\n",
              "    <tr>\n",
              "      <th>1</th>\n",
              "      <td>10.34</td>\n",
              "      <td>1.66</td>\n",
              "      <td>Male</td>\n",
              "      <td>No</td>\n",
              "      <td>Sun</td>\n",
              "      <td>Dinner</td>\n",
              "      <td>3</td>\n",
              "    </tr>\n",
              "    <tr>\n",
              "      <th>2</th>\n",
              "      <td>21.01</td>\n",
              "      <td>3.50</td>\n",
              "      <td>Male</td>\n",
              "      <td>No</td>\n",
              "      <td>Sun</td>\n",
              "      <td>Dinner</td>\n",
              "      <td>3</td>\n",
              "    </tr>\n",
              "    <tr>\n",
              "      <th>3</th>\n",
              "      <td>23.68</td>\n",
              "      <td>3.31</td>\n",
              "      <td>Male</td>\n",
              "      <td>No</td>\n",
              "      <td>Sun</td>\n",
              "      <td>Dinner</td>\n",
              "      <td>2</td>\n",
              "    </tr>\n",
              "    <tr>\n",
              "      <th>4</th>\n",
              "      <td>24.59</td>\n",
              "      <td>3.61</td>\n",
              "      <td>Female</td>\n",
              "      <td>No</td>\n",
              "      <td>Sun</td>\n",
              "      <td>Dinner</td>\n",
              "      <td>4</td>\n",
              "    </tr>\n",
              "  </tbody>\n",
              "</table>\n",
              "</div>\n",
              "      <button class=\"colab-df-convert\" onclick=\"convertToInteractive('df-343bc603-e75e-4b65-8197-6aee49fba9f7')\"\n",
              "              title=\"Convert this dataframe to an interactive table.\"\n",
              "              style=\"display:none;\">\n",
              "        \n",
              "  <svg xmlns=\"http://www.w3.org/2000/svg\" height=\"24px\"viewBox=\"0 0 24 24\"\n",
              "       width=\"24px\">\n",
              "    <path d=\"M0 0h24v24H0V0z\" fill=\"none\"/>\n",
              "    <path d=\"M18.56 5.44l.94 2.06.94-2.06 2.06-.94-2.06-.94-.94-2.06-.94 2.06-2.06.94zm-11 1L8.5 8.5l.94-2.06 2.06-.94-2.06-.94L8.5 2.5l-.94 2.06-2.06.94zm10 10l.94 2.06.94-2.06 2.06-.94-2.06-.94-.94-2.06-.94 2.06-2.06.94z\"/><path d=\"M17.41 7.96l-1.37-1.37c-.4-.4-.92-.59-1.43-.59-.52 0-1.04.2-1.43.59L10.3 9.45l-7.72 7.72c-.78.78-.78 2.05 0 2.83L4 21.41c.39.39.9.59 1.41.59.51 0 1.02-.2 1.41-.59l7.78-7.78 2.81-2.81c.8-.78.8-2.07 0-2.86zM5.41 20L4 18.59l7.72-7.72 1.47 1.35L5.41 20z\"/>\n",
              "  </svg>\n",
              "      </button>\n",
              "      \n",
              "  <style>\n",
              "    .colab-df-container {\n",
              "      display:flex;\n",
              "      flex-wrap:wrap;\n",
              "      gap: 12px;\n",
              "    }\n",
              "\n",
              "    .colab-df-convert {\n",
              "      background-color: #E8F0FE;\n",
              "      border: none;\n",
              "      border-radius: 50%;\n",
              "      cursor: pointer;\n",
              "      display: none;\n",
              "      fill: #1967D2;\n",
              "      height: 32px;\n",
              "      padding: 0 0 0 0;\n",
              "      width: 32px;\n",
              "    }\n",
              "\n",
              "    .colab-df-convert:hover {\n",
              "      background-color: #E2EBFA;\n",
              "      box-shadow: 0px 1px 2px rgba(60, 64, 67, 0.3), 0px 1px 3px 1px rgba(60, 64, 67, 0.15);\n",
              "      fill: #174EA6;\n",
              "    }\n",
              "\n",
              "    [theme=dark] .colab-df-convert {\n",
              "      background-color: #3B4455;\n",
              "      fill: #D2E3FC;\n",
              "    }\n",
              "\n",
              "    [theme=dark] .colab-df-convert:hover {\n",
              "      background-color: #434B5C;\n",
              "      box-shadow: 0px 1px 3px 1px rgba(0, 0, 0, 0.15);\n",
              "      filter: drop-shadow(0px 1px 2px rgba(0, 0, 0, 0.3));\n",
              "      fill: #FFFFFF;\n",
              "    }\n",
              "  </style>\n",
              "\n",
              "      <script>\n",
              "        const buttonEl =\n",
              "          document.querySelector('#df-343bc603-e75e-4b65-8197-6aee49fba9f7 button.colab-df-convert');\n",
              "        buttonEl.style.display =\n",
              "          google.colab.kernel.accessAllowed ? 'block' : 'none';\n",
              "\n",
              "        async function convertToInteractive(key) {\n",
              "          const element = document.querySelector('#df-343bc603-e75e-4b65-8197-6aee49fba9f7');\n",
              "          const dataTable =\n",
              "            await google.colab.kernel.invokeFunction('convertToInteractive',\n",
              "                                                     [key], {});\n",
              "          if (!dataTable) return;\n",
              "\n",
              "          const docLinkHtml = 'Like what you see? Visit the ' +\n",
              "            '<a target=\"_blank\" href=https://colab.research.google.com/notebooks/data_table.ipynb>data table notebook</a>'\n",
              "            + ' to learn more about interactive tables.';\n",
              "          element.innerHTML = '';\n",
              "          dataTable['output_type'] = 'display_data';\n",
              "          await google.colab.output.renderOutput(dataTable, element);\n",
              "          const docLink = document.createElement('div');\n",
              "          docLink.innerHTML = docLinkHtml;\n",
              "          element.appendChild(docLink);\n",
              "        }\n",
              "      </script>\n",
              "    </div>\n",
              "  </div>\n",
              "  "
            ]
          },
          "metadata": {},
          "execution_count": 87
        }
      ]
    },
    {
      "cell_type": "code",
      "source": [
        "# 두 개의 연속형 데이터\n",
        "sns.scatterplot(x='total_bill', y='tip',hue='time',style='sex',data = tips)"
      ],
      "metadata": {
        "colab": {
          "base_uri": "https://localhost:8080/",
          "height": 298
        },
        "id": "8smoUEjsIwRq",
        "outputId": "f69a0a76-69e6-4d32-aa93-c061e91ede15"
      },
      "execution_count": 124,
      "outputs": [
        {
          "output_type": "execute_result",
          "data": {
            "text/plain": [
              "<matplotlib.axes._subplots.AxesSubplot at 0x7fe5564868d0>"
            ]
          },
          "metadata": {},
          "execution_count": 124
        },
        {
          "output_type": "display_data",
          "data": {
            "text/plain": [
              "<Figure size 432x288 with 1 Axes>"
            ],
            "image/png": "[encoded data removed]"
          },
          "metadata": {
            "needs_background": "light"
          }
        }
      ]
    },
    {
      "cell_type": "code",
      "source": [
        "# 회귀선\n",
        "sns.regplot(x='total_bill', y='tip', data= tips)"
      ],
      "metadata": {
        "colab": {
          "base_uri": "https://localhost:8080/",
          "height": 298
        },
        "id": "OsuCxOdyJ2Ha",
        "outputId": "754ebcbe-8e59-43df-91fc-9cb3b7d8ae51"
      },
      "execution_count": 125,
      "outputs": [
        {
          "output_type": "execute_result",
          "data": {
            "text/plain": [
              "<matplotlib.axes._subplots.AxesSubplot at 0x7fe5563aa810>"
            ]
          },
          "metadata": {},
          "execution_count": 125
        },
        {
          "output_type": "display_data",
          "data": {
            "text/plain": [
              "<Figure size 432x288 with 1 Axes>"
            ],
            "image/png": "[encoded data removed]"
          },
          "metadata": {
            "needs_background": "light"
          }
        }
      ]
    },
    {
      "cell_type": "markdown",
      "source": [
        "## 선형 회귀\n",
        "- 선형 회귀식을 찾는 것이 중요\n",
        "- $y = 3x + 4$에 근사한 데이터 50개 생성 "
      ],
      "metadata": {
        "id": "CI8MMIG4QZBg"
      }
    },
    {
      "cell_type": "code",
      "source": [
        "import numpy as np \n",
        "import pandas as pd\n",
        "\n",
        "# 시드값 고정 \n",
        "np.random.seed(0)\n",
        "intercept = 4 # 절편, 상수\n",
        "slope = 3 # 기울기\n",
        "\n",
        "# 변동성 주기 위해 노이즈 생성\n",
        "noise = np.random.randn(50, 1)\n",
        "x = 5 * np.random.rand(50, 1) # 0과 5사이의 실숫값 50개 생성\n",
        "y = slope * x + intercept + noise\n",
        "\n",
        "# 데이터 프레임 생성\n",
        "data = pd.DataFrame({'X' : x[:, 0], 'Y' : y[:, 0]})\n",
        "print(data)"
      ],
      "metadata": {
        "colab": {
          "base_uri": "https://localhost:8080/"
        },
        "id": "RyyumZusRW13",
        "outputId": "840c8d17-1846-4562-8713-440b3605b759"
      },
      "execution_count": 126,
      "outputs": [
        {
          "output_type": "stream",
          "name": "stdout",
          "text": [
            "           X          Y\n",
            "0   0.794848   8.148596\n",
            "1   0.551876   6.055784\n",
            "2   3.281648  14.823682\n",
            "3   0.690915   8.313637\n",
            "4   0.982912   8.816293\n",
            "5   1.843626   8.553600\n",
            "6   4.104966  17.264987\n",
            "7   0.485506   5.305162\n",
            "8   4.189725  16.465955\n",
            "9   0.480492   5.852075\n",
            "10  4.882297  18.790936\n",
            "11  2.343256  12.484042\n",
            "12  4.883805  19.412454\n",
            "13  3.024228  13.194358\n",
            "14  3.696318  15.532817\n",
            "15  0.195939   4.921491\n",
            "16  1.414035   9.736184\n",
            "17  0.600983   5.597790\n",
            "18  1.480701   8.755171\n",
            "19  0.593639   4.926820\n",
            "20  1.589916   6.216758\n",
            "21  2.071315  10.867564\n",
            "22  0.320737   5.826649\n",
            "23  3.462361  13.644917\n",
            "24  2.833007  14.768776\n",
            "25  1.326947   6.526477\n",
            "26  2.616240  11.894479\n",
            "27  0.469703   5.221924\n",
            "28  2.879732  14.171977\n",
            "29  4.646481  19.408802\n",
            "30  1.592845   8.933482\n",
            "31  3.337052  14.389318\n",
            "32  0.658989   5.089182\n",
            "33  3.581636  12.764112\n",
            "34  1.447030   7.993179\n",
            "35  0.915957   6.904219\n",
            "36  2.932565  14.027985\n",
            "37  0.100538   5.503993\n",
            "38  4.144700  16.046774\n",
            "39  0.023477   3.768129\n",
            "40  3.389083  13.118695\n",
            "41  1.350040   6.630102\n",
            "42  3.675970  13.321640\n",
            "43  4.810943  20.383604\n",
            "44  1.243766   7.221645\n",
            "45  2.880787  12.204286\n",
            "46  2.960210  11.627834\n",
            "47  2.861260  13.361269\n",
            "48  1.115408   5.732327\n",
            "49  4.763745  18.078495\n"
          ]
        }
      ]
    },
    {
      "cell_type": "code",
      "source": [
        "\n",
        "import matplotlib.pyplot as plt\n",
        "fig, ax = plt.subplots()\n",
        "ax.scatter(data['X'], data['Y'])\n",
        "plt.show()"
      ],
      "metadata": {
        "colab": {
          "base_uri": "https://localhost:8080/",
          "height": 265
        },
        "id": "fl6eF0DwSRxQ",
        "outputId": "17962e9a-866c-4ff9-d0da-623ad084de59"
      },
      "execution_count": 127,
      "outputs": [
        {
          "output_type": "display_data",
          "data": {
            "text/plain": [
              "<Figure size 432x288 with 1 Axes>"
            ],
            "image/png": "[encoded data removed]"
          },
          "metadata": {
            "needs_background": "light"
          }
        }
      ]
    },
    {
      "cell_type": "code",
      "source": [
        "import seaborn as sns \n",
        "sns.scatterplot(x = 'X', y = 'Y', data = data)"
      ],
      "metadata": {
        "colab": {
          "base_uri": "https://localhost:8080/",
          "height": 297
        },
        "id": "pyuD91BaS2CO",
        "outputId": "0a7f5354-3d2a-4f5c-92ee-cf720218e5c6"
      },
      "execution_count": 128,
      "outputs": [
        {
          "output_type": "execute_result",
          "data": {
            "text/plain": [
              "<matplotlib.axes._subplots.AxesSubplot at 0x7fe5562eef90>"
            ]
          },
          "metadata": {},
          "execution_count": 128
        },
        {
          "output_type": "display_data",
          "data": {
            "text/plain": [
              "<Figure size 432x288 with 1 Axes>"
            ],
            "image/png": "[encoded data removed]"
          },
          "metadata": {
            "needs_background": "light"
          }
        }
      ]
    },
    {
      "cell_type": "markdown",
      "source": [
        "# 선형 회귀 모형 훈련\n",
        "- 모형 생성 후, 회귀 계수 3과 y 절편 4에 근사한 값이 나와야 한다."
      ],
      "metadata": {
        "id": "9uQhTCDLTR2O"
      }
    },
    {
      "cell_type": "code",
      "source": [
        "from sklearn.linear_model import LinearRegression \n",
        "lr_model = LinearRegression() # 선형 회귀 모델 \n",
        "lr_model.fit(x, y) # 모델 훈련\n",
        "\n",
        "print('y절편:', lr_model.intercept_)\n",
        "print('회귀계수:', lr_model.coef_)"
      ],
      "metadata": {
        "colab": {
          "base_uri": "https://localhost:8080/"
        },
        "id": "K6QGYhkGTXkv",
        "outputId": "2e87fa65-c273-4445-cc90-de6e45faaa60"
      },
      "execution_count": 129,
      "outputs": [
        {
          "output_type": "stream",
          "name": "stdout",
          "text": [
            "y절편: [4.05757639]\n",
            "회귀계수: [[3.03754061]]\n"
          ]
        }
      ]
    },
    {
      "cell_type": "code",
      "source": [
        "# 예측값\n",
        "y_pred = lr_model.predict(x)\n",
        "fig, ax = plt.subplots()\n",
        "ax.scatter(x, y)\n",
        "ax.plot(x, y_pred, color='green')\n",
        "\n",
        "# slope, intercept \n",
        "label = 'slope: {}\\nintercept: {}'.format(round(lr_model.coef_[0][0], 2), round(lr_model.intercept_[0], 2))\n",
        "ax.text(3.5, 4, label, style ='italic', \n",
        "        fontsize = 10, color =\"green\")\n",
        "plt.show()"
      ],
      "metadata": {
        "colab": {
          "base_uri": "https://localhost:8080/",
          "height": 265
        },
        "id": "rVwssRJGTgUu",
        "outputId": "ea695b6f-1525-4c9d-b5e1-8fc7510f9c56"
      },
      "execution_count": 130,
      "outputs": [
        {
          "output_type": "display_data",
          "data": {
            "text/plain": [
              "<Figure size 432x288 with 1 Axes>"
            ],
            "image/png": "[encoded data removed]"
          },
          "metadata": {
            "needs_background": "light"
          }
        }
      ]
    },
    {
      "cell_type": "markdown",
      "source": [
        "## 로지스틱 회귀\n"
      ],
      "metadata": {
        "id": "S7lIaLbnV_ZY"
      }
    },
    {
      "cell_type": "code",
      "source": [
        "import numpy as np\n",
        "import matplotlib.pyplot as plt\n",
        "\n",
        "def sigmoid(arr, scale=1):\n",
        "    arr = np.asarray(arr)\n",
        "    result = 1/(1 + np.exp(-arr*scale))\n",
        "    return result\n",
        "\n",
        "x = np.linspace(-6, 6)\n",
        "y = sigmoid(x)\n",
        "\n",
        "fig, ax = plt.subplots()\n",
        "ax.plot(x, y)\n",
        "ax.grid(which='major', axis='y', linestyle='--')\n",
        "ax.axvline(x=0, color='r', linestyle='--', linewidth=1)\n",
        "ax.set_ylim(0,1)\n",
        "ax.set_yticks([0, 1, 0.5])\n",
        "ax.text(0-0.1, 0.5, '0.5', ha='right')\n",
        "ax.set_title('Sigmoid Graph')\n",
        "plt.show()"
      ],
      "metadata": {
        "colab": {
          "base_uri": "https://localhost:8080/",
          "height": 281
        },
        "id": "vUAc1IqjWCDf",
        "outputId": "22e18161-6e42-4730-dcb3-69d62146e567"
      },
      "execution_count": 131,
      "outputs": [
        {
          "output_type": "display_data",
          "data": {
            "text/plain": [
              "<Figure size 432x288 with 1 Axes>"
            ],
            "image/png": "[encoded data removed]"
          },
          "metadata": {
            "needs_background": "light"
          }
        }
      ]
    },
    {
      "cell_type": "code",
      "source": [
        "# 라이브러리 불러오기\n",
        "import matplotlib.pyplot as plt\n",
        "import numpy as np\n",
        "from sklearn.linear_model import LogisticRegression\n",
        "from sklearn.metrics import classification_report, confusion_matrix\n",
        "\n",
        "# 데이터 가져오기\n",
        "x = np.arange(10).reshape(-1, 1)\n",
        "y = np.array([0, 0, 0, 0, 0, 1, 1, 1, 1, 1])\n",
        "\n",
        "# 모델 생성 및 학습\n",
        "model = LogisticRegression(solver='liblinear', C=10.0, random_state=0)\n",
        "model.fit(x, y)"
      ],
      "metadata": {
        "colab": {
          "base_uri": "https://localhost:8080/"
        },
        "id": "R80XT9VvWb2N",
        "outputId": "219d9f93-0d0a-41fc-e55e-f7c5d54859a9"
      },
      "execution_count": 132,
      "outputs": [
        {
          "output_type": "execute_result",
          "data": {
            "text/plain": [
              "LogisticRegression(C=10.0, random_state=0, solver='liblinear')"
            ]
          },
          "metadata": {},
          "execution_count": 132
        }
      ]
    },
    {
      "cell_type": "markdown",
      "source": [
        "# 모형 평가\n"
      ],
      "metadata": {
        "id": "J7BwbipkWoCh"
      }
    },
    {
      "cell_type": "code",
      "source": [
        "p_pred = model.predict_proba(x)\n",
        "print('p_pred', p_pred, sep='\\n')"
      ],
      "metadata": {
        "colab": {
          "base_uri": "https://localhost:8080/"
        },
        "id": "ly4g1ajPWscb",
        "outputId": "64ad2621-1701-45a0-b642-3a7cb04b8f8f"
      },
      "execution_count": 133,
      "outputs": [
        {
          "output_type": "stream",
          "name": "stdout",
          "text": [
            "p_pred\n",
            "[[0.97979027 0.02020973]\n",
            " [0.94958202 0.05041798]\n",
            " [0.87976149 0.12023851]\n",
            " [0.73975066 0.26024934]\n",
            " [0.52477284 0.47522716]\n",
            " [0.30020373 0.69979627]\n",
            " [0.1428487  0.8571513 ]\n",
            " [0.06080627 0.93919373]\n",
            " [0.02453462 0.97546538]\n",
            " [0.00967652 0.99032348]]\n"
          ]
        }
      ]
    },
    {
      "cell_type": "code",
      "source": [
        "y_pred = model.predict(x)\n",
        "print('y_pred',y_pred)"
      ],
      "metadata": {
        "colab": {
          "base_uri": "https://localhost:8080/"
        },
        "id": "QnmFDtMjW3MA",
        "outputId": "0fa23d10-35c3-4f38-f0be-3d610a51e292"
      },
      "execution_count": 134,
      "outputs": [
        {
          "output_type": "stream",
          "name": "stdout",
          "text": [
            "y_pred [0 0 0 0 0 1 1 1 1 1]\n"
          ]
        }
      ]
    },
    {
      "cell_type": "code",
      "source": [
        "fig, ax = plt.subplots()\n",
        "ax.scatter(x, y)\n",
        "ax.plot(x, p_pred[:, 1], color = 'black',  marker='o', markersize=6)\n",
        "ax.plot()\n",
        "\n",
        "ax.set_xticks(x)\n",
        "ax.set_yticks(np.arange(0, 1.1, 0.1))\n",
        "\n",
        "ax.grid(which='major', alpha=0.5)\n",
        "plt.show()"
      ],
      "metadata": {
        "colab": {
          "base_uri": "https://localhost:8080/",
          "height": 265
        },
        "id": "d0Krr6_AXMqa",
        "outputId": "c676e1e1-ba0c-4350-b9ad-6a7f4f7d8d87"
      },
      "execution_count": 135,
      "outputs": [
        {
          "output_type": "display_data",
          "data": {
            "text/plain": [
              "<Figure size 432x288 with 1 Axes>"
            ],
            "image/png": "[encoded data removed]"
          },
          "metadata": {
            "needs_background": "light"
          }
        }
      ]
    },
    {
      "cell_type": "code",
      "source": [
        "conf_m = confusion_matrix(y, y_pred)\n",
        "print(conf_m)"
      ],
      "metadata": {
        "colab": {
          "base_uri": "https://localhost:8080/"
        },
        "id": "e7Xv2XFHX2JM",
        "outputId": "6d3820be-5941-4bab-c9ec-1ceb15b1a8bf"
      },
      "execution_count": 136,
      "outputs": [
        {
          "output_type": "stream",
          "name": "stdout",
          "text": [
            "[[5 0]\n",
            " [0 5]]\n"
          ]
        }
      ]
    },
    {
      "cell_type": "code",
      "source": [
        "cm = confusion_matrix(y, y_pred)\n",
        "\n",
        "fig, ax = plt.subplots(figsize=(8, 8))\n",
        "ax.imshow(cm, cmap = 'Pastel2')\n",
        "ax.grid(False)\n",
        "ax.xaxis.set(ticks=(0, 1), ticklabels=('Predicted 0', 'Predicted 1'))\n",
        "ax.yaxis.set(ticks=(0, 1), ticklabels=('Actual 0', 'Actual 1'))\n",
        "ax.set_ylim(1.5, -0.5)\n",
        "for i in range(2):\n",
        "    for j in range(2):\n",
        "        ax.text(j, i, cm[i, j], ha='center', va='center', color='black', fontsize=40)\n",
        "plt.show()"
      ],
      "metadata": {
        "colab": {
          "base_uri": "https://localhost:8080/",
          "height": 483
        },
        "id": "KiSVVA_LX4bl",
        "outputId": "6b5b76a6-ff15-4254-b2c4-d86547d699ae"
      },
      "execution_count": 137,
      "outputs": [
        {
          "output_type": "display_data",
          "data": {
            "text/plain": [
              "<Figure size 576x576 with 1 Axes>"
            ],
            "image/png": "[encoded data removed]"
          },
          "metadata": {
            "needs_background": "light"
          }
        }
      ]
    },
    {
      "cell_type": "markdown",
      "source": [
        "### 결정 트리\n",
        "- 분류와 회귀 문제에 모두 사용 가능\n",
        "### 주요 개념\n",
        "- 작동 원리\n",
        "  + 데이터를 가장 잘 구분하는 조건을 정함.\n",
        "  + 조건을 기준으로 데이터를 두 범주로 나눔\n",
        "  + 나뉜 각 범주의 데이터를 구분하는 조건을 정함\n",
        "  + 각 조건을 기준으로 데이터를 두 범주로 나눔\n",
        "  + 언제까지 계속 분할할지 정한 후, 최종 결정 값을 구함.\n",
        "- 불순도(Impurity)\n",
        "  + 한 범주 안에 서로 다른 데이터가 얼마나 섞여 있는지 나타냄\n",
        "  + 흰색과 검은색이 50:50으로 섞여 있다. (불순도 최대)\n",
        "  + 흰색과 검은색으로 완전 분리 되었다. (불순도 최소)\n",
        "- 엔트로피(Entropy)\n",
        "  + 불확실한 정도를 의미함. 0 ~ 1로 정함.\n",
        "  + 흰색과 검은색이 50:50으로 섞여 있다. 엔트로피 1\n",
        "  + 흰색과 검은색으로 완전 분리 되었다. 엔트로피 0\n",
        "- 정보이득(Information Gain)\n",
        "  + 1에서 엔트로피를 뺀 수치\n",
        "  + 정보 이득을 최대화하는 방향(엔트로피를 최소화 하는 방향)으로 노드를 분할함\n",
        "- 지니 불순도(Gini Impurity)\n",
        "  + 지니 불순도 값이 클수록 불순도도 높고, 작을수록 불순도도 낮음. 엔트로피와 마찬가지로 지니 불순도가 낮아지는 방향으로 노드 분할함."
      ],
      "metadata": {
        "id": "vZyTu0vrYptw"
      }
    },
    {
      "cell_type": "code",
      "source": [
        "from sklearn.tree import DecisionTreeClassifier\n",
        "from sklearn.model_selection import train_test_split \n",
        "import seaborn as sns \n",
        "\n",
        "# tips 데이터셋 \n",
        "titanic = sns.load_dataset('titanic')\n",
        "titanic.info()"
      ],
      "metadata": {
        "colab": {
          "base_uri": "https://localhost:8080/"
        },
        "id": "dWlYxM5-Y-TU",
        "outputId": "98ecb429-993e-4434-e9a8-7ab770655399"
      },
      "execution_count": 138,
      "outputs": [
        {
          "output_type": "stream",
          "name": "stdout",
          "text": [
            "<class 'pandas.core.frame.DataFrame'>\n",
            "RangeIndex: 891 entries, 0 to 890\n",
            "Data columns (total 15 columns):\n",
            " #   Column       Non-Null Count  Dtype   \n",
            "---  ------       --------------  -----   \n",
            " 0   survived     891 non-null    int64   \n",
            " 1   pclass       891 non-null    int64   \n",
            " 2   sex          891 non-null    object  \n",
            " 3   age          714 non-null    float64 \n",
            " 4   sibsp        891 non-null    int64   \n",
            " 5   parch        891 non-null    int64   \n",
            " 6   fare         891 non-null    float64 \n",
            " 7   embarked     889 non-null    object  \n",
            " 8   class        891 non-null    category\n",
            " 9   who          891 non-null    object  \n",
            " 10  adult_male   891 non-null    bool    \n",
            " 11  deck         203 non-null    category\n",
            " 12  embark_town  889 non-null    object  \n",
            " 13  alive        891 non-null    object  \n",
            " 14  alone        891 non-null    bool    \n",
            "dtypes: bool(2), category(2), float64(2), int64(4), object(5)\n",
            "memory usage: 80.7+ KB\n"
          ]
        }
      ]
    },
    {
      "cell_type": "markdown",
      "source": [
        "-survived의 비율을 구한다.\n",
        "0: 사망자\n",
        "1: 생존자\n"
      ],
      "metadata": {
        "id": "uBM6-uWaY_0r"
      }
    },
    {
      "cell_type": "code",
      "source": [
        "titanic['survived'].value_counts()"
      ],
      "metadata": {
        "colab": {
          "base_uri": "https://localhost:8080/"
        },
        "id": "S51H8MW9ZFFA",
        "outputId": "a5d0dae9-0a4d-4c54-cbfc-84f454871e95"
      },
      "execution_count": 139,
      "outputs": [
        {
          "output_type": "execute_result",
          "data": {
            "text/plain": [
              "0    549\n",
              "1    342\n",
              "Name: survived, dtype: int64"
            ]
          },
          "metadata": {},
          "execution_count": 139
        }
      ]
    },
    {
      "cell_type": "code",
      "source": [
        "# 데이터 추출\n",
        "X = titanic[['pclass', 'parch', 'fare']]\n",
        "y = titanic['survived']\n",
        "\n",
        "# 훈련데이터, 테스트 데이터 분리\n",
        "X_train, X_test, y_train, y_test = train_test_split(X, y, stratify = y, test_size = 0.3, random_state=42)\n",
        "X_train.shape, X_test.shape, y_train.shape, y_test.shape"
      ],
      "metadata": {
        "colab": {
          "base_uri": "https://localhost:8080/"
        },
        "id": "UqYWO6AUZKFw",
        "outputId": "551704de-1439-4abe-faa1-e850ec777137"
      },
      "execution_count": 140,
      "outputs": [
        {
          "output_type": "execute_result",
          "data": {
            "text/plain": [
              "((623, 3), (268, 3), (623,), (268,))"
            ]
          },
          "metadata": {},
          "execution_count": 140
        }
      ]
    },
    {
      "cell_type": "code",
      "source": [
        "tree_model = DecisionTreeClassifier()\n",
        "tree_model.fit(X_train, y_train)\n",
        "\n",
        "acc = tree_model.score(X_test, y_test)\n",
        "print(f'모형 정확도 : {acc:.3f}') # 정확도 측정"
      ],
      "metadata": {
        "colab": {
          "base_uri": "https://localhost:8080/"
        },
        "id": "x9LsUji3ZdO0",
        "outputId": "f07609fe-c286-4ea6-aad8-36f2735bfb32"
      },
      "execution_count": 141,
      "outputs": [
        {
          "output_type": "stream",
          "name": "stdout",
          "text": [
            "모형 정확도 : 0.675\n"
          ]
        }
      ]
    },
    {
      "cell_type": "markdown",
      "source": [
        "#### 랜덤포레스"
      ],
      "metadata": {
        "id": "nALAeRhRZmIi"
      }
    },
    {
      "cell_type": "code",
      "source": [
        "from sklearn.ensemble import RandomForestClassifier\n",
        "from sklearn.model_selection import train_test_split \n",
        "import seaborn as sns \n",
        "\n",
        "# tips 데이터셋 \n",
        "titanic = sns.load_dataset('titanic')\n",
        "\n",
        "X = titanic[['pclass', 'parch', 'fare']]\n",
        "y = titanic['survived']\n",
        "\n",
        "# 훈련데이터, 테스트 데이터 분리\n",
        "X_train, X_test, y_train, y_test = train_test_split(X, y, stratify = y, test_size = 0.3, random_state=42)\n",
        "\n",
        "# 모델 훈련\n",
        "rf_model = RandomForestClassifier(random_state=42) # 랜덤 포레스트 정의\n",
        "rf_model.fit(X_train, y_train)\n",
        "\n",
        "acc = tree_model.score(X_test, y_test)\n",
        "print(f'모형 정확도 : {acc:.3f}') # 정확도 측정 ㅠ"
      ],
      "metadata": {
        "colab": {
          "base_uri": "https://localhost:8080/"
        },
        "id": "ropj8ogmZohg",
        "outputId": "daef290f-64c5-4c56-9e2d-c285c951544c"
      },
      "execution_count": 142,
      "outputs": [
        {
          "output_type": "stream",
          "name": "stdout",
          "text": [
            "모형 정확도 : 0.675\n"
          ]
        }
      ]
    },
    {
      "cell_type": "markdown",
      "source": [
        "## XGBoost& LightGBM\n",
        "- 전통적인 머신러닝 알고리즘의 융합\n",
        "  + 선형회귀 릿지 라쏘, 과적합 방지 위한 규제\n",
        "  + 결정 트리의 핵심적인 알고리즘\n",
        "  + 경사 하강법\n",
        "  + 부스팅 기법\n",
        "- 문제점: 파라미터의 개수가 매우 많음\n",
        "- 왜 많이 쓸까?\n",
        "  + 모델 학습 속도\n",
        "  + 성능\n",
        "  - 가장 좋은 모델이란, 학습 속도는 빠르면서 성능은 좋은 것(지금까지 나온 알고리즘 보다)\n",
        "\n",
        "- Python\n",
        "  + JAVA, C, C++\n",
        "  + C, C++\n",
        "  + 첫번째 옵션, 우리가 자체적으로 배포하자 -> Python Wrapper API|-R, 머신러닝 프레임워크 종류 다양\n",
        "  + 두번째 옵션 파이썬 머신러닝 = Scikit_Learn에서 쉽게 쓸 수 있도록 개발, Scikit-Learn Wrapper APi"
      ],
      "metadata": {
        "id": "NrEfp6ZG3I43"
      }
    },
    {
      "cell_type": "code",
      "source": [
        "import xgboost as xgb \n",
        "from sklearn.model_selection import train_test_split\n",
        "import seaborn as sns \n",
        "\n",
        "# 데이터 분리\n",
        "titanic = sns.load_dataset('titanic')\n",
        "# titanic.info()\n",
        "\n",
        "# X, 독립변수, y 종속변수\n",
        "X = titanic[['pclass', 'parch', 'fare']]\n",
        "y = titanic['survived']\n",
        "\n",
        "# 훈련데이터, 테스트 데이터 분리\n",
        "X_train, X_test, y_train, y_test = train_test_split(X, \n",
        "                                                    y, \n",
        "                                                    stratify = y, \n",
        "                                                    test_size = 0.3, \n",
        "                                                    random_state=42)\n",
        "\n",
        "X_train.shape, X_test.shape, y_train.shape, y_test.shape"
      ],
      "metadata": {
        "colab": {
          "base_uri": "https://localhost:8080/"
        },
        "id": "ryKnFkdj7-4q",
        "outputId": "2c97bcfd-5cb5-4bf3-a649-8f3852c21420"
      },
      "execution_count": 144,
      "outputs": [
        {
          "output_type": "execute_result",
          "data": {
            "text/plain": [
              "((623, 3), (268, 3), (623,), (268,))"
            ]
          },
          "metadata": {},
          "execution_count": 144
        }
      ]
    },
    {
      "cell_type": "markdown",
      "source": [
        "- 여기가 핵심\n"
      ],
      "metadata": {
        "id": "rHdkqmMM9DxD"
      }
    },
    {
      "cell_type": "code",
      "source": [
        "dtrain = xgb.DMatrix(data = X_train, label = y_train)\n",
        "dtest = xgb.DMatrix(data = X_test,label = y_test)\n",
        "\n",
        "print(dtrain)"
      ],
      "metadata": {
        "colab": {
          "base_uri": "https://localhost:8080/"
        },
        "id": "SGwdcTGU9Q6z",
        "outputId": "f3c4b4a4-7c79-4102-85d5-2d7a9adf4bfd"
      },
      "execution_count": 146,
      "outputs": [
        {
          "output_type": "stream",
          "name": "stdout",
          "text": [
            "<xgboost.core.DMatrix object at 0x7fe5609ac190>\n"
          ]
        }
      ]
    },
    {
      "cell_type": "markdown",
      "source": [
        "- 머신러닝 코드 "
      ],
      "metadata": {
        "id": "KUCXP3T79z8h"
      }
    },
    {
      "cell_type": "code",
      "source": [
        "params = {\n",
        "    'max_depth':3,\n",
        "    'n_estimators':100,\n",
        "    'eta':0.1,\n",
        "    'objective':'binary:logistic'\n",
        "    \n",
        "}\n",
        "num_rounds = 400\n",
        "w_list =[(dtrain,'train'),(dtest,'test')]\n",
        "xgb_ml = xgb.train(params = params,\n",
        "                   dtrain=dtrain,\n",
        "                   num_boost_round=400,\n",
        "                   early_stopping_rounds =100,\n",
        "                   evals= w_list)"
      ],
      "metadata": {
        "colab": {
          "base_uri": "https://localhost:8080/"
        },
        "id": "bYAQ53k191jD",
        "outputId": "531ae86a-80a7-4168-efee-76ddcbc23e74"
      },
      "execution_count": 155,
      "outputs": [
        {
          "output_type": "stream",
          "name": "stdout",
          "text": [
            "[0]\ttrain-error:0.260032\ttest-error:0.302239\n",
            "Multiple eval metrics have been passed: 'test-error' will be used for early stopping.\n",
            "\n",
            "Will train until test-error hasn't improved in 100 rounds.\n",
            "[1]\ttrain-error:0.260032\ttest-error:0.302239\n",
            "[2]\ttrain-error:0.260032\ttest-error:0.302239\n",
            "[3]\ttrain-error:0.260032\ttest-error:0.302239\n",
            "[4]\ttrain-error:0.260032\ttest-error:0.302239\n",
            "[5]\ttrain-error:0.260032\ttest-error:0.302239\n",
            "[6]\ttrain-error:0.260032\ttest-error:0.302239\n",
            "[7]\ttrain-error:0.260032\ttest-error:0.302239\n",
            "[8]\ttrain-error:0.260032\ttest-error:0.302239\n",
            "[9]\ttrain-error:0.260032\ttest-error:0.302239\n",
            "[10]\ttrain-error:0.260032\ttest-error:0.302239\n",
            "[11]\ttrain-error:0.260032\ttest-error:0.302239\n",
            "[12]\ttrain-error:0.260032\ttest-error:0.302239\n",
            "[13]\ttrain-error:0.247191\ttest-error:0.298507\n",
            "[14]\ttrain-error:0.247191\ttest-error:0.298507\n",
            "[15]\ttrain-error:0.248796\ttest-error:0.302239\n",
            "[16]\ttrain-error:0.248796\ttest-error:0.302239\n",
            "[17]\ttrain-error:0.248796\ttest-error:0.302239\n",
            "[18]\ttrain-error:0.248796\ttest-error:0.302239\n",
            "[19]\ttrain-error:0.248796\ttest-error:0.302239\n",
            "[20]\ttrain-error:0.248796\ttest-error:0.302239\n",
            "[21]\ttrain-error:0.248796\ttest-error:0.302239\n",
            "[22]\ttrain-error:0.248796\ttest-error:0.302239\n",
            "[23]\ttrain-error:0.248796\ttest-error:0.302239\n",
            "[24]\ttrain-error:0.248796\ttest-error:0.302239\n",
            "[25]\ttrain-error:0.248796\ttest-error:0.302239\n",
            "[26]\ttrain-error:0.248796\ttest-error:0.302239\n",
            "[27]\ttrain-error:0.248796\ttest-error:0.302239\n",
            "[28]\ttrain-error:0.247191\ttest-error:0.302239\n",
            "[29]\ttrain-error:0.247191\ttest-error:0.302239\n",
            "[30]\ttrain-error:0.247191\ttest-error:0.302239\n",
            "[31]\ttrain-error:0.243981\ttest-error:0.298507\n",
            "[32]\ttrain-error:0.247191\ttest-error:0.302239\n",
            "[33]\ttrain-error:0.243981\ttest-error:0.298507\n",
            "[34]\ttrain-error:0.243981\ttest-error:0.298507\n",
            "[35]\ttrain-error:0.242376\ttest-error:0.294776\n",
            "[36]\ttrain-error:0.24077\ttest-error:0.294776\n",
            "[37]\ttrain-error:0.24077\ttest-error:0.294776\n",
            "[38]\ttrain-error:0.24077\ttest-error:0.294776\n",
            "[39]\ttrain-error:0.24077\ttest-error:0.294776\n",
            "[40]\ttrain-error:0.24077\ttest-error:0.294776\n",
            "[41]\ttrain-error:0.24077\ttest-error:0.294776\n",
            "[42]\ttrain-error:0.24077\ttest-error:0.294776\n",
            "[43]\ttrain-error:0.24077\ttest-error:0.294776\n",
            "[44]\ttrain-error:0.24077\ttest-error:0.302239\n",
            "[45]\ttrain-error:0.24077\ttest-error:0.302239\n",
            "[46]\ttrain-error:0.24077\ttest-error:0.302239\n",
            "[47]\ttrain-error:0.24077\ttest-error:0.302239\n",
            "[48]\ttrain-error:0.24077\ttest-error:0.302239\n",
            "[49]\ttrain-error:0.24077\ttest-error:0.302239\n",
            "[50]\ttrain-error:0.24077\ttest-error:0.302239\n",
            "[51]\ttrain-error:0.24077\ttest-error:0.302239\n",
            "[52]\ttrain-error:0.23435\ttest-error:0.302239\n",
            "[53]\ttrain-error:0.23435\ttest-error:0.302239\n",
            "[54]\ttrain-error:0.232745\ttest-error:0.298507\n",
            "[55]\ttrain-error:0.229535\ttest-error:0.298507\n",
            "[56]\ttrain-error:0.229535\ttest-error:0.298507\n",
            "[57]\ttrain-error:0.229535\ttest-error:0.298507\n",
            "[58]\ttrain-error:0.229535\ttest-error:0.298507\n",
            "[59]\ttrain-error:0.227929\ttest-error:0.294776\n",
            "[60]\ttrain-error:0.227929\ttest-error:0.298507\n",
            "[61]\ttrain-error:0.227929\ttest-error:0.298507\n",
            "[62]\ttrain-error:0.227929\ttest-error:0.298507\n",
            "[63]\ttrain-error:0.227929\ttest-error:0.298507\n",
            "[64]\ttrain-error:0.227929\ttest-error:0.298507\n",
            "[65]\ttrain-error:0.227929\ttest-error:0.298507\n",
            "[66]\ttrain-error:0.227929\ttest-error:0.298507\n",
            "[67]\ttrain-error:0.227929\ttest-error:0.298507\n",
            "[68]\ttrain-error:0.227929\ttest-error:0.298507\n",
            "[69]\ttrain-error:0.227929\ttest-error:0.298507\n",
            "[70]\ttrain-error:0.227929\ttest-error:0.298507\n",
            "[71]\ttrain-error:0.227929\ttest-error:0.298507\n",
            "[72]\ttrain-error:0.227929\ttest-error:0.302239\n",
            "[73]\ttrain-error:0.227929\ttest-error:0.302239\n",
            "[74]\ttrain-error:0.229535\ttest-error:0.30597\n",
            "[75]\ttrain-error:0.229535\ttest-error:0.30597\n",
            "[76]\ttrain-error:0.229535\ttest-error:0.30597\n",
            "[77]\ttrain-error:0.229535\ttest-error:0.30597\n",
            "[78]\ttrain-error:0.229535\ttest-error:0.30597\n",
            "[79]\ttrain-error:0.229535\ttest-error:0.30597\n",
            "[80]\ttrain-error:0.229535\ttest-error:0.30597\n",
            "[81]\ttrain-error:0.229535\ttest-error:0.30597\n",
            "[82]\ttrain-error:0.229535\ttest-error:0.30597\n",
            "[83]\ttrain-error:0.229535\ttest-error:0.30597\n",
            "[84]\ttrain-error:0.229535\ttest-error:0.30597\n",
            "[85]\ttrain-error:0.229535\ttest-error:0.30597\n",
            "[86]\ttrain-error:0.229535\ttest-error:0.30597\n",
            "[87]\ttrain-error:0.229535\ttest-error:0.30597\n",
            "[88]\ttrain-error:0.229535\ttest-error:0.30597\n",
            "[89]\ttrain-error:0.229535\ttest-error:0.30597\n",
            "[90]\ttrain-error:0.229535\ttest-error:0.30597\n",
            "[91]\ttrain-error:0.229535\ttest-error:0.30597\n",
            "[92]\ttrain-error:0.229535\ttest-error:0.30597\n",
            "[93]\ttrain-error:0.229535\ttest-error:0.30597\n",
            "[94]\ttrain-error:0.227929\ttest-error:0.313433\n",
            "[95]\ttrain-error:0.226324\ttest-error:0.313433\n",
            "[96]\ttrain-error:0.223114\ttest-error:0.317164\n",
            "[97]\ttrain-error:0.223114\ttest-error:0.317164\n",
            "[98]\ttrain-error:0.223114\ttest-error:0.317164\n",
            "[99]\ttrain-error:0.223114\ttest-error:0.317164\n",
            "[100]\ttrain-error:0.223114\ttest-error:0.317164\n",
            "[101]\ttrain-error:0.223114\ttest-error:0.317164\n",
            "[102]\ttrain-error:0.223114\ttest-error:0.317164\n",
            "[103]\ttrain-error:0.223114\ttest-error:0.317164\n",
            "[104]\ttrain-error:0.223114\ttest-error:0.317164\n",
            "[105]\ttrain-error:0.223114\ttest-error:0.317164\n",
            "[106]\ttrain-error:0.223114\ttest-error:0.317164\n",
            "[107]\ttrain-error:0.223114\ttest-error:0.317164\n",
            "[108]\ttrain-error:0.223114\ttest-error:0.317164\n",
            "[109]\ttrain-error:0.223114\ttest-error:0.317164\n",
            "[110]\ttrain-error:0.223114\ttest-error:0.317164\n",
            "[111]\ttrain-error:0.223114\ttest-error:0.317164\n",
            "[112]\ttrain-error:0.223114\ttest-error:0.317164\n",
            "[113]\ttrain-error:0.223114\ttest-error:0.317164\n",
            "[114]\ttrain-error:0.223114\ttest-error:0.317164\n",
            "[115]\ttrain-error:0.223114\ttest-error:0.317164\n",
            "[116]\ttrain-error:0.223114\ttest-error:0.317164\n",
            "[117]\ttrain-error:0.223114\ttest-error:0.317164\n",
            "[118]\ttrain-error:0.223114\ttest-error:0.317164\n",
            "[119]\ttrain-error:0.223114\ttest-error:0.317164\n",
            "[120]\ttrain-error:0.223114\ttest-error:0.317164\n",
            "[121]\ttrain-error:0.223114\ttest-error:0.317164\n",
            "[122]\ttrain-error:0.223114\ttest-error:0.317164\n",
            "[123]\ttrain-error:0.223114\ttest-error:0.317164\n",
            "[124]\ttrain-error:0.224719\ttest-error:0.317164\n",
            "[125]\ttrain-error:0.224719\ttest-error:0.317164\n",
            "[126]\ttrain-error:0.224719\ttest-error:0.317164\n",
            "[127]\ttrain-error:0.221509\ttest-error:0.317164\n",
            "[128]\ttrain-error:0.223114\ttest-error:0.317164\n",
            "[129]\ttrain-error:0.219904\ttest-error:0.313433\n",
            "[130]\ttrain-error:0.215088\ttest-error:0.313433\n",
            "[131]\ttrain-error:0.215088\ttest-error:0.313433\n",
            "[132]\ttrain-error:0.215088\ttest-error:0.313433\n",
            "[133]\ttrain-error:0.215088\ttest-error:0.313433\n",
            "[134]\ttrain-error:0.215088\ttest-error:0.313433\n",
            "[135]\ttrain-error:0.215088\ttest-error:0.313433\n",
            "Stopping. Best iteration:\n",
            "[35]\ttrain-error:0.242376\ttest-error:0.294776\n",
            "\n"
          ]
        }
      ]
    },
    {
      "cell_type": "code",
      "source": [
        "from sklearn.metrics import accuracy_score\n",
        "pred_probs =xgb_ml.predict(dtest)\n",
        "y_pred = [1 if x>0.5 else 0 for x in pred_probs]\n",
        "\n",
        "accuracy_score(y_pred,y_test)"
      ],
      "metadata": {
        "colab": {
          "base_uri": "https://localhost:8080/"
        },
        "id": "RuEXB9lD-0dk",
        "outputId": "ea44df43-c861-4f85-c4b9-82465b0c7c25"
      },
      "execution_count": 153,
      "outputs": [
        {
          "output_type": "execute_result",
          "data": {
            "text/plain": [
              "0.6977611940298507"
            ]
          },
          "metadata": {},
          "execution_count": 153
        }
      ]
    },
    {
      "cell_type": "code",
      "source": [
        "#scikit-learn api 방식"
      ],
      "metadata": {
        "id": "NzjkMIl58pVi"
      },
      "execution_count": 157,
      "outputs": []
    },
    {
      "cell_type": "code",
      "source": [
        "from sklearn.tree import DecisionTreeClassifier\n",
        "from xgboost import XGBClassifier #API방식\n",
        "\n",
        "# dt = DecisionTreeClassifier()\n",
        "xgb_model = XGBClassifier(objective = 'binary:logistic',\n",
        "                          max_depth=3,\n",
        "                          learning_rate = 0.1,\n",
        "                          n_estimators=100,\n",
        "                          random_state = 42)\n",
        "\n",
        "w_list = [(X_train,y_train),(X_test,y_test)]\n",
        "xgb_model.fit(X_train,y_train,eval_set =w_list, eval_metric='error',verbose=True)\n",
        "\n",
        "y_probas = xgb_model.predict_proba(X_test)\n",
        "y_pred = [1 if x>0.5 else 0 for x in pred_probs]\n",
        "\n",
        "accuracy_score(y_pred,y_test)"
      ],
      "metadata": {
        "colab": {
          "base_uri": "https://localhost:8080/"
        },
        "id": "-wnP9jhzFUjE",
        "outputId": "8c9b2ff0-6018-4cb7-8af6-289fb2b3ade4"
      },
      "execution_count": 161,
      "outputs": [
        {
          "output_type": "stream",
          "name": "stdout",
          "text": [
            "[0]\tvalidation_0-error:0.260032\tvalidation_1-error:0.302239\n",
            "[1]\tvalidation_0-error:0.260032\tvalidation_1-error:0.302239\n",
            "[2]\tvalidation_0-error:0.260032\tvalidation_1-error:0.302239\n",
            "[3]\tvalidation_0-error:0.260032\tvalidation_1-error:0.302239\n",
            "[4]\tvalidation_0-error:0.260032\tvalidation_1-error:0.302239\n",
            "[5]\tvalidation_0-error:0.260032\tvalidation_1-error:0.302239\n",
            "[6]\tvalidation_0-error:0.260032\tvalidation_1-error:0.302239\n",
            "[7]\tvalidation_0-error:0.260032\tvalidation_1-error:0.302239\n",
            "[8]\tvalidation_0-error:0.260032\tvalidation_1-error:0.302239\n",
            "[9]\tvalidation_0-error:0.260032\tvalidation_1-error:0.302239\n",
            "[10]\tvalidation_0-error:0.260032\tvalidation_1-error:0.302239\n",
            "[11]\tvalidation_0-error:0.260032\tvalidation_1-error:0.302239\n",
            "[12]\tvalidation_0-error:0.260032\tvalidation_1-error:0.302239\n",
            "[13]\tvalidation_0-error:0.247191\tvalidation_1-error:0.298507\n",
            "[14]\tvalidation_0-error:0.247191\tvalidation_1-error:0.298507\n",
            "[15]\tvalidation_0-error:0.248796\tvalidation_1-error:0.302239\n",
            "[16]\tvalidation_0-error:0.248796\tvalidation_1-error:0.302239\n",
            "[17]\tvalidation_0-error:0.248796\tvalidation_1-error:0.302239\n",
            "[18]\tvalidation_0-error:0.248796\tvalidation_1-error:0.302239\n",
            "[19]\tvalidation_0-error:0.248796\tvalidation_1-error:0.302239\n",
            "[20]\tvalidation_0-error:0.248796\tvalidation_1-error:0.302239\n",
            "[21]\tvalidation_0-error:0.248796\tvalidation_1-error:0.302239\n",
            "[22]\tvalidation_0-error:0.248796\tvalidation_1-error:0.302239\n",
            "[23]\tvalidation_0-error:0.248796\tvalidation_1-error:0.302239\n",
            "[24]\tvalidation_0-error:0.248796\tvalidation_1-error:0.302239\n",
            "[25]\tvalidation_0-error:0.248796\tvalidation_1-error:0.302239\n",
            "[26]\tvalidation_0-error:0.248796\tvalidation_1-error:0.302239\n",
            "[27]\tvalidation_0-error:0.248796\tvalidation_1-error:0.302239\n",
            "[28]\tvalidation_0-error:0.247191\tvalidation_1-error:0.302239\n",
            "[29]\tvalidation_0-error:0.247191\tvalidation_1-error:0.302239\n",
            "[30]\tvalidation_0-error:0.247191\tvalidation_1-error:0.302239\n",
            "[31]\tvalidation_0-error:0.243981\tvalidation_1-error:0.298507\n",
            "[32]\tvalidation_0-error:0.247191\tvalidation_1-error:0.302239\n",
            "[33]\tvalidation_0-error:0.243981\tvalidation_1-error:0.298507\n",
            "[34]\tvalidation_0-error:0.243981\tvalidation_1-error:0.298507\n",
            "[35]\tvalidation_0-error:0.242376\tvalidation_1-error:0.294776\n",
            "[36]\tvalidation_0-error:0.24077\tvalidation_1-error:0.294776\n",
            "[37]\tvalidation_0-error:0.24077\tvalidation_1-error:0.294776\n",
            "[38]\tvalidation_0-error:0.24077\tvalidation_1-error:0.294776\n",
            "[39]\tvalidation_0-error:0.24077\tvalidation_1-error:0.294776\n",
            "[40]\tvalidation_0-error:0.24077\tvalidation_1-error:0.294776\n",
            "[41]\tvalidation_0-error:0.24077\tvalidation_1-error:0.294776\n",
            "[42]\tvalidation_0-error:0.24077\tvalidation_1-error:0.294776\n",
            "[43]\tvalidation_0-error:0.24077\tvalidation_1-error:0.294776\n",
            "[44]\tvalidation_0-error:0.24077\tvalidation_1-error:0.302239\n",
            "[45]\tvalidation_0-error:0.24077\tvalidation_1-error:0.302239\n",
            "[46]\tvalidation_0-error:0.24077\tvalidation_1-error:0.302239\n",
            "[47]\tvalidation_0-error:0.24077\tvalidation_1-error:0.302239\n",
            "[48]\tvalidation_0-error:0.24077\tvalidation_1-error:0.302239\n",
            "[49]\tvalidation_0-error:0.24077\tvalidation_1-error:0.302239\n",
            "[50]\tvalidation_0-error:0.24077\tvalidation_1-error:0.302239\n",
            "[51]\tvalidation_0-error:0.24077\tvalidation_1-error:0.302239\n",
            "[52]\tvalidation_0-error:0.23435\tvalidation_1-error:0.302239\n",
            "[53]\tvalidation_0-error:0.23435\tvalidation_1-error:0.302239\n",
            "[54]\tvalidation_0-error:0.232745\tvalidation_1-error:0.298507\n",
            "[55]\tvalidation_0-error:0.229535\tvalidation_1-error:0.298507\n",
            "[56]\tvalidation_0-error:0.229535\tvalidation_1-error:0.298507\n",
            "[57]\tvalidation_0-error:0.229535\tvalidation_1-error:0.298507\n",
            "[58]\tvalidation_0-error:0.229535\tvalidation_1-error:0.298507\n",
            "[59]\tvalidation_0-error:0.227929\tvalidation_1-error:0.294776\n",
            "[60]\tvalidation_0-error:0.227929\tvalidation_1-error:0.298507\n",
            "[61]\tvalidation_0-error:0.227929\tvalidation_1-error:0.298507\n",
            "[62]\tvalidation_0-error:0.227929\tvalidation_1-error:0.298507\n",
            "[63]\tvalidation_0-error:0.227929\tvalidation_1-error:0.298507\n",
            "[64]\tvalidation_0-error:0.227929\tvalidation_1-error:0.298507\n",
            "[65]\tvalidation_0-error:0.227929\tvalidation_1-error:0.298507\n",
            "[66]\tvalidation_0-error:0.227929\tvalidation_1-error:0.298507\n",
            "[67]\tvalidation_0-error:0.227929\tvalidation_1-error:0.298507\n",
            "[68]\tvalidation_0-error:0.227929\tvalidation_1-error:0.298507\n",
            "[69]\tvalidation_0-error:0.227929\tvalidation_1-error:0.298507\n",
            "[70]\tvalidation_0-error:0.227929\tvalidation_1-error:0.298507\n",
            "[71]\tvalidation_0-error:0.227929\tvalidation_1-error:0.298507\n",
            "[72]\tvalidation_0-error:0.227929\tvalidation_1-error:0.302239\n",
            "[73]\tvalidation_0-error:0.227929\tvalidation_1-error:0.302239\n",
            "[74]\tvalidation_0-error:0.229535\tvalidation_1-error:0.30597\n",
            "[75]\tvalidation_0-error:0.229535\tvalidation_1-error:0.30597\n",
            "[76]\tvalidation_0-error:0.229535\tvalidation_1-error:0.30597\n",
            "[77]\tvalidation_0-error:0.229535\tvalidation_1-error:0.30597\n",
            "[78]\tvalidation_0-error:0.229535\tvalidation_1-error:0.30597\n",
            "[79]\tvalidation_0-error:0.229535\tvalidation_1-error:0.30597\n",
            "[80]\tvalidation_0-error:0.229535\tvalidation_1-error:0.30597\n",
            "[81]\tvalidation_0-error:0.229535\tvalidation_1-error:0.30597\n",
            "[82]\tvalidation_0-error:0.229535\tvalidation_1-error:0.30597\n",
            "[83]\tvalidation_0-error:0.229535\tvalidation_1-error:0.30597\n",
            "[84]\tvalidation_0-error:0.229535\tvalidation_1-error:0.30597\n",
            "[85]\tvalidation_0-error:0.229535\tvalidation_1-error:0.30597\n",
            "[86]\tvalidation_0-error:0.229535\tvalidation_1-error:0.30597\n",
            "[87]\tvalidation_0-error:0.229535\tvalidation_1-error:0.30597\n",
            "[88]\tvalidation_0-error:0.229535\tvalidation_1-error:0.30597\n",
            "[89]\tvalidation_0-error:0.229535\tvalidation_1-error:0.30597\n",
            "[90]\tvalidation_0-error:0.229535\tvalidation_1-error:0.30597\n",
            "[91]\tvalidation_0-error:0.229535\tvalidation_1-error:0.30597\n",
            "[92]\tvalidation_0-error:0.229535\tvalidation_1-error:0.30597\n",
            "[93]\tvalidation_0-error:0.229535\tvalidation_1-error:0.30597\n",
            "[94]\tvalidation_0-error:0.227929\tvalidation_1-error:0.313433\n",
            "[95]\tvalidation_0-error:0.226324\tvalidation_1-error:0.313433\n",
            "[96]\tvalidation_0-error:0.223114\tvalidation_1-error:0.317164\n",
            "[97]\tvalidation_0-error:0.223114\tvalidation_1-error:0.317164\n",
            "[98]\tvalidation_0-error:0.223114\tvalidation_1-error:0.317164\n",
            "[99]\tvalidation_0-error:0.223114\tvalidation_1-error:0.317164\n"
          ]
        },
        {
          "output_type": "execute_result",
          "data": {
            "text/plain": [
              "0.6977611940298507"
            ]
          },
          "metadata": {},
          "execution_count": 161
        }
      ]
    },
    {
      "cell_type": "markdown",
      "source": [
        "### LightGBM Python Wrapper 방식"
      ],
      "metadata": {
        "id": "hGG4fRQeKT7o"
      }
    },
    {
      "cell_type": "code",
      "source": [
        "import lightgbm as lgb \n",
        "from sklearn.model_selection import train_test_split \n",
        "from sklearn.metrics import accuracy_score\n",
        "import seaborn as sns \n",
        "\n",
        "# tips 데이터셋 \n",
        "titanic = sns.load_dataset('titanic')\n",
        "\n",
        "X = titanic[['pclass', 'parch', 'fare']]\n",
        "y = titanic['survived']\n",
        "\n",
        "# 훈련데이터, 테스트 데이터 분리\n",
        "X_train, X_test, y_train, y_test = train_test_split(X, y, stratify = y, test_size = 0.3, random_state=42)\n",
        "\n",
        "# XGBoost 코드와 유사하다. \n",
        "dtrain = lgb.Dataset(data = X_train, label = y_train)\n",
        "dtest = lgb.Dataset(data = X_test, label = y_test)\n",
        "\n",
        "params = {'max_depth':3,\n",
        "          'n_estimators':100,\n",
        "          'learning_rate': 0.1,\n",
        "          'objective':'binary',\n",
        "          'metric' : 'binary_error', \n",
        "          'num_boost_round' : 400, \n",
        "          'verbose' : 1} \n",
        "\n",
        "w_list = [dtrain, dtest]\n",
        "lgb_ml = lgb.train(params=params, train_set = dtrain,\\\n",
        "                  early_stopping_rounds=100, valid_sets= w_list)\n",
        "\n",
        "pred_probs = lgb_ml.predict(X_test)\n",
        "y_pred=[1 if x > 0.5 else 0 for x in pred_probs]\n",
        "\n",
        "# 예측 라벨과 실제 라벨 사이의 정확도 측정\n",
        "accuracy_score(y_pred, y_test)"
      ],
      "metadata": {
        "colab": {
          "base_uri": "https://localhost:8080/"
        },
        "id": "E3weVp2aFSAg",
        "outputId": "fca41cb2-cec7-4d0a-f55f-6c32ca63e71c"
      },
      "execution_count": 162,
      "outputs": [
        {
          "output_type": "stream",
          "name": "stderr",
          "text": [
            "/usr/local/lib/python3.7/dist-packages/lightgbm/engine.py:118: UserWarning: Found `num_boost_round` in params. Will use it instead of argument\n",
            "  warnings.warn(\"Found `{}` in params. Will use it instead of argument\".format(alias))\n"
          ]
        },
        {
          "output_type": "stream",
          "name": "stdout",
          "text": [
            "[1]\ttraining's binary_error: 0.383628\tvalid_1's binary_error: 0.384328\n",
            "Training until validation scores don't improve for 100 rounds.\n",
            "[2]\ttraining's binary_error: 0.383628\tvalid_1's binary_error: 0.384328\n",
            "[3]\ttraining's binary_error: 0.354735\tvalid_1's binary_error: 0.369403\n",
            "[4]\ttraining's binary_error: 0.29695\tvalid_1's binary_error: 0.354478\n",
            "[5]\ttraining's binary_error: 0.272873\tvalid_1's binary_error: 0.33209\n",
            "[6]\ttraining's binary_error: 0.272873\tvalid_1's binary_error: 0.33209\n",
            "[7]\ttraining's binary_error: 0.269663\tvalid_1's binary_error: 0.317164\n",
            "[8]\ttraining's binary_error: 0.269663\tvalid_1's binary_error: 0.317164\n",
            "[9]\ttraining's binary_error: 0.264848\tvalid_1's binary_error: 0.309701\n",
            "[10]\ttraining's binary_error: 0.269663\tvalid_1's binary_error: 0.309701\n",
            "[11]\ttraining's binary_error: 0.264848\tvalid_1's binary_error: 0.309701\n",
            "[12]\ttraining's binary_error: 0.264848\tvalid_1's binary_error: 0.309701\n",
            "[13]\ttraining's binary_error: 0.264848\tvalid_1's binary_error: 0.309701\n",
            "[14]\ttraining's binary_error: 0.264848\tvalid_1's binary_error: 0.309701\n",
            "[15]\ttraining's binary_error: 0.264848\tvalid_1's binary_error: 0.309701\n",
            "[16]\ttraining's binary_error: 0.266453\tvalid_1's binary_error: 0.313433\n",
            "[17]\ttraining's binary_error: 0.266453\tvalid_1's binary_error: 0.313433\n",
            "[18]\ttraining's binary_error: 0.266453\tvalid_1's binary_error: 0.313433\n",
            "[19]\ttraining's binary_error: 0.266453\tvalid_1's binary_error: 0.313433\n",
            "[20]\ttraining's binary_error: 0.266453\tvalid_1's binary_error: 0.313433\n",
            "[21]\ttraining's binary_error: 0.266453\tvalid_1's binary_error: 0.313433\n",
            "[22]\ttraining's binary_error: 0.266453\tvalid_1's binary_error: 0.313433\n",
            "[23]\ttraining's binary_error: 0.271268\tvalid_1's binary_error: 0.313433\n",
            "[24]\ttraining's binary_error: 0.258427\tvalid_1's binary_error: 0.309701\n",
            "[25]\ttraining's binary_error: 0.258427\tvalid_1's binary_error: 0.309701\n",
            "[26]\ttraining's binary_error: 0.258427\tvalid_1's binary_error: 0.309701\n",
            "[27]\ttraining's binary_error: 0.258427\tvalid_1's binary_error: 0.309701\n",
            "[28]\ttraining's binary_error: 0.258427\tvalid_1's binary_error: 0.309701\n",
            "[29]\ttraining's binary_error: 0.255217\tvalid_1's binary_error: 0.309701\n",
            "[30]\ttraining's binary_error: 0.255217\tvalid_1's binary_error: 0.309701\n",
            "[31]\ttraining's binary_error: 0.255217\tvalid_1's binary_error: 0.309701\n",
            "[32]\ttraining's binary_error: 0.255217\tvalid_1's binary_error: 0.309701\n",
            "[33]\ttraining's binary_error: 0.255217\tvalid_1's binary_error: 0.317164\n",
            "[34]\ttraining's binary_error: 0.255217\tvalid_1's binary_error: 0.317164\n",
            "[35]\ttraining's binary_error: 0.255217\tvalid_1's binary_error: 0.317164\n",
            "[36]\ttraining's binary_error: 0.255217\tvalid_1's binary_error: 0.309701\n",
            "[37]\ttraining's binary_error: 0.255217\tvalid_1's binary_error: 0.317164\n",
            "[38]\ttraining's binary_error: 0.255217\tvalid_1's binary_error: 0.317164\n",
            "[39]\ttraining's binary_error: 0.248796\tvalid_1's binary_error: 0.309701\n",
            "[40]\ttraining's binary_error: 0.248796\tvalid_1's binary_error: 0.313433\n",
            "[41]\ttraining's binary_error: 0.248796\tvalid_1's binary_error: 0.313433\n",
            "[42]\ttraining's binary_error: 0.248796\tvalid_1's binary_error: 0.313433\n",
            "[43]\ttraining's binary_error: 0.248796\tvalid_1's binary_error: 0.313433\n",
            "[44]\ttraining's binary_error: 0.248796\tvalid_1's binary_error: 0.313433\n",
            "[45]\ttraining's binary_error: 0.247191\tvalid_1's binary_error: 0.313433\n",
            "[46]\ttraining's binary_error: 0.247191\tvalid_1's binary_error: 0.313433\n",
            "[47]\ttraining's binary_error: 0.247191\tvalid_1's binary_error: 0.313433\n",
            "[48]\ttraining's binary_error: 0.247191\tvalid_1's binary_error: 0.313433\n",
            "[49]\ttraining's binary_error: 0.247191\tvalid_1's binary_error: 0.313433\n",
            "[50]\ttraining's binary_error: 0.247191\tvalid_1's binary_error: 0.313433\n",
            "[51]\ttraining's binary_error: 0.247191\tvalid_1's binary_error: 0.313433\n",
            "[52]\ttraining's binary_error: 0.247191\tvalid_1's binary_error: 0.313433\n",
            "[53]\ttraining's binary_error: 0.247191\tvalid_1's binary_error: 0.313433\n",
            "[54]\ttraining's binary_error: 0.247191\tvalid_1's binary_error: 0.313433\n",
            "[55]\ttraining's binary_error: 0.247191\tvalid_1's binary_error: 0.313433\n",
            "[56]\ttraining's binary_error: 0.247191\tvalid_1's binary_error: 0.313433\n",
            "[57]\ttraining's binary_error: 0.247191\tvalid_1's binary_error: 0.313433\n",
            "[58]\ttraining's binary_error: 0.247191\tvalid_1's binary_error: 0.313433\n",
            "[59]\ttraining's binary_error: 0.247191\tvalid_1's binary_error: 0.313433\n",
            "[60]\ttraining's binary_error: 0.247191\tvalid_1's binary_error: 0.313433\n",
            "[61]\ttraining's binary_error: 0.247191\tvalid_1's binary_error: 0.313433\n",
            "[62]\ttraining's binary_error: 0.247191\tvalid_1's binary_error: 0.313433\n",
            "[63]\ttraining's binary_error: 0.247191\tvalid_1's binary_error: 0.313433\n",
            "[64]\ttraining's binary_error: 0.247191\tvalid_1's binary_error: 0.313433\n",
            "[65]\ttraining's binary_error: 0.247191\tvalid_1's binary_error: 0.313433\n",
            "[66]\ttraining's binary_error: 0.243981\tvalid_1's binary_error: 0.309701\n",
            "[67]\ttraining's binary_error: 0.23435\tvalid_1's binary_error: 0.309701\n",
            "[68]\ttraining's binary_error: 0.23435\tvalid_1's binary_error: 0.309701\n",
            "[69]\ttraining's binary_error: 0.23435\tvalid_1's binary_error: 0.309701\n",
            "[70]\ttraining's binary_error: 0.229535\tvalid_1's binary_error: 0.309701\n",
            "[71]\ttraining's binary_error: 0.229535\tvalid_1's binary_error: 0.309701\n",
            "[72]\ttraining's binary_error: 0.229535\tvalid_1's binary_error: 0.309701\n",
            "[73]\ttraining's binary_error: 0.229535\tvalid_1's binary_error: 0.309701\n",
            "[74]\ttraining's binary_error: 0.229535\tvalid_1's binary_error: 0.309701\n",
            "[75]\ttraining's binary_error: 0.229535\tvalid_1's binary_error: 0.309701\n",
            "[76]\ttraining's binary_error: 0.229535\tvalid_1's binary_error: 0.309701\n",
            "[77]\ttraining's binary_error: 0.229535\tvalid_1's binary_error: 0.309701\n",
            "[78]\ttraining's binary_error: 0.232745\tvalid_1's binary_error: 0.313433\n",
            "[79]\ttraining's binary_error: 0.232745\tvalid_1's binary_error: 0.313433\n",
            "[80]\ttraining's binary_error: 0.232745\tvalid_1's binary_error: 0.313433\n",
            "[81]\ttraining's binary_error: 0.229535\tvalid_1's binary_error: 0.309701\n",
            "[82]\ttraining's binary_error: 0.229535\tvalid_1's binary_error: 0.309701\n",
            "[83]\ttraining's binary_error: 0.229535\tvalid_1's binary_error: 0.309701\n",
            "[84]\ttraining's binary_error: 0.229535\tvalid_1's binary_error: 0.309701\n",
            "[85]\ttraining's binary_error: 0.229535\tvalid_1's binary_error: 0.309701\n",
            "[86]\ttraining's binary_error: 0.229535\tvalid_1's binary_error: 0.309701\n",
            "[87]\ttraining's binary_error: 0.229535\tvalid_1's binary_error: 0.309701\n",
            "[88]\ttraining's binary_error: 0.229535\tvalid_1's binary_error: 0.309701\n",
            "[89]\ttraining's binary_error: 0.229535\tvalid_1's binary_error: 0.309701\n",
            "[90]\ttraining's binary_error: 0.229535\tvalid_1's binary_error: 0.309701\n",
            "[91]\ttraining's binary_error: 0.229535\tvalid_1's binary_error: 0.309701\n",
            "[92]\ttraining's binary_error: 0.229535\tvalid_1's binary_error: 0.309701\n",
            "[93]\ttraining's binary_error: 0.227929\tvalid_1's binary_error: 0.309701\n",
            "[94]\ttraining's binary_error: 0.227929\tvalid_1's binary_error: 0.309701\n",
            "[95]\ttraining's binary_error: 0.227929\tvalid_1's binary_error: 0.309701\n",
            "[96]\ttraining's binary_error: 0.227929\tvalid_1's binary_error: 0.309701\n",
            "[97]\ttraining's binary_error: 0.227929\tvalid_1's binary_error: 0.309701\n",
            "[98]\ttraining's binary_error: 0.227929\tvalid_1's binary_error: 0.309701\n",
            "[99]\ttraining's binary_error: 0.221509\tvalid_1's binary_error: 0.317164\n",
            "[100]\ttraining's binary_error: 0.227929\tvalid_1's binary_error: 0.309701\n",
            "[101]\ttraining's binary_error: 0.23114\tvalid_1's binary_error: 0.30597\n",
            "[102]\ttraining's binary_error: 0.23114\tvalid_1's binary_error: 0.30597\n",
            "[103]\ttraining's binary_error: 0.227929\tvalid_1's binary_error: 0.309701\n",
            "[104]\ttraining's binary_error: 0.221509\tvalid_1's binary_error: 0.317164\n",
            "[105]\ttraining's binary_error: 0.221509\tvalid_1's binary_error: 0.317164\n",
            "[106]\ttraining's binary_error: 0.224719\tvalid_1's binary_error: 0.313433\n",
            "[107]\ttraining's binary_error: 0.224719\tvalid_1's binary_error: 0.317164\n",
            "[108]\ttraining's binary_error: 0.224719\tvalid_1's binary_error: 0.317164\n",
            "[109]\ttraining's binary_error: 0.224719\tvalid_1's binary_error: 0.317164\n",
            "[110]\ttraining's binary_error: 0.224719\tvalid_1's binary_error: 0.317164\n",
            "[111]\ttraining's binary_error: 0.223114\tvalid_1's binary_error: 0.313433\n",
            "[112]\ttraining's binary_error: 0.223114\tvalid_1's binary_error: 0.313433\n",
            "[113]\ttraining's binary_error: 0.223114\tvalid_1's binary_error: 0.313433\n",
            "[114]\ttraining's binary_error: 0.223114\tvalid_1's binary_error: 0.313433\n",
            "[115]\ttraining's binary_error: 0.223114\tvalid_1's binary_error: 0.313433\n",
            "[116]\ttraining's binary_error: 0.223114\tvalid_1's binary_error: 0.313433\n",
            "[117]\ttraining's binary_error: 0.223114\tvalid_1's binary_error: 0.313433\n",
            "[118]\ttraining's binary_error: 0.223114\tvalid_1's binary_error: 0.313433\n",
            "[119]\ttraining's binary_error: 0.223114\tvalid_1's binary_error: 0.313433\n",
            "[120]\ttraining's binary_error: 0.223114\tvalid_1's binary_error: 0.309701\n",
            "[121]\ttraining's binary_error: 0.223114\tvalid_1's binary_error: 0.309701\n",
            "[122]\ttraining's binary_error: 0.223114\tvalid_1's binary_error: 0.309701\n",
            "[123]\ttraining's binary_error: 0.223114\tvalid_1's binary_error: 0.309701\n",
            "[124]\ttraining's binary_error: 0.223114\tvalid_1's binary_error: 0.309701\n",
            "[125]\ttraining's binary_error: 0.223114\tvalid_1's binary_error: 0.309701\n",
            "[126]\ttraining's binary_error: 0.223114\tvalid_1's binary_error: 0.309701\n",
            "[127]\ttraining's binary_error: 0.223114\tvalid_1's binary_error: 0.309701\n",
            "[128]\ttraining's binary_error: 0.223114\tvalid_1's binary_error: 0.309701\n",
            "[129]\ttraining's binary_error: 0.223114\tvalid_1's binary_error: 0.309701\n",
            "[130]\ttraining's binary_error: 0.223114\tvalid_1's binary_error: 0.309701\n",
            "[131]\ttraining's binary_error: 0.223114\tvalid_1's binary_error: 0.309701\n",
            "[132]\ttraining's binary_error: 0.223114\tvalid_1's binary_error: 0.309701\n",
            "[133]\ttraining's binary_error: 0.223114\tvalid_1's binary_error: 0.309701\n",
            "[134]\ttraining's binary_error: 0.223114\tvalid_1's binary_error: 0.309701\n",
            "[135]\ttraining's binary_error: 0.223114\tvalid_1's binary_error: 0.309701\n",
            "[136]\ttraining's binary_error: 0.223114\tvalid_1's binary_error: 0.309701\n",
            "[137]\ttraining's binary_error: 0.219904\tvalid_1's binary_error: 0.309701\n",
            "[138]\ttraining's binary_error: 0.219904\tvalid_1's binary_error: 0.309701\n",
            "[139]\ttraining's binary_error: 0.223114\tvalid_1's binary_error: 0.309701\n",
            "[140]\ttraining's binary_error: 0.223114\tvalid_1's binary_error: 0.309701\n",
            "[141]\ttraining's binary_error: 0.223114\tvalid_1's binary_error: 0.309701\n",
            "[142]\ttraining's binary_error: 0.223114\tvalid_1's binary_error: 0.309701\n",
            "[143]\ttraining's binary_error: 0.223114\tvalid_1's binary_error: 0.309701\n",
            "[144]\ttraining's binary_error: 0.221509\tvalid_1's binary_error: 0.320896\n",
            "[145]\ttraining's binary_error: 0.223114\tvalid_1's binary_error: 0.313433\n",
            "[146]\ttraining's binary_error: 0.221509\tvalid_1's binary_error: 0.313433\n",
            "[147]\ttraining's binary_error: 0.221509\tvalid_1's binary_error: 0.313433\n",
            "[148]\ttraining's binary_error: 0.221509\tvalid_1's binary_error: 0.313433\n",
            "[149]\ttraining's binary_error: 0.221509\tvalid_1's binary_error: 0.313433\n",
            "[150]\ttraining's binary_error: 0.219904\tvalid_1's binary_error: 0.324627\n",
            "[151]\ttraining's binary_error: 0.219904\tvalid_1's binary_error: 0.324627\n",
            "[152]\ttraining's binary_error: 0.221509\tvalid_1's binary_error: 0.313433\n",
            "[153]\ttraining's binary_error: 0.219904\tvalid_1's binary_error: 0.324627\n",
            "[154]\ttraining's binary_error: 0.219904\tvalid_1's binary_error: 0.324627\n",
            "[155]\ttraining's binary_error: 0.219904\tvalid_1's binary_error: 0.324627\n",
            "[156]\ttraining's binary_error: 0.219904\tvalid_1's binary_error: 0.324627\n",
            "[157]\ttraining's binary_error: 0.219904\tvalid_1's binary_error: 0.324627\n",
            "[158]\ttraining's binary_error: 0.219904\tvalid_1's binary_error: 0.324627\n",
            "[159]\ttraining's binary_error: 0.219904\tvalid_1's binary_error: 0.324627\n",
            "[160]\ttraining's binary_error: 0.219904\tvalid_1's binary_error: 0.324627\n",
            "[161]\ttraining's binary_error: 0.219904\tvalid_1's binary_error: 0.324627\n",
            "[162]\ttraining's binary_error: 0.219904\tvalid_1's binary_error: 0.324627\n",
            "[163]\ttraining's binary_error: 0.219904\tvalid_1's binary_error: 0.324627\n",
            "[164]\ttraining's binary_error: 0.219904\tvalid_1's binary_error: 0.324627\n",
            "[165]\ttraining's binary_error: 0.219904\tvalid_1's binary_error: 0.324627\n",
            "[166]\ttraining's binary_error: 0.219904\tvalid_1's binary_error: 0.324627\n",
            "[167]\ttraining's binary_error: 0.219904\tvalid_1's binary_error: 0.324627\n",
            "[168]\ttraining's binary_error: 0.219904\tvalid_1's binary_error: 0.324627\n",
            "[169]\ttraining's binary_error: 0.219904\tvalid_1's binary_error: 0.324627\n",
            "[170]\ttraining's binary_error: 0.215088\tvalid_1's binary_error: 0.317164\n",
            "[171]\ttraining's binary_error: 0.215088\tvalid_1's binary_error: 0.317164\n",
            "[172]\ttraining's binary_error: 0.215088\tvalid_1's binary_error: 0.317164\n",
            "[173]\ttraining's binary_error: 0.215088\tvalid_1's binary_error: 0.317164\n",
            "[174]\ttraining's binary_error: 0.215088\tvalid_1's binary_error: 0.317164\n",
            "[175]\ttraining's binary_error: 0.216693\tvalid_1's binary_error: 0.320896\n",
            "[176]\ttraining's binary_error: 0.216693\tvalid_1's binary_error: 0.320896\n",
            "[177]\ttraining's binary_error: 0.221509\tvalid_1's binary_error: 0.328358\n",
            "[178]\ttraining's binary_error: 0.221509\tvalid_1's binary_error: 0.328358\n",
            "[179]\ttraining's binary_error: 0.221509\tvalid_1's binary_error: 0.328358\n",
            "[180]\ttraining's binary_error: 0.221509\tvalid_1's binary_error: 0.328358\n",
            "[181]\ttraining's binary_error: 0.221509\tvalid_1's binary_error: 0.328358\n",
            "[182]\ttraining's binary_error: 0.216693\tvalid_1's binary_error: 0.320896\n",
            "[183]\ttraining's binary_error: 0.216693\tvalid_1's binary_error: 0.320896\n",
            "[184]\ttraining's binary_error: 0.216693\tvalid_1's binary_error: 0.320896\n",
            "[185]\ttraining's binary_error: 0.216693\tvalid_1's binary_error: 0.320896\n",
            "[186]\ttraining's binary_error: 0.216693\tvalid_1's binary_error: 0.320896\n",
            "[187]\ttraining's binary_error: 0.216693\tvalid_1's binary_error: 0.320896\n",
            "[188]\ttraining's binary_error: 0.216693\tvalid_1's binary_error: 0.320896\n",
            "[189]\ttraining's binary_error: 0.216693\tvalid_1's binary_error: 0.320896\n",
            "[190]\ttraining's binary_error: 0.216693\tvalid_1's binary_error: 0.320896\n",
            "[191]\ttraining's binary_error: 0.216693\tvalid_1's binary_error: 0.320896\n",
            "[192]\ttraining's binary_error: 0.216693\tvalid_1's binary_error: 0.320896\n",
            "[193]\ttraining's binary_error: 0.216693\tvalid_1's binary_error: 0.320896\n",
            "[194]\ttraining's binary_error: 0.216693\tvalid_1's binary_error: 0.320896\n",
            "[195]\ttraining's binary_error: 0.216693\tvalid_1's binary_error: 0.320896\n",
            "[196]\ttraining's binary_error: 0.216693\tvalid_1's binary_error: 0.320896\n",
            "[197]\ttraining's binary_error: 0.215088\tvalid_1's binary_error: 0.317164\n",
            "[198]\ttraining's binary_error: 0.215088\tvalid_1's binary_error: 0.317164\n",
            "[199]\ttraining's binary_error: 0.215088\tvalid_1's binary_error: 0.317164\n",
            "[200]\ttraining's binary_error: 0.215088\tvalid_1's binary_error: 0.317164\n",
            "[201]\ttraining's binary_error: 0.215088\tvalid_1's binary_error: 0.317164\n",
            "Early stopping, best iteration is:\n",
            "[101]\ttraining's binary_error: 0.23114\tvalid_1's binary_error: 0.30597\n"
          ]
        },
        {
          "output_type": "execute_result",
          "data": {
            "text/plain": [
              "0.6940298507462687"
            ]
          },
          "metadata": {},
          "execution_count": 162
        }
      ]
    },
    {
      "cell_type": "code",
      "source": [
        "from lightgbm import LGBMClassifier\n",
        "from sklearn.metrics import accuracy_score\n",
        "\n",
        "# model \n",
        "w_list = [dtrain, dtest]\n",
        "model = LGBMClassifier(objective = 'binary', \n",
        "                       metric = 'binary_error',\n",
        "                       n_estimators=100, \n",
        "                       learning_rate=0.1, \n",
        "                       max_depth=3, \n",
        "                       num_boost_round = 400,\n",
        "                       random_state = 32)\n",
        "model.fit(X_train, \n",
        "          y_train, \n",
        "          eval_set = [(X_train, y_train), (X_test, y_test)], \n",
        "          verbose=1,\n",
        "          early_stopping_rounds = 100)\n",
        "y_probas = model.predict_proba(X_test) \n",
        "y_pred=[1 if x > 0.5 else 0 for x in y_probas[:, 1]] # 예측 라벨(0과 1로 예측)\n",
        "\n",
        "# 예측 라벨과 실제 라벨 사이의 정확도 측정\n",
        "accuracy_score(y_pred, y_test)"
      ],
      "metadata": {
        "colab": {
          "base_uri": "https://localhost:8080/"
        },
        "id": "J8BThxExLuZU",
        "outputId": "ec053c5c-6240-448b-98bf-89629b721358"
      },
      "execution_count": 163,
      "outputs": [
        {
          "output_type": "stream",
          "name": "stdout",
          "text": [
            "[1]\ttraining's binary_error: 0.383628\tvalid_1's binary_error: 0.384328\n",
            "Training until validation scores don't improve for 100 rounds.\n",
            "[2]\ttraining's binary_error: 0.383628\tvalid_1's binary_error: 0.384328\n",
            "[3]\ttraining's binary_error: 0.354735\tvalid_1's binary_error: 0.369403\n",
            "[4]\ttraining's binary_error: 0.29695\tvalid_1's binary_error: 0.354478\n",
            "[5]\ttraining's binary_error: 0.272873\tvalid_1's binary_error: 0.33209\n",
            "[6]\ttraining's binary_error: 0.272873\tvalid_1's binary_error: 0.33209\n",
            "[7]\ttraining's binary_error: 0.269663\tvalid_1's binary_error: 0.317164\n",
            "[8]\ttraining's binary_error: 0.269663\tvalid_1's binary_error: 0.317164\n",
            "[9]\ttraining's binary_error: 0.264848\tvalid_1's binary_error: 0.309701\n",
            "[10]\ttraining's binary_error: 0.269663\tvalid_1's binary_error: 0.309701\n",
            "[11]\ttraining's binary_error: 0.264848\tvalid_1's binary_error: 0.309701\n",
            "[12]\ttraining's binary_error: 0.264848\tvalid_1's binary_error: 0.309701\n",
            "[13]\ttraining's binary_error: 0.264848\tvalid_1's binary_error: 0.309701\n",
            "[14]\ttraining's binary_error: 0.264848\tvalid_1's binary_error: 0.309701\n",
            "[15]\ttraining's binary_error: 0.264848\tvalid_1's binary_error: 0.309701\n",
            "[16]\ttraining's binary_error: 0.266453\tvalid_1's binary_error: 0.313433\n",
            "[17]\ttraining's binary_error: 0.266453\tvalid_1's binary_error: 0.313433\n",
            "[18]\ttraining's binary_error: 0.266453\tvalid_1's binary_error: 0.313433\n",
            "[19]\ttraining's binary_error: 0.266453\tvalid_1's binary_error: 0.313433\n",
            "[20]\ttraining's binary_error: 0.266453\tvalid_1's binary_error: 0.313433\n",
            "[21]\ttraining's binary_error: 0.266453\tvalid_1's binary_error: 0.313433\n",
            "[22]\ttraining's binary_error: 0.266453\tvalid_1's binary_error: 0.313433\n",
            "[23]\ttraining's binary_error: 0.271268\tvalid_1's binary_error: 0.313433\n",
            "[24]\ttraining's binary_error: 0.258427\tvalid_1's binary_error: 0.309701\n",
            "[25]\ttraining's binary_error: 0.258427\tvalid_1's binary_error: 0.309701\n",
            "[26]\ttraining's binary_error: 0.258427\tvalid_1's binary_error: 0.309701\n",
            "[27]\ttraining's binary_error: 0.258427\tvalid_1's binary_error: 0.309701\n",
            "[28]\ttraining's binary_error: 0.258427\tvalid_1's binary_error: 0.309701\n",
            "[29]\ttraining's binary_error: 0.255217\tvalid_1's binary_error: 0.309701\n",
            "[30]\ttraining's binary_error: 0.255217\tvalid_1's binary_error: 0.309701\n",
            "[31]\ttraining's binary_error: 0.255217\tvalid_1's binary_error: 0.309701\n",
            "[32]\ttraining's binary_error: 0.255217\tvalid_1's binary_error: 0.309701\n",
            "[33]\ttraining's binary_error: 0.255217\tvalid_1's binary_error: 0.317164\n",
            "[34]\ttraining's binary_error: 0.255217\tvalid_1's binary_error: 0.317164\n",
            "[35]\ttraining's binary_error: 0.255217\tvalid_1's binary_error: 0.317164\n",
            "[36]\ttraining's binary_error: 0.255217\tvalid_1's binary_error: 0.309701\n",
            "[37]\ttraining's binary_error: 0.255217\tvalid_1's binary_error: 0.317164\n",
            "[38]\ttraining's binary_error: 0.255217\tvalid_1's binary_error: 0.317164\n",
            "[39]\ttraining's binary_error: 0.248796\tvalid_1's binary_error: 0.309701\n",
            "[40]\ttraining's binary_error: 0.248796\tvalid_1's binary_error: 0.313433\n",
            "[41]\ttraining's binary_error: 0.248796\tvalid_1's binary_error: 0.313433\n",
            "[42]\ttraining's binary_error: 0.248796\tvalid_1's binary_error: 0.313433\n",
            "[43]\ttraining's binary_error: 0.248796\tvalid_1's binary_error: 0.313433\n",
            "[44]\ttraining's binary_error: 0.248796\tvalid_1's binary_error: 0.313433\n",
            "[45]\ttraining's binary_error: 0.247191\tvalid_1's binary_error: 0.313433\n",
            "[46]\ttraining's binary_error: 0.247191\tvalid_1's binary_error: 0.313433\n",
            "[47]\ttraining's binary_error: 0.247191\tvalid_1's binary_error: 0.313433\n",
            "[48]\ttraining's binary_error: 0.247191\tvalid_1's binary_error: 0.313433\n",
            "[49]\ttraining's binary_error: 0.247191\tvalid_1's binary_error: 0.313433\n",
            "[50]\ttraining's binary_error: 0.247191\tvalid_1's binary_error: 0.313433\n",
            "[51]\ttraining's binary_error: 0.247191\tvalid_1's binary_error: 0.313433\n",
            "[52]\ttraining's binary_error: 0.247191\tvalid_1's binary_error: 0.313433\n",
            "[53]\ttraining's binary_error: 0.247191\tvalid_1's binary_error: 0.313433\n",
            "[54]\ttraining's binary_error: 0.247191\tvalid_1's binary_error: 0.313433\n",
            "[55]\ttraining's binary_error: 0.247191\tvalid_1's binary_error: 0.313433\n",
            "[56]\ttraining's binary_error: 0.247191\tvalid_1's binary_error: 0.313433\n",
            "[57]\ttraining's binary_error: 0.247191\tvalid_1's binary_error: 0.313433\n",
            "[58]\ttraining's binary_error: 0.247191\tvalid_1's binary_error: 0.313433\n",
            "[59]\ttraining's binary_error: 0.247191\tvalid_1's binary_error: 0.313433\n",
            "[60]\ttraining's binary_error: 0.247191\tvalid_1's binary_error: 0.313433\n",
            "[61]\ttraining's binary_error: 0.247191\tvalid_1's binary_error: 0.313433\n",
            "[62]\ttraining's binary_error: 0.247191\tvalid_1's binary_error: 0.313433\n",
            "[63]\ttraining's binary_error: 0.247191\tvalid_1's binary_error: 0.313433\n",
            "[64]\ttraining's binary_error: 0.247191\tvalid_1's binary_error: 0.313433\n",
            "[65]\ttraining's binary_error: 0.247191\tvalid_1's binary_error: 0.313433\n",
            "[66]\ttraining's binary_error: 0.243981\tvalid_1's binary_error: 0.309701\n",
            "[67]\ttraining's binary_error: 0.23435\tvalid_1's binary_error: 0.309701\n",
            "[68]\ttraining's binary_error: 0.23435\tvalid_1's binary_error: 0.309701\n",
            "[69]\ttraining's binary_error: 0.23435\tvalid_1's binary_error: 0.309701\n",
            "[70]\ttraining's binary_error: 0.229535\tvalid_1's binary_error: 0.309701\n",
            "[71]\ttraining's binary_error: 0.229535\tvalid_1's binary_error: 0.309701\n",
            "[72]\ttraining's binary_error: 0.229535\tvalid_1's binary_error: 0.309701\n",
            "[73]\ttraining's binary_error: 0.229535\tvalid_1's binary_error: 0.309701\n",
            "[74]\ttraining's binary_error: 0.229535\tvalid_1's binary_error: 0.309701\n",
            "[75]\ttraining's binary_error: 0.229535\tvalid_1's binary_error: 0.309701\n",
            "[76]\ttraining's binary_error: 0.229535\tvalid_1's binary_error: 0.309701\n",
            "[77]\ttraining's binary_error: 0.229535\tvalid_1's binary_error: 0.309701\n",
            "[78]\ttraining's binary_error: 0.232745\tvalid_1's binary_error: 0.313433\n",
            "[79]\ttraining's binary_error: 0.232745\tvalid_1's binary_error: 0.313433\n",
            "[80]\ttraining's binary_error: 0.232745\tvalid_1's binary_error: 0.313433\n",
            "[81]\ttraining's binary_error: 0.229535\tvalid_1's binary_error: 0.309701\n",
            "[82]\ttraining's binary_error: 0.229535\tvalid_1's binary_error: 0.309701\n",
            "[83]\ttraining's binary_error: 0.229535\tvalid_1's binary_error: 0.309701\n",
            "[84]\ttraining's binary_error: 0.229535\tvalid_1's binary_error: 0.309701\n",
            "[85]\ttraining's binary_error: 0.229535\tvalid_1's binary_error: 0.309701\n",
            "[86]\ttraining's binary_error: 0.229535\tvalid_1's binary_error: 0.309701\n",
            "[87]\ttraining's binary_error: 0.229535\tvalid_1's binary_error: 0.309701\n",
            "[88]\ttraining's binary_error: 0.229535\tvalid_1's binary_error: 0.309701\n",
            "[89]\ttraining's binary_error: 0.229535\tvalid_1's binary_error: 0.309701\n",
            "[90]\ttraining's binary_error: 0.229535\tvalid_1's binary_error: 0.309701\n",
            "[91]\ttraining's binary_error: 0.229535\tvalid_1's binary_error: 0.309701\n",
            "[92]\ttraining's binary_error: 0.229535\tvalid_1's binary_error: 0.309701\n",
            "[93]\ttraining's binary_error: 0.227929\tvalid_1's binary_error: 0.309701\n",
            "[94]\ttraining's binary_error: 0.227929\tvalid_1's binary_error: 0.309701\n",
            "[95]\ttraining's binary_error: 0.227929\tvalid_1's binary_error: 0.309701\n",
            "[96]\ttraining's binary_error: 0.227929\tvalid_1's binary_error: 0.309701\n",
            "[97]\ttraining's binary_error: 0.227929\tvalid_1's binary_error: 0.309701\n",
            "[98]\ttraining's binary_error: 0.227929\tvalid_1's binary_error: 0.309701\n",
            "[99]\ttraining's binary_error: 0.221509\tvalid_1's binary_error: 0.317164\n",
            "[100]\ttraining's binary_error: 0.227929\tvalid_1's binary_error: 0.309701\n",
            "[101]\ttraining's binary_error: 0.23114\tvalid_1's binary_error: 0.30597\n",
            "[102]\ttraining's binary_error: 0.23114\tvalid_1's binary_error: 0.30597\n",
            "[103]\ttraining's binary_error: 0.227929\tvalid_1's binary_error: 0.309701\n",
            "[104]\ttraining's binary_error: 0.221509\tvalid_1's binary_error: 0.317164\n",
            "[105]\ttraining's binary_error: 0.221509\tvalid_1's binary_error: 0.317164\n",
            "[106]\ttraining's binary_error: 0.224719\tvalid_1's binary_error: 0.313433\n",
            "[107]\ttraining's binary_error: 0.224719\tvalid_1's binary_error: 0.317164\n",
            "[108]\ttraining's binary_error: 0.224719\tvalid_1's binary_error: 0.317164\n",
            "[109]\ttraining's binary_error: 0.224719\tvalid_1's binary_error: 0.317164\n",
            "[110]\ttraining's binary_error: 0.224719\tvalid_1's binary_error: 0.317164\n",
            "[111]\ttraining's binary_error: 0.223114\tvalid_1's binary_error: 0.313433\n",
            "[112]\ttraining's binary_error: 0.223114\tvalid_1's binary_error: 0.313433\n",
            "[113]\ttraining's binary_error: 0.223114\tvalid_1's binary_error: 0.313433\n",
            "[114]\ttraining's binary_error: 0.223114\tvalid_1's binary_error: 0.313433\n",
            "[115]\ttraining's binary_error: 0.223114\tvalid_1's binary_error: 0.313433\n",
            "[116]\ttraining's binary_error: 0.223114\tvalid_1's binary_error: 0.313433\n",
            "[117]\ttraining's binary_error: 0.223114\tvalid_1's binary_error: 0.313433\n",
            "[118]\ttraining's binary_error: 0.223114\tvalid_1's binary_error: 0.313433\n",
            "[119]\ttraining's binary_error: 0.223114\tvalid_1's binary_error: 0.313433\n",
            "[120]\ttraining's binary_error: 0.223114\tvalid_1's binary_error: 0.309701\n",
            "[121]\ttraining's binary_error: 0.223114\tvalid_1's binary_error: 0.309701\n",
            "[122]\ttraining's binary_error: 0.223114\tvalid_1's binary_error: 0.309701\n",
            "[123]\ttraining's binary_error: 0.223114\tvalid_1's binary_error: 0.309701\n",
            "[124]\ttraining's binary_error: 0.223114\tvalid_1's binary_error: 0.309701\n",
            "[125]\ttraining's binary_error: 0.223114\tvalid_1's binary_error: 0.309701\n",
            "[126]\ttraining's binary_error: 0.223114\tvalid_1's binary_error: 0.309701\n",
            "[127]\ttraining's binary_error: 0.223114\tvalid_1's binary_error: 0.309701\n",
            "[128]\ttraining's binary_error: 0.223114\tvalid_1's binary_error: 0.309701\n",
            "[129]\ttraining's binary_error: 0.223114\tvalid_1's binary_error: 0.309701\n",
            "[130]\ttraining's binary_error: 0.223114\tvalid_1's binary_error: 0.309701\n",
            "[131]\ttraining's binary_error: 0.223114\tvalid_1's binary_error: 0.309701\n",
            "[132]\ttraining's binary_error: 0.223114\tvalid_1's binary_error: 0.309701\n",
            "[133]\ttraining's binary_error: 0.223114\tvalid_1's binary_error: 0.309701\n",
            "[134]\ttraining's binary_error: 0.223114\tvalid_1's binary_error: 0.309701\n",
            "[135]\ttraining's binary_error: 0.223114\tvalid_1's binary_error: 0.309701\n",
            "[136]\ttraining's binary_error: 0.223114\tvalid_1's binary_error: 0.309701\n",
            "[137]\ttraining's binary_error: 0.219904\tvalid_1's binary_error: 0.309701\n",
            "[138]\ttraining's binary_error: 0.219904\tvalid_1's binary_error: 0.309701\n",
            "[139]\ttraining's binary_error: 0.223114\tvalid_1's binary_error: 0.309701\n",
            "[140]\ttraining's binary_error: 0.223114\tvalid_1's binary_error: 0.309701\n",
            "[141]\ttraining's binary_error: 0.223114\tvalid_1's binary_error: 0.309701\n",
            "[142]\ttraining's binary_error: 0.223114\tvalid_1's binary_error: 0.309701\n",
            "[143]\ttraining's binary_error: 0.223114\tvalid_1's binary_error: 0.309701\n",
            "[144]\ttraining's binary_error: 0.221509\tvalid_1's binary_error: 0.320896\n",
            "[145]\ttraining's binary_error: 0.223114\tvalid_1's binary_error: 0.313433\n",
            "[146]\ttraining's binary_error: 0.221509\tvalid_1's binary_error: 0.313433\n",
            "[147]\ttraining's binary_error: 0.221509\tvalid_1's binary_error: 0.313433\n",
            "[148]\ttraining's binary_error: 0.221509\tvalid_1's binary_error: 0.313433\n",
            "[149]\ttraining's binary_error: 0.221509\tvalid_1's binary_error: 0.313433\n",
            "[150]\ttraining's binary_error: 0.219904\tvalid_1's binary_error: 0.324627\n",
            "[151]\ttraining's binary_error: 0.219904\tvalid_1's binary_error: 0.324627\n",
            "[152]\ttraining's binary_error: 0.221509\tvalid_1's binary_error: 0.313433\n",
            "[153]\ttraining's binary_error: 0.219904\tvalid_1's binary_error: 0.324627\n",
            "[154]\ttraining's binary_error: 0.219904\tvalid_1's binary_error: 0.324627\n",
            "[155]\ttraining's binary_error: 0.219904\tvalid_1's binary_error: 0.324627\n",
            "[156]\ttraining's binary_error: 0.219904\tvalid_1's binary_error: 0.324627\n",
            "[157]\ttraining's binary_error: 0.219904\tvalid_1's binary_error: 0.324627\n",
            "[158]\ttraining's binary_error: 0.219904\tvalid_1's binary_error: 0.324627\n",
            "[159]\ttraining's binary_error: 0.219904\tvalid_1's binary_error: 0.324627\n",
            "[160]\ttraining's binary_error: 0.219904\tvalid_1's binary_error: 0.324627\n",
            "[161]\ttraining's binary_error: 0.219904\tvalid_1's binary_error: 0.324627\n",
            "[162]\ttraining's binary_error: 0.219904\tvalid_1's binary_error: 0.324627\n",
            "[163]\ttraining's binary_error: 0.219904\tvalid_1's binary_error: 0.324627\n",
            "[164]\ttraining's binary_error: 0.219904\tvalid_1's binary_error: 0.324627\n",
            "[165]\ttraining's binary_error: 0.219904\tvalid_1's binary_error: 0.324627\n",
            "[166]\ttraining's binary_error: 0.219904\tvalid_1's binary_error: 0.324627\n",
            "[167]\ttraining's binary_error: 0.219904\tvalid_1's binary_error: 0.324627\n",
            "[168]\ttraining's binary_error: 0.219904\tvalid_1's binary_error: 0.324627\n",
            "[169]\ttraining's binary_error: 0.219904\tvalid_1's binary_error: 0.324627\n",
            "[170]\ttraining's binary_error: 0.215088\tvalid_1's binary_error: 0.317164\n",
            "[171]\ttraining's binary_error: 0.215088\tvalid_1's binary_error: 0.317164\n",
            "[172]\ttraining's binary_error: 0.215088\tvalid_1's binary_error: 0.317164\n",
            "[173]\ttraining's binary_error: 0.215088\tvalid_1's binary_error: 0.317164\n",
            "[174]\ttraining's binary_error: 0.215088\tvalid_1's binary_error: 0.317164\n",
            "[175]\ttraining's binary_error: 0.216693\tvalid_1's binary_error: 0.320896\n",
            "[176]\ttraining's binary_error: 0.216693\tvalid_1's binary_error: 0.320896\n",
            "[177]\ttraining's binary_error: 0.221509\tvalid_1's binary_error: 0.328358\n",
            "[178]\ttraining's binary_error: 0.221509\tvalid_1's binary_error: 0.328358\n",
            "[179]\ttraining's binary_error: 0.221509\tvalid_1's binary_error: 0.328358\n",
            "[180]\ttraining's binary_error: 0.221509\tvalid_1's binary_error: 0.328358\n",
            "[181]\ttraining's binary_error: 0.221509\tvalid_1's binary_error: 0.328358\n",
            "[182]\ttraining's binary_error: 0.216693\tvalid_1's binary_error: 0.320896\n",
            "[183]\ttraining's binary_error: 0.216693\tvalid_1's binary_error: 0.320896\n",
            "[184]\ttraining's binary_error: 0.216693\tvalid_1's binary_error: 0.320896\n",
            "[185]\ttraining's binary_error: 0.216693\tvalid_1's binary_error: 0.320896\n",
            "[186]\ttraining's binary_error: 0.216693\tvalid_1's binary_error: 0.320896\n",
            "[187]\ttraining's binary_error: 0.216693\tvalid_1's binary_error: 0.320896\n",
            "[188]\ttraining's binary_error: 0.216693\tvalid_1's binary_error: 0.320896\n",
            "[189]\ttraining's binary_error: 0.216693\tvalid_1's binary_error: 0.320896\n",
            "[190]\ttraining's binary_error: 0.216693\tvalid_1's binary_error: 0.320896\n",
            "[191]\ttraining's binary_error: 0.216693\tvalid_1's binary_error: 0.320896\n",
            "[192]\ttraining's binary_error: 0.216693\tvalid_1's binary_error: 0.320896\n",
            "[193]\ttraining's binary_error: 0.216693\tvalid_1's binary_error: 0.320896\n",
            "[194]\ttraining's binary_error: 0.216693\tvalid_1's binary_error: 0.320896\n",
            "[195]\ttraining's binary_error: 0.216693\tvalid_1's binary_error: 0.320896\n",
            "[196]\ttraining's binary_error: 0.216693\tvalid_1's binary_error: 0.320896\n",
            "[197]\ttraining's binary_error: 0.215088\tvalid_1's binary_error: 0.317164\n",
            "[198]\ttraining's binary_error: 0.215088\tvalid_1's binary_error: 0.317164\n",
            "[199]\ttraining's binary_error: 0.215088\tvalid_1's binary_error: 0.317164\n",
            "[200]\ttraining's binary_error: 0.215088\tvalid_1's binary_error: 0.317164\n",
            "[201]\ttraining's binary_error: 0.215088\tvalid_1's binary_error: 0.317164\n",
            "Early stopping, best iteration is:\n",
            "[101]\ttraining's binary_error: 0.23114\tvalid_1's binary_error: 0.30597\n"
          ]
        },
        {
          "output_type": "stream",
          "name": "stderr",
          "text": [
            "/usr/local/lib/python3.7/dist-packages/lightgbm/engine.py:118: UserWarning: Found `num_boost_round` in params. Will use it instead of argument\n",
            "  warnings.warn(\"Found `{}` in params. Will use it instead of argument\".format(alias))\n"
          ]
        },
        {
          "output_type": "execute_result",
          "data": {
            "text/plain": [
              "0.6940298507462687"
            ]
          },
          "metadata": {},
          "execution_count": 163
        }
      ]
    }
  ]
}