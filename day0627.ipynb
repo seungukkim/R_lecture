{
  "nbformat": 4,
  "nbformat_minor": 0,
  "metadata": {
    "colab": {
      "name": "day0627.ipynb",
      "provenance": [],
      "authorship_tag": "ABX9TyMwkLJ7FpdOOHL5qEMlIZt0",
      "include_colab_link": true
    },
    "kernelspec": {
      "name": "python3",
      "display_name": "Python 3"
    },
    "language_info": {
      "name": "python"
    }
  },
  "cells": [
    {
      "cell_type": "markdown",
      "metadata": {
        "id": "view-in-github",
        "colab_type": "text"
      },
      "source": [
        "<a href=\"https://colab.research.google.com/github/seungukkim/R_lecture/blob/main/day0627.ipynb\" target=\"_parent\"><img src=\"https://colab.research.google.com/assets/colab-badge.svg\" alt=\"Open In Colab\"/></a>"
      ]
    },
    {
      "cell_type": "code",
      "execution_count": null,
      "metadata": {
        "id": "0QOy70WQzKqw"
      },
      "outputs": [],
      "source": [
        ""
      ]
    },
    {
      "cell_type": "markdown",
      "source": [
        "---\n",
        "title:\"Python 기초문법\"\n",
        "date:'2022-06-27'\n",
        "---"
      ],
      "metadata": {
        "id": "q3FV7L05zO04"
      }
    },
    {
      "cell_type": "markdown",
      "source": [
        ""
      ],
      "metadata": {
        "id": "6OQvRbXAzfpZ"
      }
    },
    {
      "cell_type": "code",
      "source": [
        ""
      ],
      "metadata": {
        "id": "e7SWYWwCzNtN"
      },
      "execution_count": null,
      "outputs": []
    },
    {
      "cell_type": "markdown",
      "source": [
        "-Hello World"
      ],
      "metadata": {
        "id": "KCKYGTMoz4Fa"
      }
    },
    {
      "cell_type": "code",
      "source": [
        "print(\"Hello World\")"
      ],
      "metadata": {
        "colab": {
          "base_uri": "https://localhost:8080/"
        },
        "id": "VO6tqoclz75I",
        "outputId": "d08c41eb-c9da-40e0-e8b7-3a7e1305710f"
      },
      "execution_count": 1,
      "outputs": [
        {
          "output_type": "stream",
          "name": "stdout",
          "text": [
            "Hello World\n"
          ]
        }
      ]
    },
    {
      "cell_type": "markdown",
      "source": [
        "##주석 처리\n",
        "-1줄 주석\n",
        "\n",
        "-여러 줄 주석 처리\n",
        "\n",
        "*   함수 또는 클래스를 문서화 할 때 주로 사용\n",
        "\n",
        "-프로젝트 할 때 \n",
        "*   전체 공정 100\n",
        "*   코드 / 코드 문서화/ 한글작업 문서화\n",
        "\n",
        "\n"
      ],
      "metadata": {
        "id": "1c7IDgUs0F7C"
      }
    },
    {
      "cell_type": "code",
      "source": [
        "#print() 함수 사용\n",
        "# print(\"1줄 주석\")\n",
        "\"\"\"\n",
        "print(\"hello\")\n",
        "\"\"\"\n",
        "print(\"hello\")"
      ],
      "metadata": {
        "colab": {
          "base_uri": "https://localhost:8080/"
        },
        "id": "RrsTTqc-0JtW",
        "outputId": "e0603027-c23f-4f41-c6eb-fe40783317ad"
      },
      "execution_count": 3,
      "outputs": [
        {
          "output_type": "stream",
          "name": "stdout",
          "text": [
            "hello\n"
          ]
        }
      ]
    },
    {
      "cell_type": "markdown",
      "source": [
        "## 변수\n",
        "-자료형\n",
        "\n",
        "-스칼라형,non스칼라형\n"
      ],
      "metadata": {
        "id": "n79UYQ6A5e8P"
      }
    },
    {
      "cell_type": "markdown",
      "source": [
        "## 수치형 자료형\n",
        "- int,float"
      ],
      "metadata": {
        "id": "o4yJ9x0H5pUG"
      }
    },
    {
      "cell_type": "code",
      "source": [
        "num_int =1\n",
        "print(num_int)\n",
        "print(type(num_int))"
      ],
      "metadata": {
        "colab": {
          "base_uri": "https://localhost:8080/"
        },
        "id": "xeqMcdxE5u7i",
        "outputId": "ab8d031a-32e1-41b7-e898-7ddf2c2b842b"
      },
      "execution_count": 4,
      "outputs": [
        {
          "output_type": "stream",
          "name": "stdout",
          "text": [
            "1\n",
            "<class 'int'>\n"
          ]
        }
      ]
    },
    {
      "cell_type": "code",
      "source": [
        "num_float=0.1\n",
        "print(num_float)\n",
        "print(type(num_float))"
      ],
      "metadata": {
        "colab": {
          "base_uri": "https://localhost:8080/"
        },
        "id": "pdBZ7KRi6KjG",
        "outputId": "34b29dc0-8f8d-4e7b-bcc0-a61453039216"
      },
      "execution_count": 5,
      "outputs": [
        {
          "output_type": "stream",
          "name": "stdout",
          "text": [
            "0.1\n",
            "<class 'float'>\n"
          ]
        }
      ]
    },
    {
      "cell_type": "markdown",
      "source": [
        "### Bool형\n",
        "-True,False\n",
        "\n",
        "-R: TRUE,FALSE"
      ],
      "metadata": {
        "id": "Ec7pmBBH6UBD"
      }
    },
    {
      "cell_type": "code",
      "source": [
        "bool_true =True\n",
        "print(bool_true)\n",
        "print(type(bool_true))"
      ],
      "metadata": {
        "colab": {
          "base_uri": "https://localhost:8080/"
        },
        "id": "0K0oQQwG6iSm",
        "outputId": "4b350d1b-6d33-4be0-b0dc-fd5f15c9222a"
      },
      "execution_count": 6,
      "outputs": [
        {
          "output_type": "stream",
          "name": "stdout",
          "text": [
            "True\n",
            "<class 'bool'>\n"
          ]
        }
      ]
    },
    {
      "cell_type": "markdown",
      "source": [
        "### None 자료형\n",
        "-Null값, 값이 정해지지 않은 자료형\n",
        "\n"
      ],
      "metadata": {
        "id": "-4cnBkiK6w1I"
      }
    },
    {
      "cell_type": "code",
      "source": [
        "none_x=None\n",
        "print(none_x)\n",
        "print(type(none_x))"
      ],
      "metadata": {
        "colab": {
          "base_uri": "https://localhost:8080/"
        },
        "id": "NzRraHC064yd",
        "outputId": "e6ea5eb4-1620-461f-e277-5aa0f3d7be9d"
      },
      "execution_count": 8,
      "outputs": [
        {
          "output_type": "stream",
          "name": "stdout",
          "text": [
            "None\n",
            "<class 'NoneType'>\n"
          ]
        }
      ]
    },
    {
      "cell_type": "markdown",
      "source": [
        "## 사칙연산\n",
        "정수형 사칙연산, 실수형 사칙연산\n",
        "\n",
        "*   정수형 사칙연산, 실수형 사칙연산\n",
        "*   결과값의 자료형\n",
        "*   +,-,*,/\n",
        "*   \n",
        "\n",
        "\n",
        "\n"
      ],
      "metadata": {
        "id": "Oo9BZY6z7bOD"
      }
    },
    {
      "cell_type": "markdown",
      "source": [
        ""
      ],
      "metadata": {
        "id": "XrSH3kHg9RPK"
      }
    },
    {
      "cell_type": "code",
      "source": [
        "a=3\n",
        "b=2\n",
        "print('a + b = ',a+b)\n",
        "print('a - b = ',a-b)\n",
        "print('a * b = ',a*b)\n",
        "print('a / b = ',a/b)"
      ],
      "metadata": {
        "colab": {
          "base_uri": "https://localhost:8080/"
        },
        "id": "0oeOhJ6l7rTD",
        "outputId": "ae6cc407-68b2-4b9b-ac64-7177cf526eaf"
      },
      "execution_count": 11,
      "outputs": [
        {
          "output_type": "stream",
          "name": "stdout",
          "text": [
            "a + b =  5\n",
            "a - b =  1\n",
            "a * b =  6\n",
            "a / b =  1.5\n"
          ]
        }
      ]
    },
    {
      "cell_type": "code",
      "source": [
        "a=1.5\n",
        "b=2.5\n",
        "print('a + b = ',a+b)\n",
        "print('a - b = ',a-b)\n",
        "print('a * b = ',a*b)\n",
        "print('a / b = ',a/b)"
      ],
      "metadata": {
        "colab": {
          "base_uri": "https://localhost:8080/"
        },
        "id": "Xnap_cYS78wi",
        "outputId": "30bcaf48-d829-4d94-ac45-cb953f7c3d4b"
      },
      "execution_count": 12,
      "outputs": [
        {
          "output_type": "stream",
          "name": "stdout",
          "text": [
            "a + b =  4.0\n",
            "a - b =  -1.0\n",
            "a * b =  3.75\n",
            "a / b =  0.6\n"
          ]
        }
      ]
    },
    {
      "cell_type": "markdown",
      "source": [
        "##논리형 연산자\n",
        "\n",
        "*   Bool형\n",
        "*   True와 False 값으로 정의\n",
        "*   조건식\n",
        "> *교집합(and), 합집합(or)\n",
        "\n",
        "\n",
        "\n",
        "\n",
        "\n"
      ],
      "metadata": {
        "id": "LAnFmz9T9a-i"
      }
    },
    {
      "cell_type": "code",
      "source": [
        "print(True and True)\n",
        "print(True and False)\n",
        "print(False and True)\n",
        "print(False and False)\n",
        "print(True or True)\n",
        "print(True or False)\n",
        "print(False or True)\n",
        "print(False or False)"
      ],
      "metadata": {
        "colab": {
          "base_uri": "https://localhost:8080/"
        },
        "id": "DvG4rGWk9y5b",
        "outputId": "09af6ee7-7345-4d2a-bfd4-b666205df49f"
      },
      "execution_count": 13,
      "outputs": [
        {
          "output_type": "stream",
          "name": "stdout",
          "text": [
            "True\n",
            "False\n",
            "False\n",
            "False\n",
            "True\n",
            "True\n",
            "True\n",
            "False\n"
          ]
        }
      ]
    },
    {
      "cell_type": "markdown",
      "source": [
        "##비교 연산자\n",
        "- 비교 연산자는 부등호를 의미한다."
      ],
      "metadata": {
        "id": "SYRdVSB--Kdu"
      }
    },
    {
      "cell_type": "code",
      "source": [
        "print(4>3)\n",
        "print(4<3)\n",
        "a=4>3\n",
        "print(a)\n",
        "print(4>3 and 3>4)"
      ],
      "metadata": {
        "colab": {
          "base_uri": "https://localhost:8080/"
        },
        "id": "euCCNaAc-PpE",
        "outputId": "b4c89ac3-e992-46ff-957c-5f93f0b83f9c"
      },
      "execution_count": 16,
      "outputs": [
        {
          "output_type": "stream",
          "name": "stdout",
          "text": [
            "True\n",
            "False\n",
            "True\n",
            "False\n"
          ]
        }
      ]
    },
    {
      "cell_type": "markdown",
      "source": [
        "## 논리형 &비교 연산자 응용\n",
        "- input()\n",
        "- 형변환\n",
        "- 데이터 타입을 바꾸는 것"
      ],
      "metadata": {
        "id": "DqZE7s7D-514"
      }
    },
    {
      "cell_type": "code",
      "source": [
        "var=int (input(\"숫자를 입력하세요\"))\n",
        "print(var)\n",
        "print(type(var))"
      ],
      "metadata": {
        "colab": {
          "base_uri": "https://localhost:8080/"
        },
        "id": "7Z_ZeJ3N_A8i",
        "outputId": "80ec7adf-37f1-46e5-a8dc-0d7113e89b4e"
      },
      "execution_count": 19,
      "outputs": [
        {
          "output_type": "stream",
          "name": "stdout",
          "text": [
            "숫자를 입력하세요1\n",
            "1\n",
            "<class 'int'>\n"
          ]
        }
      ]
    },
    {
      "cell_type": "code",
      "source": [
        "num1= int(input(\"첫번째 숫자를 입력하세요\"))\n",
        "num2= int(input(\"두번째 숫자를 입력하세요\"))\n",
        "num3= int(input(\"세번째 숫자를 입력하세요\"))\n",
        "num4= int(input(\"네번째 숫자를 입력하세요\"))\n",
        "\n"
      ],
      "metadata": {
        "colab": {
          "base_uri": "https://localhost:8080/"
        },
        "id": "4imgPsE__0sy",
        "outputId": "71ee57bb-e82e-45ff-dc34-b3751fae877f"
      },
      "execution_count": 21,
      "outputs": [
        {
          "name": "stdout",
          "output_type": "stream",
          "text": [
            "첫번째 숫자를 입력하세요100\n",
            "두번째 숫자를 입력하세요200\n",
            "세번째 숫자를 입력하세요12\n",
            "네번째 숫자를 입력하세요150\n"
          ]
        }
      ]
    },
    {
      "cell_type": "code",
      "source": [
        "var1=num1>=num2\n",
        "var2=num3<num4"
      ],
      "metadata": {
        "id": "vURid3hzAAvm"
      },
      "execution_count": 22,
      "outputs": []
    },
    {
      "cell_type": "code",
      "source": [
        "print(var1 and  var2)"
      ],
      "metadata": {
        "colab": {
          "base_uri": "https://localhost:8080/"
        },
        "id": "cbT7f9irAKRo",
        "outputId": "bc558043-376a-465e-c649-d90efb2dd51e"
      },
      "execution_count": 23,
      "outputs": [
        {
          "output_type": "stream",
          "name": "stdout",
          "text": [
            "False\n"
          ]
        }
      ]
    },
    {
      "cell_type": "markdown",
      "source": [
        "##Stirng\n",
        "- Non Scalar\n"
      ],
      "metadata": {
        "id": "oGh089j0Bw2A"
      }
    },
    {
      "cell_type": "code",
      "source": [
        "print('Hello World')\n",
        "print(\"Hello World\")\n",
        "print('\"Hello World\"')\n",
        "print(\"'Hello World'\")"
      ],
      "metadata": {
        "colab": {
          "base_uri": "https://localhost:8080/"
        },
        "id": "QeuxqMMBB4J5",
        "outputId": "a7fa3224-0511-4279-e74d-8a5d93056cfd"
      },
      "execution_count": 26,
      "outputs": [
        {
          "output_type": "stream",
          "name": "stdout",
          "text": [
            "Hello World\n",
            "Hello World\n",
            "\"Hello World\"\n"
          ]
        }
      ]
    },
    {
      "cell_type": "markdown",
      "source": [
        "### String Operators\n",
        "- 문자열 연산자\n",
        "- +,* 가능"
      ],
      "metadata": {
        "id": "ir-Dm0B-CbQj"
      }
    },
    {
      "cell_type": "code",
      "source": [
        "str1=\"Hello \"\n",
        "str2=\"World\"\n",
        "print(str1 + str2)\n"
      ],
      "metadata": {
        "colab": {
          "base_uri": "https://localhost:8080/"
        },
        "id": "JbTBrMowCkeI",
        "outputId": "78805223-a80f-4d81-b931-e2223b900524"
      },
      "execution_count": 29,
      "outputs": [
        {
          "output_type": "stream",
          "name": "stdout",
          "text": [
            "Hello World\n"
          ]
        }
      ]
    },
    {
      "cell_type": "code",
      "source": [
        "greet = str1 + str2\n",
        "print(greet *2)"
      ],
      "metadata": {
        "colab": {
          "base_uri": "https://localhost:8080/"
        },
        "id": "uwFiATwgC21G",
        "outputId": "e118b98a-2d42-4405-b6b5-ac1240359745"
      },
      "execution_count": 30,
      "outputs": [
        {
          "output_type": "stream",
          "name": "stdout",
          "text": [
            "Hello WorldHello World\n"
          ]
        }
      ]
    },
    {
      "cell_type": "code",
      "source": [
        "multiline = \"Life is too short\\nYou need python\"\n",
        "print(multiline)"
      ],
      "metadata": {
        "colab": {
          "base_uri": "https://localhost:8080/"
        },
        "id": "ffGhhfXED5pG",
        "outputId": "10653207-2d34-43c0-ad0a-66154d89cbb0"
      },
      "execution_count": 32,
      "outputs": [
        {
          "output_type": "stream",
          "name": "stdout",
          "text": [
            "Life is too short\n",
            "You need python\n"
          ]
        }
      ]
    },
    {
      "cell_type": "code",
      "source": [
        "head =\"Python\"\n",
        "tail=\" is fun!\"\n",
        "head+tail"
      ],
      "metadata": {
        "colab": {
          "base_uri": "https://localhost:8080/",
          "height": 35
        },
        "id": "0-l4QP8uEEk1",
        "outputId": "dbfd4f92-7b0e-4f2c-f102-065eb1473d27"
      },
      "execution_count": 34,
      "outputs": [
        {
          "output_type": "execute_result",
          "data": {
            "text/plain": [
              "'Python is fun!'"
            ],
            "application/vnd.google.colaboratory.intrinsic+json": {
              "type": "string"
            }
          },
          "metadata": {},
          "execution_count": 34
        }
      ]
    },
    {
      "cell_type": "code",
      "source": [
        "a=\"Life is too short, You need Python\"\n",
        "a[0:4]"
      ],
      "metadata": {
        "colab": {
          "base_uri": "https://localhost:8080/",
          "height": 35
        },
        "id": "501poY1REe1x",
        "outputId": "c419b9d6-f0da-4915-ef75-155a87bb099a"
      },
      "execution_count": 35,
      "outputs": [
        {
          "output_type": "execute_result",
          "data": {
            "text/plain": [
              "'Life'"
            ],
            "application/vnd.google.colaboratory.intrinsic+json": {
              "type": "string"
            }
          },
          "metadata": {},
          "execution_count": 35
        }
      ]
    },
    {
      "cell_type": "code",
      "source": [
        "a=\"20220627Rainy\"\n",
        "date=a[:8]\n",
        "weather= a[8:]\n",
        "date\n",
        "weather\n"
      ],
      "metadata": {
        "colab": {
          "base_uri": "https://localhost:8080/",
          "height": 35
        },
        "id": "r--kivIBEvym",
        "outputId": "5791a2d5-9e0c-4e2d-f897-21869ac97d1d"
      },
      "execution_count": 41,
      "outputs": [
        {
          "output_type": "execute_result",
          "data": {
            "text/plain": [
              "'Rainy'"
            ],
            "application/vnd.google.colaboratory.intrinsic+json": {
              "type": "string"
            }
          },
          "metadata": {},
          "execution_count": 41
        }
      ]
    },
    {
      "cell_type": "code",
      "source": [
        "number=3\n",
        "\"I eat {} apples\".format(number)"
      ],
      "metadata": {
        "colab": {
          "base_uri": "https://localhost:8080/",
          "height": 35
        },
        "id": "o1WIFrnwFUYA",
        "outputId": "9f6ddfc9-4f44-42dd-beac-fba67c113a2d"
      },
      "execution_count": 42,
      "outputs": [
        {
          "output_type": "execute_result",
          "data": {
            "text/plain": [
              "'I eat 3 apples'"
            ],
            "application/vnd.google.colaboratory.intrinsic+json": {
              "type": "string"
            }
          },
          "metadata": {},
          "execution_count": 42
        }
      ]
    },
    {
      "cell_type": "code",
      "source": [
        "nubmer=10\n",
        "day=\"three \"\n",
        "\n",
        "\"I ate {} apples. So I was sick for {}days\".format(number,day)"
      ],
      "metadata": {
        "colab": {
          "base_uri": "https://localhost:8080/",
          "height": 35
        },
        "id": "rTkp4u03FcTW",
        "outputId": "a257f459-1cac-4f7e-d9ec-87cd10f1e5df"
      },
      "execution_count": 44,
      "outputs": [
        {
          "output_type": "execute_result",
          "data": {
            "text/plain": [
              "'I ate 3 apples. So I was sick for three dyas'"
            ],
            "application/vnd.google.colaboratory.intrinsic+json": {
              "type": "string"
            }
          },
          "metadata": {},
          "execution_count": 44
        }
      ]
    },
    {
      "cell_type": "code",
      "source": [
        "\"I ate {0} apples. so I was sick for {day} days\". format(10,day=3)"
      ],
      "metadata": {
        "colab": {
          "base_uri": "https://localhost:8080/",
          "height": 35
        },
        "id": "pbM8vfESFulS",
        "outputId": "05dc62e9-8d84-42fe-c4e0-5385efb7dc47"
      },
      "execution_count": 45,
      "outputs": [
        {
          "output_type": "execute_result",
          "data": {
            "text/plain": [
              "'I ate 10 apples. so I was sick for 3 days'"
            ],
            "application/vnd.google.colaboratory.intrinsic+json": {
              "type": "string"
            }
          },
          "metadata": {},
          "execution_count": 45
        }
      ]
    },
    {
      "cell_type": "markdown",
      "source": [
        "##문자 개수 세기"
      ],
      "metadata": {
        "id": "hZ2Z_Rm3GMCt"
      }
    },
    {
      "cell_type": "code",
      "source": [
        "a=\"hobby\"\n",
        "a.count('b')"
      ],
      "metadata": {
        "colab": {
          "base_uri": "https://localhost:8080/"
        },
        "id": "xyeBCM19GH-f",
        "outputId": "a7d284f7-8c0b-4089-da90-f699f8dfbd1d"
      },
      "execution_count": 46,
      "outputs": [
        {
          "output_type": "execute_result",
          "data": {
            "text/plain": [
              "2"
            ]
          },
          "metadata": {},
          "execution_count": 46
        }
      ]
    },
    {
      "cell_type": "markdown",
      "source": [
        "## 위치 알려주기"
      ],
      "metadata": {
        "id": "OGUSdDl1GU4_"
      }
    },
    {
      "cell_type": "code",
      "source": [
        "a=\"Life is too short\"\n",
        "a.index('t')"
      ],
      "metadata": {
        "colab": {
          "base_uri": "https://localhost:8080/"
        },
        "id": "KuwP3hU_GWkk",
        "outputId": "96f7b4c6-3d67-491b-aa29-45e05b53fe53"
      },
      "execution_count": 47,
      "outputs": [
        {
          "output_type": "execute_result",
          "data": {
            "text/plain": [
              "8"
            ]
          },
          "metadata": {},
          "execution_count": 47
        }
      ]
    },
    {
      "cell_type": "markdown",
      "source": [
        "## , 삽입하기"
      ],
      "metadata": {
        "id": "4RHErvjJG9L4"
      }
    },
    {
      "cell_type": "code",
      "source": [
        "\",\".join('abcd')"
      ],
      "metadata": {
        "colab": {
          "base_uri": "https://localhost:8080/",
          "height": 35
        },
        "id": "vCdFS_-IG5y9",
        "outputId": "87431749-8896-45cd-e37b-cfea9f975dc8"
      },
      "execution_count": 48,
      "outputs": [
        {
          "output_type": "execute_result",
          "data": {
            "text/plain": [
              "'a,b,c,d'"
            ],
            "application/vnd.google.colaboratory.intrinsic+json": {
              "type": "string"
            }
          },
          "metadata": {},
          "execution_count": 48
        }
      ]
    },
    {
      "cell_type": "code",
      "source": [
        "a=\"Life is too short\"\n",
        "a.replace(\"Life\",\"Your leg\")"
      ],
      "metadata": {
        "colab": {
          "base_uri": "https://localhost:8080/",
          "height": 35
        },
        "id": "LfjmCC0zHHnS",
        "outputId": "3a20c5a4-56cb-494d-d310-27f93465b368"
      },
      "execution_count": 49,
      "outputs": [
        {
          "output_type": "execute_result",
          "data": {
            "text/plain": [
              "'Your leg is too short'"
            ],
            "application/vnd.google.colaboratory.intrinsic+json": {
              "type": "string"
            }
          },
          "metadata": {},
          "execution_count": 49
        }
      ]
    },
    {
      "cell_type": "code",
      "source": [
        "a=[1,2,3,['a','b','c']]\n",
        "a[0]\n",
        "a[3]\n",
        "a[3][0]"
      ],
      "metadata": {
        "colab": {
          "base_uri": "https://localhost:8080/",
          "height": 35
        },
        "id": "N_g06bZ0Hw6Q",
        "outputId": "46489c8a-730c-408c-9aa6-f27cca41ac87"
      },
      "execution_count": 51,
      "outputs": [
        {
          "output_type": "execute_result",
          "data": {
            "text/plain": [
              "'a'"
            ],
            "application/vnd.google.colaboratory.intrinsic+json": {
              "type": "string"
            }
          },
          "metadata": {},
          "execution_count": 51
        }
      ]
    },
    {
      "cell_type": "code",
      "source": [
        "a=[1,2,3]\n",
        "b=[4,5,6]\n",
        "\n",
        "a+b"
      ],
      "metadata": {
        "colab": {
          "base_uri": "https://localhost:8080/"
        },
        "id": "b8hIIO3tI-oP",
        "outputId": "5e4701b9-d8fd-47c5-ba15-b8dc6fa3fbfb"
      },
      "execution_count": 52,
      "outputs": [
        {
          "output_type": "execute_result",
          "data": {
            "text/plain": [
              "[1, 2, 3, 4, 5, 6]"
            ]
          },
          "metadata": {},
          "execution_count": 52
        }
      ]
    },
    {
      "cell_type": "code",
      "source": [
        "a=[1,2,3]\n",
        "len(a)"
      ],
      "metadata": {
        "colab": {
          "base_uri": "https://localhost:8080/"
        },
        "id": "9rA05DLYJE0s",
        "outputId": "9b842d2f-28d5-454d-ffba-8be070cc846f"
      },
      "execution_count": 53,
      "outputs": [
        {
          "output_type": "execute_result",
          "data": {
            "text/plain": [
              "3"
            ]
          },
          "metadata": {},
          "execution_count": 53
        }
      ]
    },
    {
      "cell_type": "code",
      "source": [
        "a=[1,2,3,4,5]\n",
        "del a[2:]\n",
        "a"
      ],
      "metadata": {
        "colab": {
          "base_uri": "https://localhost:8080/"
        },
        "id": "9rsCUEY8JMCZ",
        "outputId": "b305a21d-5337-43c0-f643-e5e5ce0538e4"
      },
      "execution_count": 55,
      "outputs": [
        {
          "output_type": "execute_result",
          "data": {
            "text/plain": [
              "[1, 2]"
            ]
          },
          "metadata": {},
          "execution_count": 55
        }
      ]
    },
    {
      "cell_type": "code",
      "source": [
        "a=[1,2,3]\n",
        "a.append(4)\n",
        "a"
      ],
      "metadata": {
        "colab": {
          "base_uri": "https://localhost:8080/"
        },
        "id": "N49BYP5lJSNH",
        "outputId": "58aeeec3-4a26-4ef3-e1d2-6d0a917ef1b3"
      },
      "execution_count": 56,
      "outputs": [
        {
          "output_type": "execute_result",
          "data": {
            "text/plain": [
              "[1, 2, 3, 4]"
            ]
          },
          "metadata": {},
          "execution_count": 56
        }
      ]
    },
    {
      "cell_type": "code",
      "source": [
        "a=[1,2,3]\n",
        "a.append([5,6])\n",
        "a"
      ],
      "metadata": {
        "colab": {
          "base_uri": "https://localhost:8080/"
        },
        "id": "4BIQY9iBJWDo",
        "outputId": "cab9a220-7efc-4e2e-f327-02078289f28f"
      },
      "execution_count": 57,
      "outputs": [
        {
          "output_type": "execute_result",
          "data": {
            "text/plain": [
              "[1, 2, 3, [5, 6]]"
            ]
          },
          "metadata": {},
          "execution_count": 57
        }
      ]
    },
    {
      "cell_type": "code",
      "source": [
        "a=[1,2,3]\n",
        "a.insert(0,4)\n",
        "a\n"
      ],
      "metadata": {
        "colab": {
          "base_uri": "https://localhost:8080/"
        },
        "id": "RzshgmiZJisF",
        "outputId": "a8f3d3f7-ae20-4a78-87c9-cfc5ad1668ce"
      },
      "execution_count": 58,
      "outputs": [
        {
          "output_type": "execute_result",
          "data": {
            "text/plain": [
              "[4, 1, 2, 3]"
            ]
          },
          "metadata": {},
          "execution_count": 58
        }
      ]
    },
    {
      "cell_type": "code",
      "source": [
        "t1=(1,2,'a','b')\n",
        "t1[0]\n",
        "t1[3]"
      ],
      "metadata": {
        "colab": {
          "base_uri": "https://localhost:8080/",
          "height": 35
        },
        "id": "8VNMOclBKnvi",
        "outputId": "ebaf62a6-3621-4dac-b2d2-241579c7f5fc"
      },
      "execution_count": 61,
      "outputs": [
        {
          "output_type": "execute_result",
          "data": {
            "text/plain": [
              "'b'"
            ],
            "application/vnd.google.colaboratory.intrinsic+json": {
              "type": "string"
            }
          },
          "metadata": {},
          "execution_count": 61
        }
      ]
    },
    {
      "cell_type": "code",
      "source": [
        "t1=(1,2,'a','b')\n",
        "t2=(3,4)\n",
        "t1+t2"
      ],
      "metadata": {
        "colab": {
          "base_uri": "https://localhost:8080/"
        },
        "id": "xElgkMS5K2jm",
        "outputId": "c2b9166c-071e-4d81-fe03-fe53bc1bd0b2"
      },
      "execution_count": 62,
      "outputs": [
        {
          "output_type": "execute_result",
          "data": {
            "text/plain": [
              "(1, 2, 'a', 'b', 3, 4)"
            ]
          },
          "metadata": {},
          "execution_count": 62
        }
      ]
    },
    {
      "cell_type": "code",
      "source": [
        "a={'name':'김승욱','phone':'01096270326','birth':'0323'}\n",
        "a.get('name')\n",
        "a.get('phone')"
      ],
      "metadata": {
        "colab": {
          "base_uri": "https://localhost:8080/",
          "height": 35
        },
        "id": "EU2J7Ao1LLK4",
        "outputId": "040da60d-cd26-4d9f-87c3-edd5395d830e"
      },
      "execution_count": 64,
      "outputs": [
        {
          "output_type": "execute_result",
          "data": {
            "text/plain": [
              "'01096270326'"
            ],
            "application/vnd.google.colaboratory.intrinsic+json": {
              "type": "string"
            }
          },
          "metadata": {},
          "execution_count": 64
        }
      ]
    },
    {
      "cell_type": "code",
      "source": [
        "s1=set([1,2,3])\n",
        "s1"
      ],
      "metadata": {
        "colab": {
          "base_uri": "https://localhost:8080/"
        },
        "id": "WOJ68z9bLunr",
        "outputId": "3d457ab8-0bce-45f4-eae3-725889e70da2"
      },
      "execution_count": 65,
      "outputs": [
        {
          "output_type": "execute_result",
          "data": {
            "text/plain": [
              "{1, 2, 3}"
            ]
          },
          "metadata": {},
          "execution_count": 65
        }
      ]
    },
    {
      "cell_type": "code",
      "source": [
        "s2=set(\"Hello\")\n",
        "s2"
      ],
      "metadata": {
        "colab": {
          "base_uri": "https://localhost:8080/"
        },
        "id": "s00cWvE8Lyzl",
        "outputId": "de1938a1-b66c-450f-bbd0-6afcb0858129"
      },
      "execution_count": 66,
      "outputs": [
        {
          "output_type": "execute_result",
          "data": {
            "text/plain": [
              "{'H', 'e', 'l', 'o'}"
            ]
          },
          "metadata": {},
          "execution_count": 66
        }
      ]
    },
    {
      "cell_type": "code",
      "source": [
        "s1=set([1,2,3])\n",
        "l1=list(s1)\n",
        "l1"
      ],
      "metadata": {
        "colab": {
          "base_uri": "https://localhost:8080/"
        },
        "id": "vcAnRhk-L6ZP",
        "outputId": "37c1541f-f8f2-47fc-c043-d83d70f355f7"
      },
      "execution_count": 67,
      "outputs": [
        {
          "output_type": "execute_result",
          "data": {
            "text/plain": [
              "[1, 2, 3]"
            ]
          },
          "metadata": {},
          "execution_count": 67
        }
      ]
    },
    {
      "cell_type": "code",
      "source": [
        "a=[1,2,3]\n",
        "id(a)"
      ],
      "metadata": {
        "colab": {
          "base_uri": "https://localhost:8080/"
        },
        "id": "8urPQiZqMxnl",
        "outputId": "a4c9980d-87d9-4271-b282-54e68c9482fe"
      },
      "execution_count": 68,
      "outputs": [
        {
          "output_type": "execute_result",
          "data": {
            "text/plain": [
              "140084781446080"
            ]
          },
          "metadata": {},
          "execution_count": 68
        }
      ]
    },
    {
      "cell_type": "markdown",
      "source": [
        "##Q1"
      ],
      "metadata": {
        "id": "ZuZm6Pfkm2fR"
      }
    },
    {
      "cell_type": "code",
      "source": [
        "a=80\n",
        "b=75\n",
        "c=55\n",
        "add=80+75+55\n",
        "mean=add/3\n",
        "mean\n"
      ],
      "metadata": {
        "colab": {
          "base_uri": "https://localhost:8080/"
        },
        "id": "PXsi3o78QAqA",
        "outputId": "6e0a7548-7300-4313-977e-78ff8206fd0a"
      },
      "execution_count": 71,
      "outputs": [
        {
          "output_type": "execute_result",
          "data": {
            "text/plain": [
              "70.0"
            ]
          },
          "metadata": {},
          "execution_count": 71
        }
      ]
    },
    {
      "cell_type": "markdown",
      "source": [
        "##Q2"
      ],
      "metadata": {
        "id": "zYlBYBeVmw-W"
      }
    },
    {
      "cell_type": "code",
      "source": [
        "a=13\n",
        "if(a%2==0):\n",
        "  print(\"짝수다\")\n",
        "else:\n",
        "  print(\"홀수다\")"
      ],
      "metadata": {
        "colab": {
          "base_uri": "https://localhost:8080/"
        },
        "id": "WL58s1b9QaAh",
        "outputId": "767a2b4c-963c-4e32-d310-f68f764c67fe"
      },
      "execution_count": 72,
      "outputs": [
        {
          "output_type": "stream",
          "name": "stdout",
          "text": [
            "홀수다\n"
          ]
        }
      ]
    },
    {
      "cell_type": "markdown",
      "source": [
        "##Q3"
      ],
      "metadata": {
        "id": "F-0o1-YCm39s"
      }
    },
    {
      "cell_type": "code",
      "source": [
        "a=\"881120-1068234\"\n",
        "print(\"19\"+a[:2])\n",
        "print(a[2:6])"
      ],
      "metadata": {
        "colab": {
          "base_uri": "https://localhost:8080/"
        },
        "id": "ovylNZ8aQudi",
        "outputId": "1ee25249-7110-44a0-eca0-afb7b895c7c3"
      },
      "execution_count": 74,
      "outputs": [
        {
          "output_type": "stream",
          "name": "stdout",
          "text": [
            "1988\n",
            "1120\n"
          ]
        }
      ]
    },
    {
      "cell_type": "markdown",
      "source": [
        "##Q4"
      ],
      "metadata": {
        "id": "nVTLeF0xmtQb"
      }
    },
    {
      "cell_type": "code",
      "source": [
        "a=\"a:b:c:d\"\n",
        "a.replace(\":\",\"#\")\n"
      ],
      "metadata": {
        "colab": {
          "base_uri": "https://localhost:8080/",
          "height": 35
        },
        "id": "CvV7H33yRsji",
        "outputId": "4a62d214-1254-4571-a8cb-f8f465b01be2"
      },
      "execution_count": 93,
      "outputs": [
        {
          "output_type": "execute_result",
          "data": {
            "text/plain": [
              "'a#b#c#d'"
            ],
            "application/vnd.google.colaboratory.intrinsic+json": {
              "type": "string"
            }
          },
          "metadata": {},
          "execution_count": 93
        }
      ]
    },
    {
      "cell_type": "markdown",
      "source": [
        "##Q5"
      ],
      "metadata": {
        "id": "OxeIXkqImpxK"
      }
    },
    {
      "cell_type": "code",
      "source": [
        "pin=\"881120-1068234\"\n",
        "\n",
        "if(pin[7]=='1'):\n",
        "  print(\"남자다\")\n",
        "else:\n",
        "  print(\"여자다\")"
      ],
      "metadata": {
        "colab": {
          "base_uri": "https://localhost:8080/"
        },
        "id": "Km3uy-mUSPOw",
        "outputId": "34338840-d426-497e-9a9f-7d7b132ac22e"
      },
      "execution_count": 80,
      "outputs": [
        {
          "output_type": "stream",
          "name": "stdout",
          "text": [
            "남자다\n"
          ]
        }
      ]
    },
    {
      "cell_type": "markdown",
      "source": [
        "##Q6"
      ],
      "metadata": {
        "id": "XdTc6B_wmn0D"
      }
    },
    {
      "cell_type": "code",
      "source": [
        "a=[1,3,5,4,2]\n",
        "a.sort()\n",
        "a.reverse()\n",
        "a"
      ],
      "metadata": {
        "colab": {
          "base_uri": "https://localhost:8080/"
        },
        "id": "XaZ_0TcuSu4k",
        "outputId": "feb9c93b-7512-443d-e78d-e4cfded909a1"
      },
      "execution_count": 83,
      "outputs": [
        {
          "output_type": "execute_result",
          "data": {
            "text/plain": [
              "[5, 4, 3, 2, 1]"
            ]
          },
          "metadata": {},
          "execution_count": 83
        }
      ]
    },
    {
      "cell_type": "markdown",
      "source": [
        "##Q7"
      ],
      "metadata": {
        "id": "c7cW7fvwmlmN"
      }
    },
    {
      "cell_type": "code",
      "source": [
        "a=['Life', 'is', 'too','short']\n",
        "\" \".join(a)"
      ],
      "metadata": {
        "colab": {
          "base_uri": "https://localhost:8080/",
          "height": 35
        },
        "id": "I4du6f5_f1Tk",
        "outputId": "024bba18-9ba2-4ded-9b99-b33679ba163e"
      },
      "execution_count": 88,
      "outputs": [
        {
          "output_type": "execute_result",
          "data": {
            "text/plain": [
              "'Life is too short'"
            ],
            "application/vnd.google.colaboratory.intrinsic+json": {
              "type": "string"
            }
          },
          "metadata": {},
          "execution_count": 88
        }
      ]
    },
    {
      "cell_type": "markdown",
      "source": [
        "##Q8"
      ],
      "metadata": {
        "id": "Nh1iNw4_mjRJ"
      }
    },
    {
      "cell_type": "code",
      "source": [
        "a=[1,2,3]\n",
        "a.insert(0,4)\n",
        "a\n"
      ],
      "metadata": {
        "colab": {
          "base_uri": "https://localhost:8080/"
        },
        "id": "9rTo6n8jgqcw",
        "outputId": "103cd274-42d8-4da9-c928-d8c88beead5f"
      },
      "execution_count": 91,
      "outputs": [
        {
          "output_type": "execute_result",
          "data": {
            "text/plain": [
              "[4, 1, 2, 3]"
            ]
          },
          "metadata": {},
          "execution_count": 91
        }
      ]
    },
    {
      "cell_type": "markdown",
      "source": [
        "##슬라이싱"
      ],
      "metadata": {
        "id": "DZNDJWQfi6vj"
      }
    },
    {
      "cell_type": "code",
      "source": [
        "greeting=\"Hello Kaggle\"\n",
        "print(greeting[:5])"
      ],
      "metadata": {
        "colab": {
          "base_uri": "https://localhost:8080/"
        },
        "id": "ffRl9PUJi2Cw",
        "outputId": "4608ff11-9dc8-4618-b08b-f52cc0817eea"
      },
      "execution_count": 96,
      "outputs": [
        {
          "output_type": "stream",
          "name": "stdout",
          "text": [
            "Hello\n"
          ]
        }
      ]
    },
    {
      "cell_type": "markdown",
      "source": [
        "##Q9"
      ],
      "metadata": {
        "id": "g8WXGcQXjKPB"
      }
    },
    {
      "cell_type": "code",
      "source": [
        "a=dict()\n",
        "b=dict()\n",
        "c=dict()\n",
        "d=dict()"
      ],
      "metadata": {
        "id": "39CGwSykjMG4"
      },
      "execution_count": 107,
      "outputs": []
    },
    {
      "cell_type": "code",
      "source": [
        "a['name']='python'\n",
        "a"
      ],
      "metadata": {
        "colab": {
          "base_uri": "https://localhost:8080/"
        },
        "id": "LDxbLEpgjfh3",
        "outputId": "bb2d7267-d325-47c9-fa6e-0ec2dc5b24b9"
      },
      "execution_count": 109,
      "outputs": [
        {
          "output_type": "execute_result",
          "data": {
            "text/plain": [
              "{'name': 'python'}"
            ]
          },
          "metadata": {},
          "execution_count": 109
        }
      ]
    },
    {
      "cell_type": "code",
      "source": [
        "b[('b,')]='python'\n",
        "b"
      ],
      "metadata": {
        "colab": {
          "base_uri": "https://localhost:8080/"
        },
        "id": "vAKk6TnGjflP",
        "outputId": "a704f400-a813-4438-c547-593ab3252409"
      },
      "execution_count": 111,
      "outputs": [
        {
          "output_type": "execute_result",
          "data": {
            "text/plain": [
              "{'b,': 'python'}"
            ]
          },
          "metadata": {},
          "execution_count": 111
        }
      ]
    },
    {
      "cell_type": "code",
      "source": [
        "d[250]='python'\n",
        "d"
      ],
      "metadata": {
        "colab": {
          "base_uri": "https://localhost:8080/"
        },
        "id": "ZoRIsR5MkAzq",
        "outputId": "653431fc-473f-4efa-d1f7-43dfbba86f3e"
      },
      "execution_count": 113,
      "outputs": [
        {
          "output_type": "execute_result",
          "data": {
            "text/plain": [
              "{250: 'python'}"
            ]
          },
          "metadata": {},
          "execution_count": 113
        }
      ]
    },
    {
      "cell_type": "markdown",
      "source": [
        "##Q10"
      ],
      "metadata": {
        "id": "l4UiYLMpkJyn"
      }
    },
    {
      "cell_type": "code",
      "source": [
        "a={'A':90, 'B':80,'C':70}\n",
        "a\n",
        "a['B']"
      ],
      "metadata": {
        "colab": {
          "base_uri": "https://localhost:8080/"
        },
        "id": "E5zFaRb6kNMK",
        "outputId": "11c9266e-e164-4e35-cda7-acbba5d9e175"
      },
      "execution_count": 118,
      "outputs": [
        {
          "output_type": "execute_result",
          "data": {
            "text/plain": [
              "80"
            ]
          },
          "metadata": {},
          "execution_count": 118
        }
      ]
    },
    {
      "cell_type": "markdown",
      "source": [
        "##Q11"
      ],
      "metadata": {
        "id": "B06pC4C4mS9H"
      }
    },
    {
      "cell_type": "code",
      "source": [
        "a=[1,1,1,2,2,3,3,3,4,4,5]\n",
        "a1=set(a)\n",
        "a2=list(a1)\n",
        "a2"
      ],
      "metadata": {
        "colab": {
          "base_uri": "https://localhost:8080/"
        },
        "id": "ZDHPe5kGkQYX",
        "outputId": "52fb294f-9e68-4260-ba2b-c05c06472f75"
      },
      "execution_count": 121,
      "outputs": [
        {
          "output_type": "execute_result",
          "data": {
            "text/plain": [
              "[1, 2, 3, 4, 5]"
            ]
          },
          "metadata": {},
          "execution_count": 121
        }
      ]
    },
    {
      "cell_type": "markdown",
      "source": [
        "##Q12"
      ],
      "metadata": {
        "id": "3OHimevvmVFz"
      }
    },
    {
      "cell_type": "code",
      "source": [
        "a=b=[1,2,3]\n",
        "a[1]=4\n",
        "print(b)"
      ],
      "metadata": {
        "colab": {
          "base_uri": "https://localhost:8080/"
        },
        "id": "ooDgVXXLm6Fm",
        "outputId": "b18a1ea3-03ef-4f1b-8eb2-8c516cf21531"
      },
      "execution_count": 122,
      "outputs": [
        {
          "output_type": "stream",
          "name": "stdout",
          "text": [
            "[1, 4, 3]\n"
          ]
        }
      ]
    },
    {
      "cell_type": "code",
      "source": [
        "from copy import copy\n",
        "a=[1,2,3]\n",
        "b=copy(a)\n",
        "a[1]=4\n",
        "b"
      ],
      "metadata": {
        "colab": {
          "base_uri": "https://localhost:8080/"
        },
        "id": "iDgrMjQ9nX7m",
        "outputId": "8fc11815-dd3a-4e4c-81ae-d6cad2af113a"
      },
      "execution_count": 124,
      "outputs": [
        {
          "output_type": "execute_result",
          "data": {
            "text/plain": [
              "[1, 2, 3]"
            ]
          },
          "metadata": {},
          "execution_count": 124
        }
      ]
    },
    {
      "cell_type": "markdown",
      "source": [
        "## if문"
      ],
      "metadata": {
        "id": "txoSry8VpKq5"
      }
    },
    {
      "cell_type": "code",
      "source": [
        "pocket = ['paper','cellphone', 'money']\n",
        "if 'money' in pocket:\n",
        "  print(\"택시 타라\")\n",
        "else:\n",
        "  print(\"걸어가라\")"
      ],
      "metadata": {
        "colab": {
          "base_uri": "https://localhost:8080/"
        },
        "id": "EevhGT0EpgEp",
        "outputId": "3c757202-7845-476a-be41-aaae244ea8e9"
      },
      "execution_count": 125,
      "outputs": [
        {
          "output_type": "stream",
          "name": "stdout",
          "text": [
            "택시 타라\n"
          ]
        }
      ]
    },
    {
      "cell_type": "markdown",
      "source": [
        "## if elif else"
      ],
      "metadata": {
        "id": "o-vyOUGGqVtM"
      }
    },
    {
      "cell_type": "code",
      "source": [
        "pocket=['paper','cellphone']\n",
        "card=bool_true\n",
        "if 'money' in pocket:\n",
        "  print(\"택시 타라\")\n",
        "elif card:\n",
        "  print(\" 택시 타라\")\n",
        "else:\n",
        "  print(\"걸어가라\")"
      ],
      "metadata": {
        "colab": {
          "base_uri": "https://localhost:8080/"
        },
        "id": "7Ivpf8jeqZkp",
        "outputId": "6694d092-5cf4-4864-f54f-41f59ae9406e"
      },
      "execution_count": 127,
      "outputs": [
        {
          "output_type": "stream",
          "name": "stdout",
          "text": [
            " 택시 타라\n"
          ]
        }
      ]
    },
    {
      "cell_type": "markdown",
      "source": [
        "##while"
      ],
      "metadata": {
        "id": "D6QIZZAlskhd"
      }
    },
    {
      "cell_type": "code",
      "source": [
        "treehit=0\n",
        "while treehit < 10:\n",
        "  treehit= treehit +1\n",
        "  print(\"나무를 %d 번 찍었습니다.\"%treehit)\n",
        "  if treehit ==10:\n",
        "    print(\"나무가 넘어간다\")\n"
      ],
      "metadata": {
        "colab": {
          "base_uri": "https://localhost:8080/"
        },
        "id": "5PvhM1R3qno6",
        "outputId": "1b2e588c-e17f-4c78-e8c6-b7409668045b"
      },
      "execution_count": 128,
      "outputs": [
        {
          "output_type": "stream",
          "name": "stdout",
          "text": [
            "나무를 1 번 찍었습니다.\n",
            "나무를 2 번 찍었습니다.\n",
            "나무를 3 번 찍었습니다.\n",
            "나무를 4 번 찍었습니다.\n",
            "나무를 5 번 찍었습니다.\n",
            "나무를 6 번 찍었습니다.\n",
            "나무를 7 번 찍었습니다.\n",
            "나무를 8 번 찍었습니다.\n",
            "나무를 9 번 찍었습니다.\n",
            "나무를 10 번 찍었습니다.\n",
            "나무가 넘어간다\n"
          ]
        }
      ]
    },
    {
      "cell_type": "code",
      "source": [
        "prompt=\"\"\"\n",
        "  1. add\n",
        "  2. del\n",
        "  3. list\n",
        "  4. quit\n",
        "\n",
        "  enter number:\"\"\"\n",
        "\n",
        "\n"
      ],
      "metadata": {
        "id": "tEL3S4g8s5dq"
      },
      "execution_count": 129,
      "outputs": []
    },
    {
      "cell_type": "code",
      "source": [
        "number=0\n",
        "while number!=4:\n",
        "  print(prompt)\n",
        "  number = int(input())"
      ],
      "metadata": {
        "colab": {
          "base_uri": "https://localhost:8080/"
        },
        "id": "7u3gwpT4thml",
        "outputId": "1a4c4a24-24dd-4e52-9309-0a6c0d02e465"
      },
      "execution_count": 131,
      "outputs": [
        {
          "name": "stdout",
          "output_type": "stream",
          "text": [
            "\n",
            "  1. add\n",
            "  2. del\n",
            "  3. list\n",
            "  4. quit\n",
            "\n",
            "  enter number:\n",
            "4\n"
          ]
        }
      ]
    },
    {
      "cell_type": "markdown",
      "source": [
        "## While문 강제로 빠져나가기"
      ],
      "metadata": {
        "id": "krA45_kWtzHv"
      }
    },
    {
      "cell_type": "code",
      "source": [
        "coffee =10\n",
        "while True:\n",
        "  money = int(input(\"돈을 넣어라\"))\n",
        "  if money ==300:\n",
        "    print(\"커피를 줍니다.\")\n",
        "    coffee = coffee -1\n",
        "  elif money>300:\n",
        "    print(\"거스름돈 %d를 주고 커피를 줍니다.\"%(money -300))\n",
        "    coffee-=1\n",
        "  else:\n",
        "    print(\"안줘 ㅎ\")\n",
        "\n",
        "  if coffee==0:\n",
        "    print(\"커피 없다 돌아가라\")\n",
        "    break"
      ],
      "metadata": {
        "colab": {
          "base_uri": "https://localhost:8080/"
        },
        "id": "ORDPQJI8t15g",
        "outputId": "cd6c9431-2b5e-448a-e51a-6af88b57d322"
      },
      "execution_count": 132,
      "outputs": [
        {
          "output_type": "stream",
          "name": "stdout",
          "text": [
            "돈을 넣어라500\n",
            "거스름돈 200를 주고 커피를 줍니다.\n",
            "돈을 넣어라100\n",
            "안줘 ㅎ\n",
            "돈을 넣어라300\n",
            "커피를 줍니다.\n",
            "돈을 넣어라300\n",
            "커피를 줍니다.\n",
            "돈을 넣어라300\n",
            "커피를 줍니다.\n",
            "돈을 넣어라300\n",
            "커피를 줍니다.\n",
            "돈을 넣어라300\n",
            "커피를 줍니다.\n",
            "돈을 넣어라300\n",
            "커피를 줍니다.\n",
            "돈을 넣어라540\n",
            "거스름돈 240를 주고 커피를 줍니다.\n",
            "돈을 넣어라320\n",
            "거스름돈 20를 주고 커피를 줍니다.\n",
            "돈을 넣어라532\n",
            "거스름돈 232를 주고 커피를 줍니다.\n",
            "커피 없다 돌아가라\n"
          ]
        }
      ]
    },
    {
      "cell_type": "code",
      "source": [
        "a=[1,2,3,4,5]\n",
        "rem = a.pop(1)\n",
        "print(a)\n",
        "print(rem)\n",
        "rem=a.pop()\n",
        "print(a)\n",
        "print(rem)\n"
      ],
      "metadata": {
        "colab": {
          "base_uri": "https://localhost:8080/"
        },
        "id": "A3RoUV-0vEtj",
        "outputId": "7e1bebca-4ee0-4298-c296-90330b7b49e1"
      },
      "execution_count": 137,
      "outputs": [
        {
          "output_type": "stream",
          "name": "stdout",
          "text": [
            "[1, 3, 4, 5]\n",
            "2\n",
            "[1, 3, 4]\n",
            "5\n"
          ]
        }
      ]
    },
    {
      "cell_type": "markdown",
      "source": [
        "- clear(): 리스트 내 모든 값 삭제\n",
        "- index(\"값\") : 값의 위치를 불러옴"
      ],
      "metadata": {
        "id": "TCdsdMp4vnVe"
      }
    },
    {
      "cell_type": "code",
      "source": [
        "a=[1,2,3,4,5]\n",
        "b=[\"철수\",\"영희\",\"길동\"]\n",
        "print(a.index(4))\n",
        "print(b.index(\"길동\"))"
      ],
      "metadata": {
        "colab": {
          "base_uri": "https://localhost:8080/"
        },
        "id": "IpR3rYcNvvAp",
        "outputId": "7dc20e96-487f-46c9-ad29-d4aff1816bad"
      },
      "execution_count": 140,
      "outputs": [
        {
          "output_type": "stream",
          "name": "stdout",
          "text": [
            "3\n",
            "2\n"
          ]
        }
      ]
    },
    {
      "cell_type": "markdown",
      "source": [
        "## while문의 맨 처음으로 돌아가기"
      ],
      "metadata": {
        "id": "Ny_WtBo_wPt7"
      }
    },
    {
      "cell_type": "code",
      "source": [
        "a=0\n",
        "b=100\n",
        "while a<10:\n",
        "  a=a+1\n",
        "  if a%2==0:\n",
        "    continue\n",
        "  print(a)\n",
        "  print(b)"
      ],
      "metadata": {
        "colab": {
          "base_uri": "https://localhost:8080/"
        },
        "id": "g6jJGQ03wSJt",
        "outputId": "4931d0f1-a707-40ad-921f-a5e7e6a537bd"
      },
      "execution_count": 146,
      "outputs": [
        {
          "output_type": "stream",
          "name": "stdout",
          "text": [
            "1\n",
            "100\n",
            "3\n",
            "100\n",
            "5\n",
            "100\n",
            "7\n",
            "100\n",
            "9\n",
            "100\n"
          ]
        }
      ]
    },
    {
      "cell_type": "code",
      "source": [
        "a=0\n",
        "b=100\n",
        "while a<10:\n",
        "  a=a+1\n",
        "  if a%2==0:\n",
        "    break;\n",
        "  print(a)\n"
      ],
      "metadata": {
        "colab": {
          "base_uri": "https://localhost:8080/"
        },
        "id": "ZJV1zeWbw2xo",
        "outputId": "8dae4d02-c26e-48bb-e961-0be48b660f45"
      },
      "execution_count": 148,
      "outputs": [
        {
          "output_type": "stream",
          "name": "stdout",
          "text": [
            "1\n"
          ]
        }
      ]
    },
    {
      "cell_type": "code",
      "source": [
        "test_list = ['one', 'two','three']\n",
        "for i in test_list:\n",
        "  print(i)"
      ],
      "metadata": {
        "colab": {
          "base_uri": "https://localhost:8080/"
        },
        "id": "Di6rBwvPyv4o",
        "outputId": "710a76af-77b9-465a-b93c-cd2098b9b2fb"
      },
      "execution_count": 150,
      "outputs": [
        {
          "output_type": "stream",
          "name": "stdout",
          "text": [
            "one\n",
            "two\n",
            "three\n"
          ]
        }
      ]
    },
    {
      "cell_type": "markdown",
      "source": [
        "##튜플\n"
      ],
      "metadata": {
        "id": "kh2QHBZMy6Sy"
      }
    },
    {
      "cell_type": "code",
      "source": [
        "tuple1=(0)\n",
        "tuple2=(0,)\n",
        "tuple3=0,1,2\n",
        "\n",
        "print(type(tuple1))\n",
        "print(type(tuple2))\n",
        "print(type(tuple3))"
      ],
      "metadata": {
        "colab": {
          "base_uri": "https://localhost:8080/"
        },
        "id": "J5j8QzSoy9YM",
        "outputId": "a4eb4bd5-4a28-4b1c-a624-e0c0b5fb9aa2"
      },
      "execution_count": 151,
      "outputs": [
        {
          "output_type": "stream",
          "name": "stdout",
          "text": [
            "<class 'int'>\n",
            "<class 'tuple'>\n",
            "<class 'tuple'>\n"
          ]
        }
      ]
    },
    {
      "cell_type": "code",
      "source": [
        "a=[(1,2),(3,4),(5,6)]\n",
        "for(first,last) in a:\n",
        "  print(first+last)"
      ],
      "metadata": {
        "colab": {
          "base_uri": "https://localhost:8080/"
        },
        "id": "9_pN5u2Yz5Dv",
        "outputId": "98b94384-115e-4ad6-b5f8-2feebaf6eebe"
      },
      "execution_count": 152,
      "outputs": [
        {
          "output_type": "stream",
          "name": "stdout",
          "text": [
            "3\n",
            "7\n",
            "11\n"
          ]
        }
      ]
    },
    {
      "cell_type": "code",
      "source": [
        "marks=[90,25,67,45,80]\n",
        "number=0\n",
        "for mark in marks:\n",
        "  number+=1\n",
        "  if mark>60:\n",
        "    print(\"%d번째 학생은 합격이다\" % number)\n",
        "  else:\n",
        "    print(\"넌 뭐했냐 %d번째야\" % number)\n",
        "  "
      ],
      "metadata": {
        "colab": {
          "base_uri": "https://localhost:8080/"
        },
        "id": "RV0mC3ey0Qz-",
        "outputId": "7b334a95-2851-4c13-c4b1-d35118ebe5e8"
      },
      "execution_count": 155,
      "outputs": [
        {
          "output_type": "stream",
          "name": "stdout",
          "text": [
            "1번째 학생은 합격이다\n",
            "넌 뭐했냐 2번째야\n",
            "3번째 학생은 합격이다\n",
            "넌 뭐했냐 4번째야\n",
            "5번째 학생은 합격이다\n"
          ]
        }
      ]
    },
    {
      "cell_type": "markdown",
      "source": [
        "## for문과 continue"
      ],
      "metadata": {
        "id": "bpEFYCFE1OWp"
      }
    },
    {
      "cell_type": "code",
      "source": [
        "marks =[90,25,67,45,80]\n",
        "number = 0\n",
        "for mark in marks:\n",
        "  number+=1\n",
        "  if mark <60:\n",
        "    continue\n",
        "  print(\"%d 학생 합격입니다.\" %number)\n"
      ],
      "metadata": {
        "colab": {
          "base_uri": "https://localhost:8080/"
        },
        "id": "TZ5FZnLO1QcS",
        "outputId": "c114d9d0-2f70-4c4e-f424-7f4759a9864c"
      },
      "execution_count": 161,
      "outputs": [
        {
          "output_type": "stream",
          "name": "stdout",
          "text": [
            "1 학생 합격입니다.\n",
            "3 학생 합격입니다.\n",
            "5 학생 합격입니다.\n"
          ]
        }
      ]
    },
    {
      "cell_type": "code",
      "source": [
        "temp_dict={\n",
        "    'teacher':'evan',\n",
        "    'class': 15,\n",
        "    'student': ['s1','s2','s3']\n",
        "}\n",
        "\n",
        "print(temp_dict[\"teacher\"])\n",
        "print(temp_dict['class'])\n",
        "print(temp_dict[\"student\"])"
      ],
      "metadata": {
        "colab": {
          "base_uri": "https://localhost:8080/"
        },
        "id": "YGYdf3j_22FW",
        "outputId": "8ff8cf82-a3ee-4e46-942a-5edfe58a92e2"
      },
      "execution_count": 176,
      "outputs": [
        {
          "output_type": "stream",
          "name": "stdout",
          "text": [
            "evan\n",
            "15\n",
            "['s1', 's2', 's3']\n"
          ]
        }
      ]
    },
    {
      "cell_type": "code",
      "source": [
        "list(temp_dict.keys())"
      ],
      "metadata": {
        "colab": {
          "base_uri": "https://localhost:8080/"
        },
        "id": "wOpLJqYW8IJ0",
        "outputId": "95af5e78-8e49-4679-a7bb-e0f977e16c6c"
      },
      "execution_count": 178,
      "outputs": [
        {
          "output_type": "execute_result",
          "data": {
            "text/plain": [
              "['teacher', 'class', 'student']"
            ]
          },
          "metadata": {},
          "execution_count": 178
        }
      ]
    },
    {
      "cell_type": "markdown",
      "source": [
        "- items() key -value 쌍으로, list와 tuple 형태로 변환"
      ],
      "metadata": {
        "id": "hm1CIMO38kNw"
      }
    },
    {
      "cell_type": "code",
      "source": [
        ""
      ],
      "metadata": {
        "colab": {
          "base_uri": "https://localhost:8080/",
          "height": 174
        },
        "id": "zMPRmtmz8sK6",
        "outputId": "bee259a5-5406-4f4e-8e95-0112ca80c49e"
      },
      "execution_count": 179,
      "outputs": [
        {
          "output_type": "error",
          "ename": "NameError",
          "evalue": "ignored",
          "traceback": [
            "\u001b[0;31m---------------------------------------------------------------------------\u001b[0m",
            "\u001b[0;31mNameError\u001b[0m                                 Traceback (most recent call last)",
            "\u001b[0;32m<ipython-input-179-7c69bfb1b247>\u001b[0m in \u001b[0;36m<module>\u001b[0;34m()\u001b[0m\n\u001b[0;32m----> 1\u001b[0;31m \u001b[0mdict_items\u001b[0m\u001b[0;34m(\u001b[0m\u001b[0;34m[\u001b[0m\u001b[0;34m(\u001b[0m\u001b[0;34m'teacher'\u001b[0m\u001b[0;34m,\u001b[0m\u001b[0;34m'evan'\u001b[0m\u001b[0;34m)\u001b[0m\u001b[0;34m,\u001b[0m\u001b[0;34m(\u001b[0m\u001b[0;34m'class'\u001b[0m\u001b[0;34m,\u001b[0m \u001b[0;36m15\u001b[0m\u001b[0;34m)\u001b[0m\u001b[0;34m,\u001b[0m\u001b[0;34m]\u001b[0m\u001b[0;34m)\u001b[0m\u001b[0;34m\u001b[0m\u001b[0;34m\u001b[0m\u001b[0m\n\u001b[0m",
            "\u001b[0;31mNameError\u001b[0m: name 'dict_items' is not defined"
          ]
        }
      ]
    },
    {
      "cell_type": "markdown",
      "source": [
        "##for 문과 함께 자주 사용되는 range 함수\n"
      ],
      "metadata": {
        "id": "lddDRS9K3_83"
      }
    },
    {
      "cell_type": "code",
      "source": [
        "a = range(10)\n",
        "a"
      ],
      "metadata": {
        "colab": {
          "base_uri": "https://localhost:8080/"
        },
        "id": "E7U49mW04DHR",
        "outputId": "63f0fd88-b692-4331-b6e2-f53a128393e9"
      },
      "execution_count": 162,
      "outputs": [
        {
          "output_type": "execute_result",
          "data": {
            "text/plain": [
              "range(0, 10)"
            ]
          },
          "metadata": {},
          "execution_count": 162
        }
      ]
    },
    {
      "cell_type": "code",
      "source": [
        "a=range(1,11)\n",
        "a"
      ],
      "metadata": {
        "colab": {
          "base_uri": "https://localhost:8080/"
        },
        "id": "4Lw6ACuX4idT",
        "outputId": "2e6d2738-d39d-4b3a-e5b3-91a589d99ed0"
      },
      "execution_count": 164,
      "outputs": [
        {
          "output_type": "execute_result",
          "data": {
            "text/plain": [
              "range(1, 11)"
            ]
          },
          "metadata": {},
          "execution_count": 164
        }
      ]
    },
    {
      "cell_type": "code",
      "source": [
        "add=0\n",
        "for i in range(1,11):\n",
        "  add=add+i\n",
        "print(add)"
      ],
      "metadata": {
        "colab": {
          "base_uri": "https://localhost:8080/"
        },
        "id": "0aLU2-Vn4l3Y",
        "outputId": "801d24a7-a872-46b1-ed9c-dc3ba8222f96"
      },
      "execution_count": 168,
      "outputs": [
        {
          "output_type": "stream",
          "name": "stdout",
          "text": [
            "55\n"
          ]
        }
      ]
    },
    {
      "cell_type": "code",
      "source": [
        "marks=[90,25,67,45,80]\n",
        "for number in range(len(marks)):\n",
        "  if marks[number]<60:\n",
        "    continue\n",
        "  print(\"%d번째 학생 축하하눙\" % (number+1))"
      ],
      "metadata": {
        "colab": {
          "base_uri": "https://localhost:8080/"
        },
        "id": "lyv70lD642qz",
        "outputId": "e177d1da-a08d-422d-de7b-45d0fd35013e"
      },
      "execution_count": 170,
      "outputs": [
        {
          "output_type": "stream",
          "name": "stdout",
          "text": [
            "1번째 학생 축하하눙\n",
            "3번째 학생 축하하눙\n",
            "5번째 학생 축하하눙\n"
          ]
        }
      ]
    },
    {
      "cell_type": "markdown",
      "source": [
        "## for 와 range 함수를 이용한 구구단"
      ],
      "metadata": {
        "id": "5I-qbqkR5bUk"
      }
    },
    {
      "cell_type": "code",
      "source": [
        "for i in range(2,10):\n",
        "  for j in range(2,10):\n",
        "    print(i * j, end=\" \")\n",
        "  print(\" \")"
      ],
      "metadata": {
        "colab": {
          "base_uri": "https://localhost:8080/"
        },
        "id": "7u8U87IF6Al5",
        "outputId": "75ca2e47-abe2-433a-9c19-61060e264b3a"
      },
      "execution_count": 173,
      "outputs": [
        {
          "output_type": "stream",
          "name": "stdout",
          "text": [
            "4 6 8 10 12 14 16 18  \n",
            "6 9 12 15 18 21 24 27  \n",
            "8 12 16 20 24 28 32 36  \n",
            "10 15 20 25 30 35 40 45  \n",
            "12 18 24 30 36 42 48 54  \n",
            "14 21 28 35 42 49 56 63  \n",
            "16 24 32 40 48 56 64 72  \n",
            "18 27 36 45 54 63 72 81  \n"
          ]
        }
      ]
    },
    {
      "cell_type": "code",
      "source": [
        "a=[1,2,3,4]\n",
        "result=[]\n",
        "for num in a:\n",
        "  result.append(num*3)\n",
        "print(result)"
      ],
      "metadata": {
        "colab": {
          "base_uri": "https://localhost:8080/"
        },
        "id": "BY_F-XrD7M06",
        "outputId": "73f98979-3b56-46fe-ad7a-999c0f9ef9a4"
      },
      "execution_count": 174,
      "outputs": [
        {
          "output_type": "stream",
          "name": "stdout",
          "text": [
            "[3, 6, 9, 12]\n"
          ]
        }
      ]
    },
    {
      "cell_type": "markdown",
      "source": [
        "##Q1"
      ],
      "metadata": {
        "id": "8luBW7jJ9D-j"
      }
    },
    {
      "cell_type": "code",
      "source": [
        "a=\"Life is too short, you need python\"\n",
        "\n",
        "if \"wife\" in a:\n",
        "  print(\"wife\")\n",
        "elif \"python\" in a and \"you\" not in a:\n",
        "  print(\"python\")\n",
        "elif \"shirt\" not in a:\n",
        "  print(\"shirt\")\n",
        "elif \"need\" in a:\n",
        "  print(\"need\")\n",
        "else:\n",
        "  print(\"nono\")"
      ],
      "metadata": {
        "colab": {
          "base_uri": "https://localhost:8080/"
        },
        "id": "JgHrYaRU9E9z",
        "outputId": "5b963e82-067d-409e-e1db-eb3f8ec3f6c9"
      },
      "execution_count": 180,
      "outputs": [
        {
          "output_type": "stream",
          "name": "stdout",
          "text": [
            "shirt\n"
          ]
        }
      ]
    },
    {
      "cell_type": "markdown",
      "source": [
        "## Q2\n",
        "- while 문을 사용해 1부터 1000까지의 자연수 중 3의 배수의 합을 구해라"
      ],
      "metadata": {
        "id": "yoCl7Enj9oX5"
      }
    },
    {
      "cell_type": "code",
      "source": [
        "sum=0\n",
        "for i in range(1,1000):\n",
        "  if i%3==0:\n",
        "    sum+=i\n",
        "print(sum)"
      ],
      "metadata": {
        "colab": {
          "base_uri": "https://localhost:8080/"
        },
        "id": "NpxBaRM49pNA",
        "outputId": "fbeff3e5-d8d8-4b4a-d81d-59f681637a8e"
      },
      "execution_count": 181,
      "outputs": [
        {
          "output_type": "stream",
          "name": "stdout",
          "text": [
            "166833\n"
          ]
        }
      ]
    },
    {
      "cell_type": "markdown",
      "source": [
        "Q3 while 문을 사용하여 다음과 같이 별(*)을 표시하는 프로그램을 작성해 보"
      ],
      "metadata": {
        "id": "zmIWSL3j99l3"
      }
    },
    {
      "cell_type": "code",
      "source": [
        "for i in range(0,5):\n",
        "  for j in range(0,5):\n",
        "    if j<=i:\n",
        "      print(\"*\",end=\"\")\n",
        "  print(\" \")  "
      ],
      "metadata": {
        "colab": {
          "base_uri": "https://localhost:8080/"
        },
        "id": "FKCQR7KJ-CUF",
        "outputId": "62d7a6fb-cc1b-4c62-ad40-ab6499eabdc8"
      },
      "execution_count": 203,
      "outputs": [
        {
          "output_type": "stream",
          "name": "stdout",
          "text": [
            "* \n",
            "** \n",
            "*** \n",
            "**** \n",
            "***** \n"
          ]
        }
      ]
    },
    {
      "cell_type": "markdown",
      "source": [
        "##Q3-1\n",
        " 7X7모양에서 다이아몬드 모양을 만들어봐라"
      ],
      "metadata": {
        "id": "XtwA9kQRC0J5"
      }
    },
    {
      "cell_type": "code",
      "source": [
        "for i in range(5):\n",
        "  print(' '*(4-i)+'*'*(2*i-1))\n",
        "for i in range(4):\n",
        "  print(' '+' '*i+'*'*(5-2*i))"
      ],
      "metadata": {
        "colab": {
          "base_uri": "https://localhost:8080/"
        },
        "id": "URn5okyVC8lU",
        "outputId": "a59d13c6-22d6-4c6a-aa38-ae7702e24102"
      },
      "execution_count": 224,
      "outputs": [
        {
          "output_type": "stream",
          "name": "stdout",
          "text": [
            "    \n",
            "   *\n",
            "  ***\n",
            " *****\n",
            "*******\n",
            " *****\n",
            "  ***\n",
            "   *\n",
            "    \n"
          ]
        }
      ]
    },
    {
      "cell_type": "markdown",
      "source": [
        "##Q4 \n",
        "- for 문을 사용해 1부터 100까지의 숫자를 출력해봐"
      ],
      "metadata": {
        "id": "1LeBbuj7-i3z"
      }
    },
    {
      "cell_type": "code",
      "source": [
        "for i in range(1,101):\n",
        "  print(i)"
      ],
      "metadata": {
        "colab": {
          "base_uri": "https://localhost:8080/"
        },
        "id": "4k24dEwG-nmM",
        "outputId": "9f6d9b00-343c-45dd-9ca7-ecc7b75f2d24"
      },
      "execution_count": 183,
      "outputs": [
        {
          "output_type": "stream",
          "name": "stdout",
          "text": [
            "1\n",
            "2\n",
            "3\n",
            "4\n",
            "5\n",
            "6\n",
            "7\n",
            "8\n",
            "9\n",
            "10\n",
            "11\n",
            "12\n",
            "13\n",
            "14\n",
            "15\n",
            "16\n",
            "17\n",
            "18\n",
            "19\n",
            "20\n",
            "21\n",
            "22\n",
            "23\n",
            "24\n",
            "25\n",
            "26\n",
            "27\n",
            "28\n",
            "29\n",
            "30\n",
            "31\n",
            "32\n",
            "33\n",
            "34\n",
            "35\n",
            "36\n",
            "37\n",
            "38\n",
            "39\n",
            "40\n",
            "41\n",
            "42\n",
            "43\n",
            "44\n",
            "45\n",
            "46\n",
            "47\n",
            "48\n",
            "49\n",
            "50\n",
            "51\n",
            "52\n",
            "53\n",
            "54\n",
            "55\n",
            "56\n",
            "57\n",
            "58\n",
            "59\n",
            "60\n",
            "61\n",
            "62\n",
            "63\n",
            "64\n",
            "65\n",
            "66\n",
            "67\n",
            "68\n",
            "69\n",
            "70\n",
            "71\n",
            "72\n",
            "73\n",
            "74\n",
            "75\n",
            "76\n",
            "77\n",
            "78\n",
            "79\n",
            "80\n",
            "81\n",
            "82\n",
            "83\n",
            "84\n",
            "85\n",
            "86\n",
            "87\n",
            "88\n",
            "89\n",
            "90\n",
            "91\n",
            "92\n",
            "93\n",
            "94\n",
            "95\n",
            "96\n",
            "97\n",
            "98\n",
            "99\n",
            "100\n"
          ]
        }
      ]
    },
    {
      "cell_type": "markdown",
      "source": [
        "##Q5\n",
        "- A학급에 총 10명의 학생이 있다. 이 학생들의 중간고사 점수는 다음과 같다.\n",
        "[70,60,55,75,95,90,80,80,85,100]\n",
        "for 문을 사용하여 A학급의 평균 점수를 구해"
      ],
      "metadata": {
        "id": "qjnVjBa2-uEl"
      }
    },
    {
      "cell_type": "code",
      "source": [
        "sum=0\n",
        "a=[70,60,55,75,95,90,80,80,85,100]\n",
        "for i in range(len(a)):\n",
        "  sum+=a[i]\n",
        "sum/len(a)\n",
        "  "
      ],
      "metadata": {
        "colab": {
          "base_uri": "https://localhost:8080/"
        },
        "id": "5xax0_MD-8fj",
        "outputId": "ea64ef77-de18-47cf-dad7-414d3c2af0ab"
      },
      "execution_count": 186,
      "outputs": [
        {
          "output_type": "execute_result",
          "data": {
            "text/plain": [
              "79.0"
            ]
          },
          "metadata": {},
          "execution_count": 186
        }
      ]
    },
    {
      "cell_type": "markdown",
      "source": [
        "##Q6\n",
        "리스트 중에서 홀수에만 2를 곱하여 저장하는 다음 코드가 있다.\n",
        "numbers = [1, 2, 3, 4, 5]\n",
        "result = []\n",
        "for n in numbers:\n",
        "    if n % 2 == 1:\n",
        "        result.append(n*2)\n",
        "위 코드를 리스트 내포(list comprehension)를 사용하여 표현해 봐라"
      ],
      "metadata": {
        "id": "A0UeRz-V_nnB"
      }
    },
    {
      "cell_type": "code",
      "source": [
        "numbers = [1, 2, 3, 4, 5]\n",
        "result = [n*2 for n in numbers if n%2==1]\n",
        "print(result)"
      ],
      "metadata": {
        "colab": {
          "base_uri": "https://localhost:8080/"
        },
        "id": "ZBrRSw0f__-M",
        "outputId": "d164e5b9-874a-484a-fcf1-6cc011c773dd"
      },
      "execution_count": 188,
      "outputs": [
        {
          "output_type": "stream",
          "name": "stdout",
          "text": [
            "[2, 6, 10]\n"
          ]
        }
      ]
    },
    {
      "cell_type": "code",
      "source": [
        "a=\"Kaggle\"\n",
        "for x in a:\n",
        "  if x=='g':\n",
        "    break;\n",
        "  print(x)"
      ],
      "metadata": {
        "colab": {
          "base_uri": "https://localhost:8080/"
        },
        "id": "1f10e-AXDIhW",
        "outputId": "c7f83bb4-935d-416f-eae3-d26a5bdaeb08"
      },
      "execution_count": 209,
      "outputs": [
        {
          "output_type": "stream",
          "name": "stdout",
          "text": [
            "K\n",
            "a\n"
          ]
        }
      ]
    },
    {
      "cell_type": "code",
      "source": [
        "alphabets=['A','B','C']\n",
        "for index, value in enumerate(alphabets):\n",
        "  print(index,value)"
      ],
      "metadata": {
        "colab": {
          "base_uri": "https://localhost:8080/"
        },
        "id": "2EFVd_D6Egg9",
        "outputId": "ee4539cb-52b5-493e-ee76-1e87bb46be84"
      },
      "execution_count": 211,
      "outputs": [
        {
          "output_type": "stream",
          "name": "stdout",
          "text": [
            "0 A\n",
            "1 B\n",
            "2 C\n"
          ]
        }
      ]
    }
  ]
}