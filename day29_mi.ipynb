{
  "nbformat": 4,
  "nbformat_minor": 0,
  "metadata": {
    "colab": {
      "name": "day29_mi.ipynb",
      "provenance": [],
      "authorship_tag": "ABX9TyND2zf/VZl8CDHHUQc3weFu",
      "include_colab_link": true
    },
    "kernelspec": {
      "name": "python3",
      "display_name": "Python 3"
    },
    "language_info": {
      "name": "python"
    }
  },
  "cells": [
    {
      "cell_type": "markdown",
      "metadata": {
        "id": "view-in-github",
        "colab_type": "text"
      },
      "source": [
        "<a href=\"https://colab.research.google.com/github/seungukkim/R_lecture/blob/main/day29_mi.ipynb\" target=\"_parent\"><img src=\"https://colab.research.google.com/assets/colab-badge.svg\" alt=\"Open In Colab\"/></a>"
      ]
    },
    {
      "cell_type": "markdown",
      "source": [
        "## 파이썬\n",
        "- Machine Learning\n",
        "  + 정형데이터\n",
        "  + 사이킷런\n",
        "- Deep Learning\n",
        "  + 비정형데이터\n",
        "  + Tensorflow(구글)\n",
        "  + Pytorch(페이스북)\n",
        "  + 혼공머: Tensorflow\n",
        "  + 실제 상용서비스 - Tensorflow\n",
        "  + R&D- Pytorch"
      ],
      "metadata": {
        "id": "GzCtAU_RH90j"
      }
    },
    {
      "cell_type": "markdown",
      "source": [
        "## 생선 분류\n",
        "- 도미, 곤들매기, 농어 등등\n",
        "- 이 생선들을 프로그램으로 분류한다."
      ],
      "metadata": {
        "id": "_9ptRYEoPD1f"
      }
    },
    {
      "cell_type": "markdown",
      "source": [
        "-30cm 이상이면 도미라고 알려줘\n"
      ],
      "metadata": {
        "id": "98qwmZV6QTLw"
      }
    },
    {
      "cell_type": "markdown",
      "source": [
        "## 도미의 길이와 무게를 줬다."
      ],
      "metadata": {
        "id": "dD6FA6vfQlrF"
      }
    },
    {
      "cell_type": "code",
      "source": [
        "bream_length = [25.4, 26.3, 26.5, 29.0, 29.0, 29.7, 29.7, 30.0, 30.0, 30.7, 31.0, 31.0, 31.5, 32.0, 32.0, 32.0, 33.0, 33.0, 33.5, 33.5, 34.0, 34.0, 34.5, 35.0, 35.0, 35.0, 35.0, 36.0, 36.0, 37.0, 38.5, 38.5, 39.5, 41.0, 41.0]\n",
        "bream_weight = [242.0, 290.0, 340.0, 363.0, 430.0, 450.0, 500.0, 390.0, 450.0, 500.0, 475.0, 500.0, 500.0, 340.0, 600.0, 600.0, 700.0, 700.0, 610.0, 650.0, 575.0, 685.0, 620.0, 680.0, 700.0, 725.0, 720.0, 714.0, 850.0, 1000.0, 920.0, 955.0, 925.0, 975.0, 950.0]"
      ],
      "metadata": {
        "id": "DSMYbEL6Qv75"
      },
      "execution_count": 1,
      "outputs": []
    },
    {
      "cell_type": "markdown",
      "source": [
        "##데이터 가공\n",
        "- 여기서는 생략"
      ],
      "metadata": {
        "id": "t_zt2KthQ75e"
      }
    },
    {
      "cell_type": "markdown",
      "source": [
        "##데이터 시각화\n",
        "- 여러인사이트 확인 위해 시각화, 통계 수치 계산\n",
        "- 탐색적 자료분석(EDA:Exploratory Data analysis)"
      ],
      "metadata": {
        "id": "evv-mvALRCGp"
      }
    },
    {
      "cell_type": "code",
      "source": [
        "import matplotlib.pyplot as plt\n",
        "\n",
        "plt.scatter(bream_length, bream_weight)\n",
        "plt.xlabel('length')\n",
        "plt.ylabel('weight')\n",
        "plt.show()"
      ],
      "metadata": {
        "colab": {
          "base_uri": "https://localhost:8080/",
          "height": 279
        },
        "id": "2HW0nYF5RYhq",
        "outputId": "e1707dab-288c-491a-c505-c53e788c3044"
      },
      "execution_count": 4,
      "outputs": [
        {
          "output_type": "display_data",
          "data": {
            "text/plain": [
              "<Figure size 432x288 with 1 Axes>"
            ],
            "image/png": "[encoded data removed]"
          },
          "metadata": {
            "needs_background": "light"
          }
        }
      ]
    },
    {
      "cell_type": "markdown",
      "source": [
        "- 파이썬 시각화는 객체지향으로 한다."
      ],
      "metadata": {
        "id": "ivayim8cSqr1"
      }
    },
    {
      "cell_type": "code",
      "source": [
        "import matplotlib.pyplot as plt\n",
        "\n",
        "fig, ax = plt.subplots()\n",
        "ax.scatter(bream_length, bream_weight)\n",
        "ax.set_xlabel('length')\n",
        "ax.set_ylabel('weight')\n",
        "plt.show()"
      ],
      "metadata": {
        "colab": {
          "base_uri": "https://localhost:8080/",
          "height": 279
        },
        "id": "zHwgNRyJSZiM",
        "outputId": "85d57234-b6dd-49f7-d9be-fb1c04afca86"
      },
      "execution_count": 5,
      "outputs": [
        {
          "output_type": "display_data",
          "data": {
            "text/plain": [
              "<Figure size 432x288 with 1 Axes>"
            ],
            "image/png": "[encoded data removed]"
          },
          "metadata": {
            "needs_background": "light"
          }
        }
      ]
    },
    {
      "cell_type": "code",
      "source": [
        ""
      ],
      "metadata": {
        "id": "MutzWjXMQ_6v"
      },
      "execution_count": null,
      "outputs": []
    },
    {
      "cell_type": "markdown",
      "source": [
        "- 빙어 데이터 준비하기"
      ],
      "metadata": {
        "id": "ayZad05rTnHM"
      }
    },
    {
      "cell_type": "code",
      "source": [
        "smelt_length = [9.8, 10.5, 10.6, 11.0, 11.2, 11.3, 11.8, 11.8, 12.0, 12.2, 12.4, 13.0, 14.3, 15.0]\n",
        "smelt_weight = [6.7, 7.5, 7.0, 9.7, 9.8, 8.7, 10.0, 9.9, 9.8, 12.2, 13.4, 12.2, 19.7, 19.9]"
      ],
      "metadata": {
        "id": "cv92TZ5bTtLl"
      },
      "execution_count": 6,
      "outputs": []
    },
    {
      "cell_type": "code",
      "source": [
        "fig,ax = plt.subplots()\n",
        "\n",
        "ax.scatter(smelt_length,smelt_weight)\n",
        "ax.set_xlabel('length')\n",
        "ax.set_ylabel('weight')\n",
        "plt.show()"
      ],
      "metadata": {
        "colab": {
          "base_uri": "https://localhost:8080/",
          "height": 279
        },
        "id": "M0rP40pMTukt",
        "outputId": "48ed9d05-93f1-4d87-f7ba-46a84e9c37a7"
      },
      "execution_count": 9,
      "outputs": [
        {
          "output_type": "display_data",
          "data": {
            "text/plain": [
              "<Figure size 432x288 with 1 Axes>"
            ],
            "image/png": "[encoded data removed]"
          },
          "metadata": {
            "needs_background": "light"
          }
        }
      ]
    },
    {
      "cell_type": "code",
      "source": [
        "fig,ax = plt.subplots()\n",
        "ax.scatter(bream_length,bream_weight)\n",
        "ax.scatter(smelt_length,smelt_weight)\n",
        "ax.set_xlabel('length')\n",
        "ax.set_ylabel('weight')\n",
        "plt.show()"
      ],
      "metadata": {
        "colab": {
          "base_uri": "https://localhost:8080/",
          "height": 279
        },
        "id": "29XeNhT8UWzY",
        "outputId": "a097ae89-67a8-409a-80b1-d1d3a072997e"
      },
      "execution_count": 10,
      "outputs": [
        {
          "output_type": "display_data",
          "data": {
            "text/plain": [
              "<Figure size 432x288 with 1 Axes>"
            ],
            "image/png": "[encoded data removed]"
          },
          "metadata": {
            "needs_background": "light"
          }
        }
      ]
    },
    {
      "cell_type": "markdown",
      "source": [
        "- 두개의 리스트 합치기 "
      ],
      "metadata": {
        "id": "NulWWBaAVLqB"
      }
    },
    {
      "cell_type": "code",
      "source": [
        "length = bream_length + smelt_length\n",
        "weight = bream_weight + smelt_weight"
      ],
      "metadata": {
        "id": "dRRzalDRVRNR"
      },
      "execution_count": 11,
      "outputs": []
    },
    {
      "cell_type": "markdown",
      "source": [
        "- 2차원리스트로 만든다."
      ],
      "metadata": {
        "id": "ukc6VIC9Vdp5"
      }
    },
    {
      "cell_type": "code",
      "source": [
        "fish_data = [[l,w]for l,w in zip(length,weight)]\n",
        "fish_data[0:5]"
      ],
      "metadata": {
        "colab": {
          "base_uri": "https://localhost:8080/"
        },
        "id": "shGVTIR2Vfmi",
        "outputId": "1418baec-52ae-4863-f804-404c5e9fc784"
      },
      "execution_count": 13,
      "outputs": [
        {
          "output_type": "execute_result",
          "data": {
            "text/plain": [
              "[[25.4, 242.0], [26.3, 290.0], [26.5, 340.0], [29.0, 363.0], [29.0, 430.0]]"
            ]
          },
          "metadata": {},
          "execution_count": 13
        }
      ]
    },
    {
      "cell_type": "markdown",
      "source": [
        "- 라벨링을 해준다. = 지도 해준다.\n",
        "=지도학습"
      ],
      "metadata": {
        "id": "nYvmdDJ1WVqS"
      }
    },
    {
      "cell_type": "code",
      "source": [
        "fish_target = [1]*35 + [0]*14\n",
        "print(fish_target)"
      ],
      "metadata": {
        "colab": {
          "base_uri": "https://localhost:8080/"
        },
        "id": "QonkqF07VQKx",
        "outputId": "d7a332e4-5569-40f3-af67-1f3d1dfc6010"
      },
      "execution_count": 14,
      "outputs": [
        {
          "output_type": "stream",
          "name": "stdout",
          "text": [
            "[1, 1, 1, 1, 1, 1, 1, 1, 1, 1, 1, 1, 1, 1, 1, 1, 1, 1, 1, 1, 1, 1, 1, 1, 1, 1, 1, 1, 1, 1, 1, 1, 1, 1, 1, 0, 0, 0, 0, 0, 0, 0, 0, 0, 0, 0, 0, 0, 0]\n"
          ]
        }
      ]
    },
    {
      "cell_type": "markdown",
      "source": [
        "## 모델링 "
      ],
      "metadata": {
        "id": "ZIPGMbJvXYV_"
      }
    },
    {
      "cell_type": "code",
      "source": [
        "from sklearn.neighbors import KNeighborsClassifier\n",
        "#클래스 인스턴스화\n",
        "kn=KNeighborsClassifier()\n",
        "\n",
        "#모형 학습\n",
        "kn.fit(fish_data,fish_target)\n"
      ],
      "metadata": {
        "colab": {
          "base_uri": "https://localhost:8080/"
        },
        "id": "wd6_4XbyXaIS",
        "outputId": "80d89810-6321-4c12-acb9-e30246535cbf"
      },
      "execution_count": 19,
      "outputs": [
        {
          "output_type": "execute_result",
          "data": {
            "text/plain": [
              "1.0"
            ]
          },
          "metadata": {},
          "execution_count": 19
        }
      ]
    },
    {
      "cell_type": "code",
      "source": [
        "# 예측 정확도\n",
        "kn.score(fish_data, fish_target)"
      ],
      "metadata": {
        "id": "orqrNN6kYg48"
      },
      "execution_count": null,
      "outputs": []
    },
    {
      "cell_type": "markdown",
      "source": [
        "- 실제 에측을 해보자\n",
        "- 새로운 물고기 도착했습니다.\n",
        "  + 길이: 30, 몸무게 : 600"
      ],
      "metadata": {
        "id": "4-k59_ZmYphr"
      }
    },
    {
      "cell_type": "code",
      "source": [
        "kn.predict([[30,600]])"
      ],
      "metadata": {
        "colab": {
          "base_uri": "https://localhost:8080/"
        },
        "id": "zkn0YZwDYz4z",
        "outputId": "952c6d7a-2394-4534-b5f8-3930944d411e"
      },
      "execution_count": 20,
      "outputs": [
        {
          "output_type": "execute_result",
          "data": {
            "text/plain": [
              "array([1])"
            ]
          },
          "metadata": {},
          "execution_count": 20
        }
      ]
    },
    {
      "cell_type": "code",
      "source": [
        "ac_length = int(input(\"물고기 길이를 입력하세요 ...\"))\n",
        "ac_weight = int(input(\"물고기 무게를 입력하세요 ...\"))\n",
        "\n",
        "preds = kn.predict([[ac_length,ac_weight]])\n",
        "\n",
        "if preds ==1:\n",
        "  print(\"도미다\")\n",
        "else:\n",
        "  print(\"빙어다\")"
      ],
      "metadata": {
        "colab": {
          "base_uri": "https://localhost:8080/"
        },
        "id": "N09GXeZcZbGp",
        "outputId": "275680a5-5f00-4f48-9afc-7aa4c6ba607d"
      },
      "execution_count": 21,
      "outputs": [
        {
          "output_type": "stream",
          "name": "stdout",
          "text": [
            "물고기 길이를 입력하세요 ...1\n",
            "물고기 무게를 입력하세요 ...10\n",
            "빙어다\n"
          ]
        }
      ]
    }
  ]
}