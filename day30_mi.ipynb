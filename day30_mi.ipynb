{
  "nbformat": 4,
  "nbformat_minor": 0,
  "metadata": {
    "colab": {
      "name": "day30_mi.ipynb",
      "provenance": [],
      "collapsed_sections": [],
      "authorship_tag": "ABX9TyMR8JXGden/Bzvgh85w61Vy",
      "include_colab_link": true
    },
    "kernelspec": {
      "name": "python3",
      "display_name": "Python 3"
    },
    "language_info": {
      "name": "python"
    }
  },
  "cells": [
    {
      "cell_type": "markdown",
      "metadata": {
        "id": "view-in-github",
        "colab_type": "text"
      },
      "source": [
        "<a href=\"https://colab.research.google.com/github/seungukkim/R_lecture/blob/main/day30_mi.ipynb\" target=\"_parent\"><img src=\"https://colab.research.google.com/assets/colab-badge.svg\" alt=\"Open In Colab\"/></a>"
      ]
    },
    {
      "cell_type": "markdown",
      "source": [
        "## 파이썬\n",
        "- Machine Learning\n",
        "  + 정형데이터\n",
        "  + 사이킷런\n",
        "- Deep Learning\n",
        "  + 비정형데이터\n",
        "  + Tensorflow(구글)\n",
        "  + Pytorch(페이스북)\n",
        "  + 혼공머: Tensorflow\n",
        "  + 실제 상용서비스 - Tensorflow\n",
        "  + R&D- Pytorch"
      ],
      "metadata": {
        "id": "GzCtAU_RH90j"
      }
    },
    {
      "cell_type": "markdown",
      "source": [
        "## 생선 분류\n",
        "- 도미, 곤들매기, 농어 등등\n",
        "- 이 생선들을 프로그램으로 분류한다."
      ],
      "metadata": {
        "id": "_9ptRYEoPD1f"
      }
    },
    {
      "cell_type": "markdown",
      "source": [
        "-30cm 이상이면 도미라고 알려줘\n"
      ],
      "metadata": {
        "id": "98qwmZV6QTLw"
      }
    },
    {
      "cell_type": "markdown",
      "source": [
        "## 도미의 길이와 무게를 줬다."
      ],
      "metadata": {
        "id": "dD6FA6vfQlrF"
      }
    },
    {
      "cell_type": "code",
      "source": [
        "bream_length = [25.4, 26.3, 26.5, 29.0, 29.0, 29.7, 29.7, 30.0, 30.0, 30.7, 31.0, 31.0, 31.5, 32.0, 32.0, 32.0, 33.0, 33.0, 33.5, 33.5, 34.0, 34.0, 34.5, 35.0, 35.0, 35.0, 35.0, 36.0, 36.0, 37.0, 38.5, 38.5, 39.5, 41.0, 41.0]\n",
        "bream_weight = [242.0, 290.0, 340.0, 363.0, 430.0, 450.0, 500.0, 390.0, 450.0, 500.0, 475.0, 500.0, 500.0, 340.0, 600.0, 600.0, 700.0, 700.0, 610.0, 650.0, 575.0, 685.0, 620.0, 680.0, 700.0, 725.0, 720.0, 714.0, 850.0, 1000.0, 920.0, 955.0, 925.0, 975.0, 950.0]"
      ],
      "metadata": {
        "id": "DSMYbEL6Qv75"
      },
      "execution_count": 52,
      "outputs": []
    },
    {
      "cell_type": "markdown",
      "source": [
        "##데이터 가공\n",
        "- 여기서는 생략"
      ],
      "metadata": {
        "id": "t_zt2KthQ75e"
      }
    },
    {
      "cell_type": "markdown",
      "source": [
        "##데이터 시각화\n",
        "- 여러인사이트 확인 위해 시각화, 통계 수치 계산\n",
        "- 탐색적 자료분석(EDA:Exploratory Data analysis)"
      ],
      "metadata": {
        "id": "evv-mvALRCGp"
      }
    },
    {
      "cell_type": "code",
      "source": [
        "import matplotlib.pyplot as plt\n",
        "\n",
        "plt.scatter(bream_length, bream_weight)\n",
        "plt.xlabel('length')\n",
        "plt.ylabel('weight')\n",
        "plt.show()"
      ],
      "metadata": {
        "colab": {
          "base_uri": "https://localhost:8080/",
          "height": 279
        },
        "id": "2HW0nYF5RYhq",
        "outputId": "01b228f1-c890-4ff4-e9b7-b4e9f23fd9f6"
      },
      "execution_count": 53,
      "outputs": [
        {
          "output_type": "display_data",
          "data": {
            "text/plain": [
              "<Figure size 432x288 with 1 Axes>"
            ],
            "image/png": "[encoded data removed]"
          },
          "metadata": {
            "needs_background": "light"
          }
        }
      ]
    },
    {
      "cell_type": "markdown",
      "source": [
        "- 파이썬 시각화는 객체지향으로 한다."
      ],
      "metadata": {
        "id": "ivayim8cSqr1"
      }
    },
    {
      "cell_type": "code",
      "source": [
        "import matplotlib.pyplot as plt\n",
        "\n",
        "fig, ax = plt.subplots()\n",
        "ax.scatter(bream_length, bream_weight)\n",
        "ax.set_xlabel('length')\n",
        "ax.set_ylabel('weight')\n",
        "plt.show()"
      ],
      "metadata": {
        "colab": {
          "base_uri": "https://localhost:8080/",
          "height": 279
        },
        "id": "zHwgNRyJSZiM",
        "outputId": "b55bb509-f167-48cd-e059-e419cb0884fc"
      },
      "execution_count": 54,
      "outputs": [
        {
          "output_type": "display_data",
          "data": {
            "text/plain": [
              "<Figure size 432x288 with 1 Axes>"
            ],
            "image/png": "[encoded data removed]"
          },
          "metadata": {
            "needs_background": "light"
          }
        }
      ]
    },
    {
      "cell_type": "code",
      "source": [
        ""
      ],
      "metadata": {
        "id": "MutzWjXMQ_6v"
      },
      "execution_count": null,
      "outputs": []
    },
    {
      "cell_type": "markdown",
      "source": [
        "- 빙어 데이터 준비하기"
      ],
      "metadata": {
        "id": "ayZad05rTnHM"
      }
    },
    {
      "cell_type": "code",
      "source": [
        "smelt_length = [9.8, 10.5, 10.6, 11.0, 11.2, 11.3, 11.8, 11.8, 12.0, 12.2, 12.4, 13.0, 14.3, 15.0]\n",
        "smelt_weight = [6.7, 7.5, 7.0, 9.7, 9.8, 8.7, 10.0, 9.9, 9.8, 12.2, 13.4, 12.2, 19.7, 19.9]"
      ],
      "metadata": {
        "id": "cv92TZ5bTtLl"
      },
      "execution_count": 56,
      "outputs": []
    },
    {
      "cell_type": "code",
      "source": [
        "fig,ax = plt.subplots()\n",
        "\n",
        "ax.scatter(smelt_length,smelt_weight)\n",
        "ax.set_xlabel('length')\n",
        "ax.set_ylabel('weight')\n",
        "plt.show()"
      ],
      "metadata": {
        "colab": {
          "base_uri": "https://localhost:8080/",
          "height": 279
        },
        "id": "M0rP40pMTukt",
        "outputId": "75dd6ce2-14bb-4e1f-b27d-7e44c6b9301d"
      },
      "execution_count": 57,
      "outputs": [
        {
          "output_type": "display_data",
          "data": {
            "text/plain": [
              "<Figure size 432x288 with 1 Axes>"
            ],
            "image/png": "[encoded data removed]"
          },
          "metadata": {
            "needs_background": "light"
          }
        }
      ]
    },
    {
      "cell_type": "code",
      "source": [
        "fig,ax = plt.subplots()\n",
        "ax.scatter(bream_length,bream_weight)\n",
        "ax.scatter(smelt_length,smelt_weight)\n",
        "ax.set_xlabel('length')\n",
        "ax.set_ylabel('weight')\n",
        "plt.show()"
      ],
      "metadata": {
        "colab": {
          "base_uri": "https://localhost:8080/",
          "height": 279
        },
        "id": "29XeNhT8UWzY",
        "outputId": "dc820728-a085-40c4-fd27-a67704e9ac34"
      },
      "execution_count": 58,
      "outputs": [
        {
          "output_type": "display_data",
          "data": {
            "text/plain": [
              "<Figure size 432x288 with 1 Axes>"
            ],
            "image/png": "[encoded data removed]"
          },
          "metadata": {
            "needs_background": "light"
          }
        }
      ]
    },
    {
      "cell_type": "markdown",
      "source": [
        "- 두개의 리스트 합치기 "
      ],
      "metadata": {
        "id": "NulWWBaAVLqB"
      }
    },
    {
      "cell_type": "code",
      "source": [
        "length = bream_length + smelt_length\n",
        "weight = bream_weight + smelt_weight"
      ],
      "metadata": {
        "id": "dRRzalDRVRNR"
      },
      "execution_count": 61,
      "outputs": []
    },
    {
      "cell_type": "markdown",
      "source": [
        "- 2차원리스트로 만든다."
      ],
      "metadata": {
        "id": "ukc6VIC9Vdp5"
      }
    },
    {
      "cell_type": "code",
      "source": [
        "fish_data = [[l,w]for l,w in zip(length,weight)]\n",
        "fish_data[0:5]"
      ],
      "metadata": {
        "colab": {
          "base_uri": "https://localhost:8080/"
        },
        "id": "shGVTIR2Vfmi",
        "outputId": "de908da5-d295-4bbb-9ffa-8f5e4dc1e091"
      },
      "execution_count": 62,
      "outputs": [
        {
          "output_type": "execute_result",
          "data": {
            "text/plain": [
              "[[25.4, 242.0], [26.3, 290.0], [26.5, 340.0], [29.0, 363.0], [29.0, 430.0]]"
            ]
          },
          "metadata": {},
          "execution_count": 62
        }
      ]
    },
    {
      "cell_type": "markdown",
      "source": [
        "- 라벨링을 해준다. = 지도 해준다.\n",
        "=지도학습"
      ],
      "metadata": {
        "id": "nYvmdDJ1WVqS"
      }
    },
    {
      "cell_type": "code",
      "source": [
        "fish_target = [1]*35 + [0]*14\n",
        "print(fish_target)"
      ],
      "metadata": {
        "colab": {
          "base_uri": "https://localhost:8080/"
        },
        "id": "QonkqF07VQKx",
        "outputId": "e016476a-7ec4-406c-d65d-2329646ba889"
      },
      "execution_count": 63,
      "outputs": [
        {
          "output_type": "stream",
          "name": "stdout",
          "text": [
            "[1, 1, 1, 1, 1, 1, 1, 1, 1, 1, 1, 1, 1, 1, 1, 1, 1, 1, 1, 1, 1, 1, 1, 1, 1, 1, 1, 1, 1, 1, 1, 1, 1, 1, 1, 0, 0, 0, 0, 0, 0, 0, 0, 0, 0, 0, 0, 0, 0]\n"
          ]
        }
      ]
    },
    {
      "cell_type": "markdown",
      "source": [
        "## 모델링 "
      ],
      "metadata": {
        "id": "ZIPGMbJvXYV_"
      }
    },
    {
      "cell_type": "code",
      "source": [
        "from sklearn.neighbors import KNeighborsClassifier\n",
        "#클래스 인스턴스화\n",
        "kn=KNeighborsClassifier()\n",
        "\n",
        "#모형 학습\n",
        "kn.fit(fish_data,fish_target)\n"
      ],
      "metadata": {
        "colab": {
          "base_uri": "https://localhost:8080/"
        },
        "id": "wd6_4XbyXaIS",
        "outputId": "3176752e-428b-47fa-d123-81a5d83e70fe"
      },
      "execution_count": 64,
      "outputs": [
        {
          "output_type": "execute_result",
          "data": {
            "text/plain": [
              "KNeighborsClassifier()"
            ]
          },
          "metadata": {},
          "execution_count": 64
        }
      ]
    },
    {
      "cell_type": "code",
      "source": [
        "# 예측 정확도\n",
        "kn.score(fish_data, fish_target)"
      ],
      "metadata": {
        "id": "orqrNN6kYg48",
        "colab": {
          "base_uri": "https://localhost:8080/"
        },
        "outputId": "67f826a8-0558-4c3a-a7a2-459fb3e101b5"
      },
      "execution_count": 65,
      "outputs": [
        {
          "output_type": "execute_result",
          "data": {
            "text/plain": [
              "1.0"
            ]
          },
          "metadata": {},
          "execution_count": 65
        }
      ]
    },
    {
      "cell_type": "markdown",
      "source": [
        "- 실제 에측을 해보자\n",
        "- 새로운 물고기 도착했습니다.\n",
        "  + 길이: 30, 몸무게 : 600"
      ],
      "metadata": {
        "id": "4-k59_ZmYphr"
      }
    },
    {
      "cell_type": "code",
      "source": [
        "kn.predict([[30,600]])"
      ],
      "metadata": {
        "colab": {
          "base_uri": "https://localhost:8080/"
        },
        "id": "zkn0YZwDYz4z",
        "outputId": "92b7c072-6d10-410d-ed3f-3db0618a7ed4"
      },
      "execution_count": 66,
      "outputs": [
        {
          "output_type": "execute_result",
          "data": {
            "text/plain": [
              "array([1])"
            ]
          },
          "metadata": {},
          "execution_count": 66
        }
      ]
    },
    {
      "cell_type": "code",
      "source": [
        "ac_length = int(input(\"물고기 길이를 입력하세요 ...\"))\n",
        "ac_weight = int(input(\"물고기 무게를 입력하세요 ...\"))\n",
        "\n",
        "preds = kn.predict([[ac_length,ac_weight]])\n",
        "\n",
        "if preds ==1:\n",
        "  print(\"도미다\")\n",
        "else:\n",
        "  print(\"빙어다\")"
      ],
      "metadata": {
        "colab": {
          "base_uri": "https://localhost:8080/"
        },
        "id": "N09GXeZcZbGp",
        "outputId": "ef56141f-4b1b-4d7a-c104-87ffc826bbe3"
      },
      "execution_count": 68,
      "outputs": [
        {
          "output_type": "stream",
          "name": "stdout",
          "text": [
            "물고기 길이를 입력하세요 ...13\n",
            "물고기 무게를 입력하세요 ...58365\n",
            "도미다\n"
          ]
        }
      ]
    },
    {
      "cell_type": "markdown",
      "source": [
        "## 새로운 모델 제안 "
      ],
      "metadata": {
        "id": "pBxDKunmI6mj"
      }
    },
    {
      "cell_type": "code",
      "source": [
        "from sklearn.neighbors import KNeighborsClassifier\n",
        "kn49 = KNeighborsClassifier(n_neighbors=49)\n",
        "kn49.fit(fish_data, fish_target)\n",
        "kn49.score(fish_data,fish_target)"
      ],
      "metadata": {
        "colab": {
          "base_uri": "https://localhost:8080/"
        },
        "id": "xLSdq0C7I8kc",
        "outputId": "cc7d5dd3-414b-4576-ac0e-6e1c1056a5df"
      },
      "execution_count": 69,
      "outputs": [
        {
          "output_type": "execute_result",
          "data": {
            "text/plain": [
              "0.7142857142857143"
            ]
          },
          "metadata": {},
          "execution_count": 69
        }
      ]
    },
    {
      "cell_type": "markdown",
      "source": [
        "- 하이퍼 파라미터 세팅\n",
        "- n_neighbors = 49\n",
        "- default : 100%"
      ],
      "metadata": {
        "id": "KtK6skHdKZH7"
      }
    },
    {
      "cell_type": "markdown",
      "source": [
        "## 머신러닝 알고리즘 두 개의 흐름\n",
        "- 선형 모델: 선형 회귀, 로지스틱 회귀, 서포트 벡터 머신\n",
        "- 의사결정트리 모델: 1975년 의사결정트리 모델, KNN, \n",
        "  + 랜덤포레스트\n",
        "  + 부스팅계열 : LightGBM(2017), XGBoost(2016)\n",
        "\n",
        "- 선형회귀, 로지스틱회귀, 랜덤포레스트, LightGBM(=XGBoost)"
      ],
      "metadata": {
        "id": "F6GtVDKnLqSD"
      }
    },
    {
      "cell_type": "code",
      "source": [
        "fish_length = [25.4, 26.3, 26.5, 29.0, 29.0, 29.7, 29.7, 30.0, 30.0, 30.7, 31.0, 31.0, \n",
        "                31.5, 32.0, 32.0, 32.0, 33.0, 33.0, 33.5, 33.5, 34.0, 34.0, 34.5, 35.0, \n",
        "                35.0, 35.0, 35.0, 36.0, 36.0, 37.0, 38.5, 38.5, 39.5, 41.0, 41.0, 9.8, \n",
        "                10.5, 10.6, 11.0, 11.2, 11.3, 11.8, 11.8, 12.0, 12.2, 12.4, 13.0, 14.3, 15.0]\n",
        "fish_weight = [242.0, 290.0, 340.0, 363.0, 430.0, 450.0, 500.0, 390.0, 450.0, 500.0, 475.0, 500.0, \n",
        "                500.0, 340.0, 600.0, 600.0, 700.0, 700.0, 610.0, 650.0, 575.0, 685.0, 620.0, 680.0, \n",
        "                700.0, 725.0, 720.0, 714.0, 850.0, 1000.0, 920.0, 955.0, 925.0, 975.0, 950.0, 6.7, \n",
        "                7.5, 7.0, 9.7, 9.8, 8.7, 10.0, 9.9, 9.8, 12.2, 13.4, 12.2, 19.7, 19.9]"
      ],
      "metadata": {
        "id": "UlCib0J5ORWg"
      },
      "execution_count": 70,
      "outputs": []
    },
    {
      "cell_type": "markdown",
      "source": [
        "- 2차원 파이썬 리스트\n",
        "- 라벨링"
      ],
      "metadata": {
        "id": "6INwaDsJOTwD"
      }
    },
    {
      "cell_type": "code",
      "source": [
        "fish_data = [[l,w]for l,w in zip(fish_length,fish_weight)]\n",
        "\n",
        "fish_target = [1]*35 + [0]*14\n",
        "print(fish_target[0:40:5])\n",
        "print(fish_data[0:40:5])\n"
      ],
      "metadata": {
        "colab": {
          "base_uri": "https://localhost:8080/"
        },
        "id": "FIEWI8qnOYMk",
        "outputId": "10c747ee-d974-48f0-9b97-5fb85faadfea"
      },
      "execution_count": 71,
      "outputs": [
        {
          "output_type": "stream",
          "name": "stdout",
          "text": [
            "[1, 1, 1, 1, 1, 1, 1, 0]\n",
            "[[25.4, 242.0], [29.7, 450.0], [31.0, 475.0], [32.0, 600.0], [34.0, 575.0], [35.0, 725.0], [38.5, 920.0], [9.8, 6.7]]\n"
          ]
        }
      ]
    },
    {
      "cell_type": "markdown",
      "source": [
        "- Sample\n",
        "- 도미 35마리, 빙어 14마리\n",
        "- 49개의 샘플 존재\n",
        "- 처음 35개를 훈련 /나머지 14개를 테스트"
      ],
      "metadata": {
        "id": "ukLNCgxIO6xe"
      }
    },
    {
      "cell_type": "code",
      "source": [
        "from sklearn.neighbors import KNeighborsClassifier\n",
        "# 클래스 인스턴스화\n",
        "kn = KNeighborsClassifier()\n",
        "\n",
        "#훈련 세트로 0:34 인덱스 활용\n",
        "train_input = fish_data[:35]\n",
        "train_target = fish_target[:35]\n",
        "#테스트 세트로 35:마지막 인덱스 활용\n",
        "test_input = fish_data[35:]\n",
        "test_target = fish_target[35:]\n",
        "#모형 학습\n",
        "kn=kn.fit(train_input,train_target)\n",
        "print(kn.score(test_input,test_target))"
      ],
      "metadata": {
        "colab": {
          "base_uri": "https://localhost:8080/"
        },
        "id": "1QfG8JCuPQ-b",
        "outputId": "b1844e01-e356-49f0-8b17-e4fb76982025"
      },
      "execution_count": 72,
      "outputs": [
        {
          "output_type": "stream",
          "name": "stdout",
          "text": [
            "0.0\n"
          ]
        }
      ]
    },
    {
      "cell_type": "markdown",
      "source": [
        "- 샘플링 편향\n",
        "- 훈련 세트와 테스트 세트가 골고루 섞이지 않음"
      ],
      "metadata": {
        "id": "dEVFc-h5Qxms"
      }
    },
    {
      "cell_type": "markdown",
      "source": [
        "## 샘플링 작업 "
      ],
      "metadata": {
        "id": "cMuDWLTAQ9Vf"
      }
    },
    {
      "cell_type": "code",
      "source": [
        "import numpy as np\n",
        "\n",
        "input_arr = np.array(fish_data)\n",
        "target_arr = np.array(fish_target)\n",
        "print(input_arr[0:49:7])\n",
        "print(input_arr.shape, target_arr.shape)"
      ],
      "metadata": {
        "colab": {
          "base_uri": "https://localhost:8080/"
        },
        "id": "7mxqCTuwQ_w-",
        "outputId": "9ac20910-df0f-4ff2-b3b1-886155b92a02"
      },
      "execution_count": 73,
      "outputs": [
        {
          "output_type": "stream",
          "name": "stdout",
          "text": [
            "[[ 25.4 242. ]\n",
            " [ 30.  390. ]\n",
            " [ 32.  600. ]\n",
            " [ 34.  685. ]\n",
            " [ 36.  850. ]\n",
            " [  9.8   6.7]\n",
            " [ 11.8   9.9]]\n",
            "(49, 2) (49,)\n"
          ]
        }
      ]
    },
    {
      "cell_type": "code",
      "source": [
        "target_arr"
      ],
      "metadata": {
        "colab": {
          "base_uri": "https://localhost:8080/"
        },
        "id": "3uq_xWLnnY7f",
        "outputId": "d4cbef62-b69a-46cc-e81b-5a9e04cbf18b"
      },
      "execution_count": 139,
      "outputs": [
        {
          "output_type": "execute_result",
          "data": {
            "text/plain": [
              "array([1, 1, 1, 1, 1, 1, 1, 1, 1, 1, 1, 1, 1, 1, 1, 1, 1, 1, 1, 1, 1, 1,\n",
              "       1, 1, 1, 1, 1, 1, 1, 1, 1, 1, 1, 1, 1, 0, 0, 0, 0, 0, 0, 0, 0, 0,\n",
              "       0, 0, 0, 0, 0])"
            ]
          },
          "metadata": {},
          "execution_count": 139
        }
      ]
    },
    {
      "cell_type": "code",
      "source": [
        "# random으로 무작위 배열을 만들 때\n",
        "\n",
        "index = np.arange(49) #0~48 생성\n",
        "np.random.shuffle(index) # 섞어\n",
        "np.random.seed(42) #고정\n",
        "print(index)"
      ],
      "metadata": {
        "colab": {
          "base_uri": "https://localhost:8080/"
        },
        "id": "xAY1Q7_lRqvh",
        "outputId": "794b58e7-554f-4c68-abeb-4c23d5f02d1b"
      },
      "execution_count": 152,
      "outputs": [
        {
          "output_type": "stream",
          "name": "stdout",
          "text": [
            "[13 45 47 44 17 27 26 25 31 19 12  4 34  8  3  6 40 41 46 15  9 16 24 33\n",
            " 30  0 43 32  5 29 11 36  1 21  2 37 35 23 39 10 22 18 48 20  7 42 14 28\n",
            " 38]\n"
          ]
        }
      ]
    },
    {
      "cell_type": "markdown",
      "source": [
        "train_input = input_arr[index[:35]]\n",
        "train_target = target_arr[index[:35]]\n",
        "\n",
        "test_input = input_arr[index[35:]]\n",
        "test_target = target_arr[index[35:]]"
      ],
      "metadata": {
        "id": "jnITduxcSUlj"
      }
    },
    {
      "cell_type": "code",
      "source": [
        "train_input = input_arr[index[:35]]\n",
        "train_target = target_arr[index[:35]]\n",
        "\n",
        "test_input = input_arr[index[35:]]\n",
        "test_target = target_arr[index[35:]]"
      ],
      "metadata": {
        "id": "V3ofMiYSSucn"
      },
      "execution_count": 75,
      "outputs": []
    },
    {
      "cell_type": "code",
      "source": [
        "print(train_input)\n",
        "print()\n",
        "print(test_input)"
      ],
      "metadata": {
        "colab": {
          "base_uri": "https://localhost:8080/"
        },
        "id": "OnEDKQndqqMD",
        "outputId": "2964c5ea-41a5-48f1-e4fe-216e5fbd4049"
      },
      "execution_count": 159,
      "outputs": [
        {
          "output_type": "stream",
          "name": "stdout",
          "text": [
            "[[  29.7  500. ]\n",
            " [  12.2   12.2]\n",
            " [  33.   700. ]\n",
            " [  11.3    8.7]\n",
            " [  39.5  925. ]\n",
            " [  29.   430. ]\n",
            " [  36.   714. ]\n",
            " [  36.   850. ]\n",
            " [  31.   475. ]\n",
            " [  35.   720. ]\n",
            " [  37.  1000. ]\n",
            " [  11.2    9.8]\n",
            " [  34.5  620. ]\n",
            " [  12.     9.8]\n",
            " [  29.   363. ]\n",
            " [  33.   700. ]\n",
            " [  30.7  500. ]\n",
            " [  38.5  955. ]\n",
            " [  33.5  650. ]\n",
            " [  14.3   19.7]\n",
            " [  31.5  500. ]\n",
            " [  25.4  242. ]\n",
            " [   9.8    6.7]\n",
            " [  32.   600. ]\n",
            " [  10.5    7.5]\n",
            " [  33.5  610. ]\n",
            " [  10.6    7. ]\n",
            " [  35.   700. ]\n",
            " [  32.   600. ]\n",
            " [  35.   725. ]\n",
            " [  13.    12.2]\n",
            " [  30.   450. ]\n",
            " [  32.   340. ]\n",
            " [  15.    19.9]\n",
            " [  30.   390. ]\n",
            " [  41.   975. ]]\n",
            "\n",
            "[[ 11.    9.7]\n",
            " [ 11.8   9.9]\n",
            " [ 29.7 450. ]\n",
            " [ 11.8  10. ]\n",
            " [ 26.5 340. ]\n",
            " [ 12.4  13.4]\n",
            " [ 34.  685. ]\n",
            " [ 34.  575. ]\n",
            " [ 38.5 920. ]\n",
            " [ 35.  680. ]\n",
            " [ 26.3 290. ]\n",
            " [ 31.  500. ]\n",
            " [ 41.  950. ]]\n"
          ]
        }
      ]
    },
    {
      "cell_type": "code",
      "source": [
        "train_input[:,0]"
      ],
      "metadata": {
        "colab": {
          "base_uri": "https://localhost:8080/"
        },
        "id": "xRFZmqJ_XZd-",
        "outputId": "cfe3150f-3e17-4ba6-dba5-4a4a18cce1d7"
      },
      "execution_count": 160,
      "outputs": [
        {
          "output_type": "execute_result",
          "data": {
            "text/plain": [
              "array([29.7, 12.2, 33. , 11.3, 39.5, 29. , 36. , 36. , 31. , 35. , 37. ,\n",
              "       11.2, 34.5, 12. , 29. , 33. , 30.7, 38.5, 33.5, 14.3, 31.5, 25.4,\n",
              "        9.8, 32. , 10.5, 33.5, 10.6, 35. , 32. , 35. , 13. , 30. , 32. ,\n",
              "       15. , 30. , 41. ])"
            ]
          },
          "metadata": {},
          "execution_count": 160
        }
      ]
    },
    {
      "cell_type": "code",
      "source": [
        "import matplotlib.pyplot as plt\n",
        "fig, ax = plt.subplots()\n",
        "ax.scatter(train_input[:,0], train_input[:,1])\n",
        "ax.scatter(test_input[:,0], test_input[:,1])\n",
        "ax.set_xlabel('length')\n",
        "ax.set_ylabel('weight')\n",
        "plt.show()\n",
        "#파란색이 train 데이터\n",
        "#주황색이 test 데이터"
      ],
      "metadata": {
        "colab": {
          "base_uri": "https://localhost:8080/",
          "height": 279
        },
        "id": "lMTl8K0OW9FW",
        "outputId": "9689128c-ef11-451e-d96c-c04e80074653"
      },
      "execution_count": 77,
      "outputs": [
        {
          "output_type": "display_data",
          "data": {
            "text/plain": [
              "<Figure size 432x288 with 1 Axes>"
            ],
            "image/png": "[encoded data removed]"
          },
          "metadata": {
            "needs_background": "light"
          }
        }
      ]
    },
    {
      "cell_type": "markdown",
      "source": [
        "## 두번째 머신러닝 프로그램"
      ],
      "metadata": {
        "id": "eELzsl4VX3PD"
      }
    },
    {
      "cell_type": "code",
      "source": [
        "kn.fit(train_input, train_target) # 훈련 시키고\n",
        "kn.score(test_input,test_target) # 실제 데이터를 넣어서 어느정도 정확도를 보이는지 확인한다."
      ],
      "metadata": {
        "colab": {
          "base_uri": "https://localhost:8080/"
        },
        "id": "qy2UPaqBX4NT",
        "outputId": "e0de7077-1aab-43c1-affb-eb4ca16e5bb5"
      },
      "execution_count": 78,
      "outputs": [
        {
          "output_type": "execute_result",
          "data": {
            "text/plain": [
              "1.0"
            ]
          },
          "metadata": {},
          "execution_count": 78
        }
      ]
    },
    {
      "cell_type": "code",
      "source": [
        "kn.predict(test_input)  # train으로 훈련을 하고 그 결과를 바탕으로 test_input을 넣어서 예측을 해본 값"
      ],
      "metadata": {
        "colab": {
          "base_uri": "https://localhost:8080/"
        },
        "id": "EnoSI12iYFzG",
        "outputId": "0ae00e8f-85a1-4529-99e2-7e44c5b7a0bf"
      },
      "execution_count": 79,
      "outputs": [
        {
          "output_type": "execute_result",
          "data": {
            "text/plain": [
              "array([0, 0, 1, 0, 1, 1, 1, 0, 1, 1, 0, 1, 1, 0])"
            ]
          },
          "metadata": {},
          "execution_count": 79
        }
      ]
    },
    {
      "cell_type": "code",
      "source": [
        "test_target # 실제 데이터"
      ],
      "metadata": {
        "colab": {
          "base_uri": "https://localhost:8080/"
        },
        "id": "YF6qTF2yYLgu",
        "outputId": "17edbd32-068f-4d7f-c125-80b3ca611f0c"
      },
      "execution_count": 80,
      "outputs": [
        {
          "output_type": "execute_result",
          "data": {
            "text/plain": [
              "array([0, 0, 1, 0, 1, 1, 1, 0, 1, 1, 0, 1, 1, 0])"
            ]
          },
          "metadata": {},
          "execution_count": 80
        }
      ]
    },
    {
      "cell_type": "markdown",
      "source": [
        "##데이터의 전처리 \n",
        "- 머신러닝 시, 데이터 전처리\n",
        "- 결측치 처리, 이상치 처리"
      ],
      "metadata": {
        "id": "cVUrwff5a6V5"
      }
    },
    {
      "cell_type": "code",
      "source": [
        "fish_length = [25.4, 26.3, 26.5, 29.0, 29.0, 29.7, 29.7, 30.0, 30.0, 30.7, 31.0, 31.0, \n",
        "                31.5, 32.0, 32.0, 32.0, 33.0, 33.0, 33.5, 33.5, 34.0, 34.0, 34.5, 35.0, \n",
        "                35.0, 35.0, 35.0, 36.0, 36.0, 37.0, 38.5, 38.5, 39.5, 41.0, 41.0, 9.8, \n",
        "                10.5, 10.6, 11.0, 11.2, 11.3, 11.8, 11.8, 12.0, 12.2, 12.4, 13.0, 14.3, 15.0]\n",
        "fish_weight = [242.0, 290.0, 340.0, 363.0, 430.0, 450.0, 500.0, 390.0, 450.0, 500.0, 475.0, 500.0, \n",
        "                500.0, 340.0, 600.0, 600.0, 700.0, 700.0, 610.0, 650.0, 575.0, 685.0, 620.0, 680.0, \n",
        "                700.0, 725.0, 720.0, 714.0, 850.0, 1000.0, 920.0, 955.0, 925.0, 975.0, 950.0, 6.7, \n",
        "                7.5, 7.0, 9.7, 9.8, 8.7, 10.0, 9.9, 9.8, 12.2, 13.4, 12.2, 19.7, 19.9]"
      ],
      "metadata": {
        "id": "IJETZP28bFMf"
      },
      "execution_count": 81,
      "outputs": []
    },
    {
      "cell_type": "code",
      "source": [
        "# column_stack() 활용\n",
        "np.column_stack(([1,2,3],[4,5,6]))"
      ],
      "metadata": {
        "colab": {
          "base_uri": "https://localhost:8080/"
        },
        "id": "BzcS5B3Fbjdn",
        "outputId": "f68b5c94-e293-4829-922b-bd7ef61071a3"
      },
      "execution_count": 82,
      "outputs": [
        {
          "output_type": "execute_result",
          "data": {
            "text/plain": [
              "array([[1, 4],\n",
              "       [2, 5],\n",
              "       [3, 6]])"
            ]
          },
          "metadata": {},
          "execution_count": 82
        }
      ]
    },
    {
      "cell_type": "markdown",
      "source": [
        "- 독립 변수"
      ],
      "metadata": {
        "id": "kbQ08LGxcLUP"
      }
    },
    {
      "cell_type": "code",
      "source": [
        "fish_data = np.column_stack((fish_length,fish_weight))\n"
      ],
      "metadata": {
        "id": "Ofn0j31rb0Hl"
      },
      "execution_count": 83,
      "outputs": []
    },
    {
      "cell_type": "markdown",
      "source": [
        "- 종속변수 = Y = 타깃 데이터 = Target"
      ],
      "metadata": {
        "id": "UKmuLZxEcQYy"
      }
    },
    {
      "cell_type": "code",
      "source": [
        "fish_target = np.concatenate((np.ones(35),np.zeros(14)))\n",
        "print(fish_target)"
      ],
      "metadata": {
        "colab": {
          "base_uri": "https://localhost:8080/"
        },
        "id": "rO_XAUTucXbk",
        "outputId": "1b360b39-7913-43fa-c45b-d4e9e4ccf2f1"
      },
      "execution_count": 84,
      "outputs": [
        {
          "output_type": "stream",
          "name": "stdout",
          "text": [
            "[1. 1. 1. 1. 1. 1. 1. 1. 1. 1. 1. 1. 1. 1. 1. 1. 1. 1. 1. 1. 1. 1. 1. 1.\n",
            " 1. 1. 1. 1. 1. 1. 1. 1. 1. 1. 1. 0. 0. 0. 0. 0. 0. 0. 0. 0. 0. 0. 0. 0.\n",
            " 0.]\n"
          ]
        }
      ]
    },
    {
      "cell_type": "code",
      "source": [
        "np.ones(35)"
      ],
      "metadata": {
        "colab": {
          "base_uri": "https://localhost:8080/"
        },
        "id": "NQovxqD7cv3t",
        "outputId": "503a1932-c133-445c-c443-fe4fd3db1d91"
      },
      "execution_count": 85,
      "outputs": [
        {
          "output_type": "execute_result",
          "data": {
            "text/plain": [
              "array([1., 1., 1., 1., 1., 1., 1., 1., 1., 1., 1., 1., 1., 1., 1., 1., 1.,\n",
              "       1., 1., 1., 1., 1., 1., 1., 1., 1., 1., 1., 1., 1., 1., 1., 1., 1.,\n",
              "       1.])"
            ]
          },
          "metadata": {},
          "execution_count": 85
        }
      ]
    },
    {
      "cell_type": "code",
      "source": [
        "np.zeros(14)"
      ],
      "metadata": {
        "colab": {
          "base_uri": "https://localhost:8080/"
        },
        "id": "WcUjnsDIcvuI",
        "outputId": "81273325-9d7b-4760-a071-b880963b79be"
      },
      "execution_count": 86,
      "outputs": [
        {
          "output_type": "execute_result",
          "data": {
            "text/plain": [
              "array([0., 0., 0., 0., 0., 0., 0., 0., 0., 0., 0., 0., 0., 0.])"
            ]
          },
          "metadata": {},
          "execution_count": 86
        }
      ]
    },
    {
      "cell_type": "markdown",
      "source": [
        "### scikit-learn 훈련세트와 테스트 세트 나누기"
      ],
      "metadata": {
        "id": "ltkW_xancuU1"
      }
    },
    {
      "cell_type": "code",
      "source": [
        "from sklearn.model_selection import train_test_split\n",
        "train_input, test_input, train_target, test_target = train_test_split(\n",
        "    fish_data,fish_target,random_state =42 #fish_data와 fish_target으로 random 분류한다.\n",
        ")\n",
        "\n",
        "train_input.shape, test_input.shape, train_target.shape, test_target.shape"
      ],
      "metadata": {
        "colab": {
          "base_uri": "https://localhost:8080/"
        },
        "id": "DSEJN-brfdW4",
        "outputId": "d8b728b9-35a7-4ffc-a4f9-7bd1d258c442"
      },
      "execution_count": 87,
      "outputs": [
        {
          "output_type": "execute_result",
          "data": {
            "text/plain": [
              "((36, 2), (13, 2), (36,), (13,))"
            ]
          },
          "metadata": {},
          "execution_count": 87
        }
      ]
    },
    {
      "cell_type": "code",
      "source": [
        "from sklearn.neighbors import KNeighborsClassifier\n",
        "# 클래스 인스턴스화\n",
        "kn = KNeighborsClassifier()\n",
        "\n",
        "#훈련 세트로 0:34 인덱스 활용\n",
        "train_input = fish_data[:35]\n",
        "train_target = fish_target[:35]\n",
        "#테스트 세트로 35:마지막 인덱스 활용\n",
        "test_input = fish_data[35:]\n",
        "test_target = fish_target[35:]\n",
        "#모형 학습\n",
        "kn=kn.fit(train_input,train_target)\n",
        "print(kn.score(test_input,test_target))"
      ],
      "metadata": {
        "id": "ZMkQ-Jf4tF4c"
      },
      "execution_count": null,
      "outputs": []
    },
    {
      "cell_type": "markdown",
      "source": [
        "- p92 도미와 빙어가 잘 섞여 있나?"
      ],
      "metadata": {
        "id": "oTW5jVQJ90u8"
      }
    },
    {
      "cell_type": "code",
      "source": [
        "print(test_target)"
      ],
      "metadata": {
        "colab": {
          "base_uri": "https://localhost:8080/"
        },
        "id": "vTyxpBOh936F",
        "outputId": "1ca4ea07-4454-4385-b0da-f68ba232fb69"
      },
      "execution_count": 88,
      "outputs": [
        {
          "output_type": "stream",
          "name": "stdout",
          "text": [
            "[1. 0. 0. 0. 1. 1. 1. 1. 1. 1. 1. 1. 1.]\n"
          ]
        }
      ]
    },
    {
      "cell_type": "markdown",
      "source": [
        "- 25(도미) : 14(빙어)\n",
        "  + 2.5:1\n",
        "- 테스트 셋(비율)\n",
        "  + 3.3 : 1\n",
        "  "
      ],
      "metadata": {
        "id": "baTyvxGZ-BNd"
      }
    },
    {
      "cell_type": "code",
      "source": [
        "from sklearn.model_selection import train_test_split\n",
        "train_input, test_input, train_target, test_target = train_test_split(\n",
        "    fish_data,fish_target,stratify=fish_target,random_state =42\n",
        ")\n",
        "\n",
        "train_input.shape, test_input.shape, train_target.shape, test_target.shape"
      ],
      "metadata": {
        "colab": {
          "base_uri": "https://localhost:8080/"
        },
        "id": "DB93EwHJ-np6",
        "outputId": "7dc0462b-fbdc-4106-b6f7-6ba4f0d5d0d5"
      },
      "execution_count": 93,
      "outputs": [
        {
          "output_type": "execute_result",
          "data": {
            "text/plain": [
              "((36, 2), (13, 2), (36,), (13,))"
            ]
          },
          "metadata": {},
          "execution_count": 93
        }
      ]
    },
    {
      "cell_type": "markdown",
      "source": [
        "## 층화샘플링\n",
        "- 기초 통계, 설문조사\n",
        "- 비율\n",
        "- 여론 조사"
      ],
      "metadata": {
        "id": "sY0quIxb_KjF"
      }
    },
    {
      "cell_type": "markdown",
      "source": [
        "## 수상한 도미 한 마리\n",
        "- "
      ],
      "metadata": {
        "id": "hzZEA506Aqdi"
      }
    },
    {
      "cell_type": "code",
      "source": [
        "from sklearn.neighbors import KNeighborsClassifier\n",
        "kn=KNeighborsClassifier()\n",
        "kn.fit(train_input,train_target)\n",
        "kn.score(test_input, test_target)"
      ],
      "metadata": {
        "colab": {
          "base_uri": "https://localhost:8080/"
        },
        "id": "6_EkRzi6AydU",
        "outputId": "a495edd9-00b2-45e4-9e3a-7d52e4f96003"
      },
      "execution_count": 96,
      "outputs": [
        {
          "output_type": "execute_result",
          "data": {
            "text/plain": [
              "1.0"
            ]
          },
          "metadata": {},
          "execution_count": 96
        }
      ]
    },
    {
      "cell_type": "markdown",
      "source": [
        "- 도미 사이즈 20cm 이상 = 1\n",
        "- 빙어 사이즈"
      ],
      "metadata": {
        "id": "hK7kTMiUBW5A"
      }
    },
    {
      "cell_type": "code",
      "source": [
        "print(kn.predict([[25,150]]))"
      ],
      "metadata": {
        "colab": {
          "base_uri": "https://localhost:8080/"
        },
        "id": "_AiWXzOVCLWp",
        "outputId": "582aa20e-2922-4385-d833-37d25e3380d2"
      },
      "execution_count": 97,
      "outputs": [
        {
          "output_type": "stream",
          "name": "stdout",
          "text": [
            "[0.]\n"
          ]
        }
      ]
    },
    {
      "cell_type": "code",
      "source": [
        "train_input[:,0]"
      ],
      "metadata": {
        "colab": {
          "base_uri": "https://localhost:8080/"
        },
        "id": "BOaH-OhQQwG1",
        "outputId": "c923a324-97ed-46ae-af47-01695e637043"
      },
      "execution_count": 161,
      "outputs": [
        {
          "output_type": "execute_result",
          "data": {
            "text/plain": [
              "array([29.7, 12.2, 33. , 11.3, 39.5, 29. , 36. , 36. , 31. , 35. , 37. ,\n",
              "       11.2, 34.5, 12. , 29. , 33. , 30.7, 38.5, 33.5, 14.3, 31.5, 25.4,\n",
              "        9.8, 32. , 10.5, 33.5, 10.6, 35. , 32. , 35. , 13. , 30. , 32. ,\n",
              "       15. , 30. , 41. ])"
            ]
          },
          "metadata": {},
          "execution_count": 161
        }
      ]
    },
    {
      "cell_type": "code",
      "source": [
        "import matplotlib.pyplot as plt\n",
        "fig, ax =plt.subplots()\n",
        "ax.scatter(train_input[:,0],train_input[:,1])\n",
        "ax.scatter(25,150,marker='^')\n",
        "\n",
        "plt.xlabel('length')\n",
        "plt.ylabel('weight')\n",
        "plt.show()"
      ],
      "metadata": {
        "colab": {
          "base_uri": "https://localhost:8080/",
          "height": 279
        },
        "id": "rH3f94HxDzMX",
        "outputId": "4a2814cc-f5a3-43a3-9947-46d380714efa"
      },
      "execution_count": 135,
      "outputs": [
        {
          "output_type": "display_data",
          "data": {
            "text/plain": [
              "<Figure size 432x288 with 1 Axes>"
            ],
            "image/png": "[encoded data removed]"
          },
          "metadata": {
            "needs_background": "light"
          }
        }
      ]
    },
    {
      "cell_type": "code",
      "source": [
        "import matplotlib.pyplot as plt\n",
        "plt.scatter(train_input[:,0], train_input[:,1])\n",
        "plt.scatter(25, 150, marker='^')\n",
        "plt.scatter(train_input[indexes,0], train_input[indexes,1], marker='D')\n",
        "plt.xlim((0, 1000))\n",
        "plt.xlabel('length')\n",
        "plt.ylabel('weight')\n",
        "plt.show()"
      ],
      "metadata": {
        "colab": {
          "base_uri": "https://localhost:8080/",
          "height": 279
        },
        "id": "KjD_EswXE8HV",
        "outputId": "fffd17b1-f109-4c7f-af1b-9b32f1480fa7"
      },
      "execution_count": 162,
      "outputs": [
        {
          "output_type": "display_data",
          "data": {
            "text/plain": [
              "<Figure size 432x288 with 1 Axes>"
            ],
            "image/png": "[encoded data removed]"
          },
          "metadata": {
            "needs_background": "light"
          }
        }
      ]
    },
    {
      "cell_type": "markdown",
      "source": [
        "- p98\n",
        "- 두 특성(길이와 무게)의 값이 놓인 범위가 매우 다름\n",
        "- 두 특성의 스케일이 다름\n",
        "  + 스케일이 같도록 통계 처리 필요\n",
        "  + Feature Engineering\n",
        "- 머신러닝\n",
        "  + 데이터 전처리 (결측치 처리, 이상치 처리)\n",
        "  + 데이터 분리\n",
        "  + Feature Engineering"
      ],
      "metadata": {
        "id": "oNmzS-CxFbO5"
      }
    },
    {
      "cell_type": "markdown",
      "source": [
        "## 표준 점수\n",
        "- 점수\n"
      ],
      "metadata": {
        "id": "_Jze8ezmGTgb"
      }
    },
    {
      "cell_type": "code",
      "source": [
        "train_input\n",
        "# 여기서 세로로 평균을 내는 것이 axis= 0"
      ],
      "metadata": {
        "colab": {
          "base_uri": "https://localhost:8080/"
        },
        "id": "T6sYIm5Ut7zk",
        "outputId": "29ccba18-8f0b-4467-8b80-542ac1aff5a2"
      },
      "execution_count": 165,
      "outputs": [
        {
          "output_type": "execute_result",
          "data": {
            "text/plain": [
              "array([[  29.7,  500. ],\n",
              "       [  12.2,   12.2],\n",
              "       [  33. ,  700. ],\n",
              "       [  11.3,    8.7],\n",
              "       [  39.5,  925. ],\n",
              "       [  29. ,  430. ],\n",
              "       [  36. ,  714. ],\n",
              "       [  36. ,  850. ],\n",
              "       [  31. ,  475. ],\n",
              "       [  35. ,  720. ],\n",
              "       [  37. , 1000. ],\n",
              "       [  11.2,    9.8],\n",
              "       [  34.5,  620. ],\n",
              "       [  12. ,    9.8],\n",
              "       [  29. ,  363. ],\n",
              "       [  33. ,  700. ],\n",
              "       [  30.7,  500. ],\n",
              "       [  38.5,  955. ],\n",
              "       [  33.5,  650. ],\n",
              "       [  14.3,   19.7],\n",
              "       [  31.5,  500. ],\n",
              "       [  25.4,  242. ],\n",
              "       [   9.8,    6.7],\n",
              "       [  32. ,  600. ],\n",
              "       [  10.5,    7.5],\n",
              "       [  33.5,  610. ],\n",
              "       [  10.6,    7. ],\n",
              "       [  35. ,  700. ],\n",
              "       [  32. ,  600. ],\n",
              "       [  35. ,  725. ],\n",
              "       [  13. ,   12.2],\n",
              "       [  30. ,  450. ],\n",
              "       [  32. ,  340. ],\n",
              "       [  15. ,   19.9],\n",
              "       [  30. ,  390. ],\n",
              "       [  41. ,  975. ]])"
            ]
          },
          "metadata": {},
          "execution_count": 165
        }
      ]
    },
    {
      "cell_type": "code",
      "source": [
        "mean = np.mean(train_input, axis =0)\n",
        "std = np.std(train_input, axis =0)\n",
        "\n",
        "print(mean, std)"
      ],
      "metadata": {
        "colab": {
          "base_uri": "https://localhost:8080/"
        },
        "id": "-tcQSnFjGeGG",
        "outputId": "2094c4f6-7dad-4dba-ae69-7d35b5c64ffb"
      },
      "execution_count": 109,
      "outputs": [
        {
          "output_type": "stream",
          "name": "stdout",
          "text": [
            "[ 27.29722222 454.09722222] [  9.98244253 323.29893931]\n"
          ]
        }
      ]
    },
    {
      "cell_type": "markdown",
      "source": [
        "- 표준 점수 구하기 "
      ],
      "metadata": {
        "id": "kPVAEVzrG27l"
      }
    },
    {
      "cell_type": "code",
      "source": [
        "# 브로드캐스팅 서로 다른 배열을 계산할 때\n",
        "print(train_input.shape, mean.shape, std.shape)\n",
        "train_scaled = (train_input-mean)/std"
      ],
      "metadata": {
        "colab": {
          "base_uri": "https://localhost:8080/"
        },
        "id": "Q4A7NeyvG5Hc",
        "outputId": "53b6eff6-c1ef-4ffa-9058-9238c2a42aa9"
      },
      "execution_count": 111,
      "outputs": [
        {
          "output_type": "stream",
          "name": "stdout",
          "text": [
            "(36, 2) (2,) (2,)\n"
          ]
        }
      ]
    },
    {
      "cell_type": "code",
      "source": [
        "plt.scatter(train_scaled[:,0], train_scaled[:,1])\n",
        "plt.scatter(25, 150, marker='^')\n",
        "plt.xlabel('length')\n",
        "plt.ylabel('weight')\n",
        "plt.show()"
      ],
      "metadata": {
        "colab": {
          "base_uri": "https://localhost:8080/",
          "height": 279
        },
        "id": "-eLv2TY2HVs1",
        "outputId": "d106fcf9-7dbb-4b60-a054-1b11886728f6"
      },
      "execution_count": 112,
      "outputs": [
        {
          "output_type": "display_data",
          "data": {
            "text/plain": [
              "<Figure size 432x288 with 1 Axes>"
            ],
            "image/png": "[encoded data removed]"
          },
          "metadata": {
            "needs_background": "light"
          }
        }
      ]
    },
    {
      "cell_type": "code",
      "source": [
        "new = ([25, 150] - mean) / std\n",
        "plt.scatter(train_scaled[:,0], train_scaled[:,1])\n",
        "plt.scatter(new[0], new[1], marker='^')\n",
        "plt.xlabel('length')\n",
        "plt.ylabel('weight')\n",
        "plt.show()"
      ],
      "metadata": {
        "colab": {
          "base_uri": "https://localhost:8080/",
          "height": 279
        },
        "id": "xVsmUzJ-Hmng",
        "outputId": "f6b4358b-e3cb-4430-b5ed-9da8cb5c57a7"
      },
      "execution_count": 113,
      "outputs": [
        {
          "output_type": "display_data",
          "data": {
            "text/plain": [
              "<Figure size 432x288 with 1 Axes>"
            ],
            "image/png": "[encoded data removed]"
          },
          "metadata": {
            "needs_background": "light"
          }
        }
      ]
    },
    {
      "cell_type": "markdown",
      "source": [
        "통계처리 전 : KNN -> 예측이 틀림\n",
        "통계처리 후: KNN --> 예측이 정확하게 맞음\n",
        "--> 통계처리 --> Feature Engineering"
      ],
      "metadata": {
        "id": "rtV6GgERH3g-"
      }
    },
    {
      "cell_type": "code",
      "source": [
        "kn.fit(train_scaled, train_target)"
      ],
      "metadata": {
        "colab": {
          "base_uri": "https://localhost:8080/"
        },
        "id": "9kgVJhyPMXlN",
        "outputId": "11f028e7-af56-4b7f-bef9-a029ceeaf056"
      },
      "execution_count": 114,
      "outputs": [
        {
          "output_type": "execute_result",
          "data": {
            "text/plain": [
              "KNeighborsClassifier()"
            ]
          },
          "metadata": {},
          "execution_count": 114
        }
      ]
    },
    {
      "cell_type": "code",
      "source": [
        "test_scaled = (test_input -mean)/std\n",
        "kn.score(test_scaled, test_target)"
      ],
      "metadata": {
        "colab": {
          "base_uri": "https://localhost:8080/"
        },
        "id": "p_6UhFyPMbdi",
        "outputId": "16e19f10-04b3-4dec-acbb-b936daa33a10"
      },
      "execution_count": 115,
      "outputs": [
        {
          "output_type": "execute_result",
          "data": {
            "text/plain": [
              "1.0"
            ]
          },
          "metadata": {},
          "execution_count": 115
        }
      ]
    },
    {
      "cell_type": "markdown",
      "source": [
        "- 예측 "
      ],
      "metadata": {
        "id": "gyicKxCPMmxI"
      }
    },
    {
      "cell_type": "code",
      "source": [
        "print(kn.predict([new]))"
      ],
      "metadata": {
        "colab": {
          "base_uri": "https://localhost:8080/"
        },
        "id": "1hULOpnUMpBm",
        "outputId": "4a2b72bb-b113-4526-e985-6a01aa950e24"
      },
      "execution_count": 117,
      "outputs": [
        {
          "output_type": "stream",
          "name": "stdout",
          "text": [
            "[1.]\n"
          ]
        }
      ]
    },
    {
      "cell_type": "code",
      "source": [
        "distances, indexes = kn.kneighbors([new])\n",
        "plt.scatter(train_scaled[:,0], train_scaled[:,1])\n",
        "plt.scatter(new[0], new[1], marker='^')\n",
        "plt.scatter(train_scaled[indexes,0], train_scaled[indexes,1], marker='D')\n",
        "plt.xlabel('length')\n",
        "plt.ylabel('weight')\n",
        "plt.show()"
      ],
      "metadata": {
        "colab": {
          "base_uri": "https://localhost:8080/",
          "height": 279
        },
        "id": "WvQ0HyMRM42D",
        "outputId": "02bea646-c81d-4206-a8e8-a213dfb3bfd6"
      },
      "execution_count": 136,
      "outputs": [
        {
          "output_type": "display_data",
          "data": {
            "text/plain": [
              "<Figure size 432x288 with 1 Axes>"
            ],
            "image/png": "[encoded data removed]"
          },
          "metadata": {
            "needs_background": "light"
          }
        }
      ]
    }
  ]
}